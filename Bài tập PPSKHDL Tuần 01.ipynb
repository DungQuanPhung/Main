{
 "cells": [
  {
   "cell_type": "code",
   "execution_count": null,
   "metadata": {},
   "outputs": [],
   "source": [
    "# Bài 1:\n",
    "def tinh_svd(ma_tran_A):\n",
    "    from scipy import linalg\n",
    "    ma_tran_U, ma_tran_Sigma, ma_tran_VT = linalg.svd(ma_tran_A)\n",
    "    m = ma_tran_A.shape[0]\n",
    "    n = ma_tran_A.shape[1]\n",
    "    sigma_matrix = np.zeros((m, n))\n",
    "    np.fill_diagonal(sigma_matrix, ma_tran_Sigma)\n",
    "    return ma_tran_U, sigma_matrix, ma_tran_VT\n",
    "\n",
    "# Bài 2:\n",
    "def tinh_compact_svd(ma_tran_A):\n",
    "    from scipy import linalg\n",
    "    ma_tran_U, Sigma, ma_tran_VT = linalg.svd(ma_tran_A)\n",
    "    r = np.count_nonzero(np.diag(Sigma))\n",
    "    ma_tran_SigmaR = np.zeros((r, r))\n",
    "    np.fill_diagonal(ma_tran_SigmaR, Sigma)\n",
    "    ma_tran_Ur = ma_tran_U[:, :r]\n",
    "    ma_tran_VTr = ma_tran_VT[:r, :]\n",
    "    return ma_tran_Ur, ma_tran_SigmaR, ma_tran_VTr\n",
    "\n",
    "# Bài 3:\n",
    "def tinh_luong_thong_tin(ma_tran_A, so_ky_di_giu):\n",
    "    from scipy import linalg\n",
    "    ma_tran_U, Sigma, ma_tran_VT = linalg.svd(ma_tran_A)\n",
    "    ma_tran_Sk = np.diag(Sigma[:so_ky_di_giu])\n",
    "    r = np.count_nonzero(np.diag(Sigma))\n",
    "    ma_tran_Uk = ma_tran_U[:, :so_ky_di_giu]\n",
    "    ma_tran_VTk = ma_tran_VT[:so_ky_di_giu, :]\n",
    "    sum = np.sum(Sigma[:so_ky_di_giu]**2) / np.sum(Sigma[:r]**2)\n",
    "    phan_tram_thong_tin_luu_giu = sum * 100\n",
    "    return phan_tram_thong_tin_luu_giu, ma_tran_Uk, ma_tran_Sk, ma_tran_VTk\n",
    "\n",
    "# Bài 4:\n",
    "def tinh_luong_ky_di_can(ma_tran_A, phan_tram_thong_tin_luu_giu):\n",
    "    from scipy import linalg\n",
    "    ma_tran_U, Sigma, ma_tran_VT = linalg.svd(ma_tran_A)\n",
    "    r = np.count_nonzero(np.diag(Sigma))\n",
    "    so_ky_di_can = 1\n",
    "    while (True):\n",
    "        sum = np.sum(Sigma[:so_ky_di_can]**2) / np.sum(Sigma[:r]**2)\n",
    "        if sum * 100 >= phan_tram_thong_tin_luu_giu:\n",
    "            break\n",
    "        so_ky_di_can+=1\n",
    "    ma_tran_Uk = ma_tran_U[:, :so_ky_di_can]\n",
    "    ma_tran_VTk = ma_tran_VT[:so_ky_di_can, :]\n",
    "    ma_tran_Sk = np.diag(Sigma[:so_ky_di_can])\n",
    "    return so_ky_di_can, ma_tran_Uk, ma_tran_Sk, ma_tran_VTk"
   ]
  }
 ],
 "metadata": {
  "language_info": {
   "name": "python"
  }
 },
 "nbformat": 4,
 "nbformat_minor": 2
}
