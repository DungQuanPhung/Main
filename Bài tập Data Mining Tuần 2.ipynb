{
 "cells": [
  {
   "cell_type": "code",
   "execution_count": null,
   "metadata": {},
   "outputs": [],
   "source": [
    "from ucimlrepo import fetch_ucirepo \n",
    "  \n",
    "# fetch dataset \n",
    "ionosphere = fetch_ucirepo(id=52) \n",
    "  \n",
    "# data (as pandas dataframes) \n",
    "X = ionosphere.data.features \n",
    "y = ionosphere.data.targets \n",
    "  \n",
    "# metadata \n",
    "print(ionosphere.metadata) \n",
    "  \n",
    "# variable information \n",
    "print(ionosphere.variables) \n"
   ]
  }
 ],
 "metadata": {
  "language_info": {
   "name": "python"
  }
 },
 "nbformat": 4,
 "nbformat_minor": 2
}
