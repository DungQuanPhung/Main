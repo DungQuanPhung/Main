{
 "cells": [
  {
   "cell_type": "code",
   "execution_count": 1,
   "metadata": {},
   "outputs": [],
   "source": [
    "import numpy as np\n",
    "from scipy import linalg"
   ]
  },
  {
   "cell_type": "code",
   "execution_count": 2,
   "metadata": {},
   "outputs": [],
   "source": [
    "# Bài 1\n",
    "ma_tran_A = np.array([[1, 0, 0, 0, 2],\n",
    "                    [0, 0, 3, 0, 0],\n",
    "                    [0, 0, 0, 0, 0],\n",
    "                    [0, 2, 0, 0, 0]])\n",
    "\n",
    "ma_tran_A = np.array([[3, 2, 2],\n",
    "                      [2, 3, -2]])\n",
    "\n",
    "def tinh_svd(ma_tran_A):\n",
    "    from scipy import linalg\n",
    "    ma_tran_U, ma_tran_Sigma, ma_tran_VT = linalg.svd(ma_tran_A)\n",
    "    m = ma_tran_A.shape[0]\n",
    "    n = ma_tran_A.shape[1]\n",
    "    sigma_matrix = np.zeros((m, n))\n",
    "    np.fill_diagonal(sigma_matrix, ma_tran_Sigma)\n",
    "    return ma_tran_U, sigma_matrix, ma_tran_VT"
   ]
  },
  {
   "cell_type": "code",
   "execution_count": 3,
   "metadata": {},
   "outputs": [
    {
     "name": "stdout",
     "output_type": "stream",
     "text": [
      "[[ 3.  2.  2.]\n",
      " [ 2.  3. -2.]]\n"
     ]
    }
   ],
   "source": [
    "U, s, Vt = tinh_svd(ma_tran_A)\n",
    "print(U@s@Vt)"
   ]
  },
  {
   "cell_type": "code",
   "execution_count": 4,
   "metadata": {},
   "outputs": [],
   "source": [
    "# Bài 2\n",
    "ma_tran_A = np.array([[1, 0, 0, 0, 2],\n",
    "            [0, 0, 3, 0, 0],\n",
    "            [0, 0, 0, 0, 0],\n",
    "            [0, 2, 0, 0, 0]])\n",
    "\n",
    "def tinh_compact_svd(ma_tran_A):\n",
    "    from scipy import linalg\n",
    "    ma_tran_U, Sigma, ma_tran_VT = linalg.svd(ma_tran_A)\n",
    "    r = np.count_nonzero(np.diag(Sigma))\n",
    "    ma_tran_SigmaR = np.zeros((r, r))\n",
    "    np.fill_diagonal(ma_tran_SigmaR, Sigma)\n",
    "    ma_tran_Ur = ma_tran_U[:, :r]\n",
    "    ma_tran_VTr = ma_tran_VT[:r, :]\n",
    "    return ma_tran_Ur, ma_tran_SigmaR, ma_tran_VTr"
   ]
  },
  {
   "cell_type": "code",
   "execution_count": 5,
   "metadata": {},
   "outputs": [
    {
     "name": "stdout",
     "output_type": "stream",
     "text": [
      "[[1. 0. 0. 0. 2.]\n",
      " [0. 0. 3. 0. 0.]\n",
      " [0. 0. 0. 0. 0.]\n",
      " [0. 2. 0. 0. 0.]]\n"
     ]
    }
   ],
   "source": [
    "U, s, Vt = tinh_compact_svd(ma_tran_A)\n",
    "print(U@s@Vt)"
   ]
  },
  {
   "cell_type": "code",
   "execution_count": 6,
   "metadata": {},
   "outputs": [],
   "source": [
    "# Bài 3\n",
    "A = np.array([[1.01, 0.9, 0.2, 1.001, 0.3],\n",
    "            [0.2, 1.01, 0.3, 0.8, 0.4],\n",
    "            [1, 1.002, 2, 0.98, 2],\n",
    "            [0.3, 2, 0.4, 1.01, 0.9],\n",
    "            [1.1, 0.2, 0.03, 2, 0.87]])\n",
    "\n",
    "def tinh_luong_thong_tin(ma_tran_A, so_ky_di_giu):\n",
    "    from scipy import linalg\n",
    "    ma_tran_U, Sigma, ma_tran_VT = linalg.svd(ma_tran_A)\n",
    "    ma_tran_Sk = np.diag(Sigma[:so_ky_di_giu])\n",
    "    r = np.count_nonzero(np.diag(Sigma))\n",
    "    ma_tran_Uk = ma_tran_U[:, :so_ky_di_giu]\n",
    "    ma_tran_VTk = ma_tran_VT[:so_ky_di_giu, :]\n",
    "    sum = np.sum(Sigma[:so_ky_di_giu]**2) / np.sum(Sigma[:r]**2)\n",
    "    phan_tram_thong_tin_luu_giu = sum * 100\n",
    "    return phan_tram_thong_tin_luu_giu, ma_tran_Uk, ma_tran_Sk, ma_tran_VTk"
   ]
  },
  {
   "cell_type": "code",
   "execution_count": 7,
   "metadata": {},
   "outputs": [
    {
     "name": "stdout",
     "output_type": "stream",
     "text": [
      "[[-0.32813554  0.32928789  0.08780746 -0.88098834]\n",
      " [-0.27374756  0.09123211  0.31504405  0.16061502]\n",
      " [-0.64816455 -0.65873014 -0.3795124  -0.04270121]\n",
      " [-0.46609071  0.0207275   0.71918456  0.25646457]\n",
      " [-0.4243012   0.66999341 -0.4814364   0.36119923]]\n",
      "[[4.68190663 0.         0.         0.        ]\n",
      " [0.         1.79325215 0.         0.        ]\n",
      " [0.         0.         1.57960998 0.        ]\n",
      " [0.         0.         0.         0.54903356]]\n",
      "[[-0.35047463 -0.4780765  -0.35097791 -0.5344013  -0.48973477]\n",
      " [ 0.24274782 -0.05358443 -0.66685673  0.62343097 -0.32378718]\n",
      " [-0.3428965   0.86035897 -0.23658964 -0.1699711  -0.2394569 ]\n",
      " [-0.77612359 -0.16080247 -0.18212689  0.3391472   0.47284639]]\n",
      "[[1.00962046 0.89993951 0.20070897 1.00151623 0.29925926]\n",
      " [0.24982131 1.01794002 0.20693675 0.73223718 0.49723352]\n",
      " [1.00057175 1.00209112 1.998932   0.97922235 2.00111586]\n",
      " [0.27500095 1.9960159  0.44669673 1.04400163 0.85121073]\n",
      " [1.09473797 0.19916139 0.03982916 2.00715698 0.85973038]]\n",
      "99.88593923179664\n"
     ]
    }
   ],
   "source": [
    "I, U, s, Vt = tinh_luong_thong_tin(A, 4)\n",
    "print(U)\n",
    "print(s)\n",
    "print(Vt)\n",
    "print(U@s@Vt)\n",
    "print(I)"
   ]
  },
  {
   "cell_type": "code",
   "execution_count": 8,
   "metadata": {},
   "outputs": [],
   "source": [
    "# Bài 4\n",
    "ma_tran_A = np.array([[1.01, 0.9, 0.2, 1.001, 0.3],\n",
    "            [0.2, 1.01, 0.3, 0.8, 0.4],\n",
    "            [1, 1.002, 2, 0.98, 2],\n",
    "            [0.3, 2, 0.4, 1.01, 0.9],\n",
    "            [1.1, 0.2, 0.03, 2, 0.87]])\n",
    "\n",
    "def tinh_luong_ky_di_can(ma_tran_A, phan_tram_thong_tin_luu_giu):\n",
    "    from scipy import linalg\n",
    "    ma_tran_U, Sigma, ma_tran_VT = linalg.svd(ma_tran_A)\n",
    "    r = np.count_nonzero(np.diag(Sigma))\n",
    "    so_ky_di_can = 1\n",
    "    while (True):\n",
    "        sum = np.sum(Sigma[:so_ky_di_can]**2) / np.sum(Sigma[:r]**2)\n",
    "        if sum * 100 >= phan_tram_thong_tin_luu_giu:\n",
    "            break\n",
    "        so_ky_di_can+=1\n",
    "    ma_tran_Uk = ma_tran_U[:, :so_ky_di_can]\n",
    "    ma_tran_VTk = ma_tran_VT[:so_ky_di_can, :]\n",
    "    ma_tran_Sk = np.diag(Sigma[:so_ky_di_can])\n",
    "    return so_ky_di_can, ma_tran_Uk, ma_tran_Sk, ma_tran_VTk"
   ]
  },
  {
   "cell_type": "code",
   "execution_count": 9,
   "metadata": {},
   "outputs": [
    {
     "name": "stdout",
     "output_type": "stream",
     "text": [
      "[[-0.32813554  0.32928789  0.08780746]\n",
      " [-0.27374756  0.09123211  0.31504405]\n",
      " [-0.64816455 -0.65873014 -0.3795124 ]\n",
      " [-0.46609071  0.0207275   0.71918456]\n",
      " [-0.4243012   0.66999341 -0.4814364 ]]\n",
      "[[4.68190663 0.         0.        ]\n",
      " [0.         1.79325215 0.        ]\n",
      " [0.         0.         1.57960998]]\n",
      "[[-0.35047463 -0.4780765  -0.35097791 -0.5344013  -0.48973477]\n",
      " [ 0.24274782 -0.05358443 -0.66685673  0.62343097 -0.32378718]\n",
      " [-0.3428965   0.86035897 -0.23658964 -0.1699711  -0.2394569 ]]\n",
      "[[0.63421555 0.82216062 0.11261562 1.16555907 0.52797136]\n",
      " [0.31826225 1.03212007 0.22299725 0.70233015 0.45553649]\n",
      " [0.982376   0.9983212  1.99466215 0.98717345 2.01220145]\n",
      " [0.3842851  2.01865812 0.47234159 0.99624711 0.78463034]\n",
      " [1.24865143 0.23105021 0.07594684 1.93990053 0.76595998]]\n",
      "3\n"
     ]
    }
   ],
   "source": [
    "k, U, s, VT = tinh_luong_ky_di_can(ma_tran_A, 90)\n",
    "print(U)\n",
    "print(s)\n",
    "print(VT)\n",
    "print(U@s@VT)\n",
    "print(k)"
   ]
  }
 ],
 "metadata": {
  "kernelspec": {
   "display_name": "Python 3",
   "language": "python",
   "name": "python3"
  },
  "language_info": {
   "codemirror_mode": {
    "name": "ipython",
    "version": 3
   },
   "file_extension": ".py",
   "mimetype": "text/x-python",
   "name": "python",
   "nbconvert_exporter": "python",
   "pygments_lexer": "ipython3",
   "version": "3.13.2"
  }
 },
 "nbformat": 4,
 "nbformat_minor": 2
}
