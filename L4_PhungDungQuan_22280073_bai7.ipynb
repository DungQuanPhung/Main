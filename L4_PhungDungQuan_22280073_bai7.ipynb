{
 "cells": [
  {
   "cell_type": "markdown",
   "id": "48ae705d",
   "metadata": {},
   "source": [
    "> Họ và tên: Phùng Dũng Quân\\\n",
    "> MSSV: 22280073"
   ]
  },
  {
   "cell_type": "code",
   "execution_count": 19,
   "id": "a217536b",
   "metadata": {},
   "outputs": [
    {
     "data": {
      "application/vnd.microsoft.datawrangler.viewer.v0+json": {
       "columns": [
        {
         "name": "index",
         "rawType": "int64",
         "type": "integer"
        },
        {
         "name": "Luong",
         "rawType": "int64",
         "type": "integer"
        },
        {
         "name": "Thoi gian lam viec",
         "rawType": "float64",
         "type": "float"
        },
        {
         "name": "Cho vay",
         "rawType": "int64",
         "type": "integer"
        }
       ],
       "ref": "a2802676-2baa-490b-97b0-cd31d150cb90",
       "rows": [
        [
         "0",
         "10",
         "1.0",
         "1"
        ],
        [
         "1",
         "5",
         "2.0",
         "1"
        ],
        [
         "2",
         "6",
         "1.8",
         "1"
        ],
        [
         "3",
         "7",
         "1.0",
         "1"
        ],
        [
         "4",
         "8",
         "2.0",
         "1"
        ],
        [
         "5",
         "4",
         "3.0",
         "1"
        ],
        [
         "6",
         "5",
         "2.5",
         "1"
        ],
        [
         "7",
         "8",
         "1.0",
         "1"
        ],
        [
         "8",
         "4",
         "2.5",
         "1"
        ],
        [
         "9",
         "8",
         "0.1",
         "0"
        ],
        [
         "10",
         "7",
         "0.15",
         "0"
        ],
        [
         "11",
         "4",
         "1.0",
         "0"
        ],
        [
         "12",
         "5",
         "0.8",
         "0"
        ],
        [
         "13",
         "7",
         "0.3",
         "0"
        ],
        [
         "14",
         "4",
         "1.0",
         "0"
        ],
        [
         "15",
         "5",
         "0.5",
         "0"
        ],
        [
         "16",
         "6",
         "0.3",
         "0"
        ],
        [
         "17",
         "7",
         "0.2",
         "0"
        ],
        [
         "18",
         "8",
         "0.15",
         "0"
        ]
       ],
       "shape": {
        "columns": 3,
        "rows": 19
       }
      },
      "text/html": [
       "<div>\n",
       "<style scoped>\n",
       "    .dataframe tbody tr th:only-of-type {\n",
       "        vertical-align: middle;\n",
       "    }\n",
       "\n",
       "    .dataframe tbody tr th {\n",
       "        vertical-align: top;\n",
       "    }\n",
       "\n",
       "    .dataframe thead th {\n",
       "        text-align: right;\n",
       "    }\n",
       "</style>\n",
       "<table border=\"1\" class=\"dataframe\">\n",
       "  <thead>\n",
       "    <tr style=\"text-align: right;\">\n",
       "      <th></th>\n",
       "      <th>Luong</th>\n",
       "      <th>Thoi gian lam viec</th>\n",
       "      <th>Cho vay</th>\n",
       "    </tr>\n",
       "  </thead>\n",
       "  <tbody>\n",
       "    <tr>\n",
       "      <th>0</th>\n",
       "      <td>10</td>\n",
       "      <td>1.00</td>\n",
       "      <td>1</td>\n",
       "    </tr>\n",
       "    <tr>\n",
       "      <th>1</th>\n",
       "      <td>5</td>\n",
       "      <td>2.00</td>\n",
       "      <td>1</td>\n",
       "    </tr>\n",
       "    <tr>\n",
       "      <th>2</th>\n",
       "      <td>6</td>\n",
       "      <td>1.80</td>\n",
       "      <td>1</td>\n",
       "    </tr>\n",
       "    <tr>\n",
       "      <th>3</th>\n",
       "      <td>7</td>\n",
       "      <td>1.00</td>\n",
       "      <td>1</td>\n",
       "    </tr>\n",
       "    <tr>\n",
       "      <th>4</th>\n",
       "      <td>8</td>\n",
       "      <td>2.00</td>\n",
       "      <td>1</td>\n",
       "    </tr>\n",
       "    <tr>\n",
       "      <th>5</th>\n",
       "      <td>4</td>\n",
       "      <td>3.00</td>\n",
       "      <td>1</td>\n",
       "    </tr>\n",
       "    <tr>\n",
       "      <th>6</th>\n",
       "      <td>5</td>\n",
       "      <td>2.50</td>\n",
       "      <td>1</td>\n",
       "    </tr>\n",
       "    <tr>\n",
       "      <th>7</th>\n",
       "      <td>8</td>\n",
       "      <td>1.00</td>\n",
       "      <td>1</td>\n",
       "    </tr>\n",
       "    <tr>\n",
       "      <th>8</th>\n",
       "      <td>4</td>\n",
       "      <td>2.50</td>\n",
       "      <td>1</td>\n",
       "    </tr>\n",
       "    <tr>\n",
       "      <th>9</th>\n",
       "      <td>8</td>\n",
       "      <td>0.10</td>\n",
       "      <td>0</td>\n",
       "    </tr>\n",
       "    <tr>\n",
       "      <th>10</th>\n",
       "      <td>7</td>\n",
       "      <td>0.15</td>\n",
       "      <td>0</td>\n",
       "    </tr>\n",
       "    <tr>\n",
       "      <th>11</th>\n",
       "      <td>4</td>\n",
       "      <td>1.00</td>\n",
       "      <td>0</td>\n",
       "    </tr>\n",
       "    <tr>\n",
       "      <th>12</th>\n",
       "      <td>5</td>\n",
       "      <td>0.80</td>\n",
       "      <td>0</td>\n",
       "    </tr>\n",
       "    <tr>\n",
       "      <th>13</th>\n",
       "      <td>7</td>\n",
       "      <td>0.30</td>\n",
       "      <td>0</td>\n",
       "    </tr>\n",
       "    <tr>\n",
       "      <th>14</th>\n",
       "      <td>4</td>\n",
       "      <td>1.00</td>\n",
       "      <td>0</td>\n",
       "    </tr>\n",
       "    <tr>\n",
       "      <th>15</th>\n",
       "      <td>5</td>\n",
       "      <td>0.50</td>\n",
       "      <td>0</td>\n",
       "    </tr>\n",
       "    <tr>\n",
       "      <th>16</th>\n",
       "      <td>6</td>\n",
       "      <td>0.30</td>\n",
       "      <td>0</td>\n",
       "    </tr>\n",
       "    <tr>\n",
       "      <th>17</th>\n",
       "      <td>7</td>\n",
       "      <td>0.20</td>\n",
       "      <td>0</td>\n",
       "    </tr>\n",
       "    <tr>\n",
       "      <th>18</th>\n",
       "      <td>8</td>\n",
       "      <td>0.15</td>\n",
       "      <td>0</td>\n",
       "    </tr>\n",
       "  </tbody>\n",
       "</table>\n",
       "</div>"
      ],
      "text/plain": [
       "    Luong  Thoi gian lam viec  Cho vay\n",
       "0      10                1.00        1\n",
       "1       5                2.00        1\n",
       "2       6                1.80        1\n",
       "3       7                1.00        1\n",
       "4       8                2.00        1\n",
       "5       4                3.00        1\n",
       "6       5                2.50        1\n",
       "7       8                1.00        1\n",
       "8       4                2.50        1\n",
       "9       8                0.10        0\n",
       "10      7                0.15        0\n",
       "11      4                1.00        0\n",
       "12      5                0.80        0\n",
       "13      7                0.30        0\n",
       "14      4                1.00        0\n",
       "15      5                0.50        0\n",
       "16      6                0.30        0\n",
       "17      7                0.20        0\n",
       "18      8                0.15        0"
      ]
     },
     "execution_count": 19,
     "metadata": {},
     "output_type": "execute_result"
    }
   ],
   "source": [
    "import numpy as np\n",
    "import pandas as pd\n",
    "import matplotlib.pyplot as plt\n",
    "import seaborn as sns\n",
    "\n",
    "df = pd.read_csv('bang_cho_vay.csv')\n",
    "df"
   ]
  },
  {
   "cell_type": "code",
   "execution_count": 20,
   "id": "754dbee7",
   "metadata": {},
   "outputs": [],
   "source": [
    "# Chuẩn bị dữ liệu\n",
    "X = df[['Luong', 'Thoi gian lam viec']].values\n",
    "y = df['Cho vay'].values\n",
    "X = np.c_[np.ones(X.shape[0]), X]\n",
    "initial_weight = np.zeros(X.shape[1])\n",
    "X_new = np.array([[1, 9, 0.5]])"
   ]
  },
  {
   "cell_type": "code",
   "execution_count": 21,
   "id": "3dec8cd8",
   "metadata": {},
   "outputs": [],
   "source": [
    "# Hàm tính vector gradient\n",
    "def nabla_L(weights, X, y):\n",
    "    y_pred = sigmoid(weights, X)\n",
    "    return X.T @ (y_pred - y)\n",
    "\n",
    "# Hàm tính trọng số\n",
    "def gradient_descent(X, y, initial_weight, eta, max_iterations, epsilon):\n",
    "    current_weight = initial_weight.copy()\n",
    "    i = 0\n",
    "    while i <= max_iterations:\n",
    "        next_weight = current_weight - eta * nabla_L(current_weight, X, y)\n",
    "        if np.linalg.norm(nabla_L(current_weight, X, y)) < epsilon:\n",
    "            return next_weight, i\n",
    "        current_weight = next_weight\n",
    "        i += 1\n",
    "    return next_weight, i\n",
    "\n",
    "# Hàm dự đoán xác suất\n",
    "def sigmoid(weights, X):\n",
    "    return 1 / (1 + np.exp(-X @ weights))  "
   ]
  },
  {
   "cell_type": "code",
   "execution_count": 22,
   "id": "163ff64d",
   "metadata": {},
   "outputs": [
    {
     "name": "stdout",
     "output_type": "stream",
     "text": [
      "Hệ số dự đoán là: [-29.01636784   2.74092011  13.32163658]\n",
      "Thuật toán hội tụ sau 34390 bước lặp\n",
      "Hồ sơ được cho vay\n",
      "Xác suất cho vay là: [0.90992598]\n"
     ]
    }
   ],
   "source": [
    "weights, so_vong_lap = gradient_descent(X, y, initial_weight, 2e-2, 40000, 1e-2)\n",
    "probability = sigmoid(weights, X_new)\n",
    "print(\"Hệ số dự đoán là:\", weights)\n",
    "print(\"Thuật toán hội tụ sau\", so_vong_lap, \"bước lặp\")\n",
    "if probability >= 0.8:\n",
    "    print(\"Hồ sơ được cho vay\")\n",
    "    print(\"Xác suất cho vay là:\", probability)\n",
    "else:\n",
    "    print(\"Hồ sơ không được cho vay\")\n",
    "    print(\"Xác suất cho vay là:\", probability) "
   ]
  },
  {
   "cell_type": "code",
   "execution_count": 27,
   "id": "68f7ac0e",
   "metadata": {},
   "outputs": [
    {
     "data": {
      "image/png": "[encoded data removed]",
      "text/plain": [
       "<Figure size 640x480 with 1 Axes>"
      ]
     },
     "metadata": {},
     "output_type": "display_data"
    }
   ],
   "source": [
    "from matplotlib.lines import Line2D\n",
    "\n",
    "# Chuẩn bị dữ liệu cho việc vẽ\n",
    "sns.set(style=\"whitegrid\")\n",
    "plt.figure()\n",
    "sns.scatterplot(x=df['Luong'], y=df['Thoi gian lam viec'], hue=df['Cho vay'], color='blue')\n",
    "sns.scatterplot(x=X_new[:, 1], y=X_new[:, 2], color='red', label='Hồ sơ mới')\n",
    "plt.xlabel('Lương (triệu đồng)')\n",
    "plt.ylabel('Thời gian làm việc (năm)')\n",
    "plt.xlim(3, 11)\n",
    "plt.ylim(-1, 5)\n",
    "x1 = np.linspace(0, 10, 100)\n",
    "x2 = np.linspace(0, 10, 100)\n",
    "X1, X2 = np.meshgrid(x1, x2)\n",
    "\n",
    "# Vẽ đường phân cách\n",
    "Z = weights[0] + weights[1]*X1 + weights[2]*X2\n",
    "plt.contour(X1, X2, Z, levels=[0.8], colors='black', linestyles='--')\n",
    "proxy_line = Line2D([0], [0], color='black', linestyle='--', label='Đường phân cách')\n",
    "handles, labels = plt.gca().get_legend_handles_labels()\n",
    "plt.legend(handles=handles + [proxy_line])\n",
    "plt.show()"
   ]
  },
  {
   "cell_type": "code",
   "execution_count": 24,
   "id": "9ab3513a",
   "metadata": {},
   "outputs": [],
   "source": [
    "# Accelerated Gradient Descent\n",
    "def accelerated_gradient_descent(W, d, initial_weight, eta, max_iterations, epsilon):\n",
    "    current_weight = initial_weight.copy()\n",
    "    previous_weight = initial_weight.copy()\n",
    "    i = 0\n",
    "    while i <= max_iterations - 1:\n",
    "        temp = current_weight + (i - 1) / (i + 2) * (current_weight - previous_weight) \n",
    "        next_weight = temp - eta * nabla_L(temp, X, y)\n",
    "        if np.linalg.norm(nabla_L(next_weight, X, y)) < epsilon:\n",
    "            return next_weight, i\n",
    "        previous_weight = current_weight\n",
    "        current_weight = next_weight\n",
    "        i += 1\n",
    "    return next_weight, i"
   ]
  },
  {
   "cell_type": "code",
   "execution_count": 25,
   "id": "a000273f",
   "metadata": {},
   "outputs": [
    {
     "name": "stdout",
     "output_type": "stream",
     "text": [
      "Hệ số dự đoán là: [-29.01222008   2.73720721  13.3469766 ]\n",
      "Thuật toán hội tụ sau 386 bước lặp\n",
      "Hồ sơ được cho vay\n",
      "Xác suất cho vay là: [0.90855628]\n"
     ]
    }
   ],
   "source": [
    "weights, so_vong_lap = accelerated_gradient_descent(X, y, initial_weight, 2e-2, 40000, 1e-2)\n",
    "probability = sigmoid(weights, X_new)\n",
    "print(\"Hệ số dự đoán là:\", weights)\n",
    "print(\"Thuật toán hội tụ sau\", so_vong_lap, \"bước lặp\")\n",
    "if probability >= 0.8:\n",
    "    print(\"Hồ sơ được cho vay\")\n",
    "    print(\"Xác suất cho vay là:\", probability)\n",
    "else:\n",
    "    print(\"Hồ sơ không được cho vay\")\n",
    "    print(\"Xác suất cho vay là:\", probability)   "
   ]
  },
  {
   "cell_type": "code",
   "execution_count": 28,
   "id": "76b76102",
   "metadata": {},
   "outputs": [
    {
     "data": {
      "image/png": "[encoded data removed]",
      "text/plain": [
       "<Figure size 640x480 with 1 Axes>"
      ]
     },
     "metadata": {},
     "output_type": "display_data"
    }
   ],
   "source": [
    "# Giả sử ngân hàng yêu cầu hồ sơ đạt 80% mới cho vay, vẽ đồ thị phân cách giữa hồ sơ cho vay và không cho vay\n",
    "sns.set(style=\"whitegrid\")\n",
    "plt.figure()\n",
    "sns.scatterplot(x=df['Luong'], y=df['Thoi gian lam viec'], hue=df['Cho vay'], color='blue')\n",
    "sns.scatterplot(x=X_new[:, 1], y=X_new[:, 2], color='red', label='Hồ sơ mới')\n",
    "plt.xlabel('Lương (triệu đồng)')\n",
    "plt.ylabel('Thời gian làm việc (năm)')\n",
    "plt.xlim(3, 11)\n",
    "plt.ylim(-1, 5)\n",
    "\n",
    "# Vẽ đường phân cách\n",
    "Z = weights[0] + weights[1]*X1 + weights[2]*X2\n",
    "contour_set = plt.contour(X1, X2, Z, levels=[0.8], colors='black', linestyles='--')\n",
    "proxy_line = Line2D([0], [0], color='black', linestyle='--', label='Đường phân cách')\n",
    "handles, labels = plt.gca().get_legend_handles_labels()\n",
    "plt.legend(handles=handles + [proxy_line])\n",
    "plt.show()"
   ]
  }
 ],
 "metadata": {
  "kernelspec": {
   "display_name": "Python 3",
   "language": "python",
   "name": "python3"
  },
  "language_info": {
   "codemirror_mode": {
    "name": "ipython",
    "version": 3
   },
   "file_extension": ".py",
   "mimetype": "text/x-python",
   "name": "python",
   "nbconvert_exporter": "python",
   "pygments_lexer": "ipython3",
   "version": "3.11.9"
  }
 },
 "nbformat": 4,
 "nbformat_minor": 5
}
