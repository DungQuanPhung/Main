{
 "cells": [
  {
   "cell_type": "code",
   "execution_count": 1,
   "id": "2be6794a",
   "metadata": {},
   "outputs": [
    {
     "name": "stdout",
     "output_type": "stream",
     "text": [
      "       0      1      2       3     4      5\n",
      "0   Wine  Chips  Bread  Butter  Milk  Apple\n",
      "1   Wine    NaN  Bread  Butter  Milk    NaN\n",
      "2    NaN    NaN  Bread  Butter  Milk    NaN\n",
      "3    NaN  Chips    NaN     NaN   NaN  Apple\n",
      "4   Wine  Chips  Bread  Butter  Milk  Apple\n",
      "5   Wine  Chips    NaN     NaN  Milk    NaN\n",
      "6   Wine  Chips  Bread  Butter   NaN  Apple\n",
      "7   Wine  Chips    NaN     NaN  Milk    NaN\n",
      "8   Wine    NaN  Bread     NaN   NaN  Apple\n",
      "9   Wine    NaN  Bread  Butter  Milk    NaN\n",
      "10   NaN  Chips  Bread  Butter   NaN  Apple\n",
      "11  Wine    NaN    NaN  Butter  Milk  Apple\n",
      "12  Wine  Chips  Bread  Butter  Milk    NaN\n",
      "13  Wine    NaN  Bread     NaN  Milk  Apple\n",
      "14  Wine    NaN  Bread  Butter  Milk  Apple\n",
      "15  Wine  Chips  Bread  Butter  Milk  Apple\n",
      "16   NaN  Chips  Bread  Butter  Milk  Apple\n",
      "17   NaN  Chips    NaN  Butter  Milk  Apple\n",
      "18  Wine  Chips  Bread  Butter  Milk  Apple\n",
      "19  Wine    NaN  Bread  Butter  Milk  Apple\n",
      "20  Wine  Chips  Bread     NaN  Milk  Apple\n",
      "21   NaN  Chips    NaN     NaN   NaN    NaN\n"
     ]
    }
   ],
   "source": [
    "import numpy as np\n",
    "import pandas as pd\n",
    "from pyECLAT import ECLAT\n",
    "\n",
    "dataframe = pd.read_csv('data.csv', header=None)\n",
    "print(dataframe)"
   ]
  },
  {
   "cell_type": "code",
   "execution_count": 2,
   "id": "23f94e63",
   "metadata": {},
   "outputs": [
    {
     "name": "stderr",
     "output_type": "stream",
     "text": [
      "100%|██████████| 6/6 [00:00<00:00, 966.39it/s]\n",
      "100%|██████████| 6/6 [00:00<?, ?it/s]\n",
      "100%|██████████| 6/6 [00:00<00:00, 2383.35it/s]"
     ]
    },
    {
     "name": "stdout",
     "output_type": "stream",
     "text": [
      "    Butter  Milk  Chips  Apple  Wine  Bread\n",
      "0        1     1      1      1     1      1\n",
      "1        1     1      0      0     1      1\n",
      "2        1     1      0      0     0      1\n",
      "3        0     0      1      1     0      0\n",
      "4        1     1      1      1     1      1\n",
      "5        0     1      1      0     1      0\n",
      "6        1     0      1      1     1      1\n",
      "7        0     1      1      0     1      0\n",
      "8        0     0      0      1     1      1\n",
      "9        1     1      0      0     1      1\n",
      "10       1     0      1      1     0      1\n",
      "11       1     1      0      1     1      0\n",
      "12       1     1      1      0     1      1\n",
      "13       0     1      0      1     1      1\n",
      "14       1     1      0      1     1      1\n",
      "15       1     1      1      1     1      1\n",
      "16       1     1      1      1     0      1\n",
      "17       1     1      1      1     0      0\n",
      "18       1     1      1      1     1      1\n",
      "19       1     1      0      1     1      1\n",
      "20       0     1      1      1     1      1\n",
      "21       0     0      1      0     0      0\n"
     ]
    },
    {
     "name": "stderr",
     "output_type": "stream",
     "text": [
      "\n"
     ]
    }
   ],
   "source": [
    "eclat_instance = ECLAT(data=dataframe, verbose=True)\n",
    "print(eclat_instance.df_bin)"
   ]
  },
  {
   "cell_type": "code",
   "execution_count": 3,
   "id": "7b28dfce",
   "metadata": {},
   "outputs": [
    {
     "name": "stdout",
     "output_type": "stream",
     "text": [
      "Combination 2 by 2\n"
     ]
    },
    {
     "name": "stderr",
     "output_type": "stream",
     "text": [
      "15it [00:00, 420.64it/s]\n"
     ]
    },
    {
     "name": "stdout",
     "output_type": "stream",
     "text": [
      "Combination 3 by 3\n"
     ]
    },
    {
     "name": "stderr",
     "output_type": "stream",
     "text": [
      "20it [00:00, 424.20it/s]\n"
     ]
    },
    {
     "name": "stdout",
     "output_type": "stream",
     "text": [
      "Combination 4 by 4\n"
     ]
    },
    {
     "name": "stderr",
     "output_type": "stream",
     "text": [
      "15it [00:00, 409.94it/s]\n"
     ]
    },
    {
     "name": "stdout",
     "output_type": "stream",
     "text": [
      "Combination 5 by 5\n"
     ]
    },
    {
     "name": "stderr",
     "output_type": "stream",
     "text": [
      "6it [00:00, 443.84it/s]\n"
     ]
    },
    {
     "name": "stdout",
     "output_type": "stream",
     "text": [
      "Combination 6 by 6\n"
     ]
    },
    {
     "name": "stderr",
     "output_type": "stream",
     "text": [
      "1it [00:00, 332.51it/s]"
     ]
    },
    {
     "name": "stdout",
     "output_type": "stream",
     "text": [
      "          Item   Support\n",
      "0  Milk & Wine  0.636364\n"
     ]
    },
    {
     "name": "stderr",
     "output_type": "stream",
     "text": [
      "\n"
     ]
    }
   ],
   "source": [
    "# count items in each row\n",
    "items_per_transaction = eclat_instance.df_bin.astype(int).sum(axis=1)\n",
    "# the item should appear at least at 5% of transactions\n",
    "min_support = 0.6\n",
    "# start from transactions containing at least 2 items\n",
    "min_combination = 2\n",
    "# up to maximum items per transaction\n",
    "max_combination = max(items_per_transaction)\n",
    "rule_indices, rule_supports = eclat_instance.fit(min_support=min_support,\n",
    "                                                 min_combination=min_combination,\n",
    "                                                 max_combination=max_combination,\n",
    "                                                 separator=' & ',\n",
    "                                                 verbose=True)\n",
    "result = pd.DataFrame(rule_supports.items(), columns=['Item', 'Support'])\n",
    "result1 = result.sort_values(by=['Support'], ascending=False)\n",
    "print(result1)"
   ]
  },
  {
   "cell_type": "markdown",
   "id": "227bc861",
   "metadata": {},
   "source": [
    "# Vertical Apriori"
   ]
  },
  {
   "cell_type": "code",
   "execution_count": 4,
   "id": "26b2979a",
   "metadata": {},
   "outputs": [
    {
     "name": "stdout",
     "output_type": "stream",
     "text": [
      "    Butter  Chips  Wine  Bread  Apple  Milk\n",
      "0        1      1     1      1      1     1\n",
      "1        1      0     1      1      0     1\n",
      "2        1      0     0      1      0     1\n",
      "3        0      1     0      0      1     0\n",
      "4        1      1     1      1      1     1\n",
      "5        0      1     1      0      0     1\n",
      "6        1      1     1      1      1     0\n",
      "7        0      1     1      0      0     1\n",
      "8        0      0     1      1      1     0\n",
      "9        1      0     1      1      0     1\n",
      "10       1      1     0      1      1     0\n",
      "11       1      0     1      0      1     1\n",
      "12       1      1     1      1      0     1\n",
      "13       0      0     1      1      1     1\n",
      "14       1      0     1      1      1     1\n",
      "15       1      1     1      1      1     1\n",
      "16       1      1     0      1      1     1\n",
      "17       1      1     0      0      1     1\n",
      "18       1      1     1      1      1     1\n",
      "19       1      0     1      1      1     1\n",
      "20       0      1     1      1      1     1\n",
      "21       0      1     0      0      0     0\n"
     ]
    }
   ],
   "source": [
    "def count_items_in_transactions(df):\n",
    "    df1 = pd.DataFrame(0, index=df.index, columns=['Butter', 'Chips', 'Wine', 'Bread', 'Apple', 'Milk'])\n",
    "    for index, row in df.iterrows():\n",
    "        for item in row:\n",
    "            if item in df1.columns:\n",
    "                df1.at[index, item] = 1\n",
    "\n",
    "    return df1\n",
    "\n",
    "df1 = count_items_in_transactions(dataframe)\n",
    "print(df1)"
   ]
  },
  {
   "cell_type": "code",
   "execution_count": 5,
   "id": "860fa6f5",
   "metadata": {},
   "outputs": [
    {
     "name": "stdout",
     "output_type": "stream",
     "text": [
      "0     6\n",
      "1     4\n",
      "2     3\n",
      "3     2\n",
      "4     6\n",
      "5     3\n",
      "6     5\n",
      "7     3\n",
      "8     3\n",
      "9     4\n",
      "10    4\n",
      "11    4\n",
      "12    5\n",
      "13    4\n",
      "14    5\n",
      "15    6\n",
      "16    5\n",
      "17    4\n",
      "18    6\n",
      "19    5\n",
      "20    5\n",
      "21    1\n",
      "dtype: int64\n"
     ]
    }
   ],
   "source": [
    "def items_per_transaction(df):\n",
    "    df2 = df.notnull().astype(int).sum(axis=1)\n",
    "\n",
    "    return df2\n",
    "df2 = items_per_transaction(dataframe)\n",
    "print(df2)"
   ]
  },
  {
   "cell_type": "code",
   "execution_count": 6,
   "id": "c7564815",
   "metadata": {},
   "outputs": [],
   "source": [
    "max_combination = max(df2)"
   ]
  },
  {
   "cell_type": "code",
   "execution_count": 7,
   "id": "725441a0",
   "metadata": {},
   "outputs": [
    {
     "name": "stdout",
     "output_type": "stream",
     "text": [
      "Indices for Milk and Wine: [0, 1, 4, 5, 7, 9, 11, 12, 13, 14, 15, 18, 19, 20]\n"
     ]
    }
   ],
   "source": [
    "# Find rule indices Milk and Wine\n",
    "def find_rule_indices(df, item1, item2):\n",
    "    indices = []\n",
    "    for index, row in df.iterrows():\n",
    "        if item1 in row.values and item2 in row.values:\n",
    "            indices.append(index)\n",
    "\n",
    "    return indices\n",
    "item1 = 'Milk'\n",
    "item2 = 'Wine'\n",
    "indices = find_rule_indices(dataframe, item1, item2)\n",
    "print(f\"Indices for {item1} and {item2}: {indices}\")"
   ]
  },
  {
   "cell_type": "code",
   "execution_count": 8,
   "id": "fb456a44",
   "metadata": {},
   "outputs": [
    {
     "name": "stdout",
     "output_type": "stream",
     "text": [
      "Frequent itemsets:\n",
      "Itemset: ('Wine', 'Milk'), Support: 0.6363636363636364\n"
     ]
    }
   ],
   "source": [
    "import itertools\n",
    "def verticalApriori(df, min_support, min_combination, max_combination):\n",
    "    # Create a list to store the frequent itemsets\n",
    "    frequent_itemsets = []\n",
    "\n",
    "    # Generate all possible combinations of items\n",
    "    for size in range(min_combination, max_combination + 1):\n",
    "        for combination in itertools.combinations(df.columns, size):\n",
    "            # Count the occurrences of the combination in the DataFrame\n",
    "            count = df[list(combination)].all(axis=1).sum()\n",
    "\n",
    "            # Calculate the support\n",
    "            support = count / len(df)\n",
    "\n",
    "            # Check if the support is above the minimum threshold\n",
    "            if support >= min_support:\n",
    "                frequent_itemsets.append((combination, support))\n",
    "\n",
    "    return frequent_itemsets\n",
    "min_support = 0.6\n",
    "min_combination = 2\n",
    "max_combination = max(df2)\n",
    "frequent_itemsets = verticalApriori(df1, min_support, min_combination, max_combination)\n",
    "print(\"Frequent itemsets:\")\n",
    "for itemset, support in frequent_itemsets:\n",
    "    print(f\"Itemset: {itemset}, Support: {support}\")"
   ]
  }
 ],
 "metadata": {
  "kernelspec": {
   "display_name": "Python 3",
   "language": "python",
   "name": "python3"
  },
  "language_info": {
   "codemirror_mode": {
    "name": "ipython",
    "version": 3
   },
   "file_extension": ".py",
   "mimetype": "text/x-python",
   "name": "python",
   "nbconvert_exporter": "python",
   "pygments_lexer": "ipython3",
   "version": "3.11.9"
  }
 },
 "nbformat": 4,
 "nbformat_minor": 5
}
