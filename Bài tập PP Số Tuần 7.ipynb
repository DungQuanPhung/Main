{
 "cells": [
  {
   "cell_type": "code",
   "execution_count": 114,
   "id": "a217536b",
   "metadata": {},
   "outputs": [
    {
     "data": {
      "application/vnd.microsoft.datawrangler.viewer.v0+json": {
       "columns": [
        {
         "name": "index",
         "rawType": "int64",
         "type": "integer"
        },
        {
         "name": "Luong",
         "rawType": "int64",
         "type": "integer"
        },
        {
         "name": "Thoi gian lam viec",
         "rawType": "float64",
         "type": "float"
        },
        {
         "name": "Cho vay",
         "rawType": "int64",
         "type": "integer"
        }
       ],
       "conversionMethod": "pd.DataFrame",
       "ref": "ada18b8c-96da-4d13-976b-e797b5930c99",
       "rows": [
        [
         "0",
         "10",
         "1.0",
         "1"
        ],
        [
         "1",
         "5",
         "2.0",
         "1"
        ],
        [
         "2",
         "6",
         "1.8",
         "1"
        ],
        [
         "3",
         "7",
         "1.0",
         "1"
        ],
        [
         "4",
         "8",
         "2.0",
         "1"
        ],
        [
         "5",
         "9",
         "0.5",
         "1"
        ],
        [
         "6",
         "4",
         "3.0",
         "1"
        ],
        [
         "7",
         "5",
         "2.5",
         "1"
        ],
        [
         "8",
         "8",
         "1.0",
         "1"
        ],
        [
         "9",
         "4",
         "2.5",
         "1"
        ],
        [
         "10",
         "8",
         "0.1",
         "0"
        ],
        [
         "11",
         "7",
         "0.15",
         "0"
        ],
        [
         "12",
         "4",
         "1.0",
         "0"
        ],
        [
         "13",
         "5",
         "0.8",
         "0"
        ],
        [
         "14",
         "7",
         "0.3",
         "0"
        ],
        [
         "15",
         "4",
         "1.0",
         "0"
        ],
        [
         "16",
         "5",
         "0.5",
         "0"
        ],
        [
         "17",
         "6",
         "0.3",
         "0"
        ],
        [
         "18",
         "7",
         "0.2",
         "0"
        ],
        [
         "19",
         "8",
         "0.15",
         "0"
        ]
       ],
       "shape": {
        "columns": 3,
        "rows": 20
       }
      },
      "text/html": [
       "<div>\n",
       "<style scoped>\n",
       "    .dataframe tbody tr th:only-of-type {\n",
       "        vertical-align: middle;\n",
       "    }\n",
       "\n",
       "    .dataframe tbody tr th {\n",
       "        vertical-align: top;\n",
       "    }\n",
       "\n",
       "    .dataframe thead th {\n",
       "        text-align: right;\n",
       "    }\n",
       "</style>\n",
       "<table border=\"1\" class=\"dataframe\">\n",
       "  <thead>\n",
       "    <tr style=\"text-align: right;\">\n",
       "      <th></th>\n",
       "      <th>Luong</th>\n",
       "      <th>Thoi gian lam viec</th>\n",
       "      <th>Cho vay</th>\n",
       "    </tr>\n",
       "  </thead>\n",
       "  <tbody>\n",
       "    <tr>\n",
       "      <th>0</th>\n",
       "      <td>10</td>\n",
       "      <td>1.00</td>\n",
       "      <td>1</td>\n",
       "    </tr>\n",
       "    <tr>\n",
       "      <th>1</th>\n",
       "      <td>5</td>\n",
       "      <td>2.00</td>\n",
       "      <td>1</td>\n",
       "    </tr>\n",
       "    <tr>\n",
       "      <th>2</th>\n",
       "      <td>6</td>\n",
       "      <td>1.80</td>\n",
       "      <td>1</td>\n",
       "    </tr>\n",
       "    <tr>\n",
       "      <th>3</th>\n",
       "      <td>7</td>\n",
       "      <td>1.00</td>\n",
       "      <td>1</td>\n",
       "    </tr>\n",
       "    <tr>\n",
       "      <th>4</th>\n",
       "      <td>8</td>\n",
       "      <td>2.00</td>\n",
       "      <td>1</td>\n",
       "    </tr>\n",
       "    <tr>\n",
       "      <th>5</th>\n",
       "      <td>9</td>\n",
       "      <td>0.50</td>\n",
       "      <td>1</td>\n",
       "    </tr>\n",
       "    <tr>\n",
       "      <th>6</th>\n",
       "      <td>4</td>\n",
       "      <td>3.00</td>\n",
       "      <td>1</td>\n",
       "    </tr>\n",
       "    <tr>\n",
       "      <th>7</th>\n",
       "      <td>5</td>\n",
       "      <td>2.50</td>\n",
       "      <td>1</td>\n",
       "    </tr>\n",
       "    <tr>\n",
       "      <th>8</th>\n",
       "      <td>8</td>\n",
       "      <td>1.00</td>\n",
       "      <td>1</td>\n",
       "    </tr>\n",
       "    <tr>\n",
       "      <th>9</th>\n",
       "      <td>4</td>\n",
       "      <td>2.50</td>\n",
       "      <td>1</td>\n",
       "    </tr>\n",
       "    <tr>\n",
       "      <th>10</th>\n",
       "      <td>8</td>\n",
       "      <td>0.10</td>\n",
       "      <td>0</td>\n",
       "    </tr>\n",
       "    <tr>\n",
       "      <th>11</th>\n",
       "      <td>7</td>\n",
       "      <td>0.15</td>\n",
       "      <td>0</td>\n",
       "    </tr>\n",
       "    <tr>\n",
       "      <th>12</th>\n",
       "      <td>4</td>\n",
       "      <td>1.00</td>\n",
       "      <td>0</td>\n",
       "    </tr>\n",
       "    <tr>\n",
       "      <th>13</th>\n",
       "      <td>5</td>\n",
       "      <td>0.80</td>\n",
       "      <td>0</td>\n",
       "    </tr>\n",
       "    <tr>\n",
       "      <th>14</th>\n",
       "      <td>7</td>\n",
       "      <td>0.30</td>\n",
       "      <td>0</td>\n",
       "    </tr>\n",
       "    <tr>\n",
       "      <th>15</th>\n",
       "      <td>4</td>\n",
       "      <td>1.00</td>\n",
       "      <td>0</td>\n",
       "    </tr>\n",
       "    <tr>\n",
       "      <th>16</th>\n",
       "      <td>5</td>\n",
       "      <td>0.50</td>\n",
       "      <td>0</td>\n",
       "    </tr>\n",
       "    <tr>\n",
       "      <th>17</th>\n",
       "      <td>6</td>\n",
       "      <td>0.30</td>\n",
       "      <td>0</td>\n",
       "    </tr>\n",
       "    <tr>\n",
       "      <th>18</th>\n",
       "      <td>7</td>\n",
       "      <td>0.20</td>\n",
       "      <td>0</td>\n",
       "    </tr>\n",
       "    <tr>\n",
       "      <th>19</th>\n",
       "      <td>8</td>\n",
       "      <td>0.15</td>\n",
       "      <td>0</td>\n",
       "    </tr>\n",
       "  </tbody>\n",
       "</table>\n",
       "</div>"
      ],
      "text/plain": [
       "    Luong  Thoi gian lam viec  Cho vay\n",
       "0      10                1.00        1\n",
       "1       5                2.00        1\n",
       "2       6                1.80        1\n",
       "3       7                1.00        1\n",
       "4       8                2.00        1\n",
       "5       9                0.50        1\n",
       "6       4                3.00        1\n",
       "7       5                2.50        1\n",
       "8       8                1.00        1\n",
       "9       4                2.50        1\n",
       "10      8                0.10        0\n",
       "11      7                0.15        0\n",
       "12      4                1.00        0\n",
       "13      5                0.80        0\n",
       "14      7                0.30        0\n",
       "15      4                1.00        0\n",
       "16      5                0.50        0\n",
       "17      6                0.30        0\n",
       "18      7                0.20        0\n",
       "19      8                0.15        0"
      ]
     },
     "execution_count": 114,
     "metadata": {},
     "output_type": "execute_result"
    }
   ],
   "source": [
    "import numpy as np\n",
    "import pandas as pd\n",
    "\n",
    "df = pd.read_csv('bang cho vay.csv')\n",
    "df"
   ]
  },
  {
   "cell_type": "code",
   "execution_count": 115,
   "id": "3dec8cd8",
   "metadata": {},
   "outputs": [
    {
     "name": "stdout",
     "output_type": "stream",
     "text": [
      "Xác suất cho vay cho người có lương 9 triệu và thời gian làm việc 0.5 năm là: 65.13303842603345 %\n"
     ]
    }
   ],
   "source": [
    "# Áp dụng gradient descent để viết hàm tính xác suất cho vay\n",
    "def sigmoid(x):\n",
    "    return 1 / (1 + np.exp(-x))\n",
    "\n",
    "def gradient_descent(X, y, initial_theta, learning_rate, max_iterations, epsilon):\n",
    "    current_theta = initial_theta.copy()\n",
    "    i = 0\n",
    "    while i <= max_iterations:\n",
    "        gradient = -X.T.dot(y - X.dot(current_theta))\n",
    "        next_theta = current_theta - learning_rate * gradient\n",
    "        if np.linalg.norm(gradient) < epsilon:\n",
    "            return next_theta\n",
    "        current_theta = next_theta\n",
    "        i += 1\n",
    "    return 0\n",
    "\n",
    "def predict(theta, X):\n",
    "    z = np.dot(X, theta)\n",
    "    return sigmoid(z)\n",
    "\n",
    "# Chuẩn bị dữ liệu\n",
    "X = df[['Luong', 'Thoi gian lam viec']].values\n",
    "y = df['Cho vay'].values\n",
    "X = np.c_[np.ones(X.shape[0]), X]\n",
    "initial_theta = np.zeros(X.shape[1])\n",
    "theta = gradient_descent(X, y, initial_theta, 0.001, 10000, 1e-2)\n",
    "X_new = np.array([[1, 9, 0.5]])\n",
    "probability = predict(theta, X_new)\n",
    "print(\"Xác suất cho vay cho người có lương 9 triệu và thời gian làm việc 0.5 năm là:\", probability[0] * 100, \"%\")"
   ]
  },
  {
   "cell_type": "code",
   "execution_count": 116,
   "id": "68f7ac0e",
   "metadata": {},
   "outputs": [
    {
     "data": {
      "image/png": "[encoded data removed]",
      "text/plain": [
       "<Figure size 1000x600 with 1 Axes>"
      ]
     },
     "metadata": {},
     "output_type": "display_data"
    }
   ],
   "source": [
    "# Giả sử ngân hàng yêu cầu hồ sơ đạt 80% mới cho vay, vẽ đồ thị phân cách giữa hồ sơ cho vay và không cho vay\n",
    "import matplotlib.pyplot as plt\n",
    "import seaborn as sns\n",
    "sns.set(style=\"whitegrid\")\n",
    "plt.figure(figsize=(10, 6))\n",
    "plt.scatter(df['Luong'], df['Thoi gian lam viec'], c=df['Cho vay'], cmap='coolwarm')\n",
    "plt.xlabel('Lương (triệu đồng)')\n",
    "plt.ylabel('Thời gian làm việc (năm)')\n",
    "plt.title('Phân loại hồ sơ cho vay')\n",
    "\n",
    "plt.xlim(3, 11)\n",
    "plt.ylim(-1, 11)\n",
    "\n",
    "\n",
    "# Vẽ đường phân cách\n",
    "x1 = np.linspace(0, 10, 100)\n",
    "x2 = np.linspace(0, 10, 100)\n",
    "X1, X2 = np.meshgrid(x1, x2)\n",
    "Z = predict(theta, np.c_[np.ones(X1.ravel().shape[0]), X1.ravel(), X2.ravel()])\n",
    "Z = Z.reshape(X1.shape)\n",
    "plt.contour(X1, X2, Z, levels=[0.8], colors='black', linestyles='--')\n",
    "plt.title('Đường phân cách giữa hồ sơ cho vay và không cho vay')\n",
    "plt.show()"
   ]
  },
  {
   "cell_type": "code",
   "execution_count": 117,
   "id": "9ab3513a",
   "metadata": {},
   "outputs": [
    {
     "name": "stdout",
     "output_type": "stream",
     "text": [
      "Xác suất cho vay cho người có lương 9 triệu và thời gian làm việc 0.5 năm là: 64.15132993427457 %\n"
     ]
    }
   ],
   "source": [
    "# Accelerated Gradient Descent\n",
    "def accelerated_gradient_descent(X, y, initial_theta, learning_rate, max_iterations, epsilon):\n",
    "    current_theta = initial_theta.copy()\n",
    "    m = X.shape[0]\n",
    "    v = np.zeros_like(current_theta)\n",
    "    beta = 0.9  # Hệ số ma sát\n",
    "    i = 0\n",
    "    while i <= max_iterations:\n",
    "        gradient = -X.T.dot(y - X.dot(current_theta)) / m\n",
    "        v = beta * v + (1 - beta) * gradient\n",
    "        next_theta = current_theta - learning_rate * v\n",
    "        if np.linalg.norm(gradient) < epsilon:\n",
    "            return next_theta\n",
    "        current_theta = next_theta\n",
    "        i += 1\n",
    "    return 0\n",
    "\n",
    "theta = accelerated_gradient_descent(X, y, initial_theta, 0.1, 1000, 1e-2)\n",
    "X_new = np.array([[1, 9, 0.5]])\n",
    "probability = predict(theta, X_new)\n",
    "print(\"Xác suất cho vay cho người có lương 9 triệu và thời gian làm việc 0.5 năm là:\", probability[0] * 100, \"%\")"
   ]
  },
  {
   "cell_type": "code",
   "execution_count": 118,
   "id": "76b76102",
   "metadata": {},
   "outputs": [
    {
     "data": {
      "image/png": "[encoded data removed]",
      "text/plain": [
       "<Figure size 1000x600 with 1 Axes>"
      ]
     },
     "metadata": {},
     "output_type": "display_data"
    }
   ],
   "source": [
    "# Giả sử ngân hàng yêu cầu hồ sơ đạt 80% mới cho vay, vẽ đồ thị phân cách giữa hồ sơ cho vay và không cho vay\n",
    "import matplotlib.pyplot as plt\n",
    "import seaborn as sns\n",
    "sns.set(style=\"whitegrid\")\n",
    "plt.figure(figsize=(10, 6))\n",
    "plt.scatter(df['Luong'], df['Thoi gian lam viec'], c=df['Cho vay'], cmap='coolwarm')\n",
    "plt.xlabel('Lương (triệu đồng)')\n",
    "plt.ylabel('Thời gian làm việc (năm)')\n",
    "plt.title('Phân loại hồ sơ cho vay')\n",
    "\n",
    "plt.xlim(3, 11)\n",
    "plt.ylim(-1, 11)\n",
    "\n",
    "\n",
    "# Vẽ đường phân cách\n",
    "x1 = np.linspace(0, 10, 100)\n",
    "x2 = np.linspace(0, 10, 100)\n",
    "X1, X2 = np.meshgrid(x1, x2)\n",
    "Z = predict(theta, np.c_[np.ones(X1.ravel().shape[0]), X1.ravel(), X2.ravel()])\n",
    "Z = Z.reshape(X1.shape)\n",
    "plt.contour(X1, X2, Z, levels=[0.8], colors='black', linestyles='--')\n",
    "plt.title('Đường phân cách giữa hồ sơ cho vay và không cho vay')\n",
    "plt.show()"
   ]
  }
 ],
 "metadata": {
  "kernelspec": {
   "display_name": "Python 3",
   "language": "python",
   "name": "python3"
  },
  "language_info": {
   "codemirror_mode": {
    "name": "ipython",
    "version": 3
   },
   "file_extension": ".py",
   "mimetype": "text/x-python",
   "name": "python",
   "nbconvert_exporter": "python",
   "pygments_lexer": "ipython3",
   "version": "3.11.9"
  }
 },
 "nbformat": 4,
 "nbformat_minor": 5
}
