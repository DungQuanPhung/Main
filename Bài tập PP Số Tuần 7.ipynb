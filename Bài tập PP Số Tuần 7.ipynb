{
 "cells": [
  {
   "cell_type": "markdown",
   "id": "b8648658",
   "metadata": {},
   "source": [
    "# Bài 2:"
   ]
  },
  {
   "cell_type": "code",
   "execution_count": 12,
   "id": "228ad442",
   "metadata": {},
   "outputs": [],
   "source": [
    "# # Đọc dữ liệu\n",
    "# df = pd.read_csv('bang_can_nang_chieu_cao.csv')\n",
    "# df\n",
    "# ## SVD\n",
    "# W = df['Chieu cao (cm)']\n",
    "# W_scaled = scaler.fit_transform(W.values.reshape(-1, 1))\n",
    "# d = df['Can nang (kg)']\n",
    "# W_scaled = np.c_[np.ones((W_scaled.shape[0], 1)), W_scaled]\n",
    "# height = np.array([[170]])\n",
    "# scaled_height = scaler.transform(height)\n",
    "# scaled_height = np.c_[np.ones((scaled_height.shape[0])), scaled_height]\n",
    "\n",
    "# # SVD decomposition\n",
    "# x_svd = svd_decomposition(W_scaled, d)\n",
    "# predicted_weight_svd = scaled_height.dot(x_svd)\n",
    "# print(\"Hệ số dự đoán là:\", x_svd)\n",
    "# print(\"Giá trị dự đoán được là:\", predicted_weight_svd[0])\n",
    "# ## Gradient descent\n",
    "# initial_point = np.zeros(W_scaled.shape[1])\n",
    "\n",
    "# # Dự đoán cho chiều cao 170\n",
    "# height = np.array([[170]])\n",
    "# scaled_height = scaler.transform(height)\n",
    "# scaled_height = np.c_[np.ones((scaled_height.shape[0])), scaled_height]\n",
    "# x_gd = gradient_descent(W_scaled, d, initial_point, 0.001, 10000, 1e-6)\n",
    "# predicted_weight_gd = scaled_height.dot(x_gd)\n",
    "# print(\"Hệ số dự đoán là:\", x_gd)\n",
    "# print(\"Giá trị dự đoán được là:\", predicted_weight_gd[0])\n",
    "# print(\"Chênh lệch giữa 2 phương pháp:\", L2_error(x_svd, x_gd))\n",
    "# ## Accelerated gradient descent\n",
    "# # Accelerated gradient descent\n",
    "# x_agd = accelerated_gradient_descent(W_scaled, d, initial_point, 0.001, 10000, 1e-6)\n",
    "# predicted_weight_agd = scaled_height.dot(x_agd)\n",
    "# print(\"Hệ số dự đoán là:\", x_agd)\n",
    "# print(\"Giá trị dự đoán được là:\", predicted_weight_agd[0])\n",
    "# print(\"Chênh lệch giữa 2 phương pháp:\", L2_error(x_svd, x_agd))\n",
    "# ## Stochastic gradient descent\n",
    "# # Stochastic gradient descent\n",
    "# x_sgd = stochastic_gradient_descent(W_scaled, d, initial_point, 0.001, 10000, 1e-6)\n",
    "# predicted_weight_sgd = scaled_height.dot(x_sgd)\n",
    "# print(\"Hệ số dự đoán là:\", x_sgd)\n",
    "# print(\"Giá trị dự đoán được là:\", predicted_weight_sgd[0])\n",
    "# print(\"Chênh lệch hệ số dự đoán:\", L2_error(x_svd, x_sgd))\n",
    "# ## Sklearn\n",
    "# # Train test split\n",
    "# X_train, X_test, y_train, y_test = train_test_split(W_scaled, d, test_size=0.2, random_state=42)\n",
    "# model = LinearRegression()\n",
    "# model.fit(X_train, y_train)\n",
    "# coefficients = model.coef_\n",
    "# intercept = model.intercept_\n",
    "\n",
    "# # Using sklearn\n",
    "# predicted_weight_sklearn = model.predict(scaled_height)\n",
    "# coefficients[0] = intercept\n",
    "# print(\"Hệ số dự đoán (sklearn):\", coefficients)\n",
    "# print(f\"Dự đoán giá trị: {predicted_weight_sklearn[0]}\")\n",
    "# print(\"Chênh lệch hệ số dự đoán:\", L2_error(x_svd, coefficients))"
   ]
  },
  {
   "cell_type": "code",
   "execution_count": 13,
   "id": "a217536b",
   "metadata": {},
   "outputs": [
    {
     "data": {
      "application/vnd.microsoft.datawrangler.viewer.v0+json": {
       "columns": [
        {
         "name": "index",
         "rawType": "int64",
         "type": "integer"
        },
        {
         "name": "Luong",
         "rawType": "int64",
         "type": "integer"
        },
        {
         "name": "Thoi gian lam viec",
         "rawType": "float64",
         "type": "float"
        },
        {
         "name": "Cho vay",
         "rawType": "int64",
         "type": "integer"
        }
       ],
       "ref": "0b78eeed-bdc5-422c-a9ef-6920e0259bbe",
       "rows": [
        [
         "0",
         "10",
         "1.0",
         "1"
        ],
        [
         "1",
         "5",
         "2.0",
         "1"
        ],
        [
         "2",
         "6",
         "1.8",
         "1"
        ],
        [
         "3",
         "7",
         "1.0",
         "1"
        ],
        [
         "4",
         "8",
         "2.0",
         "1"
        ],
        [
         "5",
         "9",
         "0.5",
         "1"
        ],
        [
         "6",
         "4",
         "3.0",
         "1"
        ],
        [
         "7",
         "5",
         "2.5",
         "1"
        ],
        [
         "8",
         "8",
         "1.0",
         "1"
        ],
        [
         "9",
         "4",
         "2.5",
         "1"
        ],
        [
         "10",
         "8",
         "0.1",
         "0"
        ],
        [
         "11",
         "7",
         "0.15",
         "0"
        ],
        [
         "12",
         "4",
         "1.0",
         "0"
        ],
        [
         "13",
         "5",
         "0.8",
         "0"
        ],
        [
         "14",
         "7",
         "0.3",
         "0"
        ],
        [
         "15",
         "4",
         "1.0",
         "0"
        ],
        [
         "16",
         "5",
         "0.5",
         "0"
        ],
        [
         "17",
         "6",
         "0.3",
         "0"
        ],
        [
         "18",
         "7",
         "0.2",
         "0"
        ],
        [
         "19",
         "8",
         "0.15",
         "0"
        ]
       ],
       "shape": {
        "columns": 3,
        "rows": 20
       }
      },
      "text/html": [
       "<div>\n",
       "<style scoped>\n",
       "    .dataframe tbody tr th:only-of-type {\n",
       "        vertical-align: middle;\n",
       "    }\n",
       "\n",
       "    .dataframe tbody tr th {\n",
       "        vertical-align: top;\n",
       "    }\n",
       "\n",
       "    .dataframe thead th {\n",
       "        text-align: right;\n",
       "    }\n",
       "</style>\n",
       "<table border=\"1\" class=\"dataframe\">\n",
       "  <thead>\n",
       "    <tr style=\"text-align: right;\">\n",
       "      <th></th>\n",
       "      <th>Luong</th>\n",
       "      <th>Thoi gian lam viec</th>\n",
       "      <th>Cho vay</th>\n",
       "    </tr>\n",
       "  </thead>\n",
       "  <tbody>\n",
       "    <tr>\n",
       "      <th>0</th>\n",
       "      <td>10</td>\n",
       "      <td>1.00</td>\n",
       "      <td>1</td>\n",
       "    </tr>\n",
       "    <tr>\n",
       "      <th>1</th>\n",
       "      <td>5</td>\n",
       "      <td>2.00</td>\n",
       "      <td>1</td>\n",
       "    </tr>\n",
       "    <tr>\n",
       "      <th>2</th>\n",
       "      <td>6</td>\n",
       "      <td>1.80</td>\n",
       "      <td>1</td>\n",
       "    </tr>\n",
       "    <tr>\n",
       "      <th>3</th>\n",
       "      <td>7</td>\n",
       "      <td>1.00</td>\n",
       "      <td>1</td>\n",
       "    </tr>\n",
       "    <tr>\n",
       "      <th>4</th>\n",
       "      <td>8</td>\n",
       "      <td>2.00</td>\n",
       "      <td>1</td>\n",
       "    </tr>\n",
       "    <tr>\n",
       "      <th>5</th>\n",
       "      <td>9</td>\n",
       "      <td>0.50</td>\n",
       "      <td>1</td>\n",
       "    </tr>\n",
       "    <tr>\n",
       "      <th>6</th>\n",
       "      <td>4</td>\n",
       "      <td>3.00</td>\n",
       "      <td>1</td>\n",
       "    </tr>\n",
       "    <tr>\n",
       "      <th>7</th>\n",
       "      <td>5</td>\n",
       "      <td>2.50</td>\n",
       "      <td>1</td>\n",
       "    </tr>\n",
       "    <tr>\n",
       "      <th>8</th>\n",
       "      <td>8</td>\n",
       "      <td>1.00</td>\n",
       "      <td>1</td>\n",
       "    </tr>\n",
       "    <tr>\n",
       "      <th>9</th>\n",
       "      <td>4</td>\n",
       "      <td>2.50</td>\n",
       "      <td>1</td>\n",
       "    </tr>\n",
       "    <tr>\n",
       "      <th>10</th>\n",
       "      <td>8</td>\n",
       "      <td>0.10</td>\n",
       "      <td>0</td>\n",
       "    </tr>\n",
       "    <tr>\n",
       "      <th>11</th>\n",
       "      <td>7</td>\n",
       "      <td>0.15</td>\n",
       "      <td>0</td>\n",
       "    </tr>\n",
       "    <tr>\n",
       "      <th>12</th>\n",
       "      <td>4</td>\n",
       "      <td>1.00</td>\n",
       "      <td>0</td>\n",
       "    </tr>\n",
       "    <tr>\n",
       "      <th>13</th>\n",
       "      <td>5</td>\n",
       "      <td>0.80</td>\n",
       "      <td>0</td>\n",
       "    </tr>\n",
       "    <tr>\n",
       "      <th>14</th>\n",
       "      <td>7</td>\n",
       "      <td>0.30</td>\n",
       "      <td>0</td>\n",
       "    </tr>\n",
       "    <tr>\n",
       "      <th>15</th>\n",
       "      <td>4</td>\n",
       "      <td>1.00</td>\n",
       "      <td>0</td>\n",
       "    </tr>\n",
       "    <tr>\n",
       "      <th>16</th>\n",
       "      <td>5</td>\n",
       "      <td>0.50</td>\n",
       "      <td>0</td>\n",
       "    </tr>\n",
       "    <tr>\n",
       "      <th>17</th>\n",
       "      <td>6</td>\n",
       "      <td>0.30</td>\n",
       "      <td>0</td>\n",
       "    </tr>\n",
       "    <tr>\n",
       "      <th>18</th>\n",
       "      <td>7</td>\n",
       "      <td>0.20</td>\n",
       "      <td>0</td>\n",
       "    </tr>\n",
       "    <tr>\n",
       "      <th>19</th>\n",
       "      <td>8</td>\n",
       "      <td>0.15</td>\n",
       "      <td>0</td>\n",
       "    </tr>\n",
       "  </tbody>\n",
       "</table>\n",
       "</div>"
      ],
      "text/plain": [
       "    Luong  Thoi gian lam viec  Cho vay\n",
       "0      10                1.00        1\n",
       "1       5                2.00        1\n",
       "2       6                1.80        1\n",
       "3       7                1.00        1\n",
       "4       8                2.00        1\n",
       "5       9                0.50        1\n",
       "6       4                3.00        1\n",
       "7       5                2.50        1\n",
       "8       8                1.00        1\n",
       "9       4                2.50        1\n",
       "10      8                0.10        0\n",
       "11      7                0.15        0\n",
       "12      4                1.00        0\n",
       "13      5                0.80        0\n",
       "14      7                0.30        0\n",
       "15      4                1.00        0\n",
       "16      5                0.50        0\n",
       "17      6                0.30        0\n",
       "18      7                0.20        0\n",
       "19      8                0.15        0"
      ]
     },
     "execution_count": 13,
     "metadata": {},
     "output_type": "execute_result"
    }
   ],
   "source": [
    "import numpy as np\n",
    "import pandas as pd\n",
    "\n",
    "df = pd.read_csv('bang_cho_vay.csv')\n",
    "df"
   ]
  },
  {
   "cell_type": "code",
   "execution_count": 14,
   "id": "754dbee7",
   "metadata": {},
   "outputs": [],
   "source": [
    "# Chuẩn bị dữ liệu\n",
    "X = df[['Luong', 'Thoi gian lam viec']].values\n",
    "y = df['Cho vay'].values\n",
    "X = np.c_[np.ones(X.shape[0]), X]\n",
    "initial_weight = np.zeros(X.shape[1])\n",
    "X_new = np.array([[1, 9, 0.5]])"
   ]
  },
  {
   "cell_type": "code",
   "execution_count": 42,
   "id": "3dec8cd8",
   "metadata": {},
   "outputs": [
    {
     "name": "stdout",
     "output_type": "stream",
     "text": [
      "Hệ số dự đoán là: [-50.38142595   5.06751838  22.03945991]\n",
      "Giá trị dự đoán được là: [0.9980655]\n",
      "Xác suất cho vay cho người có lương 9 triệu và thời gian làm việc 0.5 năm là: 99.80654988851136 %\n"
     ]
    }
   ],
   "source": [
    "# Áp dụng gradient descent để viết hàm tính xác suất cho vay\n",
    "def hat_yi(w, X):\n",
    "    return 1 / (1 + np.exp(-(X @ w)))\n",
    "\n",
    "def nabla_L(theta, X, y):\n",
    "    hat_y = 1 / (1 + np.exp(-(X @ theta)))\n",
    "    gradient = X.T @ (hat_y - y)\n",
    "    return gradient\n",
    "\n",
    "def gradient_descent(X, y, initial_weight, eta, max_iterations, epsilon):\n",
    "    current_weight = initial_weight.copy()\n",
    "    i = 0\n",
    "    while i <= max_iterations:\n",
    "        next_weight = current_weight - eta * nabla_L(current_weight, X, y)\n",
    "        if np.linalg.norm(nabla_L(next_weight, X, y)) < epsilon:\n",
    "            return next_weight\n",
    "        current_weight = next_weight\n",
    "        i += 1\n",
    "    return next_weight\n",
    "\n",
    "def z(w, X):\n",
    "    return X.dot(w)\n",
    "\n",
    "def threshold(s):\n",
    "    return -np.log(1 / s - 1)\n",
    "\n",
    "weights = gradient_descent(X, y, initial_weight, 1e-2, 1000000, 1e-6)\n",
    "probability = hat_yi(weights, X_new)\n",
    "print(\"Hệ số dự đoán là:\", weights)\n",
    "print(\"Giá trị dự đoán được là:\", probability)\n",
    "print(\"Xác suất cho vay cho người có lương 9 triệu và thời gian làm việc 0.5 năm là:\", probability[0] * 100, \"%\")"
   ]
  },
  {
   "cell_type": "code",
   "execution_count": 16,
   "id": "68f7ac0e",
   "metadata": {},
   "outputs": [
    {
     "data": {
      "image/png": "[encoded data removed]",
      "text/plain": [
       "<Figure size 1000x600 with 1 Axes>"
      ]
     },
     "metadata": {},
     "output_type": "display_data"
    }
   ],
   "source": [
    "# Giả sử ngân hàng yêu cầu hồ sơ đạt 80% mới cho vay, vẽ đồ thị phân cách giữa hồ sơ cho vay và không cho vay\n",
    "import matplotlib.pyplot as plt\n",
    "import seaborn as sns\n",
    "\n",
    "sns.set(style=\"whitegrid\")\n",
    "plt.figure(figsize=(10, 6))\n",
    "plt.scatter(df['Luong'], df['Thoi gian lam viec'], c=df['Cho vay'], cmap='coolwarm')\n",
    "plt.xlabel('Lương (triệu đồng)')\n",
    "plt.ylabel('Thời gian làm việc (năm)')\n",
    "plt.title('Phân loại hồ sơ cho vay')\n",
    "\n",
    "plt.xlim(3, 11)\n",
    "plt.ylim(-1, 5)\n",
    "\n",
    "# Vẽ đường phân cách\n",
    "x1 = np.linspace(0, 10, 100)\n",
    "x2 = np.linspace(0, 10, 100)\n",
    "X1, X2 = np.meshgrid(x1, x2)\n",
    "Z = weights[0] + weights[1]*X1 + weights[2]*X2\n",
    "plt.contour(X1, X2, Z, levels=[0.8], colors='black', linestyles='--')\n",
    "plt.title('Đường phân cách giữa hồ sơ cho vay và không cho vay')\n",
    "plt.show()"
   ]
  },
  {
   "cell_type": "code",
   "execution_count": 40,
   "id": "9ab3513a",
   "metadata": {},
   "outputs": [
    {
     "name": "stdout",
     "output_type": "stream",
     "text": [
      "Hệ số dự đoán là: [-24.61200015   2.4570527   10.60092537]\n",
      "Giá trị dự đoán được là: [0.9427804]\n",
      "Xác suất cho vay cho người có lương 9 triệu và thời gian làm việc 0.5 năm là: 94.2780396909299 %\n"
     ]
    }
   ],
   "source": [
    "# Accelerated Gradient Descent\n",
    "def accelerated_gradient_descent(W, d, initial_weight, eta, max_iterations, epsilon):\n",
    "    current_weight = initial_weight.copy()\n",
    "    previous_weight = initial_weight.copy()\n",
    "    i = 0\n",
    "    while i <= max_iterations - 1:\n",
    "        temp = current_weight + (i - 1) / (i + 2) * (current_weight - previous_weight) \n",
    "        next_weight = temp - eta * nabla_L(temp, X, y)\n",
    "        if np.linalg.norm(nabla_L(next_weight, X, y)) < epsilon:\n",
    "            return next_weight\n",
    "        previous_weight = current_weight\n",
    "        current_weight = next_weight\n",
    "        i += 1\n",
    "    return next_weight\n",
    "\n",
    "weights = accelerated_gradient_descent(X, y, initial_weight, 1e-3, 1000, 1e-6)\n",
    "probability = hat_yi(weights, X_new)\n",
    "print(\"Hệ số dự đoán là:\", weights)\n",
    "print(\"Giá trị dự đoán được là:\", probability)\n",
    "print(\"Xác suất cho vay cho người có lương 9 triệu và thời gian làm việc 0.5 năm là:\", probability[0] * 100, \"%\")"
   ]
  },
  {
   "cell_type": "code",
   "execution_count": 18,
   "id": "76b76102",
   "metadata": {},
   "outputs": [
    {
     "data": {
      "image/png": "[encoded data removed]",
      "text/plain": [
       "<Figure size 1000x600 with 1 Axes>"
      ]
     },
     "metadata": {},
     "output_type": "display_data"
    }
   ],
   "source": [
    "# Giả sử ngân hàng yêu cầu hồ sơ đạt 80% mới cho vay, vẽ đồ thị phân cách giữa hồ sơ cho vay và không cho vay\n",
    "sns.set(style=\"whitegrid\")\n",
    "plt.figure(figsize=(10, 6))\n",
    "plt.scatter(df['Luong'], df['Thoi gian lam viec'], c=df['Cho vay'], cmap='coolwarm')\n",
    "plt.xlabel('Lương (triệu đồng)')\n",
    "plt.ylabel('Thời gian làm việc (năm)')\n",
    "plt.title('Phân loại hồ sơ cho vay')\n",
    "\n",
    "plt.xlim(3, 11)\n",
    "plt.ylim(-1, 5)\n",
    "\n",
    "# Vẽ đường phân cách\n",
    "x1 = np.linspace(0, 10, 100)\n",
    "x2 = np.linspace(0, 10, 100)\n",
    "X1, X2 = np.meshgrid(x1, x2)\n",
    "Z = weights[0] + weights[1]*X1 + weights[2]*X2\n",
    "plt.contour(X1, X2, Z, levels=[0.8], colors='black', linestyles='--')\n",
    "plt.title('Đường phân cách giữa hồ sơ cho vay và không cho vay')\n",
    "plt.show()"
   ]
  }
 ],
 "metadata": {
  "kernelspec": {
   "display_name": "Python 3",
   "language": "python",
   "name": "python3"
  },
  "language_info": {
   "codemirror_mode": {
    "name": "ipython",
    "version": 3
   },
   "file_extension": ".py",
   "mimetype": "text/x-python",
   "name": "python",
   "nbconvert_exporter": "python",
   "pygments_lexer": "ipython3",
   "version": "3.11.9"
  }
 },
 "nbformat": 4,
 "nbformat_minor": 5
}
