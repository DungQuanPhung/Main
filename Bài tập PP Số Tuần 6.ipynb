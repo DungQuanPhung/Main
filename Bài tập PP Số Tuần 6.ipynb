{
 "cells": [
  {
   "cell_type": "code",
   "execution_count": 481,
   "id": "e890a18b",
   "metadata": {},
   "outputs": [
    {
     "data": {
      "application/vnd.microsoft.datawrangler.viewer.v0+json": {
       "columns": [
        {
         "name": "STT",
         "rawType": "int64",
         "type": "integer"
        },
        {
         "name": "Dien tich (m2)",
         "rawType": "int64",
         "type": "integer"
        },
        {
         "name": "So phong ngu",
         "rawType": "int64",
         "type": "integer"
        },
        {
         "name": "Khoang cach toi TT",
         "rawType": "float64",
         "type": "float"
        },
        {
         "name": "Gia (ty VND)",
         "rawType": "float64",
         "type": "float"
        }
       ],
       "conversionMethod": "pd.DataFrame",
       "ref": "9d52d930-9a98-43d3-bebb-39e95f2d9e0f",
       "rows": [
        [
         "1",
         "40",
         "1",
         "30.0",
         "11.0"
        ],
        [
         "2",
         "60",
         "2",
         "32.0",
         "1.55"
        ],
        [
         "3",
         "53",
         "2",
         "30.1",
         "1.68"
        ],
        [
         "4",
         "71",
         "2",
         "35.7",
         "1.75"
        ],
        [
         "5",
         "80",
         "2",
         "24.5",
         "5.5"
        ],
        [
         "6",
         "56",
         "2",
         "27.6",
         "2.3"
        ],
        [
         "7",
         "75",
         "2",
         "27.6",
         "3.0"
        ],
        [
         "8",
         "79",
         "2",
         "27.6",
         "3.5"
        ],
        [
         "9",
         "56",
         "2",
         "29.7",
         "24.0"
        ],
        [
         "10",
         "60",
         "2",
         "29.7",
         "2.9"
        ],
        [
         "11",
         "72",
         "2",
         "29.7",
         "3.0"
        ],
        [
         "12",
         "95",
         "3",
         "29.7",
         "4.2"
        ],
        [
         "13",
         "47",
         "1",
         "19.3",
         "1.5"
        ],
        [
         "14",
         "91",
         "2",
         "18.1",
         "2.2"
        ],
        [
         "15",
         "68",
         "1",
         "21.4",
         "15.0"
        ],
        [
         "16",
         "69",
         "2",
         "17.5",
         "3.15"
        ],
        [
         "17",
         "82",
         "2",
         "25.1",
         "3.4"
        ],
        [
         "18",
         "60",
         "2",
         "26.5",
         "2.245"
        ],
        [
         "19",
         "68",
         "2",
         "26.5",
         "2.4"
        ]
       ],
       "shape": {
        "columns": 4,
        "rows": 19
       }
      },
      "text/html": [
       "<div>\n",
       "<style scoped>\n",
       "    .dataframe tbody tr th:only-of-type {\n",
       "        vertical-align: middle;\n",
       "    }\n",
       "\n",
       "    .dataframe tbody tr th {\n",
       "        vertical-align: top;\n",
       "    }\n",
       "\n",
       "    .dataframe thead th {\n",
       "        text-align: right;\n",
       "    }\n",
       "</style>\n",
       "<table border=\"1\" class=\"dataframe\">\n",
       "  <thead>\n",
       "    <tr style=\"text-align: right;\">\n",
       "      <th></th>\n",
       "      <th>Dien tich (m2)</th>\n",
       "      <th>So phong ngu</th>\n",
       "      <th>Khoang cach toi TT</th>\n",
       "      <th>Gia (ty VND)</th>\n",
       "    </tr>\n",
       "    <tr>\n",
       "      <th>STT</th>\n",
       "      <th></th>\n",
       "      <th></th>\n",
       "      <th></th>\n",
       "      <th></th>\n",
       "    </tr>\n",
       "  </thead>\n",
       "  <tbody>\n",
       "    <tr>\n",
       "      <th>1</th>\n",
       "      <td>40</td>\n",
       "      <td>1</td>\n",
       "      <td>30.0</td>\n",
       "      <td>11.000</td>\n",
       "    </tr>\n",
       "    <tr>\n",
       "      <th>2</th>\n",
       "      <td>60</td>\n",
       "      <td>2</td>\n",
       "      <td>32.0</td>\n",
       "      <td>1.550</td>\n",
       "    </tr>\n",
       "    <tr>\n",
       "      <th>3</th>\n",
       "      <td>53</td>\n",
       "      <td>2</td>\n",
       "      <td>30.1</td>\n",
       "      <td>1.680</td>\n",
       "    </tr>\n",
       "    <tr>\n",
       "      <th>4</th>\n",
       "      <td>71</td>\n",
       "      <td>2</td>\n",
       "      <td>35.7</td>\n",
       "      <td>1.750</td>\n",
       "    </tr>\n",
       "    <tr>\n",
       "      <th>5</th>\n",
       "      <td>80</td>\n",
       "      <td>2</td>\n",
       "      <td>24.5</td>\n",
       "      <td>5.500</td>\n",
       "    </tr>\n",
       "    <tr>\n",
       "      <th>6</th>\n",
       "      <td>56</td>\n",
       "      <td>2</td>\n",
       "      <td>27.6</td>\n",
       "      <td>2.300</td>\n",
       "    </tr>\n",
       "    <tr>\n",
       "      <th>7</th>\n",
       "      <td>75</td>\n",
       "      <td>2</td>\n",
       "      <td>27.6</td>\n",
       "      <td>3.000</td>\n",
       "    </tr>\n",
       "    <tr>\n",
       "      <th>8</th>\n",
       "      <td>79</td>\n",
       "      <td>2</td>\n",
       "      <td>27.6</td>\n",
       "      <td>3.500</td>\n",
       "    </tr>\n",
       "    <tr>\n",
       "      <th>9</th>\n",
       "      <td>56</td>\n",
       "      <td>2</td>\n",
       "      <td>29.7</td>\n",
       "      <td>24.000</td>\n",
       "    </tr>\n",
       "    <tr>\n",
       "      <th>10</th>\n",
       "      <td>60</td>\n",
       "      <td>2</td>\n",
       "      <td>29.7</td>\n",
       "      <td>2.900</td>\n",
       "    </tr>\n",
       "    <tr>\n",
       "      <th>11</th>\n",
       "      <td>72</td>\n",
       "      <td>2</td>\n",
       "      <td>29.7</td>\n",
       "      <td>3.000</td>\n",
       "    </tr>\n",
       "    <tr>\n",
       "      <th>12</th>\n",
       "      <td>95</td>\n",
       "      <td>3</td>\n",
       "      <td>29.7</td>\n",
       "      <td>4.200</td>\n",
       "    </tr>\n",
       "    <tr>\n",
       "      <th>13</th>\n",
       "      <td>47</td>\n",
       "      <td>1</td>\n",
       "      <td>19.3</td>\n",
       "      <td>1.500</td>\n",
       "    </tr>\n",
       "    <tr>\n",
       "      <th>14</th>\n",
       "      <td>91</td>\n",
       "      <td>2</td>\n",
       "      <td>18.1</td>\n",
       "      <td>2.200</td>\n",
       "    </tr>\n",
       "    <tr>\n",
       "      <th>15</th>\n",
       "      <td>68</td>\n",
       "      <td>1</td>\n",
       "      <td>21.4</td>\n",
       "      <td>15.000</td>\n",
       "    </tr>\n",
       "    <tr>\n",
       "      <th>16</th>\n",
       "      <td>69</td>\n",
       "      <td>2</td>\n",
       "      <td>17.5</td>\n",
       "      <td>3.150</td>\n",
       "    </tr>\n",
       "    <tr>\n",
       "      <th>17</th>\n",
       "      <td>82</td>\n",
       "      <td>2</td>\n",
       "      <td>25.1</td>\n",
       "      <td>3.400</td>\n",
       "    </tr>\n",
       "    <tr>\n",
       "      <th>18</th>\n",
       "      <td>60</td>\n",
       "      <td>2</td>\n",
       "      <td>26.5</td>\n",
       "      <td>2.245</td>\n",
       "    </tr>\n",
       "    <tr>\n",
       "      <th>19</th>\n",
       "      <td>68</td>\n",
       "      <td>2</td>\n",
       "      <td>26.5</td>\n",
       "      <td>2.400</td>\n",
       "    </tr>\n",
       "  </tbody>\n",
       "</table>\n",
       "</div>"
      ],
      "text/plain": [
       "     Dien tich (m2)  So phong ngu  Khoang cach toi TT  Gia (ty VND)\n",
       "STT                                                                \n",
       "1                40             1                30.0        11.000\n",
       "2                60             2                32.0         1.550\n",
       "3                53             2                30.1         1.680\n",
       "4                71             2                35.7         1.750\n",
       "5                80             2                24.5         5.500\n",
       "6                56             2                27.6         2.300\n",
       "7                75             2                27.6         3.000\n",
       "8                79             2                27.6         3.500\n",
       "9                56             2                29.7        24.000\n",
       "10               60             2                29.7         2.900\n",
       "11               72             2                29.7         3.000\n",
       "12               95             3                29.7         4.200\n",
       "13               47             1                19.3         1.500\n",
       "14               91             2                18.1         2.200\n",
       "15               68             1                21.4        15.000\n",
       "16               69             2                17.5         3.150\n",
       "17               82             2                25.1         3.400\n",
       "18               60             2                26.5         2.245\n",
       "19               68             2                26.5         2.400"
      ]
     },
     "execution_count": 481,
     "metadata": {},
     "output_type": "execute_result"
    }
   ],
   "source": [
    "import pandas as pd\n",
    "import numpy as np\n",
    "from sklearn.preprocessing import StandardScaler\n",
    "from sklearn.linear_model import LinearRegression\n",
    "from sklearn.model_selection import train_test_split\n",
    "\n",
    "df = pd.read_csv('bang gia nha.csv')\n",
    "df = df.set_index('STT')\n",
    "df"
   ]
  },
  {
   "cell_type": "code",
   "execution_count": 482,
   "id": "ee1ef03e",
   "metadata": {},
   "outputs": [
    {
     "name": "stdout",
     "output_type": "stream",
     "text": [
      "Giá trị theta tính toán được là: 4.5493206168511096\n"
     ]
    }
   ],
   "source": [
    "X = df[['Dien tich (m2)', 'So phong ngu', 'Khoang cach toi TT']].values\n",
    "y = df['Gia (ty VND)'].values\n",
    "X_b = np.c_[np.ones((X.shape[0], 1)), X]\n",
    "\n",
    "def loss_function(theta, X, y):\n",
    "    return 1/2 * np.sum(y - X.dot(theta))**2\n",
    "\n",
    "def gradient(theta, X, y):\n",
    "    return -X.T.dot(y - X.dot(theta))\n",
    "\n",
    "# SVD decomposition\n",
    "def svd_decomposition(X, y):\n",
    "    U, s, Vt = np.linalg.svd(X.T @ X, full_matrices=True)\n",
    "    s_inv = np.zeros_like(X.T @ X)\n",
    "    s_inv[:len(s), :len(s)] = np.diag(1/s)\n",
    "    theta = (Vt.T @ s_inv @ U.T) @ X.T @ y\n",
    "    return theta\n",
    "\n",
    "house_features = np.array([(1, 79, 2, 26.5)])\n",
    "theta = svd_decomposition(X_b, y)\n",
    "predicted_price = house_features.dot(theta)\n",
    "print(\"Giá trị theta tính toán được là:\", predicted_price[0])"
   ]
  },
  {
   "cell_type": "code",
   "execution_count": 483,
   "id": "f763ed82",
   "metadata": {},
   "outputs": [
    {
     "name": "stdout",
     "output_type": "stream",
     "text": [
      "Giá trị dự đoán (Gradient Descent): 4.549320539677524 tỷ VND\n"
     ]
    }
   ],
   "source": [
    "scaler = StandardScaler()\n",
    "X_scaled = scaler.fit_transform(X)\n",
    "X_b = np.c_[np.ones((X_scaled.shape[0], 1)), X_scaled]\n",
    "initial_theta = np.zeros(X_b.shape[1])\n",
    "house_features = np.array([(1, 79, 2, 26.5)])\n",
    "scaled_house_features = scaler.transform(house_features[:, 1:])\n",
    "scaled_house_features = np.c_[np.ones((scaled_house_features.shape[0], 1)), scaled_house_features]\n",
    "\n",
    "# Gradient descent function\n",
    "def gradient_descent(X, y, initial_theta, learning_rate, max_iterations, epsilon):\n",
    "    current_theta = initial_theta.copy()\n",
    "    i = 0\n",
    "    while i <= max_iterations:\n",
    "        gradient = -X.T.dot(y - X.dot(current_theta))\n",
    "        next_theta = current_theta - learning_rate * gradient\n",
    "        if np.linalg.norm(gradient) < epsilon:\n",
    "            return next_theta\n",
    "        current_theta = next_theta\n",
    "        i += 1\n",
    "    return 0\n",
    "\n",
    "# Calculate optimal theta\n",
    "optimal_theta = gradient_descent(X_b, y, initial_theta, 0.01, 1000, 1e-6)\n",
    "\n",
    "# House features: 79 m2, 2 bedrooms, 26.5 km to center\n",
    "predicted_price = scaled_house_features.dot(optimal_theta)\n",
    "print(\"Giá trị dự đoán (Gradient Descent):\", predicted_price[0], \"tỷ VND\")"
   ]
  },
  {
   "cell_type": "code",
   "execution_count": 484,
   "id": "62ca1a10",
   "metadata": {},
   "outputs": [
    {
     "name": "stdout",
     "output_type": "stream",
     "text": [
      "Giá trị dự đoán (Gradient Descent): 4.549320664266877 tỷ VND\n"
     ]
    }
   ],
   "source": [
    "# Accelerated gradient descent function\n",
    "def accelerated_gradient_descent(X, y, initial_theta, learning_rate, max_iterations, epsilon):\n",
    "    current_theta = initial_theta.copy()\n",
    "    previous_theta = initial_theta.copy()\n",
    "    i = 0\n",
    "    while i <= max_iterations:\n",
    "        z = current_theta + (i - 1) / (i + 2) * (current_theta - previous_theta) \n",
    "        gradient = -X.T.dot(y - X.dot(z))\n",
    "        next_theta = z - learning_rate * gradient\n",
    "        if np.linalg.norm(gradient) < epsilon:\n",
    "            return next_theta\n",
    "        previous_theta = current_theta\n",
    "        current_theta = next_theta\n",
    "        i += 1\n",
    "    return 0\n",
    "\n",
    "# Calculate optimal theta\n",
    "optimal_theta = accelerated_gradient_descent(X_b, y, initial_theta, 0.01, 1000, 1e-6)\n",
    "\n",
    "# House features: 79 m2, 2 bedrooms, 26.5 km to center\n",
    "predicted_price = scaled_house_features.dot(optimal_theta)\n",
    "print(\"Giá trị dự đoán (Gradient Descent):\", predicted_price[0], \"tỷ VND\")"
   ]
  },
  {
   "cell_type": "code",
   "execution_count": 485,
   "id": "3fe1a526",
   "metadata": {},
   "outputs": [
    {
     "name": "stdout",
     "output_type": "stream",
     "text": [
      "Giá trị dự đoán (Gradient Descent): [0. 0. 0. 0.] tỷ VND\n"
     ]
    }
   ],
   "source": [
    "def compute_gradient(x, y, a, b):\n",
    "    grad_a = -2 * (y - (a + b * x))\n",
    "    grad_b = -2 * x * (y - (a + b * x))\n",
    "    return grad_a, grad_b\n",
    "\n",
    "# Stochastic gradient descent function\n",
    "def stochastic_gradient_descent(X, y, initial_theta, learning_rate, max_iterations, epsilon):\n",
    "    theta = initial_theta.copy()\n",
    "    m = len(X)\n",
    "    i = 0\n",
    "    while i <= max_iterations:\n",
    "        idx = np.random.randint(0, m - 1)\n",
    "        grad_a, grad_b = compute_gradient(X[idx, 1], y[idx], initial_theta[0], initial_theta[1])\n",
    "        theta[0] = initial_theta[0] - learning_rate * grad_a\n",
    "        theta[1] = initial_theta[1] - learning_rate * grad_b\n",
    "        if np.linalg.norm([grad_a, grad_b]) < epsilon:\n",
    "            return theta\n",
    "        initial_theta = theta\n",
    "        i += 1\n",
    "\n",
    "    return 0\n",
    "\n",
    "# Calculate optimal theta\n",
    "optimal_theta = stochastic_gradient_descent(X_b, y, initial_theta, 0.001, 100000, 1e-2)\n",
    "\n",
    "# House features: 79 m2, 2 bedrooms, 26.5 km to center\n",
    "predicted_price = scaled_house_features.dot(optimal_theta)\n",
    "print(\"Giá trị dự đoán (Gradient Descent):\", predicted_price[0], \"tỷ VND\")"
   ]
  },
  {
   "cell_type": "code",
   "execution_count": null,
   "id": "f51a3277",
   "metadata": {},
   "outputs": [
    {
     "name": "stdout",
     "output_type": "stream",
     "text": [
      "Dự đoán giá trị: 4.15 tỷ VND\n"
     ]
    },
    {
     "data": {
      "image/png": "[encoded data removed]",
      "text/plain": [
       "<Figure size 1000x600 with 1 Axes>"
      ]
     },
     "metadata": {},
     "output_type": "display_data"
    }
   ],
   "source": [
    "# Split the data into training and testing sets\n",
    "X_train, X_test, y_train, y_test = train_test_split(X, y, test_size=0.2, random_state=42)\n",
    "\n",
    "# Fit the model\n",
    "model = LinearRegression()\n",
    "model.fit(X_train, y_train)\n",
    "# Get the coefficients\n",
    "coefficients = model.coef_\n",
    "intercept = model.intercept_\n",
    "# Dự đoán giá trị cho 1 ngôi nhà có diện tích 79m2, 2 phòng ngủ và cách TT 26.5km\n",
    "house_features = np.array([79, 2, 26.5]).reshape(1, -1)\n",
    "predicted_price_sklearn = model.predict(house_features)\n",
    "print(f\"Dự đoán giá trị: {predicted_price_sklearn[0]:.2f} tỷ VND\")\n",
    "\n",
    "# Vẽ đồ thị\n",
    "import matplotlib.pyplot as plt\n",
    "import seaborn as sns\n",
    "sns.set(style=\"whitegrid\")\n",
    "plt.figure(figsize=(10, 6))\n",
    "plt.scatter(df['Dien tich (m2)'], df['Gia (ty VND)'], color='blue', label='Dữ liệu thực tế')\n",
    "plt.scatter(house_features[:, 0], predicted_price_sklearn, color='red', label='Dự đoán')\n",
    "plt.title('Dự đoán giá trị nhà dựa trên diện tích')\n",
    "plt.xlabel('Diện tích (m2)')\n",
    "plt.ylabel('Giá trị (tỷ VND)')\n",
    "plt.legend()\n",
    "plt.show()"
   ]
  },
  {
   "cell_type": "code",
   "execution_count": 487,
   "id": "992a88bb",
   "metadata": {},
   "outputs": [
    {
     "data": {
      "application/vnd.microsoft.datawrangler.viewer.v0+json": {
       "columns": [
        {
         "name": "STT",
         "rawType": "int64",
         "type": "integer"
        },
        {
         "name": "Chieu cao (cm)",
         "rawType": "int64",
         "type": "integer"
        },
        {
         "name": "Can nang (kg)",
         "rawType": "int64",
         "type": "integer"
        }
       ],
       "conversionMethod": "pd.DataFrame",
       "ref": "796ba212-ce29-4942-a3ce-e691ec16d73c",
       "rows": [
        [
         "1",
         "147",
         "49"
        ],
        [
         "2",
         "150",
         "50"
        ],
        [
         "3",
         "153",
         "51"
        ],
        [
         "4",
         "155",
         "52"
        ],
        [
         "5",
         "158",
         "54"
        ],
        [
         "6",
         "160",
         "56"
        ],
        [
         "7",
         "163",
         "58"
        ],
        [
         "8",
         "168",
         "60"
        ],
        [
         "9",
         "170",
         "72"
        ],
        [
         "10",
         "173",
         "63"
        ],
        [
         "11",
         "175",
         "64"
        ],
        [
         "12",
         "178",
         "66"
        ],
        [
         "13",
         "180",
         "67"
        ],
        [
         "14",
         "183",
         "68"
        ]
       ],
       "shape": {
        "columns": 2,
        "rows": 14
       }
      },
      "text/html": [
       "<div>\n",
       "<style scoped>\n",
       "    .dataframe tbody tr th:only-of-type {\n",
       "        vertical-align: middle;\n",
       "    }\n",
       "\n",
       "    .dataframe tbody tr th {\n",
       "        vertical-align: top;\n",
       "    }\n",
       "\n",
       "    .dataframe thead th {\n",
       "        text-align: right;\n",
       "    }\n",
       "</style>\n",
       "<table border=\"1\" class=\"dataframe\">\n",
       "  <thead>\n",
       "    <tr style=\"text-align: right;\">\n",
       "      <th></th>\n",
       "      <th>Chieu cao (cm)</th>\n",
       "      <th>Can nang (kg)</th>\n",
       "    </tr>\n",
       "    <tr>\n",
       "      <th>STT</th>\n",
       "      <th></th>\n",
       "      <th></th>\n",
       "    </tr>\n",
       "  </thead>\n",
       "  <tbody>\n",
       "    <tr>\n",
       "      <th>1</th>\n",
       "      <td>147</td>\n",
       "      <td>49</td>\n",
       "    </tr>\n",
       "    <tr>\n",
       "      <th>2</th>\n",
       "      <td>150</td>\n",
       "      <td>50</td>\n",
       "    </tr>\n",
       "    <tr>\n",
       "      <th>3</th>\n",
       "      <td>153</td>\n",
       "      <td>51</td>\n",
       "    </tr>\n",
       "    <tr>\n",
       "      <th>4</th>\n",
       "      <td>155</td>\n",
       "      <td>52</td>\n",
       "    </tr>\n",
       "    <tr>\n",
       "      <th>5</th>\n",
       "      <td>158</td>\n",
       "      <td>54</td>\n",
       "    </tr>\n",
       "    <tr>\n",
       "      <th>6</th>\n",
       "      <td>160</td>\n",
       "      <td>56</td>\n",
       "    </tr>\n",
       "    <tr>\n",
       "      <th>7</th>\n",
       "      <td>163</td>\n",
       "      <td>58</td>\n",
       "    </tr>\n",
       "    <tr>\n",
       "      <th>8</th>\n",
       "      <td>168</td>\n",
       "      <td>60</td>\n",
       "    </tr>\n",
       "    <tr>\n",
       "      <th>9</th>\n",
       "      <td>170</td>\n",
       "      <td>72</td>\n",
       "    </tr>\n",
       "    <tr>\n",
       "      <th>10</th>\n",
       "      <td>173</td>\n",
       "      <td>63</td>\n",
       "    </tr>\n",
       "    <tr>\n",
       "      <th>11</th>\n",
       "      <td>175</td>\n",
       "      <td>64</td>\n",
       "    </tr>\n",
       "    <tr>\n",
       "      <th>12</th>\n",
       "      <td>178</td>\n",
       "      <td>66</td>\n",
       "    </tr>\n",
       "    <tr>\n",
       "      <th>13</th>\n",
       "      <td>180</td>\n",
       "      <td>67</td>\n",
       "    </tr>\n",
       "    <tr>\n",
       "      <th>14</th>\n",
       "      <td>183</td>\n",
       "      <td>68</td>\n",
       "    </tr>\n",
       "  </tbody>\n",
       "</table>\n",
       "</div>"
      ],
      "text/plain": [
       "     Chieu cao (cm)  Can nang (kg)\n",
       "STT                               \n",
       "1               147             49\n",
       "2               150             50\n",
       "3               153             51\n",
       "4               155             52\n",
       "5               158             54\n",
       "6               160             56\n",
       "7               163             58\n",
       "8               168             60\n",
       "9               170             72\n",
       "10              173             63\n",
       "11              175             64\n",
       "12              178             66\n",
       "13              180             67\n",
       "14              183             68"
      ]
     },
     "execution_count": 487,
     "metadata": {},
     "output_type": "execute_result"
    }
   ],
   "source": [
    "df = pd.read_csv('bang can nang chieu cao.csv')\n",
    "df.set_index('STT', inplace=True)\n",
    "df"
   ]
  },
  {
   "cell_type": "code",
   "execution_count": 488,
   "id": "d61c622b",
   "metadata": {},
   "outputs": [
    {
     "name": "stdout",
     "output_type": "stream",
     "text": [
      "Giá trị dự đoán được là: 62.11247950738222\n"
     ]
    }
   ],
   "source": [
    "# Phương pháp đạo hàm mất mát\n",
    "X = df['Chieu cao (cm)'].values\n",
    "y = df['Can nang (kg)'].values\n",
    "X_b = np.c_[np.ones((X.shape[0], 1)), X]\n",
    "theta = svd_decomposition(X_b, y)\n",
    "height = np.array([1, 170])\n",
    "predicted_weight = height.dot(theta)\n",
    "print(\"Giá trị dự đoán được là:\", predicted_weight)"
   ]
  },
  {
   "cell_type": "code",
   "execution_count": 489,
   "id": "e55ecc89",
   "metadata": {},
   "outputs": [
    {
     "name": "stdout",
     "output_type": "stream",
     "text": [
      "Giá trị dự đoán được là: 62.111748207679234 kg\n"
     ]
    }
   ],
   "source": [
    "# Gradient descent\n",
    "scaler = StandardScaler()\n",
    "X_reshaped = X.reshape(-1, 1)\n",
    "X_scaled = scaler.fit_transform(X_reshaped)\n",
    "X_b = np.c_[np.ones((X_scaled.shape[0], 1)), X_scaled]\n",
    "initial_theta = np.zeros(X_b.shape[1])\n",
    "height = np.array([1, 170])\n",
    "scaled_height = scaler.transform(height[1].reshape(-1, 1))\n",
    "scaled_height = np.c_[np.ones((scaled_height.shape[0], 1)), scaled_height]\n",
    "theta = gradient_descent(X_b, y, initial_theta, 0.001, 1000, 1e-2)\n",
    "predicted_weight = scaled_height.dot(theta)\n",
    "print(\"Giá trị dự đoán được là:\", predicted_weight[0], \"kg\")"
   ]
  },
  {
   "cell_type": "code",
   "execution_count": 490,
   "id": "feca0512",
   "metadata": {},
   "outputs": [
    {
     "name": "stdout",
     "output_type": "stream",
     "text": [
      "Giá trị dự đoán được là: 62.112028462718776 kg\n"
     ]
    }
   ],
   "source": [
    "# Accelerated gradient descent\n",
    "theta = accelerated_gradient_descent(X_b, y, initial_theta, 0.001, 1000, 1e-2)\n",
    "predicted_weight = scaled_height.dot(theta)\n",
    "print(\"Giá trị dự đoán được là:\", predicted_weight[0], \"kg\")"
   ]
  },
  {
   "cell_type": "code",
   "execution_count": 491,
   "id": "bb786d34",
   "metadata": {},
   "outputs": [
    {
     "name": "stdout",
     "output_type": "stream",
     "text": [
      "Giá trị dự đoán được là: 60.0144335907154 kg\n"
     ]
    }
   ],
   "source": [
    "# Stochastic gradient descent\n",
    "theta = stochastic_gradient_descent(X_b, y, initial_theta, 0.001, 10000, 1e-2)\n",
    "predicted_weight = scaled_height.dot(theta)\n",
    "print(\"Giá trị dự đoán được là:\", predicted_weight[0], \"kg\")"
   ]
  },
  {
   "cell_type": "code",
   "execution_count": 492,
   "id": "e01fd058",
   "metadata": {},
   "outputs": [
    {
     "name": "stdout",
     "output_type": "stream",
     "text": [
      "Dự đoán giá trị: 62.33 kg\n"
     ]
    },
    {
     "data": {
      "image/png": "[encoded data removed]",
      "text/plain": [
       "<Figure size 1000x600 with 1 Axes>"
      ]
     },
     "metadata": {},
     "output_type": "display_data"
    }
   ],
   "source": [
    "# Using sklearn\n",
    "X_train, X_test, y_train, y_test = train_test_split(X_reshaped, y, test_size=0.2, random_state=42)\n",
    "model = LinearRegression()\n",
    "model.fit(X_train, y_train)\n",
    "coefficients = model.coef_\n",
    "intercept = model.intercept_\n",
    "height = np.array([170]).reshape(1, -1)\n",
    "predicted_weight_sklearn = model.predict(height)\n",
    "print(f\"Dự đoán giá trị: {predicted_weight_sklearn[0]:.2f} kg\")\n",
    "\n",
    "# Vẽ đồ thị\n",
    "import matplotlib.pyplot as plt\n",
    "import seaborn as sns\n",
    "sns.set(style=\"whitegrid\")\n",
    "plt.figure(figsize=(10, 6))\n",
    "plt.scatter(X, y, color='blue', label='Dữ liệu thực tế')\n",
    "plt.plot(X, X_b.dot(theta), color='red', label='Hàm hồi quy')\n",
    "plt.scatter(height[0], predicted_weight, color='green', label='Dự đoán')\n",
    "plt.title('Hồi quy tuyến tính')\n",
    "plt.xlabel('Chiều cao (cm)')\n",
    "plt.ylabel('Cân nặng (kg)')\n",
    "plt.legend()\n",
    "plt.show()"
   ]
  }
 ],
 "metadata": {
  "kernelspec": {
   "display_name": "Python 3",
   "language": "python",
   "name": "python3"
  },
  "language_info": {
   "codemirror_mode": {
    "name": "ipython",
    "version": 3
   },
   "file_extension": ".py",
   "mimetype": "text/x-python",
   "name": "python",
   "nbconvert_exporter": "python",
   "pygments_lexer": "ipython3",
   "version": "3.11.9"
  }
 },
 "nbformat": 4,
 "nbformat_minor": 5
}
