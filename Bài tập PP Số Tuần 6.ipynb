{
 "cells": [
  {
   "cell_type": "markdown",
   "id": "52efe096",
   "metadata": {},
   "source": [
    "# Bài 1:"
   ]
  },
  {
   "cell_type": "code",
   "execution_count": 342,
   "id": "e890a18b",
   "metadata": {},
   "outputs": [
    {
     "data": {
      "application/vnd.microsoft.datawrangler.viewer.v0+json": {
       "columns": [
        {
         "name": "index",
         "rawType": "int64",
         "type": "integer"
        },
        {
         "name": "STT",
         "rawType": "int64",
         "type": "integer"
        },
        {
         "name": "Dien tich (m2)",
         "rawType": "int64",
         "type": "integer"
        },
        {
         "name": "So phong ngu",
         "rawType": "int64",
         "type": "integer"
        },
        {
         "name": "Khoang cach toi TT",
         "rawType": "float64",
         "type": "float"
        },
        {
         "name": "Gia (ty VND)",
         "rawType": "float64",
         "type": "float"
        }
       ],
       "conversionMethod": "pd.DataFrame",
       "ref": "c4411aaa-4ffd-43a1-9f0a-85ba583887fa",
       "rows": [
        [
         "0",
         "1",
         "40",
         "1",
         "30.0",
         "1.1"
        ],
        [
         "1",
         "2",
         "60",
         "2",
         "32.0",
         "1.55"
        ],
        [
         "2",
         "3",
         "53",
         "2",
         "30.1",
         "1.68"
        ],
        [
         "3",
         "4",
         "71",
         "2",
         "35.7",
         "1.75"
        ],
        [
         "4",
         "5",
         "80",
         "2",
         "24.5",
         "5.5"
        ],
        [
         "5",
         "6",
         "56",
         "2",
         "27.6",
         "2.3"
        ],
        [
         "6",
         "7",
         "75",
         "2",
         "27.6",
         "3.0"
        ],
        [
         "7",
         "8",
         "79",
         "2",
         "27.6",
         "3.5"
        ],
        [
         "8",
         "9",
         "56",
         "2",
         "29.7",
         "2.4"
        ],
        [
         "9",
         "10",
         "60",
         "2",
         "29.7",
         "2.9"
        ],
        [
         "10",
         "11",
         "72",
         "3",
         "29.7",
         "3.0"
        ],
        [
         "11",
         "12",
         "95",
         "1",
         "29.7",
         "4.2"
        ],
        [
         "12",
         "13",
         "47",
         "2",
         "19.3",
         "1.5"
        ],
        [
         "13",
         "14",
         "91",
         "1",
         "18.1",
         "2.2"
        ],
        [
         "14",
         "15",
         "68",
         "2",
         "21.4",
         "1.5"
        ],
        [
         "15",
         "16",
         "69",
         "2",
         "17.5",
         "3.15"
        ],
        [
         "16",
         "17",
         "82",
         "2",
         "25.1",
         "3.4"
        ],
        [
         "17",
         "18",
         "60",
         "2",
         "26.5",
         "2.245"
        ],
        [
         "18",
         "19",
         "68",
         "2",
         "26.5",
         "2.4"
        ]
       ],
       "shape": {
        "columns": 5,
        "rows": 19
       }
      },
      "text/html": [
       "<div>\n",
       "<style scoped>\n",
       "    .dataframe tbody tr th:only-of-type {\n",
       "        vertical-align: middle;\n",
       "    }\n",
       "\n",
       "    .dataframe tbody tr th {\n",
       "        vertical-align: top;\n",
       "    }\n",
       "\n",
       "    .dataframe thead th {\n",
       "        text-align: right;\n",
       "    }\n",
       "</style>\n",
       "<table border=\"1\" class=\"dataframe\">\n",
       "  <thead>\n",
       "    <tr style=\"text-align: right;\">\n",
       "      <th></th>\n",
       "      <th>STT</th>\n",
       "      <th>Dien tich (m2)</th>\n",
       "      <th>So phong ngu</th>\n",
       "      <th>Khoang cach toi TT</th>\n",
       "      <th>Gia (ty VND)</th>\n",
       "    </tr>\n",
       "  </thead>\n",
       "  <tbody>\n",
       "    <tr>\n",
       "      <th>0</th>\n",
       "      <td>1</td>\n",
       "      <td>40</td>\n",
       "      <td>1</td>\n",
       "      <td>30.0</td>\n",
       "      <td>1.100</td>\n",
       "    </tr>\n",
       "    <tr>\n",
       "      <th>1</th>\n",
       "      <td>2</td>\n",
       "      <td>60</td>\n",
       "      <td>2</td>\n",
       "      <td>32.0</td>\n",
       "      <td>1.550</td>\n",
       "    </tr>\n",
       "    <tr>\n",
       "      <th>2</th>\n",
       "      <td>3</td>\n",
       "      <td>53</td>\n",
       "      <td>2</td>\n",
       "      <td>30.1</td>\n",
       "      <td>1.680</td>\n",
       "    </tr>\n",
       "    <tr>\n",
       "      <th>3</th>\n",
       "      <td>4</td>\n",
       "      <td>71</td>\n",
       "      <td>2</td>\n",
       "      <td>35.7</td>\n",
       "      <td>1.750</td>\n",
       "    </tr>\n",
       "    <tr>\n",
       "      <th>4</th>\n",
       "      <td>5</td>\n",
       "      <td>80</td>\n",
       "      <td>2</td>\n",
       "      <td>24.5</td>\n",
       "      <td>5.500</td>\n",
       "    </tr>\n",
       "    <tr>\n",
       "      <th>5</th>\n",
       "      <td>6</td>\n",
       "      <td>56</td>\n",
       "      <td>2</td>\n",
       "      <td>27.6</td>\n",
       "      <td>2.300</td>\n",
       "    </tr>\n",
       "    <tr>\n",
       "      <th>6</th>\n",
       "      <td>7</td>\n",
       "      <td>75</td>\n",
       "      <td>2</td>\n",
       "      <td>27.6</td>\n",
       "      <td>3.000</td>\n",
       "    </tr>\n",
       "    <tr>\n",
       "      <th>7</th>\n",
       "      <td>8</td>\n",
       "      <td>79</td>\n",
       "      <td>2</td>\n",
       "      <td>27.6</td>\n",
       "      <td>3.500</td>\n",
       "    </tr>\n",
       "    <tr>\n",
       "      <th>8</th>\n",
       "      <td>9</td>\n",
       "      <td>56</td>\n",
       "      <td>2</td>\n",
       "      <td>29.7</td>\n",
       "      <td>2.400</td>\n",
       "    </tr>\n",
       "    <tr>\n",
       "      <th>9</th>\n",
       "      <td>10</td>\n",
       "      <td>60</td>\n",
       "      <td>2</td>\n",
       "      <td>29.7</td>\n",
       "      <td>2.900</td>\n",
       "    </tr>\n",
       "    <tr>\n",
       "      <th>10</th>\n",
       "      <td>11</td>\n",
       "      <td>72</td>\n",
       "      <td>3</td>\n",
       "      <td>29.7</td>\n",
       "      <td>3.000</td>\n",
       "    </tr>\n",
       "    <tr>\n",
       "      <th>11</th>\n",
       "      <td>12</td>\n",
       "      <td>95</td>\n",
       "      <td>1</td>\n",
       "      <td>29.7</td>\n",
       "      <td>4.200</td>\n",
       "    </tr>\n",
       "    <tr>\n",
       "      <th>12</th>\n",
       "      <td>13</td>\n",
       "      <td>47</td>\n",
       "      <td>2</td>\n",
       "      <td>19.3</td>\n",
       "      <td>1.500</td>\n",
       "    </tr>\n",
       "    <tr>\n",
       "      <th>13</th>\n",
       "      <td>14</td>\n",
       "      <td>91</td>\n",
       "      <td>1</td>\n",
       "      <td>18.1</td>\n",
       "      <td>2.200</td>\n",
       "    </tr>\n",
       "    <tr>\n",
       "      <th>14</th>\n",
       "      <td>15</td>\n",
       "      <td>68</td>\n",
       "      <td>2</td>\n",
       "      <td>21.4</td>\n",
       "      <td>1.500</td>\n",
       "    </tr>\n",
       "    <tr>\n",
       "      <th>15</th>\n",
       "      <td>16</td>\n",
       "      <td>69</td>\n",
       "      <td>2</td>\n",
       "      <td>17.5</td>\n",
       "      <td>3.150</td>\n",
       "    </tr>\n",
       "    <tr>\n",
       "      <th>16</th>\n",
       "      <td>17</td>\n",
       "      <td>82</td>\n",
       "      <td>2</td>\n",
       "      <td>25.1</td>\n",
       "      <td>3.400</td>\n",
       "    </tr>\n",
       "    <tr>\n",
       "      <th>17</th>\n",
       "      <td>18</td>\n",
       "      <td>60</td>\n",
       "      <td>2</td>\n",
       "      <td>26.5</td>\n",
       "      <td>2.245</td>\n",
       "    </tr>\n",
       "    <tr>\n",
       "      <th>18</th>\n",
       "      <td>19</td>\n",
       "      <td>68</td>\n",
       "      <td>2</td>\n",
       "      <td>26.5</td>\n",
       "      <td>2.400</td>\n",
       "    </tr>\n",
       "  </tbody>\n",
       "</table>\n",
       "</div>"
      ],
      "text/plain": [
       "    STT  Dien tich (m2)  So phong ngu  Khoang cach toi TT  Gia (ty VND)\n",
       "0     1              40             1                30.0         1.100\n",
       "1     2              60             2                32.0         1.550\n",
       "2     3              53             2                30.1         1.680\n",
       "3     4              71             2                35.7         1.750\n",
       "4     5              80             2                24.5         5.500\n",
       "5     6              56             2                27.6         2.300\n",
       "6     7              75             2                27.6         3.000\n",
       "7     8              79             2                27.6         3.500\n",
       "8     9              56             2                29.7         2.400\n",
       "9    10              60             2                29.7         2.900\n",
       "10   11              72             3                29.7         3.000\n",
       "11   12              95             1                29.7         4.200\n",
       "12   13              47             2                19.3         1.500\n",
       "13   14              91             1                18.1         2.200\n",
       "14   15              68             2                21.4         1.500\n",
       "15   16              69             2                17.5         3.150\n",
       "16   17              82             2                25.1         3.400\n",
       "17   18              60             2                26.5         2.245\n",
       "18   19              68             2                26.5         2.400"
      ]
     },
     "execution_count": 342,
     "metadata": {},
     "output_type": "execute_result"
    }
   ],
   "source": [
    "import pandas as pd\n",
    "import numpy as np\n",
    "from sklearn.preprocessing import StandardScaler\n",
    "from sklearn.linear_model import LinearRegression\n",
    "from sklearn.model_selection import train_test_split\n",
    "import warnings\n",
    "warnings.filterwarnings('ignore')\n",
    "\n",
    "df = pd.read_csv('bang gia nha.csv')\n",
    "df"
   ]
  },
  {
   "cell_type": "code",
   "execution_count": null,
   "id": "ee1ef03e",
   "metadata": {},
   "outputs": [],
   "source": [
    "W = df.drop(columns=['Gia (ty VND)', 'STT'], axis=1)\n",
    "d = df['Gia (ty VND)'].values\n",
    "W['bias'] = np.ones((W.shape[0], 1))\n",
    "\n",
    "def loss_function(x, W, d):\n",
    "    return 1/2 * np.sum(d - W.dot(x))**2\n",
    "\n",
    "def nabla_L(x, W, d):\n",
    "    return -W.T.dot(d - W.dot(x))\n",
    "\n",
    "def checking_inverse(matrix):\n",
    "    if np.linalg.det(matrix) == 0:\n",
    "        return False\n",
    "    else:\n",
    "        return True\n",
    "    \n",
    "def L2_error(x, y):\n",
    "    return np.sqrt(np.sum((x - y)**2))"
   ]
  },
  {
   "cell_type": "markdown",
   "id": "f14a3b48",
   "metadata": {},
   "source": [
    "# SVD"
   ]
  },
  {
   "cell_type": "code",
   "execution_count": 344,
   "id": "88496051",
   "metadata": {},
   "outputs": [
    {
     "name": "stdout",
     "output_type": "stream",
     "text": [
      "Giá trị dự đoán được là: 3.242683206106521\n"
     ]
    }
   ],
   "source": [
    "# SVD decomposition\n",
    "def svd_decomposition(W, d):\n",
    "    if checking_inverse(W.T @ W):\n",
    "        x = np.linalg.inv(W.T @ W) @ W.T @ d\n",
    "    else:\n",
    "        U, s, Vt = np.linalg.svd(W.T @ W, full_matrices=True)\n",
    "        s_inv = np.zeros_like(W.T @ W)\n",
    "        s_inv[:len(s), :len(s)] = np.diag(1/s)\n",
    "        x = (Vt.T @ s_inv @ U.T) @ W.T @ d\n",
    "    return x\n",
    "\n",
    "house_features = np.array([(79, 2, 26.5, 1)])\n",
    "x = svd_decomposition(W, d)\n",
    "predicted_price_svd = house_features.dot(x)\n",
    "print(\"Giá trị dự đoán được là:\", predicted_price_svd[0])"
   ]
  },
  {
   "cell_type": "markdown",
   "id": "2dda64f8",
   "metadata": {},
   "source": [
    "# Gradient descent"
   ]
  },
  {
   "cell_type": "code",
   "execution_count": null,
   "id": "f763ed82",
   "metadata": {},
   "outputs": [
    {
     "name": "stdout",
     "output_type": "stream",
     "text": [
      "Giá trị dự đoán (Gradient Descent): 3.242683123706925\n",
      "Giá trị dự đoán với SVD: 3.242683206106521\n",
      "Giá trị dự đoán với Gradient Descent: 3.242683123706925\n",
      "Chênh lệch giữa 2 phương pháp: 8.239959603528746e-08\n"
     ]
    }
   ],
   "source": [
    "scaler = StandardScaler()\n",
    "W_scaled = scaler.fit_transform(W)\n",
    "W_scaled = np.c_[np.ones((W_scaled.shape[0], 1)), W_scaled]\n",
    "initial_point = np.zeros(W_scaled.shape[1])\n",
    "house_features = np.array([(79, 2, 26.5, 1)])\n",
    "scaled_house_features = scaler.transform(house_features)\n",
    "scaled_house_features = np.c_[np.ones((scaled_house_features.shape[0], 1)), scaled_house_features]\n",
    "\n",
    "# Gradient descent function\n",
    "def gradient_descent(W, d, initial_point, eta, max_iterations, epsilon):\n",
    "    current_point = initial_point.copy()\n",
    "    i = 0\n",
    "    while i <= max_iterations:\n",
    "        grad = nabla_L(current_point, W, d)\n",
    "        next_point = current_point - eta * grad\n",
    "        if np.linalg.norm(grad) < epsilon:\n",
    "            return next_point\n",
    "        current_point = next_point\n",
    "        i += 1\n",
    "    return current_point\n",
    "\n",
    "x = gradient_descent(W_scaled, d, initial_point, 0.001, 1000, 1e-6)\n",
    "predicted_price_gd = scaled_house_features.dot(x)\n",
    "print(\"Giá trị dự đoán (Gradient Descent):\", predicted_price_gd[0])\n",
    "\n",
    "# So sánh với kết quả của SVD\n",
    "print(\"Giá trị dự đoán với SVD:\", predicted_price_svd[0])\n",
    "print(\"Giá trị dự đoán với Gradient Descent:\", predicted_price_gd[0])\n",
    "print(\"Chênh lệch giữa 2 phương pháp:\", L2_error(predicted_price_svd, predicted_price_gd))"
   ]
  },
  {
   "cell_type": "markdown",
   "id": "09f0e72a",
   "metadata": {},
   "source": [
    "# Accelerated gradient descent"
   ]
  },
  {
   "cell_type": "code",
   "execution_count": null,
   "id": "62ca1a10",
   "metadata": {},
   "outputs": [
    {
     "name": "stdout",
     "output_type": "stream",
     "text": [
      "Giá trị dự đoán (Accelerated Gradient Descent): 3.2426832586356564\n",
      "Giá trị dự đoán với SVD: 3.242683206106521\n",
      "Giá trị dự đoán với Accelerated Gradient Descent: 3.2426832586356564\n",
      "Chênh lệch giữa 2 phương pháp: 5.252913526376801e-08\n"
     ]
    }
   ],
   "source": [
    "# Accelerated gradient descent function\n",
    "def accelerated_gradient_descent(W, d, initial_point, eta, max_iterations, epsilon):\n",
    "    current_point = initial_point.copy()\n",
    "    previous_point = initial_point.copy()\n",
    "    i = 0\n",
    "    while i <= max_iterations:\n",
    "        temp = current_point + (i - 1) / (i + 2) * (current_point - previous_point) \n",
    "        gradient = nabla_L(temp, W, d)\n",
    "        next_point = temp - eta * gradient\n",
    "        if np.linalg.norm(gradient) < epsilon:\n",
    "            return next_point\n",
    "        previous_point = current_point\n",
    "        current_point = next_point\n",
    "        i += 1\n",
    "    return 0\n",
    "\n",
    "x = accelerated_gradient_descent(W_scaled, d, initial_point, 0.001, 1000, 1e-6)\n",
    "predicted_price_agd = scaled_house_features.dot(x)\n",
    "print(\"Giá trị dự đoán (Accelerated Gradient Descent):\", predicted_price_agd[0])\n",
    "\n",
    "# So sánh với kết quả của SVD\n",
    "print(\"Giá trị dự đoán với SVD:\", predicted_price_svd[0])\n",
    "print(\"Giá trị dự đoán với Accelerated Gradient Descent:\", predicted_price_agd[0])\n",
    "print(\"Chênh lệch giữa 2 phương pháp:\", L2_error(predicted_price_svd, predicted_price_agd))"
   ]
  },
  {
   "cell_type": "markdown",
   "id": "6162fd0f",
   "metadata": {},
   "source": [
    "# Stochastic gradient descent"
   ]
  },
  {
   "cell_type": "code",
   "execution_count": null,
   "id": "3fe1a526",
   "metadata": {},
   "outputs": [
    {
     "name": "stdout",
     "output_type": "stream",
     "text": [
      "Giá trị dự đoán (Stochastic Gradient Descent): 3.136471414519095\n",
      "Giá trị dự đoán với SVD: 3.242683206106521\n",
      "Giá trị dự đoán với Stochastic Gradient Descent: 3.136471414519095\n",
      "Chênh lệch giữa 2 phương pháp: 0.10621179158742633\n"
     ]
    }
   ],
   "source": [
    "def nabla_L_of_1_set(x, y, a, b):\n",
    "    grad_a = -2 * (y - (a + b * x))\n",
    "    grad_b = -2 * x * (y - (a + b * x))\n",
    "    return grad_a, grad_b\n",
    "\n",
    "# Stochastic gradient descent function\n",
    "def stochastic_gradient_descent(W, d, initial_point, eta, max_iterations, epsilon):\n",
    "    current_point = initial_point.copy()\n",
    "    number_of_data = len(d)\n",
    "    i = 0\n",
    "    while i <= max_iterations:\n",
    "        idx = np.random.randint(0, number_of_data - 1)\n",
    "        next_point = current_point - eta * nabla_L(current_point, W, d)\n",
    "        grad_a, grad_b = nabla_L_of_1_set(W[idx, 1], d[idx], initial_point[0], initial_point[1])\n",
    "        current_point[0] = initial_point[0] - eta * grad_a\n",
    "        current_point[1] = initial_point[1] - eta * grad_b\n",
    "        if np.linalg.norm([grad_a, grad_b]) < epsilon:\n",
    "            return current_point\n",
    "        initial_point = current_point\n",
    "        i += 1\n",
    "\n",
    "    return current_point\n",
    "\n",
    "x = stochastic_gradient_descent(W_scaled, d, initial_point, 0.001, 10000, 1e-6)\n",
    "predicted_price_sgd = scaled_house_features.dot(x)\n",
    "print(\"Giá trị dự đoán (Stochastic Gradient Descent):\", predicted_price_sgd[0])\n",
    "\n",
    "# So sánh với kết quả của SVD\n",
    "print(\"Giá trị dự đoán với SVD:\", predicted_price_svd[0])\n",
    "print(\"Giá trị dự đoán với Stochastic Gradient Descent:\", predicted_price_sgd[0])\n",
    "print(\"Chênh lệch giữa 2 phương pháp:\", L2_error(predicted_price_svd, predicted_price_sgd))"
   ]
  },
  {
   "cell_type": "code",
   "execution_count": 348,
   "id": "f51a3277",
   "metadata": {},
   "outputs": [
    {
     "name": "stdout",
     "output_type": "stream",
     "text": [
      "Dự đoán giá trị: 3.20\n",
      "Giá trị dự đoán với SVD: 3.242683206106521\n",
      "Giá trị dự đoán với scikit-learn: 3.2023951923163443\n",
      "Chênh lệch giữa 2 phương pháp: 0.04028801379017688\n"
     ]
    }
   ],
   "source": [
    "# Split the data into training and testing sets\n",
    "X_train, X_test, y_train, y_test = train_test_split(W, d, test_size=0.2, random_state=42)\n",
    "\n",
    "# Fit the model\n",
    "model = LinearRegression()\n",
    "model.fit(X_train, y_train)\n",
    "# Get the coefficients\n",
    "coefficients = model.coef_\n",
    "intercept = model.intercept_\n",
    "# Dự đoán giá trị cho 1 ngôi nhà có diện tích 79m2, 2 phòng ngủ và cách TT 26.5km\n",
    "house_features = np.array([(79, 2, 26.5, 1)])\n",
    "predicted_price_sklearn = model.predict(house_features)\n",
    "print(f\"Dự đoán giá trị: {predicted_price_sklearn[0]:.2f}\")\n",
    "\n",
    "# So sánh với kết quả của SVD\n",
    "print(\"Giá trị dự đoán với SVD:\", predicted_price_svd[0])\n",
    "print(\"Giá trị dự đoán với scikit-learn:\", predicted_price_sklearn[0])\n",
    "print(\"Chênh lệch giữa 2 phương pháp:\", sai_so_chuan_hai(predicted_price_svd, predicted_price_sklearn))"
   ]
  },
  {
   "cell_type": "markdown",
   "id": "2214ceee",
   "metadata": {},
   "source": [
    "# Bài 2:"
   ]
  },
  {
   "cell_type": "code",
   "execution_count": 349,
   "id": "992a88bb",
   "metadata": {},
   "outputs": [
    {
     "data": {
      "application/vnd.microsoft.datawrangler.viewer.v0+json": {
       "columns": [
        {
         "name": "index",
         "rawType": "int64",
         "type": "integer"
        },
        {
         "name": "STT",
         "rawType": "int64",
         "type": "integer"
        },
        {
         "name": "Chieu cao (cm)",
         "rawType": "int64",
         "type": "integer"
        },
        {
         "name": "Can nang (kg)",
         "rawType": "int64",
         "type": "integer"
        }
       ],
       "conversionMethod": "pd.DataFrame",
       "ref": "f3823213-ed81-40e4-86fd-c4380afbc328",
       "rows": [
        [
         "0",
         "1",
         "147",
         "49"
        ],
        [
         "1",
         "2",
         "150",
         "50"
        ],
        [
         "2",
         "3",
         "153",
         "51"
        ],
        [
         "3",
         "4",
         "155",
         "52"
        ],
        [
         "4",
         "5",
         "158",
         "54"
        ],
        [
         "5",
         "6",
         "160",
         "56"
        ],
        [
         "6",
         "7",
         "163",
         "58"
        ],
        [
         "7",
         "8",
         "168",
         "60"
        ],
        [
         "8",
         "9",
         "170",
         "72"
        ],
        [
         "9",
         "10",
         "173",
         "63"
        ],
        [
         "10",
         "11",
         "175",
         "64"
        ],
        [
         "11",
         "12",
         "178",
         "66"
        ],
        [
         "12",
         "13",
         "180",
         "67"
        ],
        [
         "13",
         "14",
         "183",
         "68"
        ]
       ],
       "shape": {
        "columns": 3,
        "rows": 14
       }
      },
      "text/html": [
       "<div>\n",
       "<style scoped>\n",
       "    .dataframe tbody tr th:only-of-type {\n",
       "        vertical-align: middle;\n",
       "    }\n",
       "\n",
       "    .dataframe tbody tr th {\n",
       "        vertical-align: top;\n",
       "    }\n",
       "\n",
       "    .dataframe thead th {\n",
       "        text-align: right;\n",
       "    }\n",
       "</style>\n",
       "<table border=\"1\" class=\"dataframe\">\n",
       "  <thead>\n",
       "    <tr style=\"text-align: right;\">\n",
       "      <th></th>\n",
       "      <th>STT</th>\n",
       "      <th>Chieu cao (cm)</th>\n",
       "      <th>Can nang (kg)</th>\n",
       "    </tr>\n",
       "  </thead>\n",
       "  <tbody>\n",
       "    <tr>\n",
       "      <th>0</th>\n",
       "      <td>1</td>\n",
       "      <td>147</td>\n",
       "      <td>49</td>\n",
       "    </tr>\n",
       "    <tr>\n",
       "      <th>1</th>\n",
       "      <td>2</td>\n",
       "      <td>150</td>\n",
       "      <td>50</td>\n",
       "    </tr>\n",
       "    <tr>\n",
       "      <th>2</th>\n",
       "      <td>3</td>\n",
       "      <td>153</td>\n",
       "      <td>51</td>\n",
       "    </tr>\n",
       "    <tr>\n",
       "      <th>3</th>\n",
       "      <td>4</td>\n",
       "      <td>155</td>\n",
       "      <td>52</td>\n",
       "    </tr>\n",
       "    <tr>\n",
       "      <th>4</th>\n",
       "      <td>5</td>\n",
       "      <td>158</td>\n",
       "      <td>54</td>\n",
       "    </tr>\n",
       "    <tr>\n",
       "      <th>5</th>\n",
       "      <td>6</td>\n",
       "      <td>160</td>\n",
       "      <td>56</td>\n",
       "    </tr>\n",
       "    <tr>\n",
       "      <th>6</th>\n",
       "      <td>7</td>\n",
       "      <td>163</td>\n",
       "      <td>58</td>\n",
       "    </tr>\n",
       "    <tr>\n",
       "      <th>7</th>\n",
       "      <td>8</td>\n",
       "      <td>168</td>\n",
       "      <td>60</td>\n",
       "    </tr>\n",
       "    <tr>\n",
       "      <th>8</th>\n",
       "      <td>9</td>\n",
       "      <td>170</td>\n",
       "      <td>72</td>\n",
       "    </tr>\n",
       "    <tr>\n",
       "      <th>9</th>\n",
       "      <td>10</td>\n",
       "      <td>173</td>\n",
       "      <td>63</td>\n",
       "    </tr>\n",
       "    <tr>\n",
       "      <th>10</th>\n",
       "      <td>11</td>\n",
       "      <td>175</td>\n",
       "      <td>64</td>\n",
       "    </tr>\n",
       "    <tr>\n",
       "      <th>11</th>\n",
       "      <td>12</td>\n",
       "      <td>178</td>\n",
       "      <td>66</td>\n",
       "    </tr>\n",
       "    <tr>\n",
       "      <th>12</th>\n",
       "      <td>13</td>\n",
       "      <td>180</td>\n",
       "      <td>67</td>\n",
       "    </tr>\n",
       "    <tr>\n",
       "      <th>13</th>\n",
       "      <td>14</td>\n",
       "      <td>183</td>\n",
       "      <td>68</td>\n",
       "    </tr>\n",
       "  </tbody>\n",
       "</table>\n",
       "</div>"
      ],
      "text/plain": [
       "    STT  Chieu cao (cm)  Can nang (kg)\n",
       "0     1             147             49\n",
       "1     2             150             50\n",
       "2     3             153             51\n",
       "3     4             155             52\n",
       "4     5             158             54\n",
       "5     6             160             56\n",
       "6     7             163             58\n",
       "7     8             168             60\n",
       "8     9             170             72\n",
       "9    10             173             63\n",
       "10   11             175             64\n",
       "11   12             178             66\n",
       "12   13             180             67\n",
       "13   14             183             68"
      ]
     },
     "execution_count": 349,
     "metadata": {},
     "output_type": "execute_result"
    }
   ],
   "source": [
    "# Đọc dữ liệu\n",
    "df = pd.read_csv('bang can nang chieu cao.csv')\n",
    "df"
   ]
  },
  {
   "cell_type": "markdown",
   "id": "143bf7ce",
   "metadata": {},
   "source": [
    "# SVD"
   ]
  },
  {
   "cell_type": "code",
   "execution_count": 350,
   "id": "d61c622b",
   "metadata": {},
   "outputs": [
    {
     "name": "stdout",
     "output_type": "stream",
     "text": [
      "Giá trị dự đoán được là: 62.112479507376364\n"
     ]
    }
   ],
   "source": [
    "# SVD decomposition for height and weight\n",
    "W = df['Chieu cao (cm)']\n",
    "W_reshaped = W.values.reshape(-1, 1)\n",
    "d = df['Can nang (kg)']\n",
    "W = np.c_[np.ones((W.shape[0], 1)), W]\n",
    "x = svd_decomposition(W, d)\n",
    "height = np.array([1, 170])\n",
    "predicted_weight_svd = height.dot(x)\n",
    "print(\"Giá trị dự đoán được là:\", predicted_weight_svd)"
   ]
  },
  {
   "cell_type": "markdown",
   "id": "02e04572",
   "metadata": {},
   "source": [
    "# Gradient descent"
   ]
  },
  {
   "cell_type": "code",
   "execution_count": 351,
   "id": "6f0a2472",
   "metadata": {},
   "outputs": [
    {
     "name": "stdout",
     "output_type": "stream",
     "text": [
      "Giá trị dự đoán được là: 62.111748207679234\n",
      "Giá trị dự đoán với SVD: 62.112479507376364\n"
     ]
    },
    {
     "ename": "TypeError",
     "evalue": "object of type 'numpy.float64' has no len()",
     "output_type": "error",
     "traceback": [
      "\u001b[31m---------------------------------------------------------------------------\u001b[39m",
      "\u001b[31mTypeError\u001b[39m                                 Traceback (most recent call last)",
      "\u001b[36mCell\u001b[39m\u001b[36m \u001b[39m\u001b[32mIn[351]\u001b[39m\u001b[32m, line 16\u001b[39m\n\u001b[32m     14\u001b[39m \u001b[38;5;66;03m# So sánh với kết quả của SVD\u001b[39;00m\n\u001b[32m     15\u001b[39m \u001b[38;5;28mprint\u001b[39m(\u001b[33m\"\u001b[39m\u001b[33mGiá trị dự đoán với SVD:\u001b[39m\u001b[33m\"\u001b[39m, predicted_weight_svd)\n\u001b[32m---> \u001b[39m\u001b[32m16\u001b[39m \u001b[38;5;28mprint\u001b[39m(\u001b[33m\"\u001b[39m\u001b[33mChênh lệch giữa 2 phương pháp:\u001b[39m\u001b[33m\"\u001b[39m, \u001b[43msai_so_chuan_hai\u001b[49m\u001b[43m(\u001b[49m\u001b[43mpredicted_weight_svd\u001b[49m\u001b[43m,\u001b[49m\u001b[43m \u001b[49m\u001b[43mpredicted_weight_gd\u001b[49m\u001b[43m)\u001b[49m)\n",
      "\u001b[36mCell\u001b[39m\u001b[36m \u001b[39m\u001b[32mIn[343]\u001b[39m\u001b[32m, line 18\u001b[39m, in \u001b[36msai_so_chuan_hai\u001b[39m\u001b[34m(x, y)\u001b[39m\n\u001b[32m     17\u001b[39m \u001b[38;5;28;01mdef\u001b[39;00m\u001b[38;5;250m \u001b[39m\u001b[34msai_so_chuan_hai\u001b[39m(x, y):\n\u001b[32m---> \u001b[39m\u001b[32m18\u001b[39m     \u001b[38;5;28;01mreturn\u001b[39;00m np.sqrt(np.sum((x - y)**\u001b[32m2\u001b[39m) / \u001b[38;5;28;43mlen\u001b[39;49m\u001b[43m(\u001b[49m\u001b[43mx\u001b[49m\u001b[43m)\u001b[49m)\n",
      "\u001b[31mTypeError\u001b[39m: object of type 'numpy.float64' has no len()"
     ]
    }
   ],
   "source": [
    "# Chuẩn hóa dữ liệu\n",
    "W_scaled = scaler.fit_transform(W_reshaped)\n",
    "W_scaled = np.c_[np.ones((W_scaled.shape[0], 1)), W_scaled]\n",
    "initial_point = np.zeros(W_scaled.shape[1])\n",
    "\n",
    "# Dự đoán cho chiều cao 170\n",
    "height = np.array([[170]])\n",
    "scaled_height = scaler.transform(height)\n",
    "scaled_height = np.c_[np.ones((scaled_height.shape[0], 1)), scaled_height]\n",
    "x = gradient_descent(W_scaled, d, initial_point, 0.001, 1000, 1e-2)\n",
    "predicted_weight_gd = scaled_height.dot(x)\n",
    "print(\"Giá trị dự đoán được là:\", predicted_weight_gd[0])\n",
    "\n",
    "# So sánh với kết quả của SVD\n",
    "print(\"Giá trị dự đoán với SVD:\", predicted_weight_svd)\n",
    "print(\"Chênh lệch giữa 2 phương pháp:\", sai_so_chuan_hai(predicted_weight_svd, predicted_weight_gd))"
   ]
  },
  {
   "cell_type": "markdown",
   "id": "e6e6e31d",
   "metadata": {},
   "source": [
    "# Accelerated gradient descent"
   ]
  },
  {
   "cell_type": "code",
   "execution_count": null,
   "id": "feca0512",
   "metadata": {},
   "outputs": [
    {
     "name": "stdout",
     "output_type": "stream",
     "text": [
      "Giá trị dự đoán được là: [0. 0.]\n",
      "Giá trị dự đoán với SVD: 62.112479507376364\n",
      "Giá trị dự đoán với Accelerated Gradient Descent: [0. 0.]\n"
     ]
    }
   ],
   "source": [
    "# Accelerated gradient descent\n",
    "x = accelerated_gradient_descent(W_scaled, d, initial_point, 0.001, 1000, 1e-6)\n",
    "predicted_weight_agd = scaled_height.dot(x)\n",
    "print(\"Giá trị dự đoán được là:\", predicted_weight_agd[0])\n",
    "\n",
    "# So sánh với kết quả của SVD\n",
    "print(\"Giá trị dự đoán với SVD:\", predicted_weight_svd)\n",
    "print(\"Giá trị dự đoán với Accelerated Gradient Descent:\", predicted_weight_agd[0])"
   ]
  },
  {
   "cell_type": "markdown",
   "id": "44f93699",
   "metadata": {},
   "source": [
    "# Stochastic gradient descent"
   ]
  },
  {
   "cell_type": "code",
   "execution_count": null,
   "id": "bb786d34",
   "metadata": {},
   "outputs": [
    {
     "name": "stdout",
     "output_type": "stream",
     "text": [
      "Giá trị dự đoán được là: 62.26830340868121\n",
      "Giá trị dự đoán với SVD: 62.112479507376364\n",
      "Chênh lệch giữa 2 phương pháp: 0.15582390130484924\n"
     ]
    }
   ],
   "source": [
    "# Stochastic gradient descent\n",
    "x = stochastic_gradient_descent(W_scaled, d, initial_point, 0.001, 10000, 1e-6)\n",
    "predicted_weight_sgd = scaled_height.dot(x)\n",
    "print(\"Giá trị dự đoán được là:\", predicted_weight_sgd[0])\n",
    "\n",
    "# So sánh với kết quả của SVD\n",
    "print(\"Giá trị dự đoán với SVD:\", predicted_weight_svd)\n",
    "print(\"Chênh lệch giữa 2 phương pháp:\", sai_so_chuan_hai(predicted_weight_svd, predicted_weight_sgd[0]))"
   ]
  },
  {
   "cell_type": "markdown",
   "id": "abd7eb75",
   "metadata": {},
   "source": [
    "# Sklearn"
   ]
  },
  {
   "cell_type": "code",
   "execution_count": null,
   "id": "e01fd058",
   "metadata": {},
   "outputs": [
    {
     "name": "stdout",
     "output_type": "stream",
     "text": [
      "Dự đoán giá trị: 62.33370288248337\n",
      "Giá trị dự đoán với SVD: 62.112479507376364\n",
      "Chênh lệch giữa 2 phương pháp: 0.22122337510700874\n"
     ]
    }
   ],
   "source": [
    "# Using sklearn\n",
    "X_train, X_test, y_train, y_test = train_test_split(W_scaled, d, test_size=0.2, random_state=42)\n",
    "model = LinearRegression()\n",
    "model.fit(X_train, y_train)\n",
    "coefficients = model.coef_\n",
    "intercept = model.intercept_\n",
    "scaled_height = scaler.transform(np.array([[170]]))  # Scale the height\n",
    "scaled_height = np.c_[np.ones((scaled_height.shape[0], 1)), scaled_height]  # Add bias term\n",
    "predicted_weight_sklearn = model.predict(scaled_height)\n",
    "print(f\"Dự đoán giá trị: {predicted_weight_sklearn[0]}\")\n",
    "\n",
    "# So sánh với kết quả của SVD\n",
    "print(\"Giá trị dự đoán với SVD:\", predicted_weight_svd)\n",
    "print(\"Chênh lệch giữa 2 phương pháp:\", sai_so_chuan_hai(predicted_weight_svd, predicted_weight_sklearn[0]))"
   ]
  }
 ],
 "metadata": {
  "kernelspec": {
   "display_name": "Python 3",
   "language": "python",
   "name": "python3"
  },
  "language_info": {
   "codemirror_mode": {
    "name": "ipython",
    "version": 3
   },
   "file_extension": ".py",
   "mimetype": "text/x-python",
   "name": "python",
   "nbconvert_exporter": "python",
   "pygments_lexer": "ipython3",
   "version": "3.11.9"
  }
 },
 "nbformat": 4,
 "nbformat_minor": 5
}
