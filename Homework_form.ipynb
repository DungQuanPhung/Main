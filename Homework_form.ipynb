{
  "cells": [
    {
      "cell_type": "markdown",
      "metadata": {
        "id": "ae78e63c"
      },
      "source": [
        "#Exercise\n",
        "This is a dataset related to how much money a person can get from a mortgage on his or her home. This dataset includes the following features:\n",
        "* Gender: Gender of the borrower (including two values 'F' and 'M')\n",
        "* Age: Age of the customer applying for a loan (including positive integer values)\n",
        "* Income (USD): Customer's income in USD (value is a positive number)\n",
        "* Income Stability: The level of customer's income stability (including three values of Low and High)\n",
        "* Property Age: Life expectancy of the house in days (including positive integer values)\n",
        "* Property Location: Location of the house (including 'Rural', 'Urban', and 'Semi-Urban')\n",
        "* Property Price: The value of the house in USD (including positive real values)\n",
        "* Loan Sanction Amount (USD): Amount that customers can borrow in USD (target value)\n",
        "\n",
        "Based on practice sample #1, proceed:\n",
        "1. Read data\n",
        "2. Visualize some information of data\n",
        "3. Normalize Data to train linear regression model\n",
        "4. Train linear regression model and show the model's intercepts, coeficients\n",
        "5. Learn on sklearn how to use Ridge, Lasso, and ElasticNet compare the error of all 3 algorithms with Linear Regression (https://scikit-learn.org/stable/index.html)\n",
        "6. Let's try Polynomial of order 2 to compare the previous results. What will the result be if we choose the n order too high?\n",
        "\n",
        "\n",
        "**Submission Link**: https://forms.gle/uKAq34QrbwTcbs5Z9 (Submit your .ipynb file)"
      ]
    },
    {
      "cell_type": "code",
      "execution_count": 70,
      "metadata": {
        "id": "mYV5QYEaZD5N"
      },
      "outputs": [],
      "source": [
        "# mount data from google drive to colab\n",
        "#from google.colab import drive\n",
        "#drive.mount('/content/drive')\n",
        "\n",
        "#import library\n",
        "import pandas as pd # pandas\n",
        "import numpy as np # numpy\n",
        "import time # time"
      ]
    },
    {
      "cell_type": "markdown",
      "metadata": {
        "id": "DWey3cHTb43g"
      },
      "source": [
        "# Prepare and Analyze Data\n",
        "\n",
        "1. Load Dataset\n",
        "2. Analyze Dataset\n",
        "3. Preprocess data (type, null, missing, ...)\n",
        "4. Feature Engineering"
      ]
    },
    {
      "cell_type": "markdown",
      "metadata": {
        "id": "5QJmB36JjdyC"
      },
      "source": [
        "## Load Dataset"
      ]
    },
    {
      "cell_type": "code",
      "execution_count": 71,
      "metadata": {
        "id": "b6967e88"
      },
      "outputs": [],
      "source": [
        "# read data using Pandas DataFrame\n",
        "def read_dataset(path):\n",
        "    # Todo: read_csv from a path and return a DataFrame\n",
        "    df = pd.read_csv(path)\n",
        "    display(df.head())\n",
        "    display(df.describe())\n",
        "    return df"
      ]
    },
    {
      "cell_type": "code",
      "execution_count": 72,
      "metadata": {
        "id": "bRSvpuUCfpDr"
      },
      "outputs": [
        {
          "data": {
            "text/html": [
              "<div>\n",
              "<style scoped>\n",
              "    .dataframe tbody tr th:only-of-type {\n",
              "        vertical-align: middle;\n",
              "    }\n",
              "\n",
              "    .dataframe tbody tr th {\n",
              "        vertical-align: top;\n",
              "    }\n",
              "\n",
              "    .dataframe thead th {\n",
              "        text-align: right;\n",
              "    }\n",
              "</style>\n",
              "<table border=\"1\" class=\"dataframe\">\n",
              "  <thead>\n",
              "    <tr style=\"text-align: right;\">\n",
              "      <th></th>\n",
              "      <th>Gender</th>\n",
              "      <th>Age</th>\n",
              "      <th>Income (USD)</th>\n",
              "      <th>Income Stability</th>\n",
              "      <th>Property Age</th>\n",
              "      <th>Property Location</th>\n",
              "      <th>Property Price</th>\n",
              "      <th>Loan Sanction Amount (USD)</th>\n",
              "    </tr>\n",
              "  </thead>\n",
              "  <tbody>\n",
              "    <tr>\n",
              "      <th>0</th>\n",
              "      <td>F</td>\n",
              "      <td>19</td>\n",
              "      <td>1641.25</td>\n",
              "      <td>Low</td>\n",
              "      <td>1651.25</td>\n",
              "      <td>Rural</td>\n",
              "      <td>59641.82</td>\n",
              "      <td>21026.420753</td>\n",
              "    </tr>\n",
              "    <tr>\n",
              "      <th>1</th>\n",
              "      <td>M</td>\n",
              "      <td>29</td>\n",
              "      <td>1989.71</td>\n",
              "      <td>Low</td>\n",
              "      <td>1990.71</td>\n",
              "      <td>Urban</td>\n",
              "      <td>179858.51</td>\n",
              "      <td>60595.183366</td>\n",
              "    </tr>\n",
              "    <tr>\n",
              "      <th>2</th>\n",
              "      <td>F</td>\n",
              "      <td>37</td>\n",
              "      <td>1849.91</td>\n",
              "      <td>Low</td>\n",
              "      <td>1856.91</td>\n",
              "      <td>Rural</td>\n",
              "      <td>117297.62</td>\n",
              "      <td>39181.648002</td>\n",
              "    </tr>\n",
              "    <tr>\n",
              "      <th>3</th>\n",
              "      <td>M</td>\n",
              "      <td>65</td>\n",
              "      <td>2735.18</td>\n",
              "      <td>High</td>\n",
              "      <td>2747.18</td>\n",
              "      <td>Rural</td>\n",
              "      <td>354417.72</td>\n",
              "      <td>128497.710865</td>\n",
              "    </tr>\n",
              "    <tr>\n",
              "      <th>4</th>\n",
              "      <td>F</td>\n",
              "      <td>62</td>\n",
              "      <td>4741.78</td>\n",
              "      <td>High</td>\n",
              "      <td>4740.78</td>\n",
              "      <td>Urban</td>\n",
              "      <td>82049.80</td>\n",
              "      <td>39386.919336</td>\n",
              "    </tr>\n",
              "  </tbody>\n",
              "</table>\n",
              "</div>"
            ],
            "text/plain": [
              "  Gender  Age  Income (USD) Income Stability  Property Age Property Location  \\\n",
              "0      F   19       1641.25              Low       1651.25             Rural   \n",
              "1      M   29       1989.71              Low       1990.71             Urban   \n",
              "2      F   37       1849.91              Low       1856.91             Rural   \n",
              "3      M   65       2735.18             High       2747.18             Rural   \n",
              "4      F   62       4741.78             High       4740.78             Urban   \n",
              "\n",
              "   Property Price  Loan Sanction Amount (USD)  \n",
              "0        59641.82                21026.420753  \n",
              "1       179858.51                60595.183366  \n",
              "2       117297.62                39181.648002  \n",
              "3       354417.72               128497.710865  \n",
              "4        82049.80                39386.919336  "
            ]
          },
          "metadata": {},
          "output_type": "display_data"
        },
        {
          "data": {
            "text/html": [
              "<div>\n",
              "<style scoped>\n",
              "    .dataframe tbody tr th:only-of-type {\n",
              "        vertical-align: middle;\n",
              "    }\n",
              "\n",
              "    .dataframe tbody tr th {\n",
              "        vertical-align: top;\n",
              "    }\n",
              "\n",
              "    .dataframe thead th {\n",
              "        text-align: right;\n",
              "    }\n",
              "</style>\n",
              "<table border=\"1\" class=\"dataframe\">\n",
              "  <thead>\n",
              "    <tr style=\"text-align: right;\">\n",
              "      <th></th>\n",
              "      <th>Age</th>\n",
              "      <th>Income (USD)</th>\n",
              "      <th>Property Age</th>\n",
              "      <th>Property Price</th>\n",
              "      <th>Loan Sanction Amount (USD)</th>\n",
              "    </tr>\n",
              "  </thead>\n",
              "  <tbody>\n",
              "    <tr>\n",
              "      <th>count</th>\n",
              "      <td>47297.000000</td>\n",
              "      <td>47265.000000</td>\n",
              "      <td>47263.000000</td>\n",
              "      <td>4.729700e+04</td>\n",
              "      <td>47297.000000</td>\n",
              "    </tr>\n",
              "    <tr>\n",
              "      <th>mean</th>\n",
              "      <td>40.000063</td>\n",
              "      <td>2586.684384</td>\n",
              "      <td>2586.611058</td>\n",
              "      <td>1.350880e+05</td>\n",
              "      <td>46487.229765</td>\n",
              "    </tr>\n",
              "    <tr>\n",
              "      <th>std</th>\n",
              "      <td>16.086128</td>\n",
              "      <td>1558.768809</td>\n",
              "      <td>1558.842286</td>\n",
              "      <td>9.457875e+04</td>\n",
              "      <td>32549.905634</td>\n",
              "    </tr>\n",
              "    <tr>\n",
              "      <th>min</th>\n",
              "      <td>18.000000</td>\n",
              "      <td>372.700000</td>\n",
              "      <td>370.700000</td>\n",
              "      <td>7.859620e+03</td>\n",
              "      <td>254.586578</td>\n",
              "    </tr>\n",
              "    <tr>\n",
              "      <th>25%</th>\n",
              "      <td>24.000000</td>\n",
              "      <td>1653.740000</td>\n",
              "      <td>1652.820000</td>\n",
              "      <td>6.250408e+04</td>\n",
              "      <td>21782.822159</td>\n",
              "    </tr>\n",
              "    <tr>\n",
              "      <th>50%</th>\n",
              "      <td>40.000000</td>\n",
              "      <td>2245.480000</td>\n",
              "      <td>2244.810000</td>\n",
              "      <td>1.130936e+05</td>\n",
              "      <td>38822.132402</td>\n",
              "    </tr>\n",
              "    <tr>\n",
              "      <th>75%</th>\n",
              "      <td>55.000000</td>\n",
              "      <td>3128.560000</td>\n",
              "      <td>3128.380000</td>\n",
              "      <td>1.819546e+05</td>\n",
              "      <td>62612.236905</td>\n",
              "    </tr>\n",
              "    <tr>\n",
              "      <th>max</th>\n",
              "      <td>65.000000</td>\n",
              "      <td>54662.750000</td>\n",
              "      <td>54647.750000</td>\n",
              "      <td>1.077967e+06</td>\n",
              "      <td>366131.165218</td>\n",
              "    </tr>\n",
              "  </tbody>\n",
              "</table>\n",
              "</div>"
            ],
            "text/plain": [
              "                Age  Income (USD)  Property Age  Property Price  \\\n",
              "count  47297.000000  47265.000000  47263.000000    4.729700e+04   \n",
              "mean      40.000063   2586.684384   2586.611058    1.350880e+05   \n",
              "std       16.086128   1558.768809   1558.842286    9.457875e+04   \n",
              "min       18.000000    372.700000    370.700000    7.859620e+03   \n",
              "25%       24.000000   1653.740000   1652.820000    6.250408e+04   \n",
              "50%       40.000000   2245.480000   2244.810000    1.130936e+05   \n",
              "75%       55.000000   3128.560000   3128.380000    1.819546e+05   \n",
              "max       65.000000  54662.750000  54647.750000    1.077967e+06   \n",
              "\n",
              "       Loan Sanction Amount (USD)  \n",
              "count                47297.000000  \n",
              "mean                 46487.229765  \n",
              "std                  32549.905634  \n",
              "min                    254.586578  \n",
              "25%                  21782.822159  \n",
              "50%                  38822.132402  \n",
              "75%                  62612.236905  \n",
              "max                 366131.165218  "
            ]
          },
          "metadata": {},
          "output_type": "display_data"
        },
        {
          "data": {
            "text/plain": [
              "array([[<Axes: title={'center': 'Age'}>,\n",
              "        <Axes: title={'center': 'Income (USD)'}>],\n",
              "       [<Axes: title={'center': 'Property Age'}>,\n",
              "        <Axes: title={'center': 'Property Price'}>],\n",
              "       [<Axes: title={'center': 'Loan Sanction Amount (USD)'}>, <Axes: >]],\n",
              "      dtype=object)"
            ]
          },
          "execution_count": 72,
          "metadata": {},
          "output_type": "execute_result"
        },
        {
          "data": {
            "image/png": "[encoded data removed]",
            "text/plain": [
              "<Figure size 1200x800 with 6 Axes>"
            ]
          },
          "metadata": {},
          "output_type": "display_data"
        }
      ],
      "source": [
        "path = \"final_house_loan.csv\" # Path to your file\n",
        "\n",
        "df = read_dataset(path)\n",
        "#ToDo: Show histogram of dataframe\n",
        "df.hist(figsize=(12, 8), bins=50, xlabelsize=8, ylabelsize=8, grid=False)"
      ]
    },
    {
      "cell_type": "markdown",
      "metadata": {
        "id": "kLqfm42rjgO2"
      },
      "source": [
        "## Data Analysis"
      ]
    },
    {
      "cell_type": "code",
      "execution_count": 73,
      "metadata": {
        "id": "OZFahON289oe"
      },
      "outputs": [
        {
          "data": {
            "image/png": "[encoded data removed]",
            "text/plain": [
              "<Figure size 800x600 with 1 Axes>"
            ]
          },
          "metadata": {},
          "output_type": "display_data"
        }
      ],
      "source": [
        "# Data analysis\n",
        "# Todo: analyze your data here\n",
        "# Boxplot outliers\n",
        "import matplotlib.pyplot as plt\n",
        "import seaborn as sns\n",
        "\n",
        "plt.figure(figsize=(8, 6))\n",
        "sns.boxplot(data=df.select_dtypes(include='number'), palette=\"Set2\")  # Replace with the numerical column you want to analyze\n",
        "plt.title('Boxplot Data')\n",
        "plt.xlabel('Features')\n",
        "plt.ylabel('Value')\n",
        "plt.xticks(fontsize=8)\n",
        "plt.grid(False)\n",
        "plt.show()"
      ]
    },
    {
      "cell_type": "code",
      "execution_count": 74,
      "metadata": {},
      "outputs": [],
      "source": [
        "# Remove outliers using IQR method\n",
        "def remove_outliers_iqr(df, column):\n",
        "    q1 = df[column].quantile(0.25)\n",
        "    q3 = df[column].quantile(0.75)\n",
        "    iqr = q3 - q1\n",
        "    lower_bound = q1 - 1.5 * iqr\n",
        "    upper_bound = q3 + 1.5 * iqr\n",
        "    return df[(df[column] >= lower_bound) & (df[column] <= upper_bound)]"
      ]
    },
    {
      "cell_type": "code",
      "execution_count": 75,
      "metadata": {},
      "outputs": [],
      "source": [
        "for col in df.select_dtypes(include='number').columns:\n",
        "    df = remove_outliers_iqr(df, col)"
      ]
    },
    {
      "cell_type": "markdown",
      "metadata": {
        "id": "FWQ3y3T2f32N"
      },
      "source": [
        "## Preprocessing"
      ]
    },
    {
      "cell_type": "code",
      "execution_count": 32,
      "metadata": {},
      "outputs": [
        {
          "data": {
            "text/plain": [
              "(47297, 8)"
            ]
          },
          "execution_count": 32,
          "metadata": {},
          "output_type": "execute_result"
        }
      ],
      "source": [
        "df.shape"
      ]
    },
    {
      "cell_type": "code",
      "execution_count": 33,
      "metadata": {},
      "outputs": [
        {
          "data": {
            "text/plain": [
              "Gender                         object\n",
              "Age                             int64\n",
              "Income (USD)                  float64\n",
              "Income Stability               object\n",
              "Property Age                  float64\n",
              "Property Location              object\n",
              "Property Price                float64\n",
              "Loan Sanction Amount (USD)    float64\n",
              "dtype: object"
            ]
          },
          "execution_count": 33,
          "metadata": {},
          "output_type": "execute_result"
        }
      ],
      "source": [
        "df.dtypes"
      ]
    },
    {
      "cell_type": "code",
      "execution_count": 34,
      "metadata": {},
      "outputs": [
        {
          "data": {
            "text/plain": [
              "Gender                         0\n",
              "Age                            0\n",
              "Income (USD)                  32\n",
              "Income Stability              12\n",
              "Property Age                  34\n",
              "Property Location              3\n",
              "Property Price                 0\n",
              "Loan Sanction Amount (USD)     0\n",
              "dtype: int64"
            ]
          },
          "execution_count": 34,
          "metadata": {},
          "output_type": "execute_result"
        }
      ],
      "source": [
        "df.isnull().sum()"
      ]
    },
    {
      "cell_type": "code",
      "execution_count": 53,
      "metadata": {},
      "outputs": [
        {
          "data": {
            "text/plain": [
              "np.int64(0)"
            ]
          },
          "execution_count": 53,
          "metadata": {},
          "output_type": "execute_result"
        }
      ],
      "source": [
        "df.duplicated().sum()"
      ]
    },
    {
      "cell_type": "code",
      "execution_count": 35,
      "metadata": {
        "id": "6f647dba"
      },
      "outputs": [],
      "source": [
        "def preprocessing_data(df):\n",
        "    # --- (Optional) Drop null datapoints or fill missing data\n",
        "    # Keep your data the same if you dont want to customize it\n",
        "\n",
        "    # Điền giá trị 'Income Stability' là 'Low' nếu giá trị 'Income (USD)' nhỏ hơn 2586 và 'High' nếu lớn hơn 2586 \n",
        "    # do 2586 là giá trị trung bình của 'Income (USD)'\n",
        "    df.loc[(df['Income Stability'].isnull()) & (df['Income (USD)'] < 2586), 'Income Stability'] = 'Low'\n",
        "    df.loc[(df['Income Stability'].isnull()) & (df['Income (USD)'] >= 2586), 'Income Stability'] = 'High'\n",
        "\n",
        "    import random\n",
        "    \n",
        "    # Điền giá trị 'Income (USD)' trong khoảng (0, 2586) nếu 'Income Stability' là 'Low' \n",
        "    # và trong (2586, 54663) nếu 'Income Stability' là 'High' do 2586 là giá trị trung bình của 'Income (USD)'\n",
        "    df.loc[(df['Income (USD)'].isnull()) & (df['Income Stability'] == 'Low'), 'Income (USD)'] = random.randint(0, 2586)\n",
        "    df.loc[(df['Income (USD)'].isnull()) & (df['Income Stability'] == 'High'), 'Income (USD)'] = random.randint(2586, 54663)\n",
        "    # Điền giá trị null của 'Property Age' bằng 'Income (USD)' do 2 cột này có giá trị tương quan với nhau\n",
        "    df.loc[(df['Property Age'].isnull()), 'Property Age'] = df['Income (USD)']\n",
        "\n",
        "    df = df.drop_duplicates() # Drop duplicates\n",
        "    df = df.dropna() # Drop null values \n",
        "    return df"
      ]
    },
    {
      "cell_type": "code",
      "execution_count": 36,
      "metadata": {
        "id": "9KKiP3yd3m8t"
      },
      "outputs": [],
      "source": [
        "df = preprocessing_data(df.copy())"
      ]
    },
    {
      "cell_type": "markdown",
      "metadata": {
        "id": "hEu9oydOjZem"
      },
      "source": [
        "## Feature Engineering"
      ]
    },
    {
      "cell_type": "code",
      "execution_count": null,
      "metadata": {
        "id": "ee4UO0d_2-ED"
      },
      "outputs": [],
      "source": [
        "def normalize_data(df):\n",
        "    # Todo: normalize data into numerical data\n",
        "    start_time = time.time()\n",
        "    normalized_data = df.copy()\n",
        "    # Chuyển cột 'Gender' thành 0 và 1 và cột 'Income Stability' thành 0 và 1\n",
        "    normalized_data['Gender'] = normalized_data['Gender'].apply(lambda x: 0 if x==\"M\" else 1)\n",
        "    normalized_data['Income Stability'] = normalized_data['Income Stability'].apply(lambda x: 0 if x==\"High\" else 1)\n",
        "    # Chuyển Property Location label encoder\n",
        "    from sklearn.preprocessing import LabelEncoder\n",
        "    le = LabelEncoder()\n",
        "    normalized_data['Property Location'] = le.fit_transform(normalized_data['Property Location'])\n",
        "    print(\"Running time\", time.time() - start_time)\n",
        "    return normalized_data"
      ]
    },
    {
      "cell_type": "code",
      "execution_count": 38,
      "metadata": {
        "id": "AmepvqLbknvO"
      },
      "outputs": [
        {
          "data": {
            "text/plain": [
              "<Axes: >"
            ]
          },
          "execution_count": 38,
          "metadata": {},
          "output_type": "execute_result"
        },
        {
          "data": {
            "image/png": "[encoded data removed]",
            "text/plain": [
              "<Figure size 640x480 with 2 Axes>"
            ]
          },
          "metadata": {},
          "output_type": "display_data"
        }
      ],
      "source": [
        "# Heatmap\n",
        "import seaborn as sns\n",
        "\n",
        "df = normalize_data(df.copy())\n",
        "sns.heatmap(df.corr()) # Show heatmap after normalized data"
      ]
    },
    {
      "cell_type": "markdown",
      "metadata": {
        "id": "fzgR-i-gE1hc"
      },
      "source": [
        "# Apply machine learning model"
      ]
    },
    {
      "cell_type": "markdown",
      "metadata": {
        "id": "ppt3beFBjnID"
      },
      "source": [
        "## Train-test split"
      ]
    },
    {
      "cell_type": "code",
      "execution_count": 39,
      "metadata": {
        "id": "dodR58Ha3wgf"
      },
      "outputs": [],
      "source": [
        "from sklearn.model_selection import train_test_split\n",
        "from sklearn.metrics import mean_absolute_error"
      ]
    },
    {
      "cell_type": "code",
      "execution_count": 40,
      "metadata": {
        "id": "mBo9kxbmSZiF"
      },
      "outputs": [],
      "source": [
        "def prepare_X_y(df):\n",
        "    # Split data into X and y. Return two dataframes\n",
        "\n",
        "    columns = df.columns.tolist()\n",
        "    columns.remove('Loan Sanction Amount (USD)')  # Remove the target column from the feature list\n",
        "    X = df[columns]  # Todo: Select features\n",
        "    y = df['Loan Sanction Amount (USD)']  # Todo: Select label\n",
        "    return X, y\n",
        "\n",
        "X, y = prepare_X_y(df)"
      ]
    },
    {
      "cell_type": "code",
      "execution_count": 41,
      "metadata": {
        "id": "oanMcOPgScf7"
      },
      "outputs": [],
      "source": [
        "def split_train_test(X, y, train_size=0.7):\n",
        "    trainX, testX ,trainY, testY = train_test_split(X, y, train_size=0.7)# Use sklearn train_test_split to split X and y into 2 sets: train set and test set. With train_size is the proportion of train_set and fix the random_state with a number\n",
        "    print('Training:' + str(trainX.shape))\n",
        "    print('Test:' + str(testX.shape))\n",
        "\n",
        "    return trainX, testX ,trainY, testY"
      ]
    },
    {
      "cell_type": "code",
      "execution_count": 42,
      "metadata": {
        "id": "NFvHM8hA4vlr"
      },
      "outputs": [
        {
          "name": "stdout",
          "output_type": "stream",
          "text": [
            "Training:(33104, 7)\n",
            "Test:(14188, 7)\n"
          ]
        }
      ],
      "source": [
        "TRAIN_SIZE = 0.7\n",
        "\n",
        "trainX, testX ,trainY, testY = split_train_test(X, y, train_size=TRAIN_SIZE)"
      ]
    },
    {
      "cell_type": "markdown",
      "metadata": {
        "id": "1xECUjRuFy2e"
      },
      "source": [
        "## Basic Linear Regression"
      ]
    },
    {
      "cell_type": "code",
      "execution_count": 43,
      "metadata": {
        "id": "6aIK-of7E6Wv"
      },
      "outputs": [
        {
          "name": "stdout",
          "output_type": "stream",
          "text": [
            "mean absolute error of linear model on train set  164.90416367952344\n",
            "mean absolute error of linear model on test set  175.6302363074425\n",
            "[ 2.43641968e+02 -8.00578012e+01  4.43472466e-01 -1.11615408e+04\n",
            "  5.75810194e-01 -6.26259416e+01  3.36247459e-01]\n",
            "\n",
            "11734.11515612853\n"
          ]
        }
      ],
      "source": [
        "from sklearn.linear_model import LinearRegression\n",
        "\n",
        "\n",
        "def build_linear_model(X, y):\n",
        "    model = LinearRegression(fit_intercept=True)        # Todo: use sklearn model and config your parameters\n",
        "    # Todo: fit your model with X, y\n",
        "    model.fit(X, y)\n",
        "    return model\n",
        "\n",
        "model = build_linear_model(trainX, trainY)\n",
        "# Compare on training dataset\n",
        "pred = model.predict(trainX)\n",
        "print(\"mean absolute error of linear model on train set \", mean_absolute_error(y_pred=pred, y_true=trainY) )\n",
        "pred = model.predict(testX)\n",
        "print(\"mean absolute error of linear model on test set \", mean_absolute_error(y_pred=pred, y_true=testY) )\n",
        "\n",
        "print(model.coef_) # print coefficient\n",
        "print()\n",
        "print(model.intercept_) # print intercept_\n"
      ]
    },
    {
      "cell_type": "code",
      "execution_count": 44,
      "metadata": {
        "id": "snbiK5iHFJb_"
      },
      "outputs": [
        {
          "name": "stdout",
          "output_type": "stream",
          "text": [
            "mean absolute error of linear model on train set  165.29897621080116\n",
            "mean absolute error of linear model on test set  175.9650113412653\n",
            "[ 2.39581458e+02 -7.99244847e+01  8.27105035e-01 -1.11454376e+04\n",
            "  1.91988451e-01 -6.10757008e+01  3.36248263e-01]\n",
            "\n",
            "11714.98371003032\n"
          ]
        },
        {
          "name": "stderr",
          "output_type": "stream",
          "text": [
            "C:\\Users\\Admin\\AppData\\Local\\Packages\\PythonSoftwareFoundation.Python.3.13_qbz5n2kfra8p0\\LocalCache\\local-packages\\Python313\\site-packages\\sklearn\\linear_model\\_coordinate_descent.py:695: ConvergenceWarning: Objective did not converge. You might want to increase the number of iterations, check the scale of the features or consider increasing regularisation. Duality gap: 3.220e+10, tolerance: 3.544e+09\n",
            "  model = cd_fast.enet_coordinate_descent(\n"
          ]
        }
      ],
      "source": [
        "from sklearn.linear_model import Lasso\n",
        "\n",
        "\n",
        "def build_lasso_model(X, y):\n",
        "    model = Lasso()     # Todo: use sklearn model and config your parameters\n",
        "    # Todo: fit your model with X, y\n",
        "    model.fit(X, y)\n",
        "    return model\n",
        "\n",
        "model = build_lasso_model(trainX, trainY)\n",
        "# Compare on training dataset\n",
        "pred = model.predict(trainX)\n",
        "print(\"mean absolute error of linear model on train set \", mean_absolute_error(y_pred=pred, y_true=trainY) )\n",
        "pred = model.predict(testX)\n",
        "print(\"mean absolute error of linear model on test set \", mean_absolute_error(y_pred=pred, y_true=testY) )\n",
        "\n",
        "print(model.coef_) # print coefficient\n",
        "print()\n",
        "print(model.intercept_) # print intercept_\n"
      ]
    },
    {
      "cell_type": "code",
      "execution_count": 45,
      "metadata": {
        "id": "_xH5lqi35WAJ"
      },
      "outputs": [
        {
          "name": "stdout",
          "output_type": "stream",
          "text": [
            "mean absolute error of linear model on train set  164.9721205561889\n",
            "mean absolute error of linear model on test set  175.70373443742258\n",
            "[ 2.43564866e+02 -8.00152865e+01  4.45463639e-01 -1.11562778e+04\n",
            "  5.73744953e-01 -6.26015304e+01  3.36247855e-01]\n",
            "\n",
            "11727.774158083303\n"
          ]
        }
      ],
      "source": [
        "from sklearn.linear_model import Ridge\n",
        "\n",
        "\n",
        "def build_ridge_model(X, y):\n",
        "    model = Ridge()     # Todo: use sklearn model and config your parameters\n",
        "    # Todo: fit your model with X, y\n",
        "    model.fit(X, y) # fit the model with X and y\n",
        "    return model\n",
        "\n",
        "model = build_ridge_model(trainX, trainY)\n",
        "# Compare on training dataset\n",
        "pred = model.predict(trainX)\n",
        "print(\"mean absolute error of linear model on train set \", mean_absolute_error(y_pred=pred, y_true=trainY) )\n",
        "pred = model.predict(testX)\n",
        "print(\"mean absolute error of linear model on test set \", mean_absolute_error(y_pred=pred, y_true=testY) )\n",
        "\n",
        "print(model.coef_) # print coefficient\n",
        "print()\n",
        "print(model.intercept_) # print intercept_\n"
      ]
    },
    {
      "cell_type": "code",
      "execution_count": 46,
      "metadata": {
        "id": "hOZ7NPAG53rg"
      },
      "outputs": [
        {
          "name": "stdout",
          "output_type": "stream",
          "text": [
            "mean absolute error of linear model on train set  1766.004216352404\n",
            "mean absolute error of linear model on test set  1768.1667737822474\n",
            "[ 5.05273756e+01 -1.47929087e-01  9.52960516e-01 -1.26624767e+03\n",
            " -7.30880104e-02 -1.22140652e+01  3.36992062e-01]\n",
            "\n",
            "-166.65156784626743\n"
          ]
        },
        {
          "name": "stderr",
          "output_type": "stream",
          "text": [
            "C:\\Users\\Admin\\AppData\\Local\\Packages\\PythonSoftwareFoundation.Python.3.13_qbz5n2kfra8p0\\LocalCache\\local-packages\\Python313\\site-packages\\sklearn\\linear_model\\_coordinate_descent.py:695: ConvergenceWarning: Objective did not converge. You might want to increase the number of iterations, check the scale of the features or consider increasing regularisation. Duality gap: 1.511e+11, tolerance: 3.544e+09\n",
            "  model = cd_fast.enet_coordinate_descent(\n"
          ]
        }
      ],
      "source": [
        "from sklearn.linear_model import ElasticNet\n",
        "\n",
        "\n",
        "def build_elastic_model(X, y):\n",
        "    model = ElasticNet()    # Todo: use sklearn model and config your parameters\n",
        "    # Todo: fit your model with X, y\n",
        "    model.fit(X, y) # fit the model with X and y\n",
        "    return model\n",
        "\n",
        "model = build_elastic_model(trainX, trainY)\n",
        "# Compare on training dataset\n",
        "pred = model.predict(trainX)\n",
        "print(\"mean absolute error of linear model on train set \", mean_absolute_error(y_pred=pred, y_true=trainY) )\n",
        "pred = model.predict(testX)\n",
        "print(\"mean absolute error of linear model on test set \", mean_absolute_error(y_pred=pred, y_true=testY) )\n",
        "\n",
        "print(model.coef_) # print coefficient\n",
        "print()\n",
        "print(model.intercept_) # print intercept_\n"
      ]
    },
    {
      "cell_type": "markdown",
      "metadata": {
        "id": "4SDs25IOFoBw"
      },
      "source": [
        "## Polynomial Transform"
      ]
    },
    {
      "cell_type": "markdown",
      "metadata": {
        "id": "mkeldd8AF_Ju"
      },
      "source": [
        "When the data feature does not conform to a linear function, a linear regression cannot be applied directly to the original data. Then, there are many possibilities that the data feature conforms to the polynomial function. Scikit-Learn supports converting data features to polynomials through ``PolynomialFeatures``.\n",
        "\n",
        "$$\n",
        "y = a_0 + a_1 x + a_2 x^2 + a_3 x^3 + \\cdots\n",
        "$$\n",
        "\n",
        "The formula above uses the transformation of the value $x$ from one dimension to the other, with the aim of being able to use linear regression to find complex relationships between $x$ and $y$."
      ]
    },
    {
      "cell_type": "code",
      "execution_count": 47,
      "metadata": {
        "id": "PXhjw_utFxzS"
      },
      "outputs": [
        {
          "name": "stdout",
          "output_type": "stream",
          "text": [
            "mean absolute error of linear model (with poly transform) on train set  212.63615306321512\n",
            "mean absolute error of linear model (with poly transform) on test set  223.73184560297562\n"
          ]
        }
      ],
      "source": [
        "#Linear Regression with Polynomial Transform\n",
        "from sklearn.preprocessing import PolynomialFeatures\n",
        "from sklearn.pipeline import make_pipeline\n",
        "\n",
        "def build_pipeline(X, y):\n",
        "    poly_model = make_pipeline(PolynomialFeatures(2, include_bias=False), LinearRegression())   # use make_pipeline to apply PolynomialFeatures and a Regression model train your dataset\n",
        "    poly_model.fit(X, y)\n",
        "\n",
        "    return poly_model\n",
        "\n",
        "poly_model = build_pipeline(trainX, trainY)\n",
        "# Compare on training dataset\n",
        "poly_pred = poly_model.predict(trainX)\n",
        "print(\"mean absolute error of linear model (with poly transform) on train set \", mean_absolute_error(y_pred=poly_pred, y_true=trainY) )\n",
        "\n",
        "poly_pred = poly_model.predict(testX)\n",
        "print(\"mean absolute error of linear model (with poly transform) on test set \", mean_absolute_error(y_pred=poly_pred, y_true=testY))"
      ]
    },
    {
      "cell_type": "code",
      "execution_count": 48,
      "metadata": {},
      "outputs": [
        {
          "name": "stdout",
          "output_type": "stream",
          "text": [
            "[-1.44618706e-01  1.05090154e+02 -3.80894560e-01 -4.46514774e+00\n",
            "  1.38301923e+00  1.61182684e+01  3.38575993e-01 -1.44618678e-01\n",
            "  3.97937899e+00  2.87056938e-01 -2.14884009e+00 -2.60410494e-01\n",
            "  1.23216553e+01 -1.56744409e-04 -8.63077510e-02  1.38850906e-02\n",
            " -1.75606136e+02 -1.33778137e-02 -2.71635697e+00 -2.67655839e-05\n",
            " -8.43020343e-01 -3.43072584e-01  1.68625466e+00  6.69592670e-02\n",
            " -1.25615786e-06 -4.46514774e+00  3.55902951e-01  1.74125917e+01\n",
            " -6.04588645e-04 -8.43233822e-01 -8.76757469e-02  1.19020613e-06\n",
            "  5.70185067e+01 -2.30204190e-04 -4.87773377e-10]\n",
            "337.31267850034055\n"
          ]
        }
      ],
      "source": [
        "# --- To get output of polynomial model\n",
        "# We can call its name\n",
        "linear_model = poly_model[\"linearregression\"]\n",
        "# or by number\n",
        "linear_model = poly_model[1]\n",
        "\n",
        "print(linear_model.coef_) # print coefficient\n",
        "print(linear_model.intercept_) # print intercept"
      ]
    },
    {
      "cell_type": "code",
      "execution_count": 49,
      "metadata": {},
      "outputs": [],
      "source": [
        "from sklearn.manifold import TSNE\n",
        "\n",
        "# Split X, y from dataset\n",
        "columns = df.columns.tolist()     # Columns name\n",
        "draw_data = df[columns]        # X\n",
        "draw_data = TSNE(n_components=1, learning_rate='auto', init='random', perplexity=3).fit_transform(draw_data)"
      ]
    },
    {
      "cell_type": "code",
      "execution_count": 50,
      "metadata": {},
      "outputs": [
        {
          "name": "stdout",
          "output_type": "stream",
          "text": [
            "Training:(33104, 7)\n",
            "Test:(14188, 7)\n"
          ]
        }
      ],
      "source": [
        "from sklearn.model_selection import train_test_split\n",
        "draw_train_X, draw_test_X ,trainY, testY = train_test_split(draw_data, y, train_size=0.70, random_state=2023)\n",
        "print('Training:' + str(trainX.shape))\n",
        "print('Test:' + str(testX.shape))"
      ]
    },
    {
      "cell_type": "code",
      "execution_count": 51,
      "metadata": {},
      "outputs": [
        {
          "name": "stdout",
          "output_type": "stream",
          "text": [
            "mean absolute error of linear model on train set  24949.656031291805\n",
            "mean absolute error of linear model (with poly transform) on train set  24939.338825797036\n"
          ]
        }
      ],
      "source": [
        "#model basic\n",
        "model = LinearRegression(fit_intercept=True)\n",
        "model.fit(draw_train_X, trainY)\n",
        "pred = model.predict(draw_train_X)\n",
        "print(\"mean absolute error of linear model on train set \", mean_absolute_error(y_pred=pred, y_true=trainY) )\n",
        "\n",
        "#model polinomial\n",
        "poly_model = make_pipeline(PolynomialFeatures(2, include_bias=False), LinearRegression())\n",
        "poly_model.fit(draw_train_X, trainY)\n",
        "poly_pred = poly_model.predict(draw_train_X)\n",
        "print(\"mean absolute error of linear model (with poly transform) on train set \", mean_absolute_error(y_pred=poly_pred, y_true=trainY) )"
      ]
    },
    {
      "cell_type": "markdown",
      "metadata": {},
      "source": [
        "# Visualization"
      ]
    },
    {
      "cell_type": "code",
      "execution_count": 52,
      "metadata": {},
      "outputs": [
        {
          "data": {
            "image/png": "[encoded data removed]",
            "text/plain": [
              "<Figure size 640x480 with 1 Axes>"
            ]
          },
          "metadata": {},
          "output_type": "display_data"
        }
      ],
      "source": [
        "import matplotlib.pyplot as plt\n",
        "\n",
        "plt.scatter(draw_train_X, trainY, color=\"g\")\n",
        "plt.plot(draw_train_X, pred, color=\"blue\", linewidth=3)\n",
        "plt.plot(draw_train_X, poly_pred, color=\"yellow\", linewidth=3)\n",
        "\n",
        "\n",
        "plt.xticks(())\n",
        "plt.yticks(())\n",
        "\n",
        "plt.show()"
      ]
    }
  ],
  "metadata": {
    "colab": {
      "provenance": []
    },
    "kernelspec": {
      "display_name": "Python 3",
      "name": "python3"
    },
    "language_info": {
      "codemirror_mode": {
        "name": "ipython",
        "version": 3
      },
      "file_extension": ".py",
      "mimetype": "text/x-python",
      "name": "python",
      "nbconvert_exporter": "python",
      "pygments_lexer": "ipython3",
      "version": "3.13.2"
    }
  },
  "nbformat": 4,
  "nbformat_minor": 0
}
