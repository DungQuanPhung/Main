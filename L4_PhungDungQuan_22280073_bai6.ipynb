{
 "cells": [
  {
   "cell_type": "markdown",
   "id": "e88dd837",
   "metadata": {},
   "source": [
    "> Họ và tên: Phùng Dũng Quân\\\n",
    "> MSSV: 22280073"
   ]
  },
  {
   "cell_type": "markdown",
   "id": "52efe096",
   "metadata": {},
   "source": [
    "# Bài 1:"
   ]
  },
  {
   "cell_type": "code",
   "execution_count": 1,
   "id": "e890a18b",
   "metadata": {},
   "outputs": [
    {
     "data": {
      "application/vnd.microsoft.datawrangler.viewer.v0+json": {
       "columns": [
        {
         "name": "index",
         "rawType": "int64",
         "type": "integer"
        },
        {
         "name": "STT",
         "rawType": "int64",
         "type": "integer"
        },
        {
         "name": "Dien tich (m2)",
         "rawType": "int64",
         "type": "integer"
        },
        {
         "name": "So phong ngu",
         "rawType": "int64",
         "type": "integer"
        },
        {
         "name": "Khoang cach toi TT",
         "rawType": "float64",
         "type": "float"
        },
        {
         "name": "Gia (ty VND)",
         "rawType": "float64",
         "type": "float"
        }
       ],
       "conversionMethod": "pd.DataFrame",
       "ref": "72cb9a27-4137-4f11-8f71-701fe050623e",
       "rows": [
        [
         "0",
         "1",
         "40",
         "1",
         "30.0",
         "1.1"
        ],
        [
         "1",
         "2",
         "60",
         "2",
         "32.0",
         "1.55"
        ],
        [
         "2",
         "3",
         "53",
         "2",
         "30.1",
         "1.68"
        ],
        [
         "3",
         "4",
         "71",
         "2",
         "35.7",
         "1.75"
        ],
        [
         "4",
         "5",
         "80",
         "2",
         "24.5",
         "5.5"
        ],
        [
         "5",
         "6",
         "56",
         "2",
         "27.6",
         "2.3"
        ],
        [
         "6",
         "7",
         "75",
         "2",
         "27.6",
         "3.0"
        ],
        [
         "7",
         "8",
         "79",
         "2",
         "27.6",
         "3.5"
        ],
        [
         "8",
         "9",
         "56",
         "2",
         "29.7",
         "2.4"
        ],
        [
         "9",
         "10",
         "60",
         "2",
         "29.7",
         "2.9"
        ],
        [
         "10",
         "11",
         "72",
         "3",
         "29.7",
         "3.0"
        ],
        [
         "11",
         "12",
         "95",
         "1",
         "29.7",
         "4.2"
        ],
        [
         "12",
         "13",
         "47",
         "2",
         "19.3",
         "1.5"
        ],
        [
         "13",
         "14",
         "91",
         "1",
         "18.1",
         "2.2"
        ],
        [
         "14",
         "15",
         "68",
         "2",
         "21.4",
         "1.5"
        ],
        [
         "15",
         "16",
         "69",
         "2",
         "17.5",
         "3.15"
        ],
        [
         "16",
         "17",
         "82",
         "2",
         "25.1",
         "3.4"
        ],
        [
         "17",
         "18",
         "60",
         "2",
         "26.5",
         "2.245"
        ],
        [
         "18",
         "19",
         "68",
         "2",
         "26.5",
         "2.4"
        ]
       ],
       "shape": {
        "columns": 5,
        "rows": 19
       }
      },
      "text/html": [
       "<div>\n",
       "<style scoped>\n",
       "    .dataframe tbody tr th:only-of-type {\n",
       "        vertical-align: middle;\n",
       "    }\n",
       "\n",
       "    .dataframe tbody tr th {\n",
       "        vertical-align: top;\n",
       "    }\n",
       "\n",
       "    .dataframe thead th {\n",
       "        text-align: right;\n",
       "    }\n",
       "</style>\n",
       "<table border=\"1\" class=\"dataframe\">\n",
       "  <thead>\n",
       "    <tr style=\"text-align: right;\">\n",
       "      <th></th>\n",
       "      <th>STT</th>\n",
       "      <th>Dien tich (m2)</th>\n",
       "      <th>So phong ngu</th>\n",
       "      <th>Khoang cach toi TT</th>\n",
       "      <th>Gia (ty VND)</th>\n",
       "    </tr>\n",
       "  </thead>\n",
       "  <tbody>\n",
       "    <tr>\n",
       "      <th>0</th>\n",
       "      <td>1</td>\n",
       "      <td>40</td>\n",
       "      <td>1</td>\n",
       "      <td>30.0</td>\n",
       "      <td>1.100</td>\n",
       "    </tr>\n",
       "    <tr>\n",
       "      <th>1</th>\n",
       "      <td>2</td>\n",
       "      <td>60</td>\n",
       "      <td>2</td>\n",
       "      <td>32.0</td>\n",
       "      <td>1.550</td>\n",
       "    </tr>\n",
       "    <tr>\n",
       "      <th>2</th>\n",
       "      <td>3</td>\n",
       "      <td>53</td>\n",
       "      <td>2</td>\n",
       "      <td>30.1</td>\n",
       "      <td>1.680</td>\n",
       "    </tr>\n",
       "    <tr>\n",
       "      <th>3</th>\n",
       "      <td>4</td>\n",
       "      <td>71</td>\n",
       "      <td>2</td>\n",
       "      <td>35.7</td>\n",
       "      <td>1.750</td>\n",
       "    </tr>\n",
       "    <tr>\n",
       "      <th>4</th>\n",
       "      <td>5</td>\n",
       "      <td>80</td>\n",
       "      <td>2</td>\n",
       "      <td>24.5</td>\n",
       "      <td>5.500</td>\n",
       "    </tr>\n",
       "    <tr>\n",
       "      <th>5</th>\n",
       "      <td>6</td>\n",
       "      <td>56</td>\n",
       "      <td>2</td>\n",
       "      <td>27.6</td>\n",
       "      <td>2.300</td>\n",
       "    </tr>\n",
       "    <tr>\n",
       "      <th>6</th>\n",
       "      <td>7</td>\n",
       "      <td>75</td>\n",
       "      <td>2</td>\n",
       "      <td>27.6</td>\n",
       "      <td>3.000</td>\n",
       "    </tr>\n",
       "    <tr>\n",
       "      <th>7</th>\n",
       "      <td>8</td>\n",
       "      <td>79</td>\n",
       "      <td>2</td>\n",
       "      <td>27.6</td>\n",
       "      <td>3.500</td>\n",
       "    </tr>\n",
       "    <tr>\n",
       "      <th>8</th>\n",
       "      <td>9</td>\n",
       "      <td>56</td>\n",
       "      <td>2</td>\n",
       "      <td>29.7</td>\n",
       "      <td>2.400</td>\n",
       "    </tr>\n",
       "    <tr>\n",
       "      <th>9</th>\n",
       "      <td>10</td>\n",
       "      <td>60</td>\n",
       "      <td>2</td>\n",
       "      <td>29.7</td>\n",
       "      <td>2.900</td>\n",
       "    </tr>\n",
       "    <tr>\n",
       "      <th>10</th>\n",
       "      <td>11</td>\n",
       "      <td>72</td>\n",
       "      <td>3</td>\n",
       "      <td>29.7</td>\n",
       "      <td>3.000</td>\n",
       "    </tr>\n",
       "    <tr>\n",
       "      <th>11</th>\n",
       "      <td>12</td>\n",
       "      <td>95</td>\n",
       "      <td>1</td>\n",
       "      <td>29.7</td>\n",
       "      <td>4.200</td>\n",
       "    </tr>\n",
       "    <tr>\n",
       "      <th>12</th>\n",
       "      <td>13</td>\n",
       "      <td>47</td>\n",
       "      <td>2</td>\n",
       "      <td>19.3</td>\n",
       "      <td>1.500</td>\n",
       "    </tr>\n",
       "    <tr>\n",
       "      <th>13</th>\n",
       "      <td>14</td>\n",
       "      <td>91</td>\n",
       "      <td>1</td>\n",
       "      <td>18.1</td>\n",
       "      <td>2.200</td>\n",
       "    </tr>\n",
       "    <tr>\n",
       "      <th>14</th>\n",
       "      <td>15</td>\n",
       "      <td>68</td>\n",
       "      <td>2</td>\n",
       "      <td>21.4</td>\n",
       "      <td>1.500</td>\n",
       "    </tr>\n",
       "    <tr>\n",
       "      <th>15</th>\n",
       "      <td>16</td>\n",
       "      <td>69</td>\n",
       "      <td>2</td>\n",
       "      <td>17.5</td>\n",
       "      <td>3.150</td>\n",
       "    </tr>\n",
       "    <tr>\n",
       "      <th>16</th>\n",
       "      <td>17</td>\n",
       "      <td>82</td>\n",
       "      <td>2</td>\n",
       "      <td>25.1</td>\n",
       "      <td>3.400</td>\n",
       "    </tr>\n",
       "    <tr>\n",
       "      <th>17</th>\n",
       "      <td>18</td>\n",
       "      <td>60</td>\n",
       "      <td>2</td>\n",
       "      <td>26.5</td>\n",
       "      <td>2.245</td>\n",
       "    </tr>\n",
       "    <tr>\n",
       "      <th>18</th>\n",
       "      <td>19</td>\n",
       "      <td>68</td>\n",
       "      <td>2</td>\n",
       "      <td>26.5</td>\n",
       "      <td>2.400</td>\n",
       "    </tr>\n",
       "  </tbody>\n",
       "</table>\n",
       "</div>"
      ],
      "text/plain": [
       "    STT  Dien tich (m2)  So phong ngu  Khoang cach toi TT  Gia (ty VND)\n",
       "0     1              40             1                30.0         1.100\n",
       "1     2              60             2                32.0         1.550\n",
       "2     3              53             2                30.1         1.680\n",
       "3     4              71             2                35.7         1.750\n",
       "4     5              80             2                24.5         5.500\n",
       "5     6              56             2                27.6         2.300\n",
       "6     7              75             2                27.6         3.000\n",
       "7     8              79             2                27.6         3.500\n",
       "8     9              56             2                29.7         2.400\n",
       "9    10              60             2                29.7         2.900\n",
       "10   11              72             3                29.7         3.000\n",
       "11   12              95             1                29.7         4.200\n",
       "12   13              47             2                19.3         1.500\n",
       "13   14              91             1                18.1         2.200\n",
       "14   15              68             2                21.4         1.500\n",
       "15   16              69             2                17.5         3.150\n",
       "16   17              82             2                25.1         3.400\n",
       "17   18              60             2                26.5         2.245\n",
       "18   19              68             2                26.5         2.400"
      ]
     },
     "execution_count": 1,
     "metadata": {},
     "output_type": "execute_result"
    }
   ],
   "source": [
    "import pandas as pd\n",
    "import numpy as np\n",
    "from sklearn.preprocessing import StandardScaler\n",
    "from sklearn.linear_model import LinearRegression\n",
    "from sklearn.model_selection import train_test_split\n",
    "import warnings\n",
    "warnings.filterwarnings('ignore')\n",
    "\n",
    "df = pd.read_csv('bang_gia_nha.csv')\n",
    "df"
   ]
  },
  {
   "cell_type": "code",
   "execution_count": 2,
   "id": "ee1ef03e",
   "metadata": {},
   "outputs": [],
   "source": [
    "W = df.drop(columns=['Gia (ty VND)', 'STT'], axis=1)\n",
    "d = df['Gia (ty VND)'].values\n",
    "\n",
    "def loss_function(x, W, d):\n",
    "    return 1/2 * np.sum(d - W.dot(x))**2\n",
    "\n",
    "def nabla_L(x, W, d):\n",
    "    return -W.T.dot(d - W.dot(x))\n",
    "\n",
    "def checking_inverse(matrix):\n",
    "    if np.linalg.det(matrix) == 0:\n",
    "        return False\n",
    "    else:\n",
    "        return True\n",
    "    \n",
    "def L2_error(x, y):\n",
    "    m = len(y)\n",
    "    sum = 0\n",
    "    for i in range(m):\n",
    "        sum += (x[i] - y[i])**2\n",
    "    return np.sqrt(sum)"
   ]
  },
  {
   "cell_type": "markdown",
   "id": "f14a3b48",
   "metadata": {},
   "source": [
    "## SVD"
   ]
  },
  {
   "cell_type": "code",
   "execution_count": 3,
   "id": "88496051",
   "metadata": {},
   "outputs": [
    {
     "name": "stdout",
     "output_type": "stream",
     "text": [
      "Hệ số dự đoán là:\n",
      " [ 2.59342105  0.73101391  0.19867214 -0.00295743]\n",
      "Giá trị dự đoán được là: 3.2426832061065363\n"
     ]
    }
   ],
   "source": [
    "# SVD decomposition\n",
    "scaler = StandardScaler()\n",
    "W_scaled = scaler.fit_transform(W)  # Bỏ bias nếu có\n",
    "W_scaled = np.c_[np.ones((W_scaled.shape[0])), W_scaled]\n",
    "house_features = np.array([(79, 2, 26.5)])\n",
    "scaled_house_features = scaler.transform(house_features)\n",
    "scaled_house_features = np.c_[np.ones((scaled_house_features.shape[0])), scaled_house_features]\n",
    "\n",
    "def svd_decomposition(W, d):\n",
    "    if checking_inverse(W.T @ W):\n",
    "        x = np.linalg.inv(W.T @ W) @ W.T @ d\n",
    "    else:\n",
    "        U, s, Vt = np.linalg.svd(W.T @ W, full_matrices=True)\n",
    "        s_inv = np.zeros_like(W.T @ W)\n",
    "        s_inv[:len(s), :len(s)] = np.diag(1/s)\n",
    "        x = (Vt.T @ s_inv @ U.T) @ W.T @ d\n",
    "    return x\n",
    "\n",
    "x_svd = svd_decomposition(W_scaled, d)\n",
    "predicted_price_svd = scaled_house_features.dot(x_svd)\n",
    "print(\"Hệ số dự đoán là:\\n\", x_svd)\n",
    "print(\"Giá trị dự đoán được là:\", predicted_price_svd[0])"
   ]
  },
  {
   "cell_type": "markdown",
   "id": "2dda64f8",
   "metadata": {},
   "source": [
    "## Gradient descent"
   ]
  },
  {
   "cell_type": "code",
   "execution_count": 4,
   "id": "f763ed82",
   "metadata": {},
   "outputs": [
    {
     "name": "stdout",
     "output_type": "stream",
     "text": [
      "Hệ số dự đoán (Gradient Descent): [ 2.59342104  0.73101383  0.19867211 -0.00295747]\n",
      "Giá trị dự đoán (Gradient Descent): 3.242683123706925\n",
      "Chênh lệch hệ số dự đoán: 9.715968447581369e-08\n"
     ]
    }
   ],
   "source": [
    "initial_point = np.zeros(W_scaled.shape[1])\n",
    "\n",
    "# Gradient descent function\n",
    "def gradient_descent(W, d, initial_point, eta, max_iterations, epsilon):\n",
    "    current_point = initial_point.copy()\n",
    "    i = 0\n",
    "    while i <= max_iterations:\n",
    "        next_point = current_point - eta * nabla_L(current_point, W, d)\n",
    "        if np.linalg.norm(nabla_L(next_point, W, d)) < epsilon:\n",
    "            return next_point\n",
    "        current_point = next_point\n",
    "        i += 1\n",
    "    return current_point\n",
    "\n",
    "x_gd = gradient_descent(W_scaled, d, initial_point, 0.001, 1000, 1e-6)\n",
    "predicted_price_gd = scaled_house_features.dot(x_gd)\n",
    "print(\"Hệ số dự đoán (Gradient Descent):\", x_gd)\n",
    "print(\"Giá trị dự đoán (Gradient Descent):\", predicted_price_gd[0])\n",
    "print(\"Chênh lệch hệ số dự đoán:\", L2_error(x_svd, x_gd))"
   ]
  },
  {
   "cell_type": "markdown",
   "id": "09f0e72a",
   "metadata": {},
   "source": [
    "## Accelerated gradient descent"
   ]
  },
  {
   "cell_type": "code",
   "execution_count": 5,
   "id": "62ca1a10",
   "metadata": {},
   "outputs": [
    {
     "name": "stdout",
     "output_type": "stream",
     "text": [
      "Hệ số dự đoán (Accelerated Gradient Descent): [ 2.59342107  0.73101395  0.19867217 -0.00295741]\n",
      "Giá trị dự đoán (Accelerated Gradient Descent): 3.2426832586356564\n",
      "Chênh lệch hệ số dự đoán: 5.5310199190639705e-08\n"
     ]
    }
   ],
   "source": [
    "# Accelerated gradient descent function\n",
    "def accelerated_gradient_descent(W, d, initial_point, eta, max_iterations, epsilon):\n",
    "    current_point = initial_point.copy()\n",
    "    previous_point = initial_point.copy()\n",
    "    i = 0\n",
    "    while i <= max_iterations - 1:\n",
    "        temp = current_point + (i - 1) / (i + 2) * (current_point - previous_point) \n",
    "        next_point = temp - eta * nabla_L(temp, W, d)\n",
    "        if np.linalg.norm(nabla_L(next_point, W, d)) < epsilon:\n",
    "            return next_point\n",
    "        previous_point = current_point\n",
    "        current_point = next_point\n",
    "        i += 1\n",
    "    return current_point\n",
    "\n",
    "x_agd = accelerated_gradient_descent(W_scaled, d, initial_point, 0.001, 1000, 1e-6)\n",
    "predicted_price_agd = scaled_house_features.dot(x_agd)\n",
    "print(\"Hệ số dự đoán (Accelerated Gradient Descent):\", x_agd)\n",
    "print(\"Giá trị dự đoán (Accelerated Gradient Descent):\", predicted_price_agd[0])\n",
    "print(\"Chênh lệch hệ số dự đoán:\", L2_error(x_svd, x_agd))"
   ]
  },
  {
   "cell_type": "markdown",
   "id": "6162fd0f",
   "metadata": {},
   "source": [
    "## Stochastic gradient descent"
   ]
  },
  {
   "cell_type": "code",
   "execution_count": 6,
   "id": "eb023ce0",
   "metadata": {},
   "outputs": [
    {
     "name": "stdout",
     "output_type": "stream",
     "text": [
      "Hệ số dự đoán SGD: [2.60201285e+00 7.51327368e-01 2.20397723e-01 1.84150194e-03]\n",
      "Giá trị dự đoán (SGD): 3.2728736270633836\n",
      "Chênh lệch hệ số dự đoán: 0.031328677822550936\n"
     ]
    }
   ],
   "source": [
    "def nabla_L_of_1_set(x, w_i, d_i):\n",
    "    return 2 * (w_i.dot(x) - d_i) * w_i\n",
    "\n",
    "def nabla_L_of_all_data(x, W, d):\n",
    "    return 2 * W.T.dot(W.dot(x) - d) / len(d)\n",
    "\n",
    "# Stochastic gradient descent\n",
    "def stochastic_gradient_descent(W, d, initial_point, eta, max_iterations, epsilon):\n",
    "    number_of_data = len(d)\n",
    "    current_point = initial_point.copy()\n",
    "    i = 0    \n",
    "    while i <= max_iterations:\n",
    "        idx = np.random.randint(0, number_of_data)\n",
    "        next_point = current_point - eta * nabla_L_of_1_set(current_point, W[idx], d[idx])\n",
    "        if np.linalg.norm(nabla_L_of_all_data(next_point, W, d)) < epsilon:\n",
    "            return next_point\n",
    "        current_point = next_point\n",
    "        i += 1\n",
    "    return current_point\n",
    "\n",
    "x_sgd = stochastic_gradient_descent(W_scaled, d, initial_point, 0.001, 10000, 1e-6)\n",
    "predicted_price_sgd = scaled_house_features.dot(x_sgd)\n",
    "print(\"Hệ số dự đoán SGD:\", x_sgd)\n",
    "print(\"Giá trị dự đoán (SGD):\", predicted_price_sgd[0])\n",
    "print(\"Chênh lệch hệ số dự đoán:\", L2_error(x_svd, x_sgd))"
   ]
  },
  {
   "cell_type": "markdown",
   "id": "f8f3d325",
   "metadata": {},
   "source": [
    "## Sklearn"
   ]
  },
  {
   "cell_type": "code",
   "execution_count": 7,
   "id": "f51a3277",
   "metadata": {},
   "outputs": [
    {
     "name": "stdout",
     "output_type": "stream",
     "text": [
      "Hệ số dự đoán (sklearn): [ 2.48931379  0.73232856  0.44655102 -0.08306847]\n",
      "Dự đoán giá trị: 3.20\n",
      "Chênh lệch hệ số dự đoán: 0.28053835317220305\n"
     ]
    }
   ],
   "source": [
    "# Split the data into training and testing sets\n",
    "X_train, X_test, y_train, y_test = train_test_split(W_scaled, d, test_size=0.2, random_state=42)\n",
    "\n",
    "# Fit the model\n",
    "model = LinearRegression()\n",
    "model.fit(X_train, y_train)\n",
    "# Get the coefficients\n",
    "coefficients = model.coef_\n",
    "intercept = model.intercept_\n",
    "\n",
    "# Predict the price using the trained model\n",
    "predicted_price_sklearn = model.predict(scaled_house_features)\n",
    "coefficients[0] = intercept\n",
    "print(\"Hệ số dự đoán (sklearn):\", coefficients)\n",
    "print(f\"Dự đoán giá trị: {predicted_price_sklearn[0]:.2f}\")\n",
    "print(\"Chênh lệch hệ số dự đoán:\", L2_error(x_svd, coefficients))"
   ]
  }
 ],
 "metadata": {
  "kernelspec": {
   "display_name": "Python 3",
   "language": "python",
   "name": "python3"
  },
  "language_info": {
   "codemirror_mode": {
    "name": "ipython",
    "version": 3
   },
   "file_extension": ".py",
   "mimetype": "text/x-python",
   "name": "python",
   "nbconvert_exporter": "python",
   "pygments_lexer": "ipython3",
   "version": "3.11.9"
  }
 },
 "nbformat": 4,
 "nbformat_minor": 5
}
