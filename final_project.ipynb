{
  "cells": [
    {
      "cell_type": "markdown",
      "metadata": {
        "id": "eFCzIBshcHmg"
      },
      "source": [
        "# **Final Project**\n",
        "\n",
        "##**Problem stament :**     \n",
        "\n",
        "The widespread dissemination of fake news and propaganda presents serious societal risks, including the erosion of public trust, political polarization, manipulation of elections, and the spread of harmful misinformation during crises such as pandemics or conflicts. From an NLP perspective, detecting fake news is fraught with challenges. Linguistically, fake news often mimics the tone and structure of legitimate journalism, making it difficult to distinguish using surface-level features. The absence of reliable and up-to-date labeled datasets, especially across multiple languages and regions, hampers the effectiveness of supervised learning models. Additionally, the dynamic and adversarial nature of misinformation means that malicious actors constantly evolve their language and strategies to bypass detection systems. Cultural context, sarcasm, satire, and implicit bias further complicate automated analysis. Moreover, NLP models risk amplifying biases present in training data, leading to unfair classifications and potential censorship of legitimate content. These challenges underscore the need for cautious, context-aware approaches, as the failure to address them can inadvertently contribute to misinformation, rather than mitigate it.\n",
        "\n",
        "\n",
        "\n",
        "Use datasets in link : https://drive.google.com/drive/folders/1mrX3vPKhEzxG96OCPpCeh9F8m_QKCM4z?usp=sharing\n",
        "to complete requirement.\n",
        "\n",
        "## **About dataset:**\n",
        "\n",
        "* **True Articles**:\n",
        "\n",
        "  * **File**: `MisinfoSuperset_TRUE.csv`\n",
        "  * **Sources**:\n",
        "\n",
        "    * Reputable media outlets like **Reuters**, **The New York Times**, **The Washington Post**, etc.\n",
        "\n",
        "* **Fake/Misinformation/Propaganda Articles**:\n",
        "\n",
        "  * **File**: `MisinfoSuperset_FAKE.csv`\n",
        "  * **Sources**:\n",
        "\n",
        "    * **American right-wing extremist websites** (e.g., Redflag Newsdesk, Breitbart, Truth Broadcast Network)\n",
        "    * **Public dataset** from:\n",
        "\n",
        "      * Ahmed, H., Traore, I., & Saad, S. (2017): \"Detection of Online Fake News Using N-Gram Analysis and Machine Learning Techniques\" *(Springer LNCS 10618)*\n",
        "\n",
        "\n",
        "\n",
        "## **Requirement**\n",
        "\n",
        "A team consisting of three members must complete a project that involves applying the methods learned from the beginning of the course up to the present. The team is expected to follow and document the entire machine learning workflow, which includes the following steps:\n",
        "\n",
        "1. **Data Preprocessing**: Clean and prepare the dataset,etc.\n",
        "\n",
        "2. **Exploratory Data Analysis (EDA)**: Explore and visualize the data.\n",
        "\n",
        "3. **Model Building**: Select and build one or more machine learning models suitable for the problem at hand.\n",
        "\n",
        "4. **Hyperparameter set up**: Set and adjust the model's hyperparameters using appropriate methods to improve performance.\n",
        "\n",
        "5. **Model Training**: Train the model(s) on the training dataset.\n",
        "\n",
        "6. **Performance Evaluation**: Evaluate the trained model(s) using appropriate metrics (e.g., accuracy, precision, recall, F1-score, confusion matrix, etc.) and validate their performance on unseen data.\n",
        "\n",
        "7. **Conclusion**: Summarize the results, discuss the model's strengths and weaknesses, and suggest possible improvements or future work.\n",
        "\n",
        "\n",
        "\n"
      ]
    },
    {
      "cell_type": "code",
      "execution_count": 12,
      "metadata": {},
      "outputs": [],
      "source": [
        "import numpy as np\n",
        "import pandas as pd\n",
        "import matplotlib.pyplot as plt"
      ]
    },
    {
      "cell_type": "code",
      "execution_count": 13,
      "metadata": {},
      "outputs": [
        {
          "name": "stdout",
          "output_type": "stream",
          "text": [
            "True dataset:\n",
            "    Unnamed: 0                                               text\n",
            "0           0  The head of a conservative Republican faction ...\n",
            "1           1  Transgender people will be allowed for the fir...\n",
            "2           2  The special counsel investigation of links bet...\n",
            "3           3  Trump campaign adviser George Papadopoulos tol...\n",
            "4           4  President Donald Trump called on the U.S. Post... \n",
            " (34975, 2)\n",
            "Fake dataset:\n",
            "    Unnamed: 0                                               text\n",
            "0           0  Donald Trump just couldn t wish all Americans ...\n",
            "1           1  House Intelligence Committee Chairman Devin Nu...\n",
            "2           2  On Friday, it was revealed that former Milwauk...\n",
            "3           3  On Christmas day, Donald Trump announced that ...\n",
            "4           4  Pope Francis used his annual Christmas Day mes... \n",
            " (43642, 2)\n"
          ]
        }
      ],
      "source": [
        "df_true = pd.read_csv(\"DataSet_Misinfo_TRUE.csv\")\n",
        "df_fake = pd.read_csv(\"DataSet_Misinfo_FAKE.csv\")\n",
        "\n",
        "print(f\"True dataset:\\n {df_true.head()} \\n {df_true.shape}\")\n",
        "print(f\"Fake dataset:\\n {df_fake.head()} \\n {df_fake.shape}\")"
      ]
    },
    {
      "cell_type": "code",
      "execution_count": 14,
      "metadata": {},
      "outputs": [],
      "source": [
        "df_true = df_true.drop(columns=[\"Unnamed: 0\"], errors='ignore')\n",
        "df_fake = df_fake.drop(columns=[\"Unnamed: 0\"], errors='ignore')"
      ]
    },
    {
      "cell_type": "code",
      "execution_count": 21,
      "metadata": {},
      "outputs": [
        {
          "name": "stdout",
          "output_type": "stream",
          "text": [
            "True dataset null: text    0\n",
            "dtype: int64\n",
            "Fake dataset null: text    0\n",
            "dtype: int64\n"
          ]
        }
      ],
      "source": [
        "print(f\"True dataset null: {df_true.isnull().sum()}\")\n",
        "print(f\"Fake dataset null: {df_fake.isnull().sum()}\")\n",
        "df_true = df_true.dropna()\n",
        "df_fake = df_fake.dropna()"
      ]
    },
    {
      "cell_type": "code",
      "execution_count": 23,
      "metadata": {},
      "outputs": [
        {
          "name": "stdout",
          "output_type": "stream",
          "text": [
            "True dataset duplicates: 0\n",
            "Fake dataset duplicates: 0\n"
          ]
        }
      ],
      "source": [
        "print(f\"True dataset duplicates: {df_true.duplicated().sum()}\")\n",
        "print(f\"Fake dataset duplicates: {df_fake.duplicated().sum()}\")\n",
        "df_true = df_true.drop_duplicates()\n",
        "df_fake = df_fake.drop_duplicates()"
      ]
    },
    {
      "cell_type": "code",
      "execution_count": 26,
      "metadata": {},
      "outputs": [
        {
          "data": {
            "application/vnd.microsoft.datawrangler.viewer.v0+json": {
              "columns": [
                {
                  "name": "index",
                  "rawType": "int64",
                  "type": "integer"
                },
                {
                  "name": "text",
                  "rawType": "object",
                  "type": "string"
                },
                {
                  "name": "label",
                  "rawType": "int64",
                  "type": "integer"
                }
              ],
              "ref": "697038f1-a903-46ad-9ebc-93ebca654eaf",
              "rows": [
                [
                  "0",
                  "At a campaign event Hillary Clinton talked to a small business owner who has been hit hard by Obamacare. The health insurance for her family has risen dramatically, and after babbling her final thought was  I don t understand.  Seriously, nothing like playing dumb about the biggest, worst piece of legislation unloaded on the American people in decades.  A $400 increase, assuming you didn t have some terrible healthcare event, which it doesn t sound like you did,  Clinton said at a campaign event in Virginia.  I don t understand.",
                  "0"
                ],
                [
                  "1",
                  "Officials in the U.S. military’s Central Command, which oversees combat operations in the Middle East and South Asia, were much more likely than counterparts elsewhere to believe superiors  distorted or suppressed their analyses, according to a government intelligence survey.     Results of the December 2015 survey are likely to reinforce questions in Congress and elsewhere about whether the administration is pressuring officials to make over-optimistic claims about progress against Islamic State and the Taliban to help U.S. President Barack Obama leave office in January on a high note.     The Office of the Director of National Intelligence (ODNI)     survey, which had not been reported until now, was one of the main topics of a House intelligence committee hearing on Thursday.     In one of its more striking findings, only 36 percent of  Central Command officials surveyed said they were confident that their mid- and senior-level managers were not deliberately distorting or suppressing their analyses. The average for the other eight U.S. military commands, which include those in the Pacific, Africa and Europe, was 72 percent. Central Command directs the American military missions in Afghanistan, Iraq, Syria and elsewhere in the Middle East and South Asia. Its analysts typically assess intelligence such as potential targets for bombing and an enemy’s strength. Asked if “anyone attempted to distort or suppress analysis on which you were working in the face of persuasive evidence,” 40 percent of the CENTCOM respondents said yes, compared to an average of 13 percent. The survey found that when that question was asked, 65 percent of the command’s respondents said “politicization” was an issue.  “The data suggests respondents from Central Command believe their workplace adheres to objectivity standards relatively less than do workplaces of their IC counterparts,” the report said, using an acronym for the U.S. intelligence community.  Outgoing Director of National Intelligence James Clapper said the situation at Central Command had improved in the 2016 survey. Clapper told a congressional intelligence hearing on Thursday that CENTCOM objectivity numbers were now similar to those in other combatant commands. “I do think there is, by virtue of the change in commanders and...(there) has been a change in the atmosphere there and so I’ve been encouraged by the trends particularly this year,” Clapper said.  CENTCOM did not immediately respond to a request for comment. Separately, Clapper told the hearing that he had submitted his letter of resignation but would stay until the end of the Obama administration. The survey has been conducted annually since 2006 and about 4,000 analysts and managers responded to it, including 125 CENTCOM analysts and managers. It cautions, however, that because responses were voluntary, “care should be taken when broadly interpreting results” for each command.         Officials in other U.S. intelligence agencies said the Central Command issues were not the product of pressure from White House or other senior officials, and played a minor role in the administration’s public claims of progress against Islamic State and the Taliban, many of which have proved to be overly optimistic. That is true, these officials said, because much of the Central Command analysis consists of daily bomb damage assessments and other situation reports, not strategic intelligence, and constitutes only a small part of the material that finds its way from numerous other intelligence agencies, including the CIA and the National Security Agency, into the President’s daily intelligence briefing. Nevertheless, the findings of the survey, which was posted with no notice last month on a remote part of the ODNI website, are likely to raise questions about intelligence assessments provided by Central Command. Earlier this year, a U.S. congressional report said Central Command painted too rosy a picture of the fight against Islamic State in 2014 and 2015 compared with the reality on the ground and grimmer assessments by other analysts.       The Defense Department Inspector General is investigating the findings and is expected to issue a separate report, military officials said.",
                  "1"
                ],
                [
                  "2",
                  "Five migrants were wounded on Saturday when shots were fired during a brawl in the northern French port of Calais, the local prefect s office said. Gunshots were exchanged between groups of Afghans in the late afternoon, it said. A police source said the incident occurred during what was  probably a dispute between migrant smugglers. The shots were fired near the local Secours Catholique charity on the outskirts of Calais. Three migrants were being treated in a Calais hospital and a fourth, who was more seriously wounded, had been transferred to a hospital in Lille. A fifth was treated at the scene. Calais is a magnet for migrants aiming to reach Britain, a short distance across the Channel. Last year, authorities cleared the makeshift  Jungle  camp in Calais, but people hoping to get into Britain by crossing the Channel in trains or ferries are steadily returning. Authorities estimate at 500 and associations at 700 the number of migrants from Ethiopia, Eritrea and Afghanistan still in Calais.",
                  "1"
                ],
                [
                  "3",
                  "The continuing refusal by the San Francisco 49ers quarterback Colin Kaepernick to stand during the playing of “The   Banner” before games has set off a debate about patriotism, protest and professional sports. But it has also raised another fraught question: Is our national anthem itself racist? The journalist Jon Schwarz, writing in The Intercept, argued yes, denouncing the lyrics, written by Francis Scott Key during the War of 1812, as “a celebration of slavery. ” How could black players, Mr. Schwarz asked, be expected to stand for a song whose rarely sung third stanza  —   which includes the lines “No refuge could save the hireling and   the terror of flight or the gloom of the grave”  —   “literally celebrates the murder of  ”? That argument drew outrage from some conservative news outlets, as well as a more scholarly rebuttal from Mark Clague, a musicologist at the University of Michigan and the founding board chairman of the Star Spangled Music Foundation. We spoke with Mr. Clague, who is writing a book about the song, about the anthem’s history and shifting meanings. The interview has been edited for clarity and length. Why do you think those who call the song racist are wrong? The social context of the song comes from the age of slavery, but the song itself isn’t about slavery, and it doesn’t treat whites differently from blacks. The reference to slaves is about the use, and in some sense the manipulation, of black Americans to fight for the British, with the promise of freedom. The American forces included   as well as whites. The term “freemen,” whose heroism is celebrated in the fourth stanza, would have encompassed both. Few people know “The   Banner” has a third verse, since it was often left out of   sheet music publications. Why?  I don’t think people were afraid of offending   but of offending the British. It was their blood that “has wash’d out their foul footstep’s pollution,” as the third verse puts it. But when we became allies in World War I, we really started reversing course. Part of the difficulty of parsing the anthem seems to that Americans know so little about the War of 1812. Why is public understanding so murky?  It’s something in our history we would probably rather skip over. Nobody won, nobody lost. The British burned down the White House. We invaded Canada. It was sort of a bizarre war. But while it didn’t really change much, it was pivotal as far as American identity went. The naval buildup really created the modern American national state. That’s part of the reason why “The   Banner” seems so natural and true and permanent and sacred to us today. It didn’t really describe America in 1814, when Key wrote his lyrics, but it was a vision of the unified power the country would become. For your project “Poets  Patriots,” you tracked down around 100 different sets of lyrics written by others. How do these alternate versions help us understand the meaning of the song? There are versions that talk about temperance, about women’s suffrage, about presidential campaigns, including Abraham Lincoln’s. The one I wish everyone knew about was one about abolition from 1844, beginning “Oh say, do you hear   …     ” It repeats Key’s phrase “the land of the free” but as an ironic statement. I wish teachers would contrast that version with Key’s, as a way of showing how singing the anthem isn’t a mindless, rote ritual, but part of a long history of exploration of what the country is about. Does that same kind of revision go on today?  By the 20th century, we were treating the anthem as a religious hymn, and it became counterproductive to alter the lyrics as social commentary since changes to the anthem tend to make people so upset. In the 20th century, commentary became less about the lyrics than about the performance. Take Jimi Hendrix’s version. It was a combination of patriotism and protest. Here you have an   man, speaking largely to white youth but really to all youth, about their own potential to create the country at a moment when they were old enough to be drafted, but not necessarily old enough to vote. What do you see as the most important part of the anthem?  For me, it’s the punctuation that ends the part we sing. After “land of the free,” we have a question mark, not an exclamation point. Is the flag and what it represents still there? Are we winning the battle for freedom that this country was founded on? That’s where Colin Kaepernick has started a productive conversation. If there are people who don’t feel the song represents them, we need to pay attention to that. But if we just reject the song as racist, or declare that it isn’t our anthem anymore, we don’t fix the problem.",
                  "1"
                ],
                [
                  "4",
                  "Human Rights Watch is a dangerous threat to the government. It calls on the Government of Georgia to decriminalize personal use of all drugs and acquisition or possession of a small quantity for personal use.",
                  "0"
                ]
              ],
              "shape": {
                "columns": 2,
                "rows": 5
              }
            },
            "text/html": [
              "<div>\n",
              "<style scoped>\n",
              "    .dataframe tbody tr th:only-of-type {\n",
              "        vertical-align: middle;\n",
              "    }\n",
              "\n",
              "    .dataframe tbody tr th {\n",
              "        vertical-align: top;\n",
              "    }\n",
              "\n",
              "    .dataframe thead th {\n",
              "        text-align: right;\n",
              "    }\n",
              "</style>\n",
              "<table border=\"1\" class=\"dataframe\">\n",
              "  <thead>\n",
              "    <tr style=\"text-align: right;\">\n",
              "      <th></th>\n",
              "      <th>text</th>\n",
              "      <th>label</th>\n",
              "    </tr>\n",
              "  </thead>\n",
              "  <tbody>\n",
              "    <tr>\n",
              "      <th>0</th>\n",
              "      <td>At a campaign event Hillary Clinton talked to ...</td>\n",
              "      <td>0</td>\n",
              "    </tr>\n",
              "    <tr>\n",
              "      <th>1</th>\n",
              "      <td>Officials in the U.S. military’s Central Comma...</td>\n",
              "      <td>1</td>\n",
              "    </tr>\n",
              "    <tr>\n",
              "      <th>2</th>\n",
              "      <td>Five migrants were wounded on Saturday when sh...</td>\n",
              "      <td>1</td>\n",
              "    </tr>\n",
              "    <tr>\n",
              "      <th>3</th>\n",
              "      <td>The continuing refusal by the San Francisco 49...</td>\n",
              "      <td>1</td>\n",
              "    </tr>\n",
              "    <tr>\n",
              "      <th>4</th>\n",
              "      <td>Human Rights Watch is a dangerous threat to th...</td>\n",
              "      <td>0</td>\n",
              "    </tr>\n",
              "  </tbody>\n",
              "</table>\n",
              "</div>"
            ],
            "text/plain": [
              "                                                text  label\n",
              "0  At a campaign event Hillary Clinton talked to ...      0\n",
              "1  Officials in the U.S. military’s Central Comma...      1\n",
              "2  Five migrants were wounded on Saturday when sh...      1\n",
              "3  The continuing refusal by the San Francisco 49...      1\n",
              "4  Human Rights Watch is a dangerous threat to th...      0"
            ]
          },
          "execution_count": 26,
          "metadata": {},
          "output_type": "execute_result"
        }
      ],
      "source": [
        "df_fake[\"label\"] = 0\n",
        "df_true[\"label\"] = 1\n",
        "\n",
        "# Kết hợp 2 tập dữ liệu\n",
        "df = pd.concat([df_fake, df_true], ignore_index=True)\n",
        "\n",
        "# Shuffle dữ liệu\n",
        "df = df.sample(frac=1, random_state=42).reset_index(drop=True)\n",
        "\n",
        "df.head()"
      ]
    },
    {
      "cell_type": "code",
      "execution_count": 27,
      "metadata": {},
      "outputs": [],
      "source": [
        "from sklearn.feature_extraction.text import TfidfVectorizer\n",
        "\n",
        "# Giả sử cột chứa văn bản là 'text'\n",
        "vectorizer = TfidfVectorizer(stop_words='english', max_df=0.7)\n",
        "X = vectorizer.fit_transform(df['text'])  # Chuyển văn bản thành vector\n",
        "y = df['label']"
      ]
    },
    {
      "cell_type": "code",
      "execution_count": 28,
      "metadata": {},
      "outputs": [],
      "source": [
        "from sklearn.model_selection import train_test_split\n",
        "\n",
        "X_train, X_test, y_train, y_test = train_test_split(\n",
        "    X, y, test_size=0.2, random_state=42\n",
        ")"
      ]
    },
    {
      "cell_type": "code",
      "execution_count": 29,
      "metadata": {},
      "outputs": [
        {
          "name": "stdout",
          "output_type": "stream",
          "text": [
            "Accuracy: 0.9346986371255739\n",
            "              precision    recall  f1-score   support\n",
            "\n",
            "           0       0.93      0.94      0.94      6894\n",
            "           1       0.94      0.93      0.93      6827\n",
            "\n",
            "    accuracy                           0.93     13721\n",
            "   macro avg       0.93      0.93      0.93     13721\n",
            "weighted avg       0.93      0.93      0.93     13721\n",
            "\n"
          ]
        }
      ],
      "source": [
        "from sklearn.linear_model import LogisticRegression\n",
        "from sklearn.metrics import accuracy_score, classification_report\n",
        "\n",
        "model = LogisticRegression()\n",
        "model.fit(X_train, y_train)\n",
        "\n",
        "# Dự đoán\n",
        "y_pred = model.predict(X_test)\n",
        "\n",
        "# Đánh giá\n",
        "print(\"Accuracy:\", accuracy_score(y_test, y_pred))\n",
        "print(classification_report(y_test, y_pred))\n"
      ]
    }
  ],
  "metadata": {
    "colab": {
      "provenance": []
    },
    "kernelspec": {
      "display_name": "Python 3",
      "name": "python3"
    },
    "language_info": {
      "codemirror_mode": {
        "name": "ipython",
        "version": 3
      },
      "file_extension": ".py",
      "mimetype": "text/x-python",
      "name": "python",
      "nbconvert_exporter": "python",
      "pygments_lexer": "ipython3",
      "version": "3.11.9"
    }
  },
  "nbformat": 4,
  "nbformat_minor": 0
}
