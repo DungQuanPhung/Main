{
 "cells": [
  {
   "cell_type": "code",
   "execution_count": 19,
   "id": "674b8e4f",
   "metadata": {},
   "outputs": [
    {
     "name": "stdout",
     "output_type": "stream",
     "text": [
      "Input: [0 0], Expected: 0, Predicted: 0.0\n",
      "Input: [0 1], Expected: 1, Predicted: 1.0\n",
      "Input: [1 0], Expected: 1, Predicted: 1.0\n",
      "Input: [1 1], Expected: 0, Predicted: 0.0\n",
      "Loss: 0.0023006687210754516\n"
     ]
    }
   ],
   "source": [
    "import numpy as np\n",
    "\n",
    "def sigmoid(x):\n",
    "    return 1 / (1 + np.exp(-x))\n",
    "\n",
    "def sigmoid_derivative(x):\n",
    "    s = sigmoid(x)\n",
    "    return s * (1 - s)\n",
    "\n",
    "def train_xor(x, y, epochs=100000, lr=0.05):\n",
    "    # Khởi tạo trọng số nhỏ\n",
    "    w1 = np.random.uniform(-1, 1, (2, 2))\n",
    "    b1 = np.random.uniform(-1, 1, (1, 2))\n",
    "    w2 = np.random.uniform(-1, 1, (2, 1))\n",
    "    b2 = np.random.uniform(-1, 1)\n",
    "\n",
    "    for epoch in range(epochs):\n",
    "        # Forward\n",
    "        z1 = np.dot(x, w1) + b1     # (4,2)\n",
    "        a1 = sigmoid(z1)\n",
    "\n",
    "        z2 = np.dot(a1, w2) + b2    # (4,1)\n",
    "        a2 = sigmoid(z2)\n",
    "\n",
    "        # Loss\n",
    "        loss = -np.mean(y * np.log(a2) + (1 - y) * np.log(1 - a2))\n",
    "\n",
    "        # Backprop\n",
    "        dz2 = a2 - y\n",
    "        dw2 = np.dot(a1.T, dz2) / 4\n",
    "        db2 = np.sum(dz2, axis=0, keepdims=True) / 4\n",
    "\n",
    "        dz1 = np.dot(dz2, w2.T) * sigmoid_derivative(z1)\n",
    "        dw1 = np.dot(x.T, dz1) / 4\n",
    "        db1 = np.sum(dz1, axis=0, keepdims=True) / 4\n",
    "\n",
    "        # Cập nhật\n",
    "        w2 -= lr * dw2\n",
    "        b2 -= lr * db2\n",
    "        w1 -= lr * dw1\n",
    "        b1 -= lr * db1\n",
    "\n",
    "    return x, y, a2, np.round(a2), loss\n",
    "\n",
    "\n",
    "x = np.array([\n",
    "    [0, 0],\n",
    "    [0, 1],\n",
    "    [1, 0],\n",
    "    [1, 1]\n",
    "])\n",
    "y = np.array([[0], [1], [1], [0]])\n",
    "\n",
    "# Huấn luyện\n",
    "x, y, output, prediction, loss = train_xor(x, y)\n",
    "\n",
    "# Kết quả\n",
    "for i in range(4):\n",
    "    print(f\"Input: {x[i]}, Expected: {y[i][0]}, Predicted: {prediction[i][0]}\")\n",
    "\n",
    "print(\"Loss:\", loss)\n"
   ]
  }
 ],
 "metadata": {
  "kernelspec": {
   "display_name": "Python 3",
   "language": "python",
   "name": "python3"
  },
  "language_info": {
   "codemirror_mode": {
    "name": "ipython",
    "version": 3
   },
   "file_extension": ".py",
   "mimetype": "text/x-python",
   "name": "python",
   "nbconvert_exporter": "python",
   "pygments_lexer": "ipython3",
   "version": "3.11.9"
  }
 },
 "nbformat": 4,
 "nbformat_minor": 5
}
