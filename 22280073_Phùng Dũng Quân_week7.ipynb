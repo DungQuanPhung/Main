{
  "cells": [
    {
      "cell_type": "markdown",
      "metadata": {
        "id": "qdwhDFzNWtEG"
      },
      "source": [
        "# Problem\n",
        "- Use BERT and XLNet to classify sentiment from vietnamese students reviews."
      ]
    },
    {
      "cell_type": "markdown",
      "metadata": {
        "id": "k9e3-Wung46n"
      },
      "source": [
        "## Download dataset\n",
        "Vietnamese Students' Feedback Corpus (UIT-VSFC) is the resource consists of over 16,000 sentences which are human-annotated with two different tasks: sentiment-based and topic-based classifications.\n",
        "\n",
        "[1] Kiet Van Nguyen, Vu Duc Nguyen, Phu Xuan-Vinh Nguyen, Tham Thi-Hong Truong, Ngan Luu-Thuy Nguyen, UIT-VSFC: Vietnamese Students' Feedback Corpus for Sentiment Analysis,  2018 10th International Conference on Knowledge and Systems Engineering (KSE 2018), November 1-3, 2018, Ho Chi Minh City, Vietnam"
      ]
    },
    {
      "cell_type": "code",
      "execution_count": 1,
      "metadata": {
        "colab": {
          "base_uri": "https://localhost:8080/"
        },
        "id": "Lldg06Piggji",
        "outputId": "5ee00c23-e265-433d-e334-155de3629388"
      },
      "outputs": [
        {
          "name": "stdout",
          "output_type": "stream",
          "text": [
            "Requirement already satisfied: datasets in c:\\users\\admin\\appdata\\local\\programs\\python\\python311\\lib\\site-packages (3.6.0)\n",
            "Requirement already satisfied: filelock in c:\\users\\admin\\appdata\\local\\programs\\python\\python311\\lib\\site-packages (from datasets) (3.18.0)\n",
            "Requirement already satisfied: numpy>=1.17 in c:\\users\\admin\\appdata\\local\\programs\\python\\python311\\lib\\site-packages (from datasets) (2.2.6)\n",
            "Requirement already satisfied: pyarrow>=15.0.0 in c:\\users\\admin\\appdata\\local\\programs\\python\\python311\\lib\\site-packages (from datasets) (19.0.1)\n",
            "Requirement already satisfied: dill<0.3.9,>=0.3.0 in c:\\users\\admin\\appdata\\local\\programs\\python\\python311\\lib\\site-packages (from datasets) (0.3.8)\n",
            "Requirement already satisfied: pandas in c:\\users\\admin\\appdata\\local\\programs\\python\\python311\\lib\\site-packages (from datasets) (2.2.3)\n",
            "Requirement already satisfied: requests>=2.32.2 in c:\\users\\admin\\appdata\\local\\programs\\python\\python311\\lib\\site-packages (from datasets) (2.32.3)\n",
            "Requirement already satisfied: tqdm>=4.66.3 in c:\\users\\admin\\appdata\\local\\programs\\python\\python311\\lib\\site-packages (from datasets) (4.67.1)\n",
            "Requirement already satisfied: xxhash in c:\\users\\admin\\appdata\\local\\programs\\python\\python311\\lib\\site-packages (from datasets) (3.5.0)\n",
            "Requirement already satisfied: multiprocess<0.70.17 in c:\\users\\admin\\appdata\\local\\programs\\python\\python311\\lib\\site-packages (from datasets) (0.70.16)\n",
            "Requirement already satisfied: fsspec<=2025.3.0,>=2023.1.0 in c:\\users\\admin\\appdata\\local\\programs\\python\\python311\\lib\\site-packages (from fsspec[http]<=2025.3.0,>=2023.1.0->datasets) (2024.12.0)\n",
            "Requirement already satisfied: huggingface-hub>=0.24.0 in c:\\users\\admin\\appdata\\local\\programs\\python\\python311\\lib\\site-packages (from datasets) (0.30.2)\n",
            "Requirement already satisfied: packaging in c:\\users\\admin\\appdata\\local\\programs\\python\\python311\\lib\\site-packages (from datasets) (25.0)\n",
            "Requirement already satisfied: pyyaml>=5.1 in c:\\users\\admin\\appdata\\local\\programs\\python\\python311\\lib\\site-packages (from datasets) (6.0.2)\n",
            "Requirement already satisfied: aiohttp!=4.0.0a0,!=4.0.0a1 in c:\\users\\admin\\appdata\\local\\programs\\python\\python311\\lib\\site-packages (from fsspec[http]<=2025.3.0,>=2023.1.0->datasets) (3.11.18)\n",
            "Requirement already satisfied: aiohappyeyeballs>=2.3.0 in c:\\users\\admin\\appdata\\local\\programs\\python\\python311\\lib\\site-packages (from aiohttp!=4.0.0a0,!=4.0.0a1->fsspec[http]<=2025.3.0,>=2023.1.0->datasets) (2.6.1)\n",
            "Requirement already satisfied: aiosignal>=1.1.2 in c:\\users\\admin\\appdata\\local\\programs\\python\\python311\\lib\\site-packages (from aiohttp!=4.0.0a0,!=4.0.0a1->fsspec[http]<=2025.3.0,>=2023.1.0->datasets) (1.3.2)\n",
            "Requirement already satisfied: attrs>=17.3.0 in c:\\users\\admin\\appdata\\local\\programs\\python\\python311\\lib\\site-packages (from aiohttp!=4.0.0a0,!=4.0.0a1->fsspec[http]<=2025.3.0,>=2023.1.0->datasets) (25.3.0)\n",
            "Requirement already satisfied: frozenlist>=1.1.1 in c:\\users\\admin\\appdata\\local\\programs\\python\\python311\\lib\\site-packages (from aiohttp!=4.0.0a0,!=4.0.0a1->fsspec[http]<=2025.3.0,>=2023.1.0->datasets) (1.6.0)\n",
            "Requirement already satisfied: multidict<7.0,>=4.5 in c:\\users\\admin\\appdata\\local\\programs\\python\\python311\\lib\\site-packages (from aiohttp!=4.0.0a0,!=4.0.0a1->fsspec[http]<=2025.3.0,>=2023.1.0->datasets) (6.4.3)\n",
            "Requirement already satisfied: propcache>=0.2.0 in c:\\users\\admin\\appdata\\local\\programs\\python\\python311\\lib\\site-packages (from aiohttp!=4.0.0a0,!=4.0.0a1->fsspec[http]<=2025.3.0,>=2023.1.0->datasets) (0.3.1)\n",
            "Requirement already satisfied: yarl<2.0,>=1.17.0 in c:\\users\\admin\\appdata\\local\\programs\\python\\python311\\lib\\site-packages (from aiohttp!=4.0.0a0,!=4.0.0a1->fsspec[http]<=2025.3.0,>=2023.1.0->datasets) (1.20.0)\n",
            "Requirement already satisfied: idna>=2.0 in c:\\users\\admin\\appdata\\local\\programs\\python\\python311\\lib\\site-packages (from yarl<2.0,>=1.17.0->aiohttp!=4.0.0a0,!=4.0.0a1->fsspec[http]<=2025.3.0,>=2023.1.0->datasets) (3.10)\n",
            "Requirement already satisfied: typing-extensions>=3.7.4.3 in c:\\users\\admin\\appdata\\local\\programs\\python\\python311\\lib\\site-packages (from huggingface-hub>=0.24.0->datasets) (4.13.2)\n",
            "Requirement already satisfied: charset-normalizer<4,>=2 in c:\\users\\admin\\appdata\\local\\programs\\python\\python311\\lib\\site-packages (from requests>=2.32.2->datasets) (3.4.1)\n",
            "Requirement already satisfied: urllib3<3,>=1.21.1 in c:\\users\\admin\\appdata\\local\\programs\\python\\python311\\lib\\site-packages (from requests>=2.32.2->datasets) (2.4.0)\n",
            "Requirement already satisfied: certifi>=2017.4.17 in c:\\users\\admin\\appdata\\local\\programs\\python\\python311\\lib\\site-packages (from requests>=2.32.2->datasets) (2025.1.31)\n",
            "Requirement already satisfied: colorama in c:\\users\\admin\\appdata\\local\\programs\\python\\python311\\lib\\site-packages (from tqdm>=4.66.3->datasets) (0.4.6)\n",
            "Requirement already satisfied: python-dateutil>=2.8.2 in c:\\users\\admin\\appdata\\local\\programs\\python\\python311\\lib\\site-packages (from pandas->datasets) (2.9.0.post0)\n",
            "Requirement already satisfied: pytz>=2020.1 in c:\\users\\admin\\appdata\\local\\programs\\python\\python311\\lib\\site-packages (from pandas->datasets) (2025.2)\n",
            "Requirement already satisfied: tzdata>=2022.7 in c:\\users\\admin\\appdata\\local\\programs\\python\\python311\\lib\\site-packages (from pandas->datasets) (2025.2)\n",
            "Requirement already satisfied: six>=1.5 in c:\\users\\admin\\appdata\\local\\programs\\python\\python311\\lib\\site-packages (from python-dateutil>=2.8.2->pandas->datasets) (1.17.0)\n"
          ]
        }
      ],
      "source": [
        "!pip install datasets"
      ]
    },
    {
      "cell_type": "code",
      "execution_count": 2,
      "metadata": {
        "colab": {
          "base_uri": "https://localhost:8080/",
          "height": 313,
          "referenced_widgets": [
            "42c6cd9399ac4cd49ef8f1f2ae04b4d2",
            "d1f0a3f6f767469fba1f0977f24245f0",
            "d1066c770114490c8d7cbe7d4ed540fc",
            "ab321a876d934eaf83f450ad07950e6f",
            "4b781d420fa84cff8a6b870743667019",
            "b3ab762556134ca790d0a41797482fda",
            "7dad67ae3b5243e58bed8ce398b4ae10",
            "8674baa76da14f08a90e1fd125e8a455",
            "a7642bc65b174a10acbdb9903e2adf45",
            "d066321f46174e418cd65b69525108fc",
            "8ca66df248434f6ba9b5eed04fbf6ff4",
            "8c8baad958e14359b5a92f2a9f9c6d05",
            "74eb1f5966c84719b66d70ecf5330ec1",
            "34bda6417a3d43aaae5e298bdbb20af8",
            "aa08d54a26f3479a80b5940eb9747351",
            "7f5db1106add45e5b642a005da0c72a0",
            "3c081f5da5124e38bef20ed7602dc955",
            "0ecc318fcfb2477e8ec7969c29c5b18c",
            "0b7942de721a4f5e8317b2c1f2892b72",
            "0c84ce649170414d9efda9861edaa88d",
            "cacb3024e1fa41b4b0252aef95c13a81",
            "4bb42e548cc546618987526d3ccfdb6b",
            "6cfde156270547e0a8434e243f4b668e",
            "8dc34044799440d2bd07d0218284f428",
            "803c3b10299d46838f1a7af97c3a0f70",
            "5f276004282643bd8058302f6b2a37f0",
            "292cdf79e60c419dbd9eed998297eefe",
            "0bd54ea8d3c54dcd98956928ceb638c7",
            "b561e4b54cf54bc38970bd7f3a599181",
            "aa4602086314462f899df708f801b557",
            "7ba86d5a6fb44f96ad39ab76d0530ebb",
            "9b62c110a16c4007965eac9ef73cc34d",
            "95232f18181b4a99a1fc3f2bb7fe6924",
            "101881aa20534a1dbaf0ffcb3bb73ea3",
            "33ba356dd7714c12881c0d9027074bf9",
            "9242e82e66914c3eb34bc040ff6798c0",
            "e158842a5a8e42ed874553055ec718ab",
            "be90e687c7c648479004fd178b95a897",
            "5cde9ae3a3cc4fcb814ba01ec7ed5a35",
            "cfb4398e5db3459a9eea6dacb1a41f47",
            "f51f83ab8e4d440fbadf07ba90994818",
            "2b6a3036c3394614ac5ec8b09572eb1e",
            "fe697ad7b39843d09e3d4fdc8182bd8c",
            "1a1dad830ae54492af8447b35221fac0",
            "7ce07a1d64fc44b4a67163e1e0e4beb0",
            "257706e5d0c049de8acefc8f81998870",
            "44d82efe397f4b07a9b42bb244a5eac0",
            "0febf9f454a042fd8410d2a3da39c350",
            "b9f8df7bd1a44aa083203fcd6cfaa312",
            "1c368f1ed31c403eaf48d3dcd9e7aa1b",
            "a21b1c9a8261431698606a3b9aa7b96f",
            "a66e7d262a7a4af68ec5cee1dfccd363",
            "2059b35ea7364acfb80b788cd2df5c7d",
            "878c54dee889406186250ed860e6ef1a",
            "432c5ae7c4c24530a7bb47c3450c044d",
            "717ef76264fb4af59826309098a52505",
            "5d0393af3ffa4a649476c8e8a20dfde5",
            "8e13ff1a001b480da82b6c213bd65420",
            "8db55e1bf59e476e979df2104a8ee14c",
            "f7822ecc921d49b3973734d13f887ef5",
            "8bced0fa67ee46e1bf144b371954e514",
            "881a881a383d4ba19cd5b1ab9f7be70a",
            "84379deb065844df88a2dff0cf871621",
            "109e29c3f5a140bba66d53eed275e211",
            "95777b27cdea4448ab2828c69be44fda",
            "4b7187dbcf7a41a9aa9799ac470b1ebc"
          ]
        },
        "id": "OFaIk_IWg8vR",
        "outputId": "84d20766-93d9-4b6a-c824-1411bfa78ed4"
      },
      "outputs": [],
      "source": [
        "from datasets import load_dataset\n",
        "\n",
        "dataset = load_dataset(\"uitnlp/vietnamese_students_feedback\")"
      ]
    },
    {
      "cell_type": "markdown",
      "metadata": {
        "id": "xCVpfF3jhKIg"
      },
      "source": [
        "## Train set exploration"
      ]
    },
    {
      "cell_type": "code",
      "execution_count": 3,
      "metadata": {
        "colab": {
          "base_uri": "https://localhost:8080/"
        },
        "id": "_M69suPQg-jU",
        "outputId": "9ae72bac-eee7-48e8-def1-d050c7888e87"
      },
      "outputs": [
        {
          "data": {
            "text/plain": [
              "Dataset({\n",
              "    features: ['sentence', 'sentiment', 'topic'],\n",
              "    num_rows: 11426\n",
              "})"
            ]
          },
          "execution_count": 3,
          "metadata": {},
          "output_type": "execute_result"
        }
      ],
      "source": [
        "train_set = dataset['train']\n",
        "train_set"
      ]
    },
    {
      "cell_type": "code",
      "execution_count": 4,
      "metadata": {
        "colab": {
          "base_uri": "https://localhost:8080/"
        },
        "id": "efW01jAZhAFy",
        "outputId": "96dfd61f-c4e5-4aef-a9f2-e81a29b4f5a0"
      },
      "outputs": [
        {
          "data": {
            "text/plain": [
              "{'sentence': 'slide giáo trình đầy đủ .', 'sentiment': 2, 'topic': 1}"
            ]
          },
          "execution_count": 4,
          "metadata": {},
          "output_type": "execute_result"
        }
      ],
      "source": [
        "train_set[0]"
      ]
    },
    {
      "cell_type": "code",
      "execution_count": 5,
      "metadata": {
        "colab": {
          "base_uri": "https://localhost:8080/"
        },
        "id": "FZkJzC_dhBbs",
        "outputId": "6bb84f8e-96fe-4c40-bcd7-178144fdbd34"
      },
      "outputs": [
        {
          "data": {
            "text/plain": [
              "11426"
            ]
          },
          "execution_count": 5,
          "metadata": {},
          "output_type": "execute_result"
        }
      ],
      "source": [
        "len(train_set)"
      ]
    },
    {
      "cell_type": "code",
      "execution_count": 6,
      "metadata": {
        "colab": {
          "base_uri": "https://localhost:8080/"
        },
        "id": "10zZnPKTk69j",
        "outputId": "4785581d-d61d-404b-9fa1-9a1038e9253c"
      },
      "outputs": [
        {
          "data": {
            "text/plain": [
              "{0, 1, 2}"
            ]
          },
          "execution_count": 6,
          "metadata": {},
          "output_type": "execute_result"
        }
      ],
      "source": [
        "# Unique labels\n",
        "set(train_set['sentiment'])"
      ]
    },
    {
      "cell_type": "code",
      "execution_count": 7,
      "metadata": {
        "colab": {
          "base_uri": "https://localhost:8080/"
        },
        "id": "Qz-zl2WIlWru",
        "outputId": "17c7a2a6-eb02-477a-bc14-e3fc2ae3c379"
      },
      "outputs": [
        {
          "data": {
            "text/plain": [
              "{0, 1, 2, 3}"
            ]
          },
          "execution_count": 7,
          "metadata": {},
          "output_type": "execute_result"
        }
      ],
      "source": [
        "# Unique labels\n",
        "set(train_set['topic'])"
      ]
    },
    {
      "cell_type": "code",
      "execution_count": 8,
      "metadata": {},
      "outputs": [],
      "source": [
        "# Giảm số lượng mẫu dữ liệu\n",
        "train_set = train_set.select(range(5000))"
      ]
    },
    {
      "cell_type": "markdown",
      "metadata": {
        "id": "FWjy9zIohbIT"
      },
      "source": [
        "## Test set exploration"
      ]
    },
    {
      "cell_type": "code",
      "execution_count": 9,
      "metadata": {
        "colab": {
          "base_uri": "https://localhost:8080/"
        },
        "id": "B6GmZpJhhGTO",
        "outputId": "4e364737-c3d7-4b4f-fce6-13908e3f1697"
      },
      "outputs": [
        {
          "data": {
            "text/plain": [
              "Dataset({\n",
              "    features: ['sentence', 'sentiment', 'topic'],\n",
              "    num_rows: 3166\n",
              "})"
            ]
          },
          "execution_count": 9,
          "metadata": {},
          "output_type": "execute_result"
        }
      ],
      "source": [
        "test_set = dataset['test']\n",
        "test_set"
      ]
    },
    {
      "cell_type": "code",
      "execution_count": 10,
      "metadata": {
        "colab": {
          "base_uri": "https://localhost:8080/"
        },
        "id": "DuMJzUSzhdQM",
        "outputId": "a8ce8908-35f8-4577-d09c-3f1382fef54b"
      },
      "outputs": [
        {
          "data": {
            "text/plain": [
              "{'sentence': 'nói tiếng anh lưu loát .', 'sentiment': 2, 'topic': 0}"
            ]
          },
          "execution_count": 10,
          "metadata": {},
          "output_type": "execute_result"
        }
      ],
      "source": [
        "test_set[0]"
      ]
    },
    {
      "cell_type": "code",
      "execution_count": 11,
      "metadata": {
        "colab": {
          "base_uri": "https://localhost:8080/"
        },
        "id": "DZldEETthimi",
        "outputId": "ef1add5b-4504-4118-a7d9-a8a3fb101556"
      },
      "outputs": [
        {
          "data": {
            "text/plain": [
              "3166"
            ]
          },
          "execution_count": 11,
          "metadata": {},
          "output_type": "execute_result"
        }
      ],
      "source": [
        "len(test_set)"
      ]
    },
    {
      "cell_type": "markdown",
      "metadata": {},
      "source": [
        "# Valid set exploration"
      ]
    },
    {
      "cell_type": "code",
      "execution_count": 12,
      "metadata": {},
      "outputs": [],
      "source": [
        "valid_set = dataset['validation']"
      ]
    },
    {
      "cell_type": "code",
      "execution_count": 13,
      "metadata": {},
      "outputs": [
        {
          "data": {
            "text/plain": [
              "{'sentence': 'giáo trình chưa cụ thể .', 'sentiment': 0, 'topic': 1}"
            ]
          },
          "execution_count": 13,
          "metadata": {},
          "output_type": "execute_result"
        }
      ],
      "source": [
        "valid_set[0]"
      ]
    },
    {
      "cell_type": "code",
      "execution_count": 14,
      "metadata": {},
      "outputs": [
        {
          "data": {
            "text/plain": [
              "1583"
            ]
          },
          "execution_count": 14,
          "metadata": {},
          "output_type": "execute_result"
        }
      ],
      "source": [
        "len(valid_set)"
      ]
    },
    {
      "cell_type": "markdown",
      "metadata": {
        "id": "hNyuG_8kXQls"
      },
      "source": [
        "# Question:\n",
        "\n",
        "For both BERT - XLNet and vietnamese texts (this homework) and english texts (previous homework):\n",
        "- Are there any differences in the evaluating performance in applying those 2 models for 2 datasets, i.e., vietnamese and english ? Analyze and visualize your results to prove your conclusion.\n",
        "- How to improve the weaker approaches ?"
      ]
    },
    {
      "cell_type": "markdown",
      "metadata": {},
      "source": [
        "## Valid set"
      ]
    },
    {
      "cell_type": "markdown",
      "metadata": {},
      "source": [
        "# Tokenize data"
      ]
    },
    {
      "cell_type": "code",
      "execution_count": 15,
      "metadata": {},
      "outputs": [],
      "source": [
        "# Tokenize dữ liệu\n",
        "from transformers import BertTokenizerFast\n",
        "from transformers import XLNetTokenizerFast\n",
        "\n",
        "class Tokenizer:\n",
        "    def __init__(self, model_name, max_length=128):\n",
        "        if 'bert' in model_name:\n",
        "            self.tokenizer = BertTokenizerFast.from_pretrained(model_name)\n",
        "        elif 'xlnet' in model_name:\n",
        "            self.tokenizer = XLNetTokenizerFast.from_pretrained(model_name)\n",
        "        self.max_length = max_length\n",
        "\n",
        "    def tokenize_function(self, examples):\n",
        "        texts = examples.get('sentence', examples.get('text'))\n",
        "        return self.tokenizer(\n",
        "            texts,\n",
        "            truncation=True,\n",
        "            padding=\"max_length\",\n",
        "            max_length=self.max_length\n",
        "        )"
      ]
    },
    {
      "cell_type": "code",
      "execution_count": 16,
      "metadata": {},
      "outputs": [
        {
          "name": "stderr",
          "output_type": "stream",
          "text": [
            "c:\\Users\\Admin\\AppData\\Local\\Programs\\Python\\Python311\\Lib\\site-packages\\huggingface_hub\\file_download.py:896: FutureWarning: `resume_download` is deprecated and will be removed in version 1.0.0. Downloads always resume when possible. If you want to force a new download, use `force_download=True`.\n",
            "  warnings.warn(\n"
          ]
        },
        {
          "data": {
            "application/vnd.jupyter.widget-view+json": {
              "model_id": "128ce912ca0642d8b436952026971b70",
              "version_major": 2,
              "version_minor": 0
            },
            "text/plain": [
              "Map:   0%|          | 0/5000 [00:00<?, ? examples/s]"
            ]
          },
          "metadata": {},
          "output_type": "display_data"
        },
        {
          "data": {
            "application/vnd.jupyter.widget-view+json": {
              "model_id": "d399c1ddf0754dda897e0591f0f8791b",
              "version_major": 2,
              "version_minor": 0
            },
            "text/plain": [
              "Map:   0%|          | 0/1583 [00:00<?, ? examples/s]"
            ]
          },
          "metadata": {},
          "output_type": "display_data"
        },
        {
          "data": {
            "application/vnd.jupyter.widget-view+json": {
              "model_id": "a5756b9f3e9043dbbbe39c1abda79f82",
              "version_major": 2,
              "version_minor": 0
            },
            "text/plain": [
              "Map:   0%|          | 0/3166 [00:00<?, ? examples/s]"
            ]
          },
          "metadata": {},
          "output_type": "display_data"
        }
      ],
      "source": [
        "tokenizer = Tokenizer('bert-base-uncased')\n",
        "\n",
        "train_set = train_set.map(tokenizer.tokenize_function, batched=True).rename_column(\"sentiment\", \"labels\")\n",
        "valid_set = valid_set.map(tokenizer.tokenize_function, batched=True).rename_column(\"sentiment\", \"labels\")\n",
        "test_set = test_set.map(tokenizer.tokenize_function, batched=True).rename_column(\"sentiment\", \"labels\")\n",
        "\n",
        "train_set.set_format(type=\"torch\", columns=[\"input_ids\", \"attention_mask\", \"labels\"])\n",
        "valid_set.set_format(type=\"torch\", columns=[\"input_ids\", \"attention_mask\", \"labels\"])\n",
        "test_set.set_format(type=\"torch\", columns=[\"input_ids\", \"attention_mask\", \"labels\"])"
      ]
    },
    {
      "cell_type": "markdown",
      "metadata": {},
      "source": [
        "# Create Dataloader"
      ]
    },
    {
      "cell_type": "code",
      "execution_count": 17,
      "metadata": {},
      "outputs": [],
      "source": [
        "# Create a DataLoader\n",
        "from torch.utils.data import DataLoader\n",
        "\n",
        "train_dataloader = DataLoader(train_set, batch_size=16, num_workers=8, shuffle=True)\n",
        "valid_dataloader = DataLoader(valid_set, batch_size=16, num_workers=8, shuffle=True)\n",
        "test_dataloader = DataLoader(test_set, batch_size=16, num_workers=8, shuffle=True)"
      ]
    },
    {
      "cell_type": "markdown",
      "metadata": {},
      "source": [
        "# Build and load model"
      ]
    },
    {
      "cell_type": "code",
      "execution_count": 18,
      "metadata": {},
      "outputs": [],
      "source": [
        "# Build Model\n",
        "from torch.optim import AdamW\n",
        "from transformers import BertForSequenceClassification, XLNetForSequenceClassification\n",
        "\n",
        "class ModelBuilder:\n",
        "    def __init__(self, model_name, num_labels=3):\n",
        "        if 'bert' in model_name:\n",
        "            self.model_class = BertForSequenceClassification\n",
        "        elif 'xlnet' in model_name:\n",
        "            self.model_class = XLNetForSequenceClassification\n",
        "        self.model_name = model_name\n",
        "        self.num_labels = num_labels\n",
        "        self.model = None\n",
        "\n",
        "    def build_model(self):\n",
        "        self.model = self.model_class.from_pretrained(self.model_name, num_labels=self.num_labels)\n",
        "        return self.model\n",
        "    \n",
        "    def optimizer(self, learning_rate=5e-5):\n",
        "        return AdamW(self.model.parameters(), lr=learning_rate)"
      ]
    },
    {
      "cell_type": "code",
      "execution_count": 19,
      "metadata": {},
      "outputs": [
        {
          "name": "stderr",
          "output_type": "stream",
          "text": [
            "c:\\Users\\Admin\\AppData\\Local\\Programs\\Python\\Python311\\Lib\\site-packages\\huggingface_hub\\file_download.py:896: FutureWarning: `resume_download` is deprecated and will be removed in version 1.0.0. Downloads always resume when possible. If you want to force a new download, use `force_download=True`.\n",
            "  warnings.warn(\n",
            "Some weights of BertForSequenceClassification were not initialized from the model checkpoint at bert-base-uncased and are newly initialized: ['classifier.bias', 'classifier.weight']\n",
            "You should probably TRAIN this model on a down-stream task to be able to use it for predictions and inference.\n",
            "Some weights of XLNetForSequenceClassification were not initialized from the model checkpoint at xlnet-base-cased and are newly initialized: ['logits_proj.bias', 'logits_proj.weight', 'sequence_summary.summary.bias', 'sequence_summary.summary.weight']\n",
            "You should probably TRAIN this model on a down-stream task to be able to use it for predictions and inference.\n"
          ]
        }
      ],
      "source": [
        "# Load Model\n",
        "bert_model_builder = ModelBuilder('bert-base-uncased', num_labels=3)\n",
        "bert_model = bert_model_builder.build_model()\n",
        "bert_optimizer = bert_model_builder.optimizer()\n",
        "\n",
        "xlnet_model_builder = ModelBuilder('xlnet-base-cased', num_labels=3)\n",
        "xlnet_model = xlnet_model_builder.build_model()\n",
        "xlnet_optimizer = xlnet_model_builder.optimizer()"
      ]
    },
    {
      "cell_type": "markdown",
      "metadata": {},
      "source": [
        "# Train model"
      ]
    },
    {
      "cell_type": "code",
      "execution_count": null,
      "metadata": {},
      "outputs": [],
      "source": [
        "# Train the model\n",
        "from transformers import Trainer, TrainingArguments\n",
        "import numpy as np\n",
        "from sklearn.metrics import accuracy_score, precision_recall_fscore_support\n",
        "\n",
        "class TrainerBuilder:\n",
        "    def __init__(self, model, train_dataloader, valid_dataloader, optimizer, epochs=1):\n",
        "        self.model = model\n",
        "        self.train_dataset = train_dataloader.dataset\n",
        "        self.valid_dataset = valid_dataloader.dataset\n",
        "        self.epochs = epochs\n",
        "        self.optimizer = optimizer\n",
        "\n",
        "    def train(self):\n",
        "        # Set up hyperparameters for training procedure\n",
        "        training_args = TrainingArguments(\n",
        "            output_dir=\"./results\",\n",
        "            logging_strategy=\"no\",\n",
        "            per_device_train_batch_size=8,\n",
        "            num_train_epochs=self.epochs,\n",
        "            weight_decay=0.01,\n",
        "            logging_dir=\"./logs\",\n",
        "            evaluation_strategy=\"no\",\n",
        "            save_strategy=\"no\"\n",
        "        )\n",
        "\n",
        "        trainer = Trainer(\n",
        "            model=self.model,\n",
        "            args=training_args,\n",
        "            train_dataset=self.train_dataset,\n",
        "            eval_dataset=self.valid_dataset,\n",
        "            optimizers=(self.optimizer, None)\n",
        "        )\n",
        "\n",
        "        trainer.train()\n",
        "        return trainer"
      ]
    },
    {
      "cell_type": "markdown",
      "metadata": {},
      "source": [
        "# Evaluate model"
      ]
    },
    {
      "cell_type": "code",
      "execution_count": null,
      "metadata": {},
      "outputs": [],
      "source": [
        "# Evaluate the model\n",
        "class Evaluator:\n",
        "    def __init__(self, model, eval_dataloader, optimizer):\n",
        "        self.model = model\n",
        "        self.eval_dataset = eval_dataloader.dataset\n",
        "        self.optimizer = optimizer\n",
        "\n",
        "    def evaluate(self):\n",
        "        eval_args = TrainingArguments(\n",
        "            output_dir=\"./results_eval\",\n",
        "            per_device_eval_batch_size=8,\n",
        "            evaluation_strategy=\"epoch\",\n",
        "            save_strategy=\"no\",\n",
        "            logging_dir=\"./logs_eval\"\n",
        "        )\n",
        "\n",
        "        trainer = Trainer(\n",
        "            model=self.model,\n",
        "            args=eval_args,\n",
        "            eval_dataset=self.eval_dataset,\n",
        "            compute_metrics=lambda p: {\n",
        "                'accuracy': accuracy_score(np.argmax(p.predictions, axis=1), p.label_ids),\n",
        "                'f1': precision_recall_fscore_support(p.label_ids, np.argmax(p.predictions, axis=1), average='weighted')[2],\n",
        "                'precision': precision_recall_fscore_support(p.label_ids, np.argmax(p.predictions, axis=1), average='weighted')[0],\n",
        "                'recall': precision_recall_fscore_support(p.label_ids, np.argmax(p.predictions, axis=1), average='weighted')[1]\n",
        "            },\n",
        "            optimizers=(self.optimizer, None)\n",
        "        )\n",
        "\n",
        "        metrics = trainer.evaluate()\n",
        "        return metrics"
      ]
    },
    {
      "cell_type": "markdown",
      "metadata": {},
      "source": [
        "# Vietnamese Text"
      ]
    },
    {
      "cell_type": "markdown",
      "metadata": {},
      "source": [
        "## BERT model"
      ]
    },
    {
      "cell_type": "code",
      "execution_count": 22,
      "metadata": {},
      "outputs": [
        {
          "data": {
            "application/vnd.jupyter.widget-view+json": {
              "model_id": "95f81430150c4fc48eaa0804c8b47049",
              "version_major": 2,
              "version_minor": 0
            },
            "text/plain": [
              "  0%|          | 0/625 [00:00<?, ?it/s]"
            ]
          },
          "metadata": {},
          "output_type": "display_data"
        },
        {
          "name": "stdout",
          "output_type": "stream",
          "text": [
            "{'loss': 0.4919, 'grad_norm': 6.155267238616943, 'learning_rate': 0.0, 'epoch': 1.0}\n"
          ]
        },
        {
          "data": {
            "application/vnd.jupyter.widget-view+json": {
              "model_id": "63b8527a869c404b8aa384ed0b1d0847",
              "version_major": 2,
              "version_minor": 0
            },
            "text/plain": [
              "  0%|          | 0/198 [00:00<?, ?it/s]"
            ]
          },
          "metadata": {},
          "output_type": "display_data"
        },
        {
          "name": "stdout",
          "output_type": "stream",
          "text": [
            "{'eval_loss': 0.3852715790271759, 'eval_runtime': 14.8424, 'eval_samples_per_second': 106.654, 'eval_steps_per_second': 13.34, 'epoch': 1.0}\n",
            "{'train_runtime': 172.6604, 'train_samples_per_second': 28.959, 'train_steps_per_second': 3.62, 'train_loss': 0.4919158203125, 'epoch': 1.0}\n"
          ]
        }
      ],
      "source": [
        "# Train\n",
        "import torch\n",
        "device = torch.device(\"cuda\" if torch.cuda.is_available() else \"cpu\")\n",
        "bert_model.to(device)\n",
        "trainer_builder = TrainerBuilder(bert_model, train_dataloader, valid_dataloader, bert_optimizer)\n",
        "trainer = trainer_builder.train()"
      ]
    },
    {
      "cell_type": "code",
      "execution_count": 23,
      "metadata": {},
      "outputs": [
        {
          "data": {
            "application/vnd.jupyter.widget-view+json": {
              "model_id": "861c463b5f024472b1bf412eabcfcf1c",
              "version_major": 2,
              "version_minor": 0
            },
            "text/plain": [
              "  0%|          | 0/396 [00:00<?, ?it/s]"
            ]
          },
          "metadata": {},
          "output_type": "display_data"
        },
        {
          "name": "stdout",
          "output_type": "stream",
          "text": [
            "{'eval_loss': 0.454088419675827, 'eval_accuracy': 0.8600758054327227, 'eval_f1': 0.8367833204480498, 'eval_precision': 0.8157707759362268, 'eval_recall': 0.8600758054327227, 'eval_runtime': 29.4227, 'eval_samples_per_second': 107.604, 'eval_steps_per_second': 13.459}\n"
          ]
        },
        {
          "name": "stderr",
          "output_type": "stream",
          "text": [
            "c:\\Users\\Admin\\AppData\\Local\\Programs\\Python\\Python311\\Lib\\site-packages\\sklearn\\metrics\\_classification.py:1565: UndefinedMetricWarning: Precision is ill-defined and being set to 0.0 in labels with no predicted samples. Use `zero_division` parameter to control this behavior.\n",
            "  _warn_prf(average, modifier, f\"{metric.capitalize()} is\", len(result))\n",
            "c:\\Users\\Admin\\AppData\\Local\\Programs\\Python\\Python311\\Lib\\site-packages\\sklearn\\metrics\\_classification.py:1565: UndefinedMetricWarning: Precision is ill-defined and being set to 0.0 in labels with no predicted samples. Use `zero_division` parameter to control this behavior.\n",
            "  _warn_prf(average, modifier, f\"{metric.capitalize()} is\", len(result))\n",
            "c:\\Users\\Admin\\AppData\\Local\\Programs\\Python\\Python311\\Lib\\site-packages\\sklearn\\metrics\\_classification.py:1565: UndefinedMetricWarning: Precision is ill-defined and being set to 0.0 in labels with no predicted samples. Use `zero_division` parameter to control this behavior.\n",
            "  _warn_prf(average, modifier, f\"{metric.capitalize()} is\", len(result))\n"
          ]
        }
      ],
      "source": [
        "# Evaluate\n",
        "evaluator = Evaluator(bert_model, test_dataloader, bert_optimizer)\n",
        "print(evaluator.evaluate())"
      ]
    },
    {
      "cell_type": "code",
      "execution_count": 24,
      "metadata": {},
      "outputs": [
        {
          "data": {
            "application/vnd.jupyter.widget-view+json": {
              "model_id": "e545b2da91e1466d8f084e0db0ab271c",
              "version_major": 2,
              "version_minor": 0
            },
            "text/plain": [
              "  0%|          | 0/396 [00:00<?, ?it/s]"
            ]
          },
          "metadata": {},
          "output_type": "display_data"
        },
        {
          "name": "stderr",
          "output_type": "stream",
          "text": [
            "c:\\Users\\Admin\\AppData\\Local\\Programs\\Python\\Python311\\Lib\\site-packages\\sklearn\\metrics\\_classification.py:1565: UndefinedMetricWarning: Precision is ill-defined and being set to 0.0 in labels with no predicted samples. Use `zero_division` parameter to control this behavior.\n",
            "  _warn_prf(average, modifier, f\"{metric.capitalize()} is\", len(result))\n",
            "c:\\Users\\Admin\\AppData\\Local\\Programs\\Python\\Python311\\Lib\\site-packages\\sklearn\\metrics\\_classification.py:1565: UndefinedMetricWarning: Precision is ill-defined and being set to 0.0 in labels with no predicted samples. Use `zero_division` parameter to control this behavior.\n",
            "  _warn_prf(average, modifier, f\"{metric.capitalize()} is\", len(result))\n",
            "c:\\Users\\Admin\\AppData\\Local\\Programs\\Python\\Python311\\Lib\\site-packages\\sklearn\\metrics\\_classification.py:1565: UndefinedMetricWarning: Precision is ill-defined and being set to 0.0 in labels with no predicted samples. Use `zero_division` parameter to control this behavior.\n",
            "  _warn_prf(average, modifier, f\"{metric.capitalize()} is\", len(result))\n"
          ]
        }
      ],
      "source": [
        "metrics = evaluator.evaluate()\n",
        "vn_bert_accuracy = metrics.get('eval_accuracy')\n",
        "vn_bert_f1 = metrics.get('eval_f1')\n",
        "vn_bert_precision = metrics.get('eval_precision')\n",
        "vn_bert_recall = metrics.get('eval_recall')"
      ]
    },
    {
      "cell_type": "markdown",
      "metadata": {},
      "source": [
        "## XLNet model"
      ]
    },
    {
      "cell_type": "code",
      "execution_count": 25,
      "metadata": {},
      "outputs": [
        {
          "data": {
            "application/vnd.jupyter.widget-view+json": {
              "model_id": "44a4fcf16f554c6cac7875c8f2d09dd0",
              "version_major": 2,
              "version_minor": 0
            },
            "text/plain": [
              "  0%|          | 0/625 [00:00<?, ?it/s]"
            ]
          },
          "metadata": {},
          "output_type": "display_data"
        },
        {
          "name": "stdout",
          "output_type": "stream",
          "text": [
            "{'loss': 0.5439, 'grad_norm': 5.512360095977783, 'learning_rate': 0.0, 'epoch': 1.0}\n"
          ]
        },
        {
          "data": {
            "application/vnd.jupyter.widget-view+json": {
              "model_id": "1b02f15813ed43b1bb0f5e815dc97de4",
              "version_major": 2,
              "version_minor": 0
            },
            "text/plain": [
              "  0%|          | 0/198 [00:00<?, ?it/s]"
            ]
          },
          "metadata": {},
          "output_type": "display_data"
        },
        {
          "name": "stdout",
          "output_type": "stream",
          "text": [
            "{'eval_loss': 0.4647887051105499, 'eval_runtime': 19.4671, 'eval_samples_per_second': 81.317, 'eval_steps_per_second': 10.171, 'epoch': 1.0}\n",
            "{'train_runtime': 805.3588, 'train_samples_per_second': 6.208, 'train_steps_per_second': 0.776, 'train_loss': 0.54392158203125, 'epoch': 1.0}\n"
          ]
        }
      ],
      "source": [
        "# Train\n",
        "import torch\n",
        "device = torch.device(\"cuda\" if torch.cuda.is_available() else \"cpu\")\n",
        "xlnet_model.to(device)\n",
        "trainer_builder = TrainerBuilder(xlnet_model, train_dataloader, valid_dataloader, xlnet_optimizer)\n",
        "trainer = trainer_builder.train()"
      ]
    },
    {
      "cell_type": "code",
      "execution_count": 26,
      "metadata": {},
      "outputs": [
        {
          "data": {
            "application/vnd.jupyter.widget-view+json": {
              "model_id": "6e9c16608ceb424cb93293152ce74272",
              "version_major": 2,
              "version_minor": 0
            },
            "text/plain": [
              "  0%|          | 0/396 [00:00<?, ?it/s]"
            ]
          },
          "metadata": {},
          "output_type": "display_data"
        },
        {
          "name": "stdout",
          "output_type": "stream",
          "text": [
            "{'eval_loss': 0.5061424970626831, 'eval_accuracy': 0.844914718888187, 'eval_f1': 0.8222744210534896, 'eval_precision': 0.8026797955607052, 'eval_recall': 0.844914718888187, 'eval_runtime': 42.1931, 'eval_samples_per_second': 75.036, 'eval_steps_per_second': 9.385}\n"
          ]
        },
        {
          "name": "stderr",
          "output_type": "stream",
          "text": [
            "c:\\Users\\Admin\\AppData\\Local\\Programs\\Python\\Python311\\Lib\\site-packages\\sklearn\\metrics\\_classification.py:1565: UndefinedMetricWarning: Precision is ill-defined and being set to 0.0 in labels with no predicted samples. Use `zero_division` parameter to control this behavior.\n",
            "  _warn_prf(average, modifier, f\"{metric.capitalize()} is\", len(result))\n",
            "c:\\Users\\Admin\\AppData\\Local\\Programs\\Python\\Python311\\Lib\\site-packages\\sklearn\\metrics\\_classification.py:1565: UndefinedMetricWarning: Precision is ill-defined and being set to 0.0 in labels with no predicted samples. Use `zero_division` parameter to control this behavior.\n",
            "  _warn_prf(average, modifier, f\"{metric.capitalize()} is\", len(result))\n",
            "c:\\Users\\Admin\\AppData\\Local\\Programs\\Python\\Python311\\Lib\\site-packages\\sklearn\\metrics\\_classification.py:1565: UndefinedMetricWarning: Precision is ill-defined and being set to 0.0 in labels with no predicted samples. Use `zero_division` parameter to control this behavior.\n",
            "  _warn_prf(average, modifier, f\"{metric.capitalize()} is\", len(result))\n"
          ]
        }
      ],
      "source": [
        "# Evaluate\n",
        "evaluator = Evaluator(xlnet_model, test_dataloader, xlnet_optimizer)\n",
        "print(evaluator.evaluate())"
      ]
    },
    {
      "cell_type": "code",
      "execution_count": 27,
      "metadata": {},
      "outputs": [
        {
          "data": {
            "application/vnd.jupyter.widget-view+json": {
              "model_id": "ec3ecb1259894b62bfbce11aa524ac97",
              "version_major": 2,
              "version_minor": 0
            },
            "text/plain": [
              "  0%|          | 0/396 [00:00<?, ?it/s]"
            ]
          },
          "metadata": {},
          "output_type": "display_data"
        },
        {
          "name": "stderr",
          "output_type": "stream",
          "text": [
            "c:\\Users\\Admin\\AppData\\Local\\Programs\\Python\\Python311\\Lib\\site-packages\\sklearn\\metrics\\_classification.py:1565: UndefinedMetricWarning: Precision is ill-defined and being set to 0.0 in labels with no predicted samples. Use `zero_division` parameter to control this behavior.\n",
            "  _warn_prf(average, modifier, f\"{metric.capitalize()} is\", len(result))\n",
            "c:\\Users\\Admin\\AppData\\Local\\Programs\\Python\\Python311\\Lib\\site-packages\\sklearn\\metrics\\_classification.py:1565: UndefinedMetricWarning: Precision is ill-defined and being set to 0.0 in labels with no predicted samples. Use `zero_division` parameter to control this behavior.\n",
            "  _warn_prf(average, modifier, f\"{metric.capitalize()} is\", len(result))\n",
            "c:\\Users\\Admin\\AppData\\Local\\Programs\\Python\\Python311\\Lib\\site-packages\\sklearn\\metrics\\_classification.py:1565: UndefinedMetricWarning: Precision is ill-defined and being set to 0.0 in labels with no predicted samples. Use `zero_division` parameter to control this behavior.\n",
            "  _warn_prf(average, modifier, f\"{metric.capitalize()} is\", len(result))\n"
          ]
        }
      ],
      "source": [
        "metrics = evaluator.evaluate()\n",
        "vn_xlnet_accuracy = metrics.get('eval_accuracy')\n",
        "vn_xlnet_f1 = metrics.get('eval_f1')\n",
        "vn_xlnet_precision = metrics.get('eval_precision')\n",
        "vn_xlnet_recall = metrics.get('eval_recall')"
      ]
    },
    {
      "cell_type": "markdown",
      "metadata": {},
      "source": [
        "# English Text"
      ]
    },
    {
      "cell_type": "code",
      "execution_count": 28,
      "metadata": {},
      "outputs": [],
      "source": [
        "from datasets import load_dataset\n",
        "\n",
        "imdb_dataset = load_dataset(\"imdb\")"
      ]
    },
    {
      "cell_type": "code",
      "execution_count": 31,
      "metadata": {},
      "outputs": [],
      "source": [
        "# Prepare IMDB dataset\n",
        "imdb_train_set = imdb_dataset[\"train\"].select(range(10000))\n",
        "imdb_test_set = imdb_dataset[\"test\"].select(range(5000))\n",
        "imdb_valid_set = imdb_dataset[\"train\"].select(range(20000, 25000))"
      ]
    },
    {
      "cell_type": "code",
      "execution_count": 32,
      "metadata": {},
      "outputs": [
        {
          "name": "stderr",
          "output_type": "stream",
          "text": [
            "c:\\Users\\Admin\\AppData\\Local\\Programs\\Python\\Python311\\Lib\\site-packages\\huggingface_hub\\file_download.py:896: FutureWarning: `resume_download` is deprecated and will be removed in version 1.0.0. Downloads always resume when possible. If you want to force a new download, use `force_download=True`.\n",
            "  warnings.warn(\n"
          ]
        },
        {
          "data": {
            "application/vnd.jupyter.widget-view+json": {
              "model_id": "c66998af6f5b4960acf7c356da99d6ae",
              "version_major": 2,
              "version_minor": 0
            },
            "text/plain": [
              "Map:   0%|          | 0/10000 [00:00<?, ? examples/s]"
            ]
          },
          "metadata": {},
          "output_type": "display_data"
        },
        {
          "data": {
            "application/vnd.jupyter.widget-view+json": {
              "model_id": "931fdfcf58ac43f8b6d694fe8f4e4f84",
              "version_major": 2,
              "version_minor": 0
            },
            "text/plain": [
              "Map:   0%|          | 0/5000 [00:00<?, ? examples/s]"
            ]
          },
          "metadata": {},
          "output_type": "display_data"
        },
        {
          "data": {
            "application/vnd.jupyter.widget-view+json": {
              "model_id": "c5ccf2d8ea8f4bce8599fff6a596cede",
              "version_major": 2,
              "version_minor": 0
            },
            "text/plain": [
              "Map:   0%|          | 0/5000 [00:00<?, ? examples/s]"
            ]
          },
          "metadata": {},
          "output_type": "display_data"
        }
      ],
      "source": [
        "# Tokenize the IMDB dataset\n",
        "tokenizer = Tokenizer('bert-base-uncased')\n",
        "imdb_train_set = imdb_train_set.map(tokenizer.tokenize_function, batched=True).rename_column(\"label\", \"labels\")\n",
        "imdb_valid_set = imdb_valid_set.map(tokenizer.tokenize_function, batched=True).rename_column(\"label\", \"labels\")\n",
        "imdb_test_set = imdb_test_set.map(tokenizer.tokenize_function, batched=True).rename_column(\"label\", \"labels\")\n",
        "imdb_train_set.set_format(type=\"torch\", columns=[\"input_ids\", \"attention_mask\", \"labels\"])\n",
        "imdb_valid_set.set_format(type=\"torch\", columns=[\"input_ids\", \"attention_mask\", \"labels\"])\n",
        "imdb_test_set.set_format(type=\"torch\", columns=[\"input_ids\", \"attention_mask\", \"labels\"])"
      ]
    },
    {
      "cell_type": "markdown",
      "metadata": {},
      "source": [
        "## Bert Model"
      ]
    },
    {
      "cell_type": "code",
      "execution_count": 33,
      "metadata": {},
      "outputs": [
        {
          "data": {
            "application/vnd.jupyter.widget-view+json": {
              "model_id": "dbb430c9607b47adb00fbc9c9639112b",
              "version_major": 2,
              "version_minor": 0
            },
            "text/plain": [
              "  0%|          | 0/1250 [00:00<?, ?it/s]"
            ]
          },
          "metadata": {},
          "output_type": "display_data"
        },
        {
          "name": "stdout",
          "output_type": "stream",
          "text": [
            "{'loss': 0.0007, 'grad_norm': 0.0014088175958022475, 'learning_rate': 0.0, 'epoch': 1.0}\n"
          ]
        },
        {
          "data": {
            "application/vnd.jupyter.widget-view+json": {
              "model_id": "da314f9c3ea440ba8852154394bf579f",
              "version_major": 2,
              "version_minor": 0
            },
            "text/plain": [
              "  0%|          | 0/625 [00:00<?, ?it/s]"
            ]
          },
          "metadata": {},
          "output_type": "display_data"
        },
        {
          "name": "stdout",
          "output_type": "stream",
          "text": [
            "{'eval_loss': 10.743939399719238, 'eval_runtime': 47.6745, 'eval_samples_per_second': 104.878, 'eval_steps_per_second': 13.11, 'epoch': 1.0}\n",
            "{'train_runtime': 858.3427, 'train_samples_per_second': 11.65, 'train_steps_per_second': 1.456, 'train_loss': 0.0006985436916351318, 'epoch': 1.0}\n"
          ]
        },
        {
          "data": {
            "application/vnd.jupyter.widget-view+json": {
              "model_id": "c090a6f146394bafbb6d3f52b7d960fd",
              "version_major": 2,
              "version_minor": 0
            },
            "text/plain": [
              "  0%|          | 0/625 [00:00<?, ?it/s]"
            ]
          },
          "metadata": {},
          "output_type": "display_data"
        },
        {
          "name": "stdout",
          "output_type": "stream",
          "text": [
            "{'eval_loss': 4.563382390188053e-05, 'eval_accuracy': 1.0, 'eval_f1': 1.0, 'eval_precision': 1.0, 'eval_recall': 1.0, 'eval_runtime': 48.8801, 'eval_samples_per_second': 102.291, 'eval_steps_per_second': 12.786}\n"
          ]
        }
      ],
      "source": [
        "from torch.utils.data import DataLoader\n",
        "\n",
        "imdb_train_dataloader = DataLoader(imdb_train_set, batch_size=16, num_workers=8, shuffle=True)\n",
        "imdb_valid_dataloader = DataLoader(imdb_valid_set, batch_size=16, num_workers=8, shuffle=True)\n",
        "imdb_test_dataloader = DataLoader(imdb_test_set, batch_size=16, num_workers=8, shuffle=True)\n",
        "# Train on IMDB dataset\n",
        "imdb_trainer_builder = TrainerBuilder(bert_model, imdb_train_dataloader, imdb_valid_dataloader, bert_optimizer)\n",
        "imdb_trainer = imdb_trainer_builder.train()\n",
        "# Evaluate on IMDB dataset\n",
        "imdb_evaluator = Evaluator(bert_model, imdb_test_dataloader, bert_optimizer)\n",
        "print(imdb_evaluator.evaluate())"
      ]
    },
    {
      "cell_type": "code",
      "execution_count": 34,
      "metadata": {},
      "outputs": [
        {
          "data": {
            "application/vnd.jupyter.widget-view+json": {
              "model_id": "cb943ff7105f4c77b615631af1a9bcab",
              "version_major": 2,
              "version_minor": 0
            },
            "text/plain": [
              "  0%|          | 0/625 [00:00<?, ?it/s]"
            ]
          },
          "metadata": {},
          "output_type": "display_data"
        }
      ],
      "source": [
        "metrics = imdb_evaluator.evaluate()\n",
        "en_bert_accuracy = metrics.get('eval_accuracy')\n",
        "en_bert_f1 = metrics.get('eval_f1')\n",
        "en_bert_precision = metrics.get('eval_precision')\n",
        "en_bert_recall = metrics.get('eval_recall')"
      ]
    },
    {
      "cell_type": "markdown",
      "metadata": {},
      "source": [
        "## XLNet Model"
      ]
    },
    {
      "cell_type": "code",
      "execution_count": null,
      "metadata": {},
      "outputs": [
        {
          "data": {
            "application/vnd.jupyter.widget-view+json": {
              "model_id": "07c4410acef24e85ba9608c38fc8c963",
              "version_major": 2,
              "version_minor": 0
            },
            "text/plain": [
              "  0%|          | 0/1250 [00:00<?, ?it/s]"
            ]
          },
          "metadata": {},
          "output_type": "display_data"
        }
      ],
      "source": [
        "# Train on XLNet model for IMDB dataset\n",
        "import torch\n",
        "device = torch.device(\"cuda\" if torch.cuda.is_available() else \"cpu\")\n",
        "xlnet_model.to(device)\n",
        "trainer_builder = TrainerBuilder(xlnet_model, imdb_train_dataloader, imdb_valid_dataloader, xlnet_optimizer)\n",
        "trainer = trainer_builder.train()"
      ]
    },
    {
      "cell_type": "code",
      "execution_count": null,
      "metadata": {},
      "outputs": [],
      "source": [
        "# Evaluate on XLNet model for IMDB dataset\n",
        "imdb_evaluator = Evaluator(xlnet_model, imdb_test_dataloader, xlnet_optimizer)\n",
        "print(imdb_evaluator.evaluate())"
      ]
    },
    {
      "cell_type": "code",
      "execution_count": null,
      "metadata": {},
      "outputs": [],
      "source": [
        "metrics = imdb_evaluator.evaluate()\n",
        "en_xlnet_accuracy = metrics.get('eval_accuracy')\n",
        "en_xlnet_f1 = metrics.get('eval_f1')\n",
        "en_xlnet_precision = metrics.get('eval_precision')\n",
        "en_xlnet_recall = metrics.get('eval_recall')"
      ]
    },
    {
      "cell_type": "code",
      "execution_count": null,
      "metadata": {},
      "outputs": [
        {
          "data": {
            "image/png": "[encoded data removed]",
            "text/plain": [
              "<Figure size 1200x700 with 1 Axes>"
            ]
          },
          "metadata": {},
          "output_type": "display_data"
        },
        {
          "data": {
            "image/png": "[encoded data removed]",
            "text/plain": [
              "<Figure size 1000x600 with 1 Axes>"
            ]
          },
          "metadata": {},
          "output_type": "display_data"
        },
        {
          "data": {
            "image/png": "[encoded data removed]",
            "text/plain": [
              "<Figure size 1000x600 with 1 Axes>"
            ]
          },
          "metadata": {},
          "output_type": "display_data"
        },
        {
          "name": "stdout",
          "output_type": "stream",
          "text": [
            "Lưu ý: Để vẽ Confusion Matrix, bạn cần có nhãn dự đoán và nhãn thực tế từ kết quả thử nghiệm.\n"
          ]
        }
      ],
      "source": [
        "import matplotlib.pyplot as plt\n",
        "import seaborn as sns\n",
        "import pandas as pd\n",
        "import numpy as np\n",
        "\n",
        "# Dữ liệu kết quả giả định (như trên)\n",
        "results_data = {\n",
        "    'IMDb': {\n",
        "        'BERT': {'accuracy': en_bert_accuracy, 'f1': en_bert_f1, 'precision': en_bert_precision, 'recall': en_bert_recall},\n",
        "        'XLNet': {'accuracy': en_xlnet_accuracy, 'f1': en_xlnet_f1, 'precision': en_xlnet_precision, 'recall': en_xlnet_recall},\n",
        "    },\n",
        "    'UIT-VSFC (Vietnamese Feedback)': {\n",
        "        'BERT': {'accuracy': vn_bert_accuracy, 'f1': vn_bert_f1, 'precision': vn_bert_precision, 'recall': vn_bert_recall},\n",
        "        'XLNet': {'accuracy': vn_xlnet_accuracy, 'f1': vn_xlnet_f1, 'precision': vn_xlnet_precision, 'recall': vn_xlnet_recall},\n",
        "    }\n",
        "}\n",
        "\n",
        "# --- Biểu đồ 1: So sánh F1-score của các model trên từng dataset ---\n",
        "datasets = list(results_data.keys())\n",
        "metrics_to_plot = ['f1']\n",
        "\n",
        "for metric_name in metrics_to_plot:\n",
        "    plt.figure(figsize=(12, 7))\n",
        "    bar_width = 0.35\n",
        "    index = 0\n",
        "\n",
        "    all_model_names = []\n",
        "    all_scores = []\n",
        "    all_dataset_names_for_ticks = []\n",
        "\n",
        "    for i, dataset_name in enumerate(datasets):\n",
        "        models_in_dataset = list(results_data[dataset_name].keys())\n",
        "        scores = [results_data[dataset_name][model][metric_name] for model in models_in_dataset]\n",
        "\n",
        "        x_positions = np.arange(len(models_in_dataset)) + index\n",
        "        bars = plt.bar(x_positions, scores, bar_width, label=f'{dataset_name}')\n",
        "\n",
        "        for bar_idx, bar in enumerate(bars):\n",
        "            yval = bar.get_height()\n",
        "            plt.text(bar.get_x() + bar.get_width()/2.0, yval + 0.005, f'{yval:.3f}', ha='center', va='bottom')\n",
        "            all_model_names.append(f\"{models_in_dataset[bar_idx]}\\n({dataset_name})\")\n",
        "        index += len(models_in_dataset) + 0.5\n",
        "\n",
        "    plt.xlabel(\"Mô hình (và Dataset)\")\n",
        "    plt.ylabel(f\"{metric_name.capitalize()} Score\")\n",
        "    plt.title(f\"So sánh {metric_name.capitalize()} của các Mô hình trên các Dataset khác nhau\")\n",
        "\n",
        "    # Tạo nhãn trục x dựa trên các mô hình và dataset\n",
        "    tick_positions = []\n",
        "    current_pos = 0\n",
        "    for dataset_name in datasets:\n",
        "        models_in_dataset = list(results_data[dataset_name].keys())\n",
        "        num_models = len(models_in_dataset)\n",
        "        tick_positions.extend(np.arange(num_models) + current_pos)\n",
        "        current_pos += num_models + 0.5\n",
        "\n",
        "\n",
        "    plt.xticks(tick_positions, all_model_names, rotation=15, ha=\"right\")\n",
        "    plt.ylim(0, 1.05)\n",
        "    plt.legend(title=\"Dataset\")\n",
        "    plt.tight_layout()\n",
        "    plt.grid(axis='y', linestyle='--')\n",
        "    plt.show()\n",
        "\n",
        "\n",
        "# --- Biểu đồ 2: So sánh chi tiết các metrics (Accuracy, F1, Precision, Recall) cho từng dataset ---\n",
        "for dataset_name, models_data in results_data.items():\n",
        "    model_names = list(models_data.keys())\n",
        "    metrics = ['accuracy', 'f1', 'precision', 'recall']\n",
        "    num_metrics = len(metrics)\n",
        "    num_models = len(model_names)\n",
        "\n",
        "    fig, ax = plt.subplots(figsize=(10, 6))\n",
        "    bar_width = 0.20\n",
        "    index = np.arange(num_metrics)\n",
        "\n",
        "    for i, model_name in enumerate(model_names):\n",
        "        scores = [models_data[model_name][metric] for metric in metrics]\n",
        "        # Vị trí của các cột cho model hiện tại\n",
        "        positions = index + i * bar_width\n",
        "        bars = ax.bar(positions, scores, bar_width, label=model_name)\n",
        "        for bar in bars:\n",
        "            yval = bar.get_height()\n",
        "            plt.text(bar.get_x() + bar.get_width()/2.0, yval + 0.005, f'{yval:.3f}', ha='center', va='bottom')\n",
        "\n",
        "\n",
        "    ax.set_xlabel(\"Metrics\")\n",
        "    ax.set_ylabel(\"Scores\")\n",
        "    ax.set_title(f\"So sánh chi tiết các Metrics trên Dataset: {dataset_name}\")\n",
        "    ax.set_xticks(index + bar_width * (num_models - 1) / 2)\n",
        "    ax.set_xticklabels([m.capitalize() for m in metrics])\n",
        "    ax.legend(title=\"Models\")\n",
        "    ax.set_ylim(0, 1.05)\n",
        "    plt.grid(axis='y', linestyle='--')\n",
        "    plt.tight_layout()\n",
        "    plt.show()\n",
        "\n",
        "# --- Biểu đồ 3: Confusion Matrix (Ma trận nhầm lẫn) ---\n",
        "# Để vẽ ma trận nhầm lẫn, bạn cần có dự đoán thực tế (preds) và nhãn thực tế (labels)\n",
        "# từ hàm compute_metrics hoặc từ trainer.predict().\n",
        "# Ví dụ:\n",
        "from sklearn.metrics import confusion_matrix\n",
        "\n",
        "# Giả sử bạn có:\n",
        "# y_true_imdb = [...] # Nhãn thực tế cho một model trên IMDb\n",
        "# y_pred_imdb = [...] # Nhãn dự đoán cho model đó trên IMDb\n",
        "# labels_display_imdb = ['Negative', 'Positive'] # Tên các lớp\n",
        "\n",
        "# y_true_vsfc = [...]\n",
        "# y_pred_vsfc = [...]\n",
        "# labels_display_vsfc = ['Negative', 'Neutral', 'Positive'] # Giả sử có 3 lớp cho tiếng Việt\n",
        "\n",
        "def plot_confusion_matrix(y_true, y_pred, labels_display, title):\n",
        "    cm = confusion_matrix(y_true, y_pred)\n",
        "    plt.figure(figsize=(8, 6))\n",
        "    sns.heatmap(cm, annot=True, fmt='d', cmap='Blues',\n",
        "                xticklabels=labels_display, yticklabels=labels_display)\n",
        "    plt.xlabel('Predicted Label')\n",
        "    plt.ylabel('True Label')\n",
        "    plt.title(title)\n",
        "    plt.show()\n",
        "\n",
        "# # Gọi hàm này với dữ liệu thực tế của bạn:\n",
        "# # plot_confusion_matrix(y_true_imdb, y_pred_imdb, labels_display_imdb, \"Confusion Matrix - BERT on IMDb\")\n",
        "# # plot_confusion_matrix(y_true_vsfc, y_pred_vsfc, labels_display_vsfc, \"Confusion Matrix - PhoBERT on UIT-VSFC\")\n",
        "\n",
        "print(\"Lưu ý: Để vẽ Confusion Matrix, bạn cần có nhãn dự đoán và nhãn thực tế từ kết quả thử nghiệm.\")"
      ]
    },
    {
      "cell_type": "markdown",
      "metadata": {},
      "source": [
        "# Answer Question:\n",
        "### Bộ dữ liệu 'uitnlp/vietnamese_students_feedback':\n",
        "- Số lượng mẫu: ít hơn\n",
        "- Số label trong 'sentiment': 3\n",
        "- \n",
        "### Bộ dữ liệu 'imdb_dataset':\n",
        "- Số lượng mẫu: nhiều hơn\n",
        "- Số label trong 'label': 2\n"
      ]
    },
    {
      "cell_type": "markdown",
      "metadata": {},
      "source": [
        "# BÁO CÁO SO SÁNH HIỆU SUẤT MÔ HÌNH NLP VÀ ĐỀ XUẤT CẢI THIỆN\n",
        "\n",
        "**Ngày:** [Ngày bạn viết báo cáo, ví dụ: 05/06/2025]\n",
        "**Người báo cáo:** [Tên của bạn]\n",
        "**Bộ phận:** [Bộ phận của bạn, ví dụ: Phân tích Dữ liệu]\n",
        "\n",
        "---\n",
        "\n",
        "## 1. Tóm tắt (Abstract)\n",
        "\n",
        "Báo cáo này trình bày kết quả so sánh hiệu suất giữa mô hình BERT và XLNet (hoặc các biến thể tương ứng như PhoBERT cho tiếng Việt) trên hai bộ dữ liệu: [Tên bộ dữ liệu tiếng Anh, ví dụ: IMDb] và [Tên bộ dữ liệu tiếng Việt, ví dụ: UIT-VSFC]. Mục tiêu là đánh giá sự khác biệt về hiệu suất và đề xuất các hướng cải thiện cho các phương pháp có kết quả thấp hơn. Kết quả cho thấy [Nêu một phát hiện chính, ví dụ: XLNet vượt trội trên dữ liệu tiếng Anh, trong khi PhoBERT cho kết quả tốt nhất trên dữ liệu tiếng Việt].\n",
        "\n",
        "## 2. Giới thiệu (Introduction)\n",
        "\n",
        "* **Mục tiêu:** Đánh giá và so sánh khả năng của các mô hình Transformer (BERT, XLNet) trong tác vụ [Nêu rõ tác vụ, ví dụ: phân loại cảm xúc văn bản] trên các ngôn ngữ và bộ dữ liệu khác nhau.\n",
        "* **Phạm vi:** Tập trung vào các mô hình [Liệt kê các mô hình cụ thể đã sử dụng] và các bộ dữ liệu [Liệt kê các bộ dữ liệu đã sử dụng]. Các chỉ số đánh giá chính bao gồm [Liệt kê các metrics, ví dụ: Accuracy, F1-score].\n",
        "\n",
        "## 3. Phương pháp (Methodology)\n",
        "\n",
        "* **Dữ liệu:**\n",
        "    * Dataset 1 (Tiếng Anh): [Tên dataset], [Mô tả ngắn, số lượng mẫu, số lớp].\n",
        "    * Dataset 2 (Tiếng Việt): [Tên dataset], [Mô tả ngắn, số lượng mẫu, số lớp].\n",
        "    * Tiền xử lý dữ liệu: [Mô tả ngắn gọn các bước tiền xử lý chính].\n",
        "* **Mô hình:**\n",
        "    * Mô hình A: [Tên model, ví dụ: bert-base-uncased] - Fine-tuned trên [Dataset].\n",
        "    * Mô hình B: [Tên model, ví dụ: xlnet-base-cased] - Fine-tuned trên [Dataset].\n",
        "    * Mô hình C: [Tên model, ví dụ: vinai/phobert-base] - Fine-tuned trên [Dataset].\n",
        "    * Mô hình D: [Tên model, ví dụ: một biến thể XLNet cho tiếng Việt hoặc XLM-R] - Fine-tuned trên [Dataset].\n",
        "* **Quá trình thực nghiệm:**\n",
        "    * Các tham số fine-tuning chính: [Learning rate, batch size, số epochs].\n",
        "    * Môi trường thực nghiệm: [Phần cứng, thư viện chính sử dụng].\n",
        "* **Chỉ số đánh giá:** [Accuracy, Precision, Recall, F1-score].\n",
        "\n",
        "## 4. Kết quả (Results)\n",
        "\n",
        "* **Bảng tổng hợp kết quả:**\n",
        "\n",
        "    | Dataset                        | Model   | Accuracy | F1-score | Precision | Recall |\n",
        "    | :----------------------------- | :------ | :------- | :------- | :-------- | :----- |\n",
        "    | [Tên Dataset Tiếng Anh]        | BERT    | [Số liệu] | [Số liệu] | [Số liệu]  | [Số liệu] |\n",
        "    | [Tên Dataset Tiếng Anh]        | XLNet   | [Số liệu] | [Số liệu] | [Số liệu]  | [Số liệu] |\n",
        "    | [Tên Dataset Tiếng Việt]       | PhoBERT | [Số liệu] | [Số liệu] | [Số liệu]  | [Số liệu] |\n",
        "    | [Tên Dataset Tiếng Việt]       | [XLNet/XLM-R] | [Số liệu] | [Số liệu] | [Số liệu]  | [Số liệu] |\n",
        "\n",
        "* **(Tùy chọn) Tham chiếu đến biểu đồ trực quan hóa:** \"Chi tiết so sánh trực quan được trình bày trong Phụ lục A hoặc Hình 1, Hình 2...\" (nếu bạn có biểu đồ).\n",
        "\n",
        "## 5. Thảo luận và Phân tích (Discussion & Analysis)\n",
        "\n",
        "* **So sánh hiệu suất trên dữ liệu tiếng Anh:**\n",
        "    * [Phân tích sự khác biệt giữa BERT và XLNet, mô hình nào tốt hơn và tại sao (dựa trên kiến trúc, pre-training...)]\n",
        "* **So sánh hiệu suất trên dữ liệu tiếng Việt:**\n",
        "    * [Phân tích sự khác biệt giữa PhoBERT và mô hình còn lại, mô hình nào tốt hơn và tại sao (ví dụ: lợi thế của pre-training trên dữ liệu thuần Việt)].\n",
        "* **Các yếu tố ảnh hưởng:** [Thảo luận về các yếu tố có thể đã ảnh hưởng đến kết quả như chất lượng pre-trained model, đặc điểm dữ liệu, quá trình fine-tuning].\n",
        "\n",
        "## 6. Đề xuất Cải thiện cho các Phương pháp Yếu hơn (Recommendations)\n",
        "\n",
        "Dựa trên kết quả và phân tích, các hướng cải thiện tiềm năng bao gồm:\n",
        "\n",
        "* **Đối với [Mô hình/Dataset cho kết quả yếu hơn]:**\n",
        "    1.  **Tinh chỉnh siêu tham số (Hyperparameter Tuning):** Thử nghiệm kỹ hơn với learning rate, batch size.\n",
        "    2.  **Tăng cường dữ liệu (Data Augmentation):** Áp dụng các kỹ thuật như [Nêu cụ thể, ví dụ: back-translation, synonym replacement] để tăng kích thước và sự đa dạng của tập huấn luyện.\n",
        "    3.  **Lựa chọn Pre-trained Model:** Xem xét các pre-trained model khác phù hợp hơn với đặc thù ngôn ngữ/miền dữ liệu (nếu có).\n",
        "    4.  **Phân tích lỗi (Error Analysis):** Đi sâu vào các trường hợp mô hình dự đoán sai để hiểu rõ hơn điểm yếu.\n",
        "    5.  [Các đề xuất khác nếu có, ví dụ: domain-adaptive pre-training].\n",
        "\n",
        "## 7. Kết luận (Conclusion)\n",
        "\n",
        "Tóm tắt lại các phát hiện chính về sự khác biệt hiệu suất của các mô hình trên hai bộ dữ liệu. Khẳng định mô hình nào tỏ ra hiệu quả nhất cho từng trường hợp cụ thể trong phạm vi thử nghiệm. Nhấn mạnh tầm quan trọng của việc lựa chọn mô hình phù hợp với ngôn ngữ và dữ liệu, cũng như các chiến lược cải thiện liên tục.\n",
        "\n",
        "---\n",
        "**Phụ lục (Nếu có)**\n",
        "* Phụ lục A: Các biểu đồ trực quan hóa kết quả.\n",
        "* Phụ lục B: Chi tiết cấu hình thử nghiệm."
      ]
    }
  ],
  "metadata": {
    "colab": {
      "provenance": []
    },
    "kernelspec": {
      "display_name": "Python 3",
      "name": "python3"
    },
    "language_info": {
      "codemirror_mode": {
        "name": "ipython",
        "version": 3
      },
      "file_extension": ".py",
      "mimetype": "text/x-python",
      "name": "python",
      "nbconvert_exporter": "python",
      "pygments_lexer": "ipython3",
      "version": "3.11.9"
    },
    "widgets": {
      "application/vnd.jupyter.widget-state+json": {
        "0b7942de721a4f5e8317b2c1f2892b72": {
          "model_module": "@jupyter-widgets/base",
          "model_module_version": "1.2.0",
          "model_name": "LayoutModel",
          "state": {
            "_model_module": "@jupyter-widgets/base",
            "_model_module_version": "1.2.0",
            "_model_name": "LayoutModel",
            "_view_count": null,
            "_view_module": "@jupyter-widgets/base",
            "_view_module_version": "1.2.0",
            "_view_name": "LayoutView",
            "align_content": null,
            "align_items": null,
            "align_self": null,
            "border": null,
            "bottom": null,
            "display": null,
            "flex": null,
            "flex_flow": null,
            "grid_area": null,
            "grid_auto_columns": null,
            "grid_auto_flow": null,
            "grid_auto_rows": null,
            "grid_column": null,
            "grid_gap": null,
            "grid_row": null,
            "grid_template_areas": null,
            "grid_template_columns": null,
            "grid_template_rows": null,
            "height": null,
            "justify_content": null,
            "justify_items": null,
            "left": null,
            "margin": null,
            "max_height": null,
            "max_width": null,
            "min_height": null,
            "min_width": null,
            "object_fit": null,
            "object_position": null,
            "order": null,
            "overflow": null,
            "overflow_x": null,
            "overflow_y": null,
            "padding": null,
            "right": null,
            "top": null,
            "visibility": null,
            "width": null
          }
        },
        "0bd54ea8d3c54dcd98956928ceb638c7": {
          "model_module": "@jupyter-widgets/base",
          "model_module_version": "1.2.0",
          "model_name": "LayoutModel",
          "state": {
            "_model_module": "@jupyter-widgets/base",
            "_model_module_version": "1.2.0",
            "_model_name": "LayoutModel",
            "_view_count": null,
            "_view_module": "@jupyter-widgets/base",
            "_view_module_version": "1.2.0",
            "_view_name": "LayoutView",
            "align_content": null,
            "align_items": null,
            "align_self": null,
            "border": null,
            "bottom": null,
            "display": null,
            "flex": null,
            "flex_flow": null,
            "grid_area": null,
            "grid_auto_columns": null,
            "grid_auto_flow": null,
            "grid_auto_rows": null,
            "grid_column": null,
            "grid_gap": null,
            "grid_row": null,
            "grid_template_areas": null,
            "grid_template_columns": null,
            "grid_template_rows": null,
            "height": null,
            "justify_content": null,
            "justify_items": null,
            "left": null,
            "margin": null,
            "max_height": null,
            "max_width": null,
            "min_height": null,
            "min_width": null,
            "object_fit": null,
            "object_position": null,
            "order": null,
            "overflow": null,
            "overflow_x": null,
            "overflow_y": null,
            "padding": null,
            "right": null,
            "top": null,
            "visibility": null,
            "width": null
          }
        },
        "0c84ce649170414d9efda9861edaa88d": {
          "model_module": "@jupyter-widgets/controls",
          "model_module_version": "1.5.0",
          "model_name": "ProgressStyleModel",
          "state": {
            "_model_module": "@jupyter-widgets/controls",
            "_model_module_version": "1.5.0",
            "_model_name": "ProgressStyleModel",
            "_view_count": null,
            "_view_module": "@jupyter-widgets/base",
            "_view_module_version": "1.2.0",
            "_view_name": "StyleView",
            "bar_color": null,
            "description_width": ""
          }
        },
        "0ecc318fcfb2477e8ec7969c29c5b18c": {
          "model_module": "@jupyter-widgets/controls",
          "model_module_version": "1.5.0",
          "model_name": "DescriptionStyleModel",
          "state": {
            "_model_module": "@jupyter-widgets/controls",
            "_model_module_version": "1.5.0",
            "_model_name": "DescriptionStyleModel",
            "_view_count": null,
            "_view_module": "@jupyter-widgets/base",
            "_view_module_version": "1.2.0",
            "_view_name": "StyleView",
            "description_width": ""
          }
        },
        "0febf9f454a042fd8410d2a3da39c350": {
          "model_module": "@jupyter-widgets/controls",
          "model_module_version": "1.5.0",
          "model_name": "HTMLModel",
          "state": {
            "_dom_classes": [],
            "_model_module": "@jupyter-widgets/controls",
            "_model_module_version": "1.5.0",
            "_model_name": "HTMLModel",
            "_view_count": null,
            "_view_module": "@jupyter-widgets/controls",
            "_view_module_version": "1.5.0",
            "_view_name": "HTMLView",
            "description": "",
            "description_tooltip": null,
            "layout": "IPY_MODEL_878c54dee889406186250ed860e6ef1a",
            "placeholder": "​",
            "style": "IPY_MODEL_432c5ae7c4c24530a7bb47c3450c044d",
            "value": " 1583/1583 [00:00&lt;00:00, 16873.75 examples/s]"
          }
        },
        "101881aa20534a1dbaf0ffcb3bb73ea3": {
          "model_module": "@jupyter-widgets/controls",
          "model_module_version": "1.5.0",
          "model_name": "HBoxModel",
          "state": {
            "_dom_classes": [],
            "_model_module": "@jupyter-widgets/controls",
            "_model_module_version": "1.5.0",
            "_model_name": "HBoxModel",
            "_view_count": null,
            "_view_module": "@jupyter-widgets/controls",
            "_view_module_version": "1.5.0",
            "_view_name": "HBoxView",
            "box_style": "",
            "children": [
              "IPY_MODEL_33ba356dd7714c12881c0d9027074bf9",
              "IPY_MODEL_9242e82e66914c3eb34bc040ff6798c0",
              "IPY_MODEL_e158842a5a8e42ed874553055ec718ab"
            ],
            "layout": "IPY_MODEL_be90e687c7c648479004fd178b95a897"
          }
        },
        "109e29c3f5a140bba66d53eed275e211": {
          "model_module": "@jupyter-widgets/controls",
          "model_module_version": "1.5.0",
          "model_name": "ProgressStyleModel",
          "state": {
            "_model_module": "@jupyter-widgets/controls",
            "_model_module_version": "1.5.0",
            "_model_name": "ProgressStyleModel",
            "_view_count": null,
            "_view_module": "@jupyter-widgets/base",
            "_view_module_version": "1.2.0",
            "_view_name": "StyleView",
            "bar_color": null,
            "description_width": ""
          }
        },
        "1a1dad830ae54492af8447b35221fac0": {
          "model_module": "@jupyter-widgets/controls",
          "model_module_version": "1.5.0",
          "model_name": "DescriptionStyleModel",
          "state": {
            "_model_module": "@jupyter-widgets/controls",
            "_model_module_version": "1.5.0",
            "_model_name": "DescriptionStyleModel",
            "_view_count": null,
            "_view_module": "@jupyter-widgets/base",
            "_view_module_version": "1.2.0",
            "_view_name": "StyleView",
            "description_width": ""
          }
        },
        "1c368f1ed31c403eaf48d3dcd9e7aa1b": {
          "model_module": "@jupyter-widgets/base",
          "model_module_version": "1.2.0",
          "model_name": "LayoutModel",
          "state": {
            "_model_module": "@jupyter-widgets/base",
            "_model_module_version": "1.2.0",
            "_model_name": "LayoutModel",
            "_view_count": null,
            "_view_module": "@jupyter-widgets/base",
            "_view_module_version": "1.2.0",
            "_view_name": "LayoutView",
            "align_content": null,
            "align_items": null,
            "align_self": null,
            "border": null,
            "bottom": null,
            "display": null,
            "flex": null,
            "flex_flow": null,
            "grid_area": null,
            "grid_auto_columns": null,
            "grid_auto_flow": null,
            "grid_auto_rows": null,
            "grid_column": null,
            "grid_gap": null,
            "grid_row": null,
            "grid_template_areas": null,
            "grid_template_columns": null,
            "grid_template_rows": null,
            "height": null,
            "justify_content": null,
            "justify_items": null,
            "left": null,
            "margin": null,
            "max_height": null,
            "max_width": null,
            "min_height": null,
            "min_width": null,
            "object_fit": null,
            "object_position": null,
            "order": null,
            "overflow": null,
            "overflow_x": null,
            "overflow_y": null,
            "padding": null,
            "right": null,
            "top": null,
            "visibility": null,
            "width": null
          }
        },
        "2059b35ea7364acfb80b788cd2df5c7d": {
          "model_module": "@jupyter-widgets/controls",
          "model_module_version": "1.5.0",
          "model_name": "ProgressStyleModel",
          "state": {
            "_model_module": "@jupyter-widgets/controls",
            "_model_module_version": "1.5.0",
            "_model_name": "ProgressStyleModel",
            "_view_count": null,
            "_view_module": "@jupyter-widgets/base",
            "_view_module_version": "1.2.0",
            "_view_name": "StyleView",
            "bar_color": null,
            "description_width": ""
          }
        },
        "257706e5d0c049de8acefc8f81998870": {
          "model_module": "@jupyter-widgets/controls",
          "model_module_version": "1.5.0",
          "model_name": "HTMLModel",
          "state": {
            "_dom_classes": [],
            "_model_module": "@jupyter-widgets/controls",
            "_model_module_version": "1.5.0",
            "_model_name": "HTMLModel",
            "_view_count": null,
            "_view_module": "@jupyter-widgets/controls",
            "_view_module_version": "1.5.0",
            "_view_name": "HTMLView",
            "description": "",
            "description_tooltip": null,
            "layout": "IPY_MODEL_1c368f1ed31c403eaf48d3dcd9e7aa1b",
            "placeholder": "​",
            "style": "IPY_MODEL_a21b1c9a8261431698606a3b9aa7b96f",
            "value": "Generating validation split: 100%"
          }
        },
        "292cdf79e60c419dbd9eed998297eefe": {
          "model_module": "@jupyter-widgets/base",
          "model_module_version": "1.2.0",
          "model_name": "LayoutModel",
          "state": {
            "_model_module": "@jupyter-widgets/base",
            "_model_module_version": "1.2.0",
            "_model_name": "LayoutModel",
            "_view_count": null,
            "_view_module": "@jupyter-widgets/base",
            "_view_module_version": "1.2.0",
            "_view_name": "LayoutView",
            "align_content": null,
            "align_items": null,
            "align_self": null,
            "border": null,
            "bottom": null,
            "display": null,
            "flex": null,
            "flex_flow": null,
            "grid_area": null,
            "grid_auto_columns": null,
            "grid_auto_flow": null,
            "grid_auto_rows": null,
            "grid_column": null,
            "grid_gap": null,
            "grid_row": null,
            "grid_template_areas": null,
            "grid_template_columns": null,
            "grid_template_rows": null,
            "height": null,
            "justify_content": null,
            "justify_items": null,
            "left": null,
            "margin": null,
            "max_height": null,
            "max_width": null,
            "min_height": null,
            "min_width": null,
            "object_fit": null,
            "object_position": null,
            "order": null,
            "overflow": null,
            "overflow_x": null,
            "overflow_y": null,
            "padding": null,
            "right": null,
            "top": null,
            "visibility": null,
            "width": null
          }
        },
        "2b6a3036c3394614ac5ec8b09572eb1e": {
          "model_module": "@jupyter-widgets/controls",
          "model_module_version": "1.5.0",
          "model_name": "ProgressStyleModel",
          "state": {
            "_model_module": "@jupyter-widgets/controls",
            "_model_module_version": "1.5.0",
            "_model_name": "ProgressStyleModel",
            "_view_count": null,
            "_view_module": "@jupyter-widgets/base",
            "_view_module_version": "1.2.0",
            "_view_name": "StyleView",
            "bar_color": null,
            "description_width": ""
          }
        },
        "33ba356dd7714c12881c0d9027074bf9": {
          "model_module": "@jupyter-widgets/controls",
          "model_module_version": "1.5.0",
          "model_name": "HTMLModel",
          "state": {
            "_dom_classes": [],
            "_model_module": "@jupyter-widgets/controls",
            "_model_module_version": "1.5.0",
            "_model_name": "HTMLModel",
            "_view_count": null,
            "_view_module": "@jupyter-widgets/controls",
            "_view_module_version": "1.5.0",
            "_view_name": "HTMLView",
            "description": "",
            "description_tooltip": null,
            "layout": "IPY_MODEL_5cde9ae3a3cc4fcb814ba01ec7ed5a35",
            "placeholder": "​",
            "style": "IPY_MODEL_cfb4398e5db3459a9eea6dacb1a41f47",
            "value": "Generating train split: 100%"
          }
        },
        "34bda6417a3d43aaae5e298bdbb20af8": {
          "model_module": "@jupyter-widgets/controls",
          "model_module_version": "1.5.0",
          "model_name": "FloatProgressModel",
          "state": {
            "_dom_classes": [],
            "_model_module": "@jupyter-widgets/controls",
            "_model_module_version": "1.5.0",
            "_model_name": "FloatProgressModel",
            "_view_count": null,
            "_view_module": "@jupyter-widgets/controls",
            "_view_module_version": "1.5.0",
            "_view_name": "ProgressView",
            "bar_style": "success",
            "description": "",
            "description_tooltip": null,
            "layout": "IPY_MODEL_0b7942de721a4f5e8317b2c1f2892b72",
            "max": 63327,
            "min": 0,
            "orientation": "horizontal",
            "style": "IPY_MODEL_0c84ce649170414d9efda9861edaa88d",
            "value": 63327
          }
        },
        "3c081f5da5124e38bef20ed7602dc955": {
          "model_module": "@jupyter-widgets/base",
          "model_module_version": "1.2.0",
          "model_name": "LayoutModel",
          "state": {
            "_model_module": "@jupyter-widgets/base",
            "_model_module_version": "1.2.0",
            "_model_name": "LayoutModel",
            "_view_count": null,
            "_view_module": "@jupyter-widgets/base",
            "_view_module_version": "1.2.0",
            "_view_name": "LayoutView",
            "align_content": null,
            "align_items": null,
            "align_self": null,
            "border": null,
            "bottom": null,
            "display": null,
            "flex": null,
            "flex_flow": null,
            "grid_area": null,
            "grid_auto_columns": null,
            "grid_auto_flow": null,
            "grid_auto_rows": null,
            "grid_column": null,
            "grid_gap": null,
            "grid_row": null,
            "grid_template_areas": null,
            "grid_template_columns": null,
            "grid_template_rows": null,
            "height": null,
            "justify_content": null,
            "justify_items": null,
            "left": null,
            "margin": null,
            "max_height": null,
            "max_width": null,
            "min_height": null,
            "min_width": null,
            "object_fit": null,
            "object_position": null,
            "order": null,
            "overflow": null,
            "overflow_x": null,
            "overflow_y": null,
            "padding": null,
            "right": null,
            "top": null,
            "visibility": null,
            "width": null
          }
        },
        "42c6cd9399ac4cd49ef8f1f2ae04b4d2": {
          "model_module": "@jupyter-widgets/controls",
          "model_module_version": "1.5.0",
          "model_name": "HBoxModel",
          "state": {
            "_dom_classes": [],
            "_model_module": "@jupyter-widgets/controls",
            "_model_module_version": "1.5.0",
            "_model_name": "HBoxModel",
            "_view_count": null,
            "_view_module": "@jupyter-widgets/controls",
            "_view_module_version": "1.5.0",
            "_view_name": "HBoxView",
            "box_style": "",
            "children": [
              "IPY_MODEL_d1f0a3f6f767469fba1f0977f24245f0",
              "IPY_MODEL_d1066c770114490c8d7cbe7d4ed540fc",
              "IPY_MODEL_ab321a876d934eaf83f450ad07950e6f"
            ],
            "layout": "IPY_MODEL_4b781d420fa84cff8a6b870743667019"
          }
        },
        "432c5ae7c4c24530a7bb47c3450c044d": {
          "model_module": "@jupyter-widgets/controls",
          "model_module_version": "1.5.0",
          "model_name": "DescriptionStyleModel",
          "state": {
            "_model_module": "@jupyter-widgets/controls",
            "_model_module_version": "1.5.0",
            "_model_name": "DescriptionStyleModel",
            "_view_count": null,
            "_view_module": "@jupyter-widgets/base",
            "_view_module_version": "1.2.0",
            "_view_name": "StyleView",
            "description_width": ""
          }
        },
        "44d82efe397f4b07a9b42bb244a5eac0": {
          "model_module": "@jupyter-widgets/controls",
          "model_module_version": "1.5.0",
          "model_name": "FloatProgressModel",
          "state": {
            "_dom_classes": [],
            "_model_module": "@jupyter-widgets/controls",
            "_model_module_version": "1.5.0",
            "_model_name": "FloatProgressModel",
            "_view_count": null,
            "_view_module": "@jupyter-widgets/controls",
            "_view_module_version": "1.5.0",
            "_view_name": "ProgressView",
            "bar_style": "success",
            "description": "",
            "description_tooltip": null,
            "layout": "IPY_MODEL_a66e7d262a7a4af68ec5cee1dfccd363",
            "max": 1583,
            "min": 0,
            "orientation": "horizontal",
            "style": "IPY_MODEL_2059b35ea7364acfb80b788cd2df5c7d",
            "value": 1583
          }
        },
        "4b7187dbcf7a41a9aa9799ac470b1ebc": {
          "model_module": "@jupyter-widgets/controls",
          "model_module_version": "1.5.0",
          "model_name": "DescriptionStyleModel",
          "state": {
            "_model_module": "@jupyter-widgets/controls",
            "_model_module_version": "1.5.0",
            "_model_name": "DescriptionStyleModel",
            "_view_count": null,
            "_view_module": "@jupyter-widgets/base",
            "_view_module_version": "1.2.0",
            "_view_name": "StyleView",
            "description_width": ""
          }
        },
        "4b781d420fa84cff8a6b870743667019": {
          "model_module": "@jupyter-widgets/base",
          "model_module_version": "1.2.0",
          "model_name": "LayoutModel",
          "state": {
            "_model_module": "@jupyter-widgets/base",
            "_model_module_version": "1.2.0",
            "_model_name": "LayoutModel",
            "_view_count": null,
            "_view_module": "@jupyter-widgets/base",
            "_view_module_version": "1.2.0",
            "_view_name": "LayoutView",
            "align_content": null,
            "align_items": null,
            "align_self": null,
            "border": null,
            "bottom": null,
            "display": null,
            "flex": null,
            "flex_flow": null,
            "grid_area": null,
            "grid_auto_columns": null,
            "grid_auto_flow": null,
            "grid_auto_rows": null,
            "grid_column": null,
            "grid_gap": null,
            "grid_row": null,
            "grid_template_areas": null,
            "grid_template_columns": null,
            "grid_template_rows": null,
            "height": null,
            "justify_content": null,
            "justify_items": null,
            "left": null,
            "margin": null,
            "max_height": null,
            "max_width": null,
            "min_height": null,
            "min_width": null,
            "object_fit": null,
            "object_position": null,
            "order": null,
            "overflow": null,
            "overflow_x": null,
            "overflow_y": null,
            "padding": null,
            "right": null,
            "top": null,
            "visibility": null,
            "width": null
          }
        },
        "4bb42e548cc546618987526d3ccfdb6b": {
          "model_module": "@jupyter-widgets/controls",
          "model_module_version": "1.5.0",
          "model_name": "DescriptionStyleModel",
          "state": {
            "_model_module": "@jupyter-widgets/controls",
            "_model_module_version": "1.5.0",
            "_model_name": "DescriptionStyleModel",
            "_view_count": null,
            "_view_module": "@jupyter-widgets/base",
            "_view_module_version": "1.2.0",
            "_view_name": "StyleView",
            "description_width": ""
          }
        },
        "5cde9ae3a3cc4fcb814ba01ec7ed5a35": {
          "model_module": "@jupyter-widgets/base",
          "model_module_version": "1.2.0",
          "model_name": "LayoutModel",
          "state": {
            "_model_module": "@jupyter-widgets/base",
            "_model_module_version": "1.2.0",
            "_model_name": "LayoutModel",
            "_view_count": null,
            "_view_module": "@jupyter-widgets/base",
            "_view_module_version": "1.2.0",
            "_view_name": "LayoutView",
            "align_content": null,
            "align_items": null,
            "align_self": null,
            "border": null,
            "bottom": null,
            "display": null,
            "flex": null,
            "flex_flow": null,
            "grid_area": null,
            "grid_auto_columns": null,
            "grid_auto_flow": null,
            "grid_auto_rows": null,
            "grid_column": null,
            "grid_gap": null,
            "grid_row": null,
            "grid_template_areas": null,
            "grid_template_columns": null,
            "grid_template_rows": null,
            "height": null,
            "justify_content": null,
            "justify_items": null,
            "left": null,
            "margin": null,
            "max_height": null,
            "max_width": null,
            "min_height": null,
            "min_width": null,
            "object_fit": null,
            "object_position": null,
            "order": null,
            "overflow": null,
            "overflow_x": null,
            "overflow_y": null,
            "padding": null,
            "right": null,
            "top": null,
            "visibility": null,
            "width": null
          }
        },
        "5d0393af3ffa4a649476c8e8a20dfde5": {
          "model_module": "@jupyter-widgets/controls",
          "model_module_version": "1.5.0",
          "model_name": "HTMLModel",
          "state": {
            "_dom_classes": [],
            "_model_module": "@jupyter-widgets/controls",
            "_model_module_version": "1.5.0",
            "_model_name": "HTMLModel",
            "_view_count": null,
            "_view_module": "@jupyter-widgets/controls",
            "_view_module_version": "1.5.0",
            "_view_name": "HTMLView",
            "description": "",
            "description_tooltip": null,
            "layout": "IPY_MODEL_8bced0fa67ee46e1bf144b371954e514",
            "placeholder": "​",
            "style": "IPY_MODEL_881a881a383d4ba19cd5b1ab9f7be70a",
            "value": "Generating test split: 100%"
          }
        },
        "5f276004282643bd8058302f6b2a37f0": {
          "model_module": "@jupyter-widgets/controls",
          "model_module_version": "1.5.0",
          "model_name": "HTMLModel",
          "state": {
            "_dom_classes": [],
            "_model_module": "@jupyter-widgets/controls",
            "_model_module_version": "1.5.0",
            "_model_name": "HTMLModel",
            "_view_count": null,
            "_view_module": "@jupyter-widgets/controls",
            "_view_module_version": "1.5.0",
            "_view_name": "HTMLView",
            "description": "",
            "description_tooltip": null,
            "layout": "IPY_MODEL_9b62c110a16c4007965eac9ef73cc34d",
            "placeholder": "​",
            "style": "IPY_MODEL_95232f18181b4a99a1fc3f2bb7fe6924",
            "value": " 134k/134k [00:00&lt;00:00, 285kB/s]"
          }
        },
        "6cfde156270547e0a8434e243f4b668e": {
          "model_module": "@jupyter-widgets/controls",
          "model_module_version": "1.5.0",
          "model_name": "HBoxModel",
          "state": {
            "_dom_classes": [],
            "_model_module": "@jupyter-widgets/controls",
            "_model_module_version": "1.5.0",
            "_model_name": "HBoxModel",
            "_view_count": null,
            "_view_module": "@jupyter-widgets/controls",
            "_view_module_version": "1.5.0",
            "_view_name": "HBoxView",
            "box_style": "",
            "children": [
              "IPY_MODEL_8dc34044799440d2bd07d0218284f428",
              "IPY_MODEL_803c3b10299d46838f1a7af97c3a0f70",
              "IPY_MODEL_5f276004282643bd8058302f6b2a37f0"
            ],
            "layout": "IPY_MODEL_292cdf79e60c419dbd9eed998297eefe"
          }
        },
        "717ef76264fb4af59826309098a52505": {
          "model_module": "@jupyter-widgets/controls",
          "model_module_version": "1.5.0",
          "model_name": "HBoxModel",
          "state": {
            "_dom_classes": [],
            "_model_module": "@jupyter-widgets/controls",
            "_model_module_version": "1.5.0",
            "_model_name": "HBoxModel",
            "_view_count": null,
            "_view_module": "@jupyter-widgets/controls",
            "_view_module_version": "1.5.0",
            "_view_name": "HBoxView",
            "box_style": "",
            "children": [
              "IPY_MODEL_5d0393af3ffa4a649476c8e8a20dfde5",
              "IPY_MODEL_8e13ff1a001b480da82b6c213bd65420",
              "IPY_MODEL_8db55e1bf59e476e979df2104a8ee14c"
            ],
            "layout": "IPY_MODEL_f7822ecc921d49b3973734d13f887ef5"
          }
        },
        "74eb1f5966c84719b66d70ecf5330ec1": {
          "model_module": "@jupyter-widgets/controls",
          "model_module_version": "1.5.0",
          "model_name": "HTMLModel",
          "state": {
            "_dom_classes": [],
            "_model_module": "@jupyter-widgets/controls",
            "_model_module_version": "1.5.0",
            "_model_name": "HTMLModel",
            "_view_count": null,
            "_view_module": "@jupyter-widgets/controls",
            "_view_module_version": "1.5.0",
            "_view_name": "HTMLView",
            "description": "",
            "description_tooltip": null,
            "layout": "IPY_MODEL_3c081f5da5124e38bef20ed7602dc955",
            "placeholder": "​",
            "style": "IPY_MODEL_0ecc318fcfb2477e8ec7969c29c5b18c",
            "value": "Downloading data: 100%"
          }
        },
        "7ba86d5a6fb44f96ad39ab76d0530ebb": {
          "model_module": "@jupyter-widgets/controls",
          "model_module_version": "1.5.0",
          "model_name": "ProgressStyleModel",
          "state": {
            "_model_module": "@jupyter-widgets/controls",
            "_model_module_version": "1.5.0",
            "_model_name": "ProgressStyleModel",
            "_view_count": null,
            "_view_module": "@jupyter-widgets/base",
            "_view_module_version": "1.2.0",
            "_view_name": "StyleView",
            "bar_color": null,
            "description_width": ""
          }
        },
        "7ce07a1d64fc44b4a67163e1e0e4beb0": {
          "model_module": "@jupyter-widgets/controls",
          "model_module_version": "1.5.0",
          "model_name": "HBoxModel",
          "state": {
            "_dom_classes": [],
            "_model_module": "@jupyter-widgets/controls",
            "_model_module_version": "1.5.0",
            "_model_name": "HBoxModel",
            "_view_count": null,
            "_view_module": "@jupyter-widgets/controls",
            "_view_module_version": "1.5.0",
            "_view_name": "HBoxView",
            "box_style": "",
            "children": [
              "IPY_MODEL_257706e5d0c049de8acefc8f81998870",
              "IPY_MODEL_44d82efe397f4b07a9b42bb244a5eac0",
              "IPY_MODEL_0febf9f454a042fd8410d2a3da39c350"
            ],
            "layout": "IPY_MODEL_b9f8df7bd1a44aa083203fcd6cfaa312"
          }
        },
        "7dad67ae3b5243e58bed8ce398b4ae10": {
          "model_module": "@jupyter-widgets/controls",
          "model_module_version": "1.5.0",
          "model_name": "DescriptionStyleModel",
          "state": {
            "_model_module": "@jupyter-widgets/controls",
            "_model_module_version": "1.5.0",
            "_model_name": "DescriptionStyleModel",
            "_view_count": null,
            "_view_module": "@jupyter-widgets/base",
            "_view_module_version": "1.2.0",
            "_view_name": "StyleView",
            "description_width": ""
          }
        },
        "7f5db1106add45e5b642a005da0c72a0": {
          "model_module": "@jupyter-widgets/base",
          "model_module_version": "1.2.0",
          "model_name": "LayoutModel",
          "state": {
            "_model_module": "@jupyter-widgets/base",
            "_model_module_version": "1.2.0",
            "_model_name": "LayoutModel",
            "_view_count": null,
            "_view_module": "@jupyter-widgets/base",
            "_view_module_version": "1.2.0",
            "_view_name": "LayoutView",
            "align_content": null,
            "align_items": null,
            "align_self": null,
            "border": null,
            "bottom": null,
            "display": null,
            "flex": null,
            "flex_flow": null,
            "grid_area": null,
            "grid_auto_columns": null,
            "grid_auto_flow": null,
            "grid_auto_rows": null,
            "grid_column": null,
            "grid_gap": null,
            "grid_row": null,
            "grid_template_areas": null,
            "grid_template_columns": null,
            "grid_template_rows": null,
            "height": null,
            "justify_content": null,
            "justify_items": null,
            "left": null,
            "margin": null,
            "max_height": null,
            "max_width": null,
            "min_height": null,
            "min_width": null,
            "object_fit": null,
            "object_position": null,
            "order": null,
            "overflow": null,
            "overflow_x": null,
            "overflow_y": null,
            "padding": null,
            "right": null,
            "top": null,
            "visibility": null,
            "width": null
          }
        },
        "803c3b10299d46838f1a7af97c3a0f70": {
          "model_module": "@jupyter-widgets/controls",
          "model_module_version": "1.5.0",
          "model_name": "FloatProgressModel",
          "state": {
            "_dom_classes": [],
            "_model_module": "@jupyter-widgets/controls",
            "_model_module_version": "1.5.0",
            "_model_name": "FloatProgressModel",
            "_view_count": null,
            "_view_module": "@jupyter-widgets/controls",
            "_view_module_version": "1.5.0",
            "_view_name": "ProgressView",
            "bar_style": "success",
            "description": "",
            "description_tooltip": null,
            "layout": "IPY_MODEL_aa4602086314462f899df708f801b557",
            "max": 133749,
            "min": 0,
            "orientation": "horizontal",
            "style": "IPY_MODEL_7ba86d5a6fb44f96ad39ab76d0530ebb",
            "value": 133749
          }
        },
        "84379deb065844df88a2dff0cf871621": {
          "model_module": "@jupyter-widgets/base",
          "model_module_version": "1.2.0",
          "model_name": "LayoutModel",
          "state": {
            "_model_module": "@jupyter-widgets/base",
            "_model_module_version": "1.2.0",
            "_model_name": "LayoutModel",
            "_view_count": null,
            "_view_module": "@jupyter-widgets/base",
            "_view_module_version": "1.2.0",
            "_view_name": "LayoutView",
            "align_content": null,
            "align_items": null,
            "align_self": null,
            "border": null,
            "bottom": null,
            "display": null,
            "flex": null,
            "flex_flow": null,
            "grid_area": null,
            "grid_auto_columns": null,
            "grid_auto_flow": null,
            "grid_auto_rows": null,
            "grid_column": null,
            "grid_gap": null,
            "grid_row": null,
            "grid_template_areas": null,
            "grid_template_columns": null,
            "grid_template_rows": null,
            "height": null,
            "justify_content": null,
            "justify_items": null,
            "left": null,
            "margin": null,
            "max_height": null,
            "max_width": null,
            "min_height": null,
            "min_width": null,
            "object_fit": null,
            "object_position": null,
            "order": null,
            "overflow": null,
            "overflow_x": null,
            "overflow_y": null,
            "padding": null,
            "right": null,
            "top": null,
            "visibility": null,
            "width": null
          }
        },
        "8674baa76da14f08a90e1fd125e8a455": {
          "model_module": "@jupyter-widgets/base",
          "model_module_version": "1.2.0",
          "model_name": "LayoutModel",
          "state": {
            "_model_module": "@jupyter-widgets/base",
            "_model_module_version": "1.2.0",
            "_model_name": "LayoutModel",
            "_view_count": null,
            "_view_module": "@jupyter-widgets/base",
            "_view_module_version": "1.2.0",
            "_view_name": "LayoutView",
            "align_content": null,
            "align_items": null,
            "align_self": null,
            "border": null,
            "bottom": null,
            "display": null,
            "flex": null,
            "flex_flow": null,
            "grid_area": null,
            "grid_auto_columns": null,
            "grid_auto_flow": null,
            "grid_auto_rows": null,
            "grid_column": null,
            "grid_gap": null,
            "grid_row": null,
            "grid_template_areas": null,
            "grid_template_columns": null,
            "grid_template_rows": null,
            "height": null,
            "justify_content": null,
            "justify_items": null,
            "left": null,
            "margin": null,
            "max_height": null,
            "max_width": null,
            "min_height": null,
            "min_width": null,
            "object_fit": null,
            "object_position": null,
            "order": null,
            "overflow": null,
            "overflow_x": null,
            "overflow_y": null,
            "padding": null,
            "right": null,
            "top": null,
            "visibility": null,
            "width": null
          }
        },
        "878c54dee889406186250ed860e6ef1a": {
          "model_module": "@jupyter-widgets/base",
          "model_module_version": "1.2.0",
          "model_name": "LayoutModel",
          "state": {
            "_model_module": "@jupyter-widgets/base",
            "_model_module_version": "1.2.0",
            "_model_name": "LayoutModel",
            "_view_count": null,
            "_view_module": "@jupyter-widgets/base",
            "_view_module_version": "1.2.0",
            "_view_name": "LayoutView",
            "align_content": null,
            "align_items": null,
            "align_self": null,
            "border": null,
            "bottom": null,
            "display": null,
            "flex": null,
            "flex_flow": null,
            "grid_area": null,
            "grid_auto_columns": null,
            "grid_auto_flow": null,
            "grid_auto_rows": null,
            "grid_column": null,
            "grid_gap": null,
            "grid_row": null,
            "grid_template_areas": null,
            "grid_template_columns": null,
            "grid_template_rows": null,
            "height": null,
            "justify_content": null,
            "justify_items": null,
            "left": null,
            "margin": null,
            "max_height": null,
            "max_width": null,
            "min_height": null,
            "min_width": null,
            "object_fit": null,
            "object_position": null,
            "order": null,
            "overflow": null,
            "overflow_x": null,
            "overflow_y": null,
            "padding": null,
            "right": null,
            "top": null,
            "visibility": null,
            "width": null
          }
        },
        "881a881a383d4ba19cd5b1ab9f7be70a": {
          "model_module": "@jupyter-widgets/controls",
          "model_module_version": "1.5.0",
          "model_name": "DescriptionStyleModel",
          "state": {
            "_model_module": "@jupyter-widgets/controls",
            "_model_module_version": "1.5.0",
            "_model_name": "DescriptionStyleModel",
            "_view_count": null,
            "_view_module": "@jupyter-widgets/base",
            "_view_module_version": "1.2.0",
            "_view_name": "StyleView",
            "description_width": ""
          }
        },
        "8bced0fa67ee46e1bf144b371954e514": {
          "model_module": "@jupyter-widgets/base",
          "model_module_version": "1.2.0",
          "model_name": "LayoutModel",
          "state": {
            "_model_module": "@jupyter-widgets/base",
            "_model_module_version": "1.2.0",
            "_model_name": "LayoutModel",
            "_view_count": null,
            "_view_module": "@jupyter-widgets/base",
            "_view_module_version": "1.2.0",
            "_view_name": "LayoutView",
            "align_content": null,
            "align_items": null,
            "align_self": null,
            "border": null,
            "bottom": null,
            "display": null,
            "flex": null,
            "flex_flow": null,
            "grid_area": null,
            "grid_auto_columns": null,
            "grid_auto_flow": null,
            "grid_auto_rows": null,
            "grid_column": null,
            "grid_gap": null,
            "grid_row": null,
            "grid_template_areas": null,
            "grid_template_columns": null,
            "grid_template_rows": null,
            "height": null,
            "justify_content": null,
            "justify_items": null,
            "left": null,
            "margin": null,
            "max_height": null,
            "max_width": null,
            "min_height": null,
            "min_width": null,
            "object_fit": null,
            "object_position": null,
            "order": null,
            "overflow": null,
            "overflow_x": null,
            "overflow_y": null,
            "padding": null,
            "right": null,
            "top": null,
            "visibility": null,
            "width": null
          }
        },
        "8c8baad958e14359b5a92f2a9f9c6d05": {
          "model_module": "@jupyter-widgets/controls",
          "model_module_version": "1.5.0",
          "model_name": "HBoxModel",
          "state": {
            "_dom_classes": [],
            "_model_module": "@jupyter-widgets/controls",
            "_model_module_version": "1.5.0",
            "_model_name": "HBoxModel",
            "_view_count": null,
            "_view_module": "@jupyter-widgets/controls",
            "_view_module_version": "1.5.0",
            "_view_name": "HBoxView",
            "box_style": "",
            "children": [
              "IPY_MODEL_74eb1f5966c84719b66d70ecf5330ec1",
              "IPY_MODEL_34bda6417a3d43aaae5e298bdbb20af8",
              "IPY_MODEL_aa08d54a26f3479a80b5940eb9747351"
            ],
            "layout": "IPY_MODEL_7f5db1106add45e5b642a005da0c72a0"
          }
        },
        "8ca66df248434f6ba9b5eed04fbf6ff4": {
          "model_module": "@jupyter-widgets/controls",
          "model_module_version": "1.5.0",
          "model_name": "DescriptionStyleModel",
          "state": {
            "_model_module": "@jupyter-widgets/controls",
            "_model_module_version": "1.5.0",
            "_model_name": "DescriptionStyleModel",
            "_view_count": null,
            "_view_module": "@jupyter-widgets/base",
            "_view_module_version": "1.2.0",
            "_view_name": "StyleView",
            "description_width": ""
          }
        },
        "8db55e1bf59e476e979df2104a8ee14c": {
          "model_module": "@jupyter-widgets/controls",
          "model_module_version": "1.5.0",
          "model_name": "HTMLModel",
          "state": {
            "_dom_classes": [],
            "_model_module": "@jupyter-widgets/controls",
            "_model_module_version": "1.5.0",
            "_model_name": "HTMLModel",
            "_view_count": null,
            "_view_module": "@jupyter-widgets/controls",
            "_view_module_version": "1.5.0",
            "_view_name": "HTMLView",
            "description": "",
            "description_tooltip": null,
            "layout": "IPY_MODEL_95777b27cdea4448ab2828c69be44fda",
            "placeholder": "​",
            "style": "IPY_MODEL_4b7187dbcf7a41a9aa9799ac470b1ebc",
            "value": " 3166/3166 [00:00&lt;00:00, 36072.44 examples/s]"
          }
        },
        "8dc34044799440d2bd07d0218284f428": {
          "model_module": "@jupyter-widgets/controls",
          "model_module_version": "1.5.0",
          "model_name": "HTMLModel",
          "state": {
            "_dom_classes": [],
            "_model_module": "@jupyter-widgets/controls",
            "_model_module_version": "1.5.0",
            "_model_name": "HTMLModel",
            "_view_count": null,
            "_view_module": "@jupyter-widgets/controls",
            "_view_module_version": "1.5.0",
            "_view_name": "HTMLView",
            "description": "",
            "description_tooltip": null,
            "layout": "IPY_MODEL_0bd54ea8d3c54dcd98956928ceb638c7",
            "placeholder": "​",
            "style": "IPY_MODEL_b561e4b54cf54bc38970bd7f3a599181",
            "value": "Downloading data: 100%"
          }
        },
        "8e13ff1a001b480da82b6c213bd65420": {
          "model_module": "@jupyter-widgets/controls",
          "model_module_version": "1.5.0",
          "model_name": "FloatProgressModel",
          "state": {
            "_dom_classes": [],
            "_model_module": "@jupyter-widgets/controls",
            "_model_module_version": "1.5.0",
            "_model_name": "FloatProgressModel",
            "_view_count": null,
            "_view_module": "@jupyter-widgets/controls",
            "_view_module_version": "1.5.0",
            "_view_name": "ProgressView",
            "bar_style": "success",
            "description": "",
            "description_tooltip": null,
            "layout": "IPY_MODEL_84379deb065844df88a2dff0cf871621",
            "max": 3166,
            "min": 0,
            "orientation": "horizontal",
            "style": "IPY_MODEL_109e29c3f5a140bba66d53eed275e211",
            "value": 3166
          }
        },
        "9242e82e66914c3eb34bc040ff6798c0": {
          "model_module": "@jupyter-widgets/controls",
          "model_module_version": "1.5.0",
          "model_name": "FloatProgressModel",
          "state": {
            "_dom_classes": [],
            "_model_module": "@jupyter-widgets/controls",
            "_model_module_version": "1.5.0",
            "_model_name": "FloatProgressModel",
            "_view_count": null,
            "_view_module": "@jupyter-widgets/controls",
            "_view_module_version": "1.5.0",
            "_view_name": "ProgressView",
            "bar_style": "success",
            "description": "",
            "description_tooltip": null,
            "layout": "IPY_MODEL_f51f83ab8e4d440fbadf07ba90994818",
            "max": 11426,
            "min": 0,
            "orientation": "horizontal",
            "style": "IPY_MODEL_2b6a3036c3394614ac5ec8b09572eb1e",
            "value": 11426
          }
        },
        "95232f18181b4a99a1fc3f2bb7fe6924": {
          "model_module": "@jupyter-widgets/controls",
          "model_module_version": "1.5.0",
          "model_name": "DescriptionStyleModel",
          "state": {
            "_model_module": "@jupyter-widgets/controls",
            "_model_module_version": "1.5.0",
            "_model_name": "DescriptionStyleModel",
            "_view_count": null,
            "_view_module": "@jupyter-widgets/base",
            "_view_module_version": "1.2.0",
            "_view_name": "StyleView",
            "description_width": ""
          }
        },
        "95777b27cdea4448ab2828c69be44fda": {
          "model_module": "@jupyter-widgets/base",
          "model_module_version": "1.2.0",
          "model_name": "LayoutModel",
          "state": {
            "_model_module": "@jupyter-widgets/base",
            "_model_module_version": "1.2.0",
            "_model_name": "LayoutModel",
            "_view_count": null,
            "_view_module": "@jupyter-widgets/base",
            "_view_module_version": "1.2.0",
            "_view_name": "LayoutView",
            "align_content": null,
            "align_items": null,
            "align_self": null,
            "border": null,
            "bottom": null,
            "display": null,
            "flex": null,
            "flex_flow": null,
            "grid_area": null,
            "grid_auto_columns": null,
            "grid_auto_flow": null,
            "grid_auto_rows": null,
            "grid_column": null,
            "grid_gap": null,
            "grid_row": null,
            "grid_template_areas": null,
            "grid_template_columns": null,
            "grid_template_rows": null,
            "height": null,
            "justify_content": null,
            "justify_items": null,
            "left": null,
            "margin": null,
            "max_height": null,
            "max_width": null,
            "min_height": null,
            "min_width": null,
            "object_fit": null,
            "object_position": null,
            "order": null,
            "overflow": null,
            "overflow_x": null,
            "overflow_y": null,
            "padding": null,
            "right": null,
            "top": null,
            "visibility": null,
            "width": null
          }
        },
        "9b62c110a16c4007965eac9ef73cc34d": {
          "model_module": "@jupyter-widgets/base",
          "model_module_version": "1.2.0",
          "model_name": "LayoutModel",
          "state": {
            "_model_module": "@jupyter-widgets/base",
            "_model_module_version": "1.2.0",
            "_model_name": "LayoutModel",
            "_view_count": null,
            "_view_module": "@jupyter-widgets/base",
            "_view_module_version": "1.2.0",
            "_view_name": "LayoutView",
            "align_content": null,
            "align_items": null,
            "align_self": null,
            "border": null,
            "bottom": null,
            "display": null,
            "flex": null,
            "flex_flow": null,
            "grid_area": null,
            "grid_auto_columns": null,
            "grid_auto_flow": null,
            "grid_auto_rows": null,
            "grid_column": null,
            "grid_gap": null,
            "grid_row": null,
            "grid_template_areas": null,
            "grid_template_columns": null,
            "grid_template_rows": null,
            "height": null,
            "justify_content": null,
            "justify_items": null,
            "left": null,
            "margin": null,
            "max_height": null,
            "max_width": null,
            "min_height": null,
            "min_width": null,
            "object_fit": null,
            "object_position": null,
            "order": null,
            "overflow": null,
            "overflow_x": null,
            "overflow_y": null,
            "padding": null,
            "right": null,
            "top": null,
            "visibility": null,
            "width": null
          }
        },
        "a21b1c9a8261431698606a3b9aa7b96f": {
          "model_module": "@jupyter-widgets/controls",
          "model_module_version": "1.5.0",
          "model_name": "DescriptionStyleModel",
          "state": {
            "_model_module": "@jupyter-widgets/controls",
            "_model_module_version": "1.5.0",
            "_model_name": "DescriptionStyleModel",
            "_view_count": null,
            "_view_module": "@jupyter-widgets/base",
            "_view_module_version": "1.2.0",
            "_view_name": "StyleView",
            "description_width": ""
          }
        },
        "a66e7d262a7a4af68ec5cee1dfccd363": {
          "model_module": "@jupyter-widgets/base",
          "model_module_version": "1.2.0",
          "model_name": "LayoutModel",
          "state": {
            "_model_module": "@jupyter-widgets/base",
            "_model_module_version": "1.2.0",
            "_model_name": "LayoutModel",
            "_view_count": null,
            "_view_module": "@jupyter-widgets/base",
            "_view_module_version": "1.2.0",
            "_view_name": "LayoutView",
            "align_content": null,
            "align_items": null,
            "align_self": null,
            "border": null,
            "bottom": null,
            "display": null,
            "flex": null,
            "flex_flow": null,
            "grid_area": null,
            "grid_auto_columns": null,
            "grid_auto_flow": null,
            "grid_auto_rows": null,
            "grid_column": null,
            "grid_gap": null,
            "grid_row": null,
            "grid_template_areas": null,
            "grid_template_columns": null,
            "grid_template_rows": null,
            "height": null,
            "justify_content": null,
            "justify_items": null,
            "left": null,
            "margin": null,
            "max_height": null,
            "max_width": null,
            "min_height": null,
            "min_width": null,
            "object_fit": null,
            "object_position": null,
            "order": null,
            "overflow": null,
            "overflow_x": null,
            "overflow_y": null,
            "padding": null,
            "right": null,
            "top": null,
            "visibility": null,
            "width": null
          }
        },
        "a7642bc65b174a10acbdb9903e2adf45": {
          "model_module": "@jupyter-widgets/controls",
          "model_module_version": "1.5.0",
          "model_name": "ProgressStyleModel",
          "state": {
            "_model_module": "@jupyter-widgets/controls",
            "_model_module_version": "1.5.0",
            "_model_name": "ProgressStyleModel",
            "_view_count": null,
            "_view_module": "@jupyter-widgets/base",
            "_view_module_version": "1.2.0",
            "_view_name": "StyleView",
            "bar_color": null,
            "description_width": ""
          }
        },
        "aa08d54a26f3479a80b5940eb9747351": {
          "model_module": "@jupyter-widgets/controls",
          "model_module_version": "1.5.0",
          "model_name": "HTMLModel",
          "state": {
            "_dom_classes": [],
            "_model_module": "@jupyter-widgets/controls",
            "_model_module_version": "1.5.0",
            "_model_name": "HTMLModel",
            "_view_count": null,
            "_view_module": "@jupyter-widgets/controls",
            "_view_module_version": "1.5.0",
            "_view_name": "HTMLView",
            "description": "",
            "description_tooltip": null,
            "layout": "IPY_MODEL_cacb3024e1fa41b4b0252aef95c13a81",
            "placeholder": "​",
            "style": "IPY_MODEL_4bb42e548cc546618987526d3ccfdb6b",
            "value": " 63.3k/63.3k [00:00&lt;00:00, 120kB/s]"
          }
        },
        "aa4602086314462f899df708f801b557": {
          "model_module": "@jupyter-widgets/base",
          "model_module_version": "1.2.0",
          "model_name": "LayoutModel",
          "state": {
            "_model_module": "@jupyter-widgets/base",
            "_model_module_version": "1.2.0",
            "_model_name": "LayoutModel",
            "_view_count": null,
            "_view_module": "@jupyter-widgets/base",
            "_view_module_version": "1.2.0",
            "_view_name": "LayoutView",
            "align_content": null,
            "align_items": null,
            "align_self": null,
            "border": null,
            "bottom": null,
            "display": null,
            "flex": null,
            "flex_flow": null,
            "grid_area": null,
            "grid_auto_columns": null,
            "grid_auto_flow": null,
            "grid_auto_rows": null,
            "grid_column": null,
            "grid_gap": null,
            "grid_row": null,
            "grid_template_areas": null,
            "grid_template_columns": null,
            "grid_template_rows": null,
            "height": null,
            "justify_content": null,
            "justify_items": null,
            "left": null,
            "margin": null,
            "max_height": null,
            "max_width": null,
            "min_height": null,
            "min_width": null,
            "object_fit": null,
            "object_position": null,
            "order": null,
            "overflow": null,
            "overflow_x": null,
            "overflow_y": null,
            "padding": null,
            "right": null,
            "top": null,
            "visibility": null,
            "width": null
          }
        },
        "ab321a876d934eaf83f450ad07950e6f": {
          "model_module": "@jupyter-widgets/controls",
          "model_module_version": "1.5.0",
          "model_name": "HTMLModel",
          "state": {
            "_dom_classes": [],
            "_model_module": "@jupyter-widgets/controls",
            "_model_module_version": "1.5.0",
            "_model_name": "HTMLModel",
            "_view_count": null,
            "_view_module": "@jupyter-widgets/controls",
            "_view_module_version": "1.5.0",
            "_view_name": "HTMLView",
            "description": "",
            "description_tooltip": null,
            "layout": "IPY_MODEL_d066321f46174e418cd65b69525108fc",
            "placeholder": "​",
            "style": "IPY_MODEL_8ca66df248434f6ba9b5eed04fbf6ff4",
            "value": " 475k/475k [00:00&lt;00:00, 792kB/s]"
          }
        },
        "b3ab762556134ca790d0a41797482fda": {
          "model_module": "@jupyter-widgets/base",
          "model_module_version": "1.2.0",
          "model_name": "LayoutModel",
          "state": {
            "_model_module": "@jupyter-widgets/base",
            "_model_module_version": "1.2.0",
            "_model_name": "LayoutModel",
            "_view_count": null,
            "_view_module": "@jupyter-widgets/base",
            "_view_module_version": "1.2.0",
            "_view_name": "LayoutView",
            "align_content": null,
            "align_items": null,
            "align_self": null,
            "border": null,
            "bottom": null,
            "display": null,
            "flex": null,
            "flex_flow": null,
            "grid_area": null,
            "grid_auto_columns": null,
            "grid_auto_flow": null,
            "grid_auto_rows": null,
            "grid_column": null,
            "grid_gap": null,
            "grid_row": null,
            "grid_template_areas": null,
            "grid_template_columns": null,
            "grid_template_rows": null,
            "height": null,
            "justify_content": null,
            "justify_items": null,
            "left": null,
            "margin": null,
            "max_height": null,
            "max_width": null,
            "min_height": null,
            "min_width": null,
            "object_fit": null,
            "object_position": null,
            "order": null,
            "overflow": null,
            "overflow_x": null,
            "overflow_y": null,
            "padding": null,
            "right": null,
            "top": null,
            "visibility": null,
            "width": null
          }
        },
        "b561e4b54cf54bc38970bd7f3a599181": {
          "model_module": "@jupyter-widgets/controls",
          "model_module_version": "1.5.0",
          "model_name": "DescriptionStyleModel",
          "state": {
            "_model_module": "@jupyter-widgets/controls",
            "_model_module_version": "1.5.0",
            "_model_name": "DescriptionStyleModel",
            "_view_count": null,
            "_view_module": "@jupyter-widgets/base",
            "_view_module_version": "1.2.0",
            "_view_name": "StyleView",
            "description_width": ""
          }
        },
        "b9f8df7bd1a44aa083203fcd6cfaa312": {
          "model_module": "@jupyter-widgets/base",
          "model_module_version": "1.2.0",
          "model_name": "LayoutModel",
          "state": {
            "_model_module": "@jupyter-widgets/base",
            "_model_module_version": "1.2.0",
            "_model_name": "LayoutModel",
            "_view_count": null,
            "_view_module": "@jupyter-widgets/base",
            "_view_module_version": "1.2.0",
            "_view_name": "LayoutView",
            "align_content": null,
            "align_items": null,
            "align_self": null,
            "border": null,
            "bottom": null,
            "display": null,
            "flex": null,
            "flex_flow": null,
            "grid_area": null,
            "grid_auto_columns": null,
            "grid_auto_flow": null,
            "grid_auto_rows": null,
            "grid_column": null,
            "grid_gap": null,
            "grid_row": null,
            "grid_template_areas": null,
            "grid_template_columns": null,
            "grid_template_rows": null,
            "height": null,
            "justify_content": null,
            "justify_items": null,
            "left": null,
            "margin": null,
            "max_height": null,
            "max_width": null,
            "min_height": null,
            "min_width": null,
            "object_fit": null,
            "object_position": null,
            "order": null,
            "overflow": null,
            "overflow_x": null,
            "overflow_y": null,
            "padding": null,
            "right": null,
            "top": null,
            "visibility": null,
            "width": null
          }
        },
        "be90e687c7c648479004fd178b95a897": {
          "model_module": "@jupyter-widgets/base",
          "model_module_version": "1.2.0",
          "model_name": "LayoutModel",
          "state": {
            "_model_module": "@jupyter-widgets/base",
            "_model_module_version": "1.2.0",
            "_model_name": "LayoutModel",
            "_view_count": null,
            "_view_module": "@jupyter-widgets/base",
            "_view_module_version": "1.2.0",
            "_view_name": "LayoutView",
            "align_content": null,
            "align_items": null,
            "align_self": null,
            "border": null,
            "bottom": null,
            "display": null,
            "flex": null,
            "flex_flow": null,
            "grid_area": null,
            "grid_auto_columns": null,
            "grid_auto_flow": null,
            "grid_auto_rows": null,
            "grid_column": null,
            "grid_gap": null,
            "grid_row": null,
            "grid_template_areas": null,
            "grid_template_columns": null,
            "grid_template_rows": null,
            "height": null,
            "justify_content": null,
            "justify_items": null,
            "left": null,
            "margin": null,
            "max_height": null,
            "max_width": null,
            "min_height": null,
            "min_width": null,
            "object_fit": null,
            "object_position": null,
            "order": null,
            "overflow": null,
            "overflow_x": null,
            "overflow_y": null,
            "padding": null,
            "right": null,
            "top": null,
            "visibility": null,
            "width": null
          }
        },
        "cacb3024e1fa41b4b0252aef95c13a81": {
          "model_module": "@jupyter-widgets/base",
          "model_module_version": "1.2.0",
          "model_name": "LayoutModel",
          "state": {
            "_model_module": "@jupyter-widgets/base",
            "_model_module_version": "1.2.0",
            "_model_name": "LayoutModel",
            "_view_count": null,
            "_view_module": "@jupyter-widgets/base",
            "_view_module_version": "1.2.0",
            "_view_name": "LayoutView",
            "align_content": null,
            "align_items": null,
            "align_self": null,
            "border": null,
            "bottom": null,
            "display": null,
            "flex": null,
            "flex_flow": null,
            "grid_area": null,
            "grid_auto_columns": null,
            "grid_auto_flow": null,
            "grid_auto_rows": null,
            "grid_column": null,
            "grid_gap": null,
            "grid_row": null,
            "grid_template_areas": null,
            "grid_template_columns": null,
            "grid_template_rows": null,
            "height": null,
            "justify_content": null,
            "justify_items": null,
            "left": null,
            "margin": null,
            "max_height": null,
            "max_width": null,
            "min_height": null,
            "min_width": null,
            "object_fit": null,
            "object_position": null,
            "order": null,
            "overflow": null,
            "overflow_x": null,
            "overflow_y": null,
            "padding": null,
            "right": null,
            "top": null,
            "visibility": null,
            "width": null
          }
        },
        "cfb4398e5db3459a9eea6dacb1a41f47": {
          "model_module": "@jupyter-widgets/controls",
          "model_module_version": "1.5.0",
          "model_name": "DescriptionStyleModel",
          "state": {
            "_model_module": "@jupyter-widgets/controls",
            "_model_module_version": "1.5.0",
            "_model_name": "DescriptionStyleModel",
            "_view_count": null,
            "_view_module": "@jupyter-widgets/base",
            "_view_module_version": "1.2.0",
            "_view_name": "StyleView",
            "description_width": ""
          }
        },
        "d066321f46174e418cd65b69525108fc": {
          "model_module": "@jupyter-widgets/base",
          "model_module_version": "1.2.0",
          "model_name": "LayoutModel",
          "state": {
            "_model_module": "@jupyter-widgets/base",
            "_model_module_version": "1.2.0",
            "_model_name": "LayoutModel",
            "_view_count": null,
            "_view_module": "@jupyter-widgets/base",
            "_view_module_version": "1.2.0",
            "_view_name": "LayoutView",
            "align_content": null,
            "align_items": null,
            "align_self": null,
            "border": null,
            "bottom": null,
            "display": null,
            "flex": null,
            "flex_flow": null,
            "grid_area": null,
            "grid_auto_columns": null,
            "grid_auto_flow": null,
            "grid_auto_rows": null,
            "grid_column": null,
            "grid_gap": null,
            "grid_row": null,
            "grid_template_areas": null,
            "grid_template_columns": null,
            "grid_template_rows": null,
            "height": null,
            "justify_content": null,
            "justify_items": null,
            "left": null,
            "margin": null,
            "max_height": null,
            "max_width": null,
            "min_height": null,
            "min_width": null,
            "object_fit": null,
            "object_position": null,
            "order": null,
            "overflow": null,
            "overflow_x": null,
            "overflow_y": null,
            "padding": null,
            "right": null,
            "top": null,
            "visibility": null,
            "width": null
          }
        },
        "d1066c770114490c8d7cbe7d4ed540fc": {
          "model_module": "@jupyter-widgets/controls",
          "model_module_version": "1.5.0",
          "model_name": "FloatProgressModel",
          "state": {
            "_dom_classes": [],
            "_model_module": "@jupyter-widgets/controls",
            "_model_module_version": "1.5.0",
            "_model_name": "FloatProgressModel",
            "_view_count": null,
            "_view_module": "@jupyter-widgets/controls",
            "_view_module_version": "1.5.0",
            "_view_name": "ProgressView",
            "bar_style": "success",
            "description": "",
            "description_tooltip": null,
            "layout": "IPY_MODEL_8674baa76da14f08a90e1fd125e8a455",
            "max": 474785,
            "min": 0,
            "orientation": "horizontal",
            "style": "IPY_MODEL_a7642bc65b174a10acbdb9903e2adf45",
            "value": 474785
          }
        },
        "d1f0a3f6f767469fba1f0977f24245f0": {
          "model_module": "@jupyter-widgets/controls",
          "model_module_version": "1.5.0",
          "model_name": "HTMLModel",
          "state": {
            "_dom_classes": [],
            "_model_module": "@jupyter-widgets/controls",
            "_model_module_version": "1.5.0",
            "_model_name": "HTMLModel",
            "_view_count": null,
            "_view_module": "@jupyter-widgets/controls",
            "_view_module_version": "1.5.0",
            "_view_name": "HTMLView",
            "description": "",
            "description_tooltip": null,
            "layout": "IPY_MODEL_b3ab762556134ca790d0a41797482fda",
            "placeholder": "​",
            "style": "IPY_MODEL_7dad67ae3b5243e58bed8ce398b4ae10",
            "value": "Downloading data: 100%"
          }
        },
        "e158842a5a8e42ed874553055ec718ab": {
          "model_module": "@jupyter-widgets/controls",
          "model_module_version": "1.5.0",
          "model_name": "HTMLModel",
          "state": {
            "_dom_classes": [],
            "_model_module": "@jupyter-widgets/controls",
            "_model_module_version": "1.5.0",
            "_model_name": "HTMLModel",
            "_view_count": null,
            "_view_module": "@jupyter-widgets/controls",
            "_view_module_version": "1.5.0",
            "_view_name": "HTMLView",
            "description": "",
            "description_tooltip": null,
            "layout": "IPY_MODEL_fe697ad7b39843d09e3d4fdc8182bd8c",
            "placeholder": "​",
            "style": "IPY_MODEL_1a1dad830ae54492af8447b35221fac0",
            "value": " 11426/11426 [00:00&lt;00:00, 9891.04 examples/s]"
          }
        },
        "f51f83ab8e4d440fbadf07ba90994818": {
          "model_module": "@jupyter-widgets/base",
          "model_module_version": "1.2.0",
          "model_name": "LayoutModel",
          "state": {
            "_model_module": "@jupyter-widgets/base",
            "_model_module_version": "1.2.0",
            "_model_name": "LayoutModel",
            "_view_count": null,
            "_view_module": "@jupyter-widgets/base",
            "_view_module_version": "1.2.0",
            "_view_name": "LayoutView",
            "align_content": null,
            "align_items": null,
            "align_self": null,
            "border": null,
            "bottom": null,
            "display": null,
            "flex": null,
            "flex_flow": null,
            "grid_area": null,
            "grid_auto_columns": null,
            "grid_auto_flow": null,
            "grid_auto_rows": null,
            "grid_column": null,
            "grid_gap": null,
            "grid_row": null,
            "grid_template_areas": null,
            "grid_template_columns": null,
            "grid_template_rows": null,
            "height": null,
            "justify_content": null,
            "justify_items": null,
            "left": null,
            "margin": null,
            "max_height": null,
            "max_width": null,
            "min_height": null,
            "min_width": null,
            "object_fit": null,
            "object_position": null,
            "order": null,
            "overflow": null,
            "overflow_x": null,
            "overflow_y": null,
            "padding": null,
            "right": null,
            "top": null,
            "visibility": null,
            "width": null
          }
        },
        "f7822ecc921d49b3973734d13f887ef5": {
          "model_module": "@jupyter-widgets/base",
          "model_module_version": "1.2.0",
          "model_name": "LayoutModel",
          "state": {
            "_model_module": "@jupyter-widgets/base",
            "_model_module_version": "1.2.0",
            "_model_name": "LayoutModel",
            "_view_count": null,
            "_view_module": "@jupyter-widgets/base",
            "_view_module_version": "1.2.0",
            "_view_name": "LayoutView",
            "align_content": null,
            "align_items": null,
            "align_self": null,
            "border": null,
            "bottom": null,
            "display": null,
            "flex": null,
            "flex_flow": null,
            "grid_area": null,
            "grid_auto_columns": null,
            "grid_auto_flow": null,
            "grid_auto_rows": null,
            "grid_column": null,
            "grid_gap": null,
            "grid_row": null,
            "grid_template_areas": null,
            "grid_template_columns": null,
            "grid_template_rows": null,
            "height": null,
            "justify_content": null,
            "justify_items": null,
            "left": null,
            "margin": null,
            "max_height": null,
            "max_width": null,
            "min_height": null,
            "min_width": null,
            "object_fit": null,
            "object_position": null,
            "order": null,
            "overflow": null,
            "overflow_x": null,
            "overflow_y": null,
            "padding": null,
            "right": null,
            "top": null,
            "visibility": null,
            "width": null
          }
        },
        "fe697ad7b39843d09e3d4fdc8182bd8c": {
          "model_module": "@jupyter-widgets/base",
          "model_module_version": "1.2.0",
          "model_name": "LayoutModel",
          "state": {
            "_model_module": "@jupyter-widgets/base",
            "_model_module_version": "1.2.0",
            "_model_name": "LayoutModel",
            "_view_count": null,
            "_view_module": "@jupyter-widgets/base",
            "_view_module_version": "1.2.0",
            "_view_name": "LayoutView",
            "align_content": null,
            "align_items": null,
            "align_self": null,
            "border": null,
            "bottom": null,
            "display": null,
            "flex": null,
            "flex_flow": null,
            "grid_area": null,
            "grid_auto_columns": null,
            "grid_auto_flow": null,
            "grid_auto_rows": null,
            "grid_column": null,
            "grid_gap": null,
            "grid_row": null,
            "grid_template_areas": null,
            "grid_template_columns": null,
            "grid_template_rows": null,
            "height": null,
            "justify_content": null,
            "justify_items": null,
            "left": null,
            "margin": null,
            "max_height": null,
            "max_width": null,
            "min_height": null,
            "min_width": null,
            "object_fit": null,
            "object_position": null,
            "order": null,
            "overflow": null,
            "overflow_x": null,
            "overflow_y": null,
            "padding": null,
            "right": null,
            "top": null,
            "visibility": null,
            "width": null
          }
        }
      }
    }
  },
  "nbformat": 4,
  "nbformat_minor": 0
}
