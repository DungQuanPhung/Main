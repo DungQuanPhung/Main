{
  "cells": [
    {
      "cell_type": "markdown",
      "metadata": {
        "collapsed": false,
        "id": "_GIq8Io_8Koq"
      },
      "source": [
        "1. Analyze and Preprocess data - Check if the dataset has missing values or has any other problem.\n",
        "2. Feature Engineering\n",
        "3. Divide the dataset into 2 training and test sets\n",
        "4. Use logistic model Regression. Try to apply different *solver* and *penalty* to find the best one.\n",
        "5. Perform model on training set and test set\n",
        "6. Measure performance of the model.\n",
        "7. Which metric is your main metric and why? Which solver and penalty have you chosen? (<= 100 words)\n",
        "\n",
        "\n",
        "How can I measure your point:\n",
        "1. Your function is callable and runs correctly\n",
        "2. The performance of your model (in full pipeline) is acceptable. The final error based on my train and test set is low enough.\n",
        "3. The data preprocessing is correct or make sense\n",
        "4. The Feature engineering is correct or make sense\n",
        "5. Any other additional process will be considered a small plus point.\n",
        "\n",
        "**Submission Link**: https://forms.gle/M2CxqVGrKLTzqR7g9 (Submit your .ipynb file)"
      ]
    },
    {
      "cell_type": "markdown",
      "metadata": {
        "collapsed": false,
        "id": "SjhjJmx68Kou"
      },
      "source": [
        "- Age: This is the attribute that describes the age of the patient. There is data type $int64$, the highest value is 29, and the lowest is 77.\n",
        "- Sex: This is the attribute indicating the gender of the patient, where 0 indicates male patient, 1 female patient.\n",
        "- ChestPainType: This is the attribute that indicates the patient's chest pain level. With levels 0, 1, 2, and 3.\n",
        "- RestingBP: This is the attribute that indicates the patient's blood pressure with data type $int64$, the value is in the range [94, 200]\n",
        "- Cholesterol: This attribute indicates the patient's cholesterol level as measured in the hospital. Has the data type $int64$, where the value is in [126, 564]\n",
        "- FastingBS: This is an attribute that describes the patient's fasting blood sugar. In which, if the patient has more than 120mg/dl sugar = 1, otherwise = 0.\n",
        "- RestingECG: This property displays the results of the ECG from 0 to 2 (0, 1, 2). Where each value indicates the severity of the pain.\n",
        "- thalach: Patient's highest heart rate\n",
        "- ExerciseAngina: Whether or not you have angina during exercise. Yes denotes 1, no denotes 0.\n",
        "- Oldpeak: Attribute expressing the stress level of the patient. Has a value of type $float64$, the value is in [0, 6.2]\n",
        "- ST\\_Slope: Patient's condition during exercise. Includes [Upsloping, Flat, Down sloping] states that are sequentially digitized to [0, 1, 2].\n",
        "- ca: number of major vessels (0-3) colored by flourosopy - given\n",
        "- thal: 0 = normal; 1 = fixed defect; 2 = reversable defect\n",
        "- HeartDisease: Results of the patient's condition. 1 is for signs of heart disease, 0 is for no signs of heart disease."
      ]
    },
    {
      "cell_type": "markdown",
      "metadata": {
        "collapsed": false,
        "id": "iDJN7fbU8Kov"
      },
      "source": [
        "## Load Dataset"
      ]
    },
    {
      "cell_type": "code",
      "execution_count": 320,
      "metadata": {
        "id": "G8aJO4Rj8Kov"
      },
      "outputs": [
        {
          "data": {
            "application/vnd.microsoft.datawrangler.viewer.v0+json": {
              "columns": [
                {
                  "name": "index",
                  "rawType": "int64",
                  "type": "integer"
                },
                {
                  "name": "age",
                  "rawType": "int64",
                  "type": "integer"
                },
                {
                  "name": "sex",
                  "rawType": "int64",
                  "type": "integer"
                },
                {
                  "name": "cp",
                  "rawType": "int64",
                  "type": "integer"
                },
                {
                  "name": "trestbps",
                  "rawType": "int64",
                  "type": "integer"
                },
                {
                  "name": "chol",
                  "rawType": "int64",
                  "type": "integer"
                },
                {
                  "name": "fbs",
                  "rawType": "int64",
                  "type": "integer"
                },
                {
                  "name": "restecg",
                  "rawType": "int64",
                  "type": "integer"
                },
                {
                  "name": "thalach",
                  "rawType": "int64",
                  "type": "integer"
                },
                {
                  "name": "exang",
                  "rawType": "int64",
                  "type": "integer"
                },
                {
                  "name": "oldpeak",
                  "rawType": "float64",
                  "type": "float"
                },
                {
                  "name": "slope",
                  "rawType": "int64",
                  "type": "integer"
                },
                {
                  "name": "ca",
                  "rawType": "int64",
                  "type": "integer"
                },
                {
                  "name": "thal",
                  "rawType": "int64",
                  "type": "integer"
                },
                {
                  "name": "target",
                  "rawType": "int64",
                  "type": "integer"
                }
              ],
              "conversionMethod": "pd.DataFrame",
              "ref": "852ebc3b-7675-41dd-ad7c-21dd7673e355",
              "rows": [
                [
                  "0",
                  "46",
                  "1",
                  "0",
                  "120",
                  "249",
                  "0",
                  "0",
                  "144",
                  "0",
                  "0.8",
                  "2",
                  "0",
                  "3",
                  "0"
                ],
                [
                  "1",
                  "71",
                  "0",
                  "1",
                  "160",
                  "302",
                  "0",
                  "1",
                  "162",
                  "0",
                  "0.4",
                  "2",
                  "2",
                  "2",
                  "1"
                ],
                [
                  "2",
                  "71",
                  "0",
                  "1",
                  "160",
                  "303",
                  "0",
                  "1",
                  "163",
                  "0",
                  "0.4",
                  "2",
                  "2",
                  "2",
                  "1"
                ],
                [
                  "3",
                  "71",
                  "0",
                  "1",
                  "160",
                  "304",
                  "0",
                  "1",
                  "164",
                  "0",
                  "0.4",
                  "2",
                  "2",
                  "2",
                  "1"
                ],
                [
                  "4",
                  "71",
                  "0",
                  "1",
                  "160",
                  "305",
                  "0",
                  "1",
                  "165",
                  "0",
                  "0.4",
                  "2",
                  "2",
                  "2",
                  "1"
                ]
              ],
              "shape": {
                "columns": 14,
                "rows": 5
              }
            },
            "text/html": [
              "<div>\n",
              "<style scoped>\n",
              "    .dataframe tbody tr th:only-of-type {\n",
              "        vertical-align: middle;\n",
              "    }\n",
              "\n",
              "    .dataframe tbody tr th {\n",
              "        vertical-align: top;\n",
              "    }\n",
              "\n",
              "    .dataframe thead th {\n",
              "        text-align: right;\n",
              "    }\n",
              "</style>\n",
              "<table border=\"1\" class=\"dataframe\">\n",
              "  <thead>\n",
              "    <tr style=\"text-align: right;\">\n",
              "      <th></th>\n",
              "      <th>age</th>\n",
              "      <th>sex</th>\n",
              "      <th>cp</th>\n",
              "      <th>trestbps</th>\n",
              "      <th>chol</th>\n",
              "      <th>fbs</th>\n",
              "      <th>restecg</th>\n",
              "      <th>thalach</th>\n",
              "      <th>exang</th>\n",
              "      <th>oldpeak</th>\n",
              "      <th>slope</th>\n",
              "      <th>ca</th>\n",
              "      <th>thal</th>\n",
              "      <th>target</th>\n",
              "    </tr>\n",
              "  </thead>\n",
              "  <tbody>\n",
              "    <tr>\n",
              "      <th>0</th>\n",
              "      <td>46</td>\n",
              "      <td>1</td>\n",
              "      <td>0</td>\n",
              "      <td>120</td>\n",
              "      <td>249</td>\n",
              "      <td>0</td>\n",
              "      <td>0</td>\n",
              "      <td>144</td>\n",
              "      <td>0</td>\n",
              "      <td>0.8</td>\n",
              "      <td>2</td>\n",
              "      <td>0</td>\n",
              "      <td>3</td>\n",
              "      <td>0</td>\n",
              "    </tr>\n",
              "    <tr>\n",
              "      <th>1</th>\n",
              "      <td>71</td>\n",
              "      <td>0</td>\n",
              "      <td>1</td>\n",
              "      <td>160</td>\n",
              "      <td>302</td>\n",
              "      <td>0</td>\n",
              "      <td>1</td>\n",
              "      <td>162</td>\n",
              "      <td>0</td>\n",
              "      <td>0.4</td>\n",
              "      <td>2</td>\n",
              "      <td>2</td>\n",
              "      <td>2</td>\n",
              "      <td>1</td>\n",
              "    </tr>\n",
              "    <tr>\n",
              "      <th>2</th>\n",
              "      <td>71</td>\n",
              "      <td>0</td>\n",
              "      <td>1</td>\n",
              "      <td>160</td>\n",
              "      <td>303</td>\n",
              "      <td>0</td>\n",
              "      <td>1</td>\n",
              "      <td>163</td>\n",
              "      <td>0</td>\n",
              "      <td>0.4</td>\n",
              "      <td>2</td>\n",
              "      <td>2</td>\n",
              "      <td>2</td>\n",
              "      <td>1</td>\n",
              "    </tr>\n",
              "    <tr>\n",
              "      <th>3</th>\n",
              "      <td>71</td>\n",
              "      <td>0</td>\n",
              "      <td>1</td>\n",
              "      <td>160</td>\n",
              "      <td>304</td>\n",
              "      <td>0</td>\n",
              "      <td>1</td>\n",
              "      <td>164</td>\n",
              "      <td>0</td>\n",
              "      <td>0.4</td>\n",
              "      <td>2</td>\n",
              "      <td>2</td>\n",
              "      <td>2</td>\n",
              "      <td>1</td>\n",
              "    </tr>\n",
              "    <tr>\n",
              "      <th>4</th>\n",
              "      <td>71</td>\n",
              "      <td>0</td>\n",
              "      <td>1</td>\n",
              "      <td>160</td>\n",
              "      <td>305</td>\n",
              "      <td>0</td>\n",
              "      <td>1</td>\n",
              "      <td>165</td>\n",
              "      <td>0</td>\n",
              "      <td>0.4</td>\n",
              "      <td>2</td>\n",
              "      <td>2</td>\n",
              "      <td>2</td>\n",
              "      <td>1</td>\n",
              "    </tr>\n",
              "  </tbody>\n",
              "</table>\n",
              "</div>"
            ],
            "text/plain": [
              "   age  sex  cp  trestbps  chol  fbs  restecg  thalach  exang  oldpeak  slope  \\\n",
              "0   46    1   0       120   249    0        0      144      0      0.8      2   \n",
              "1   71    0   1       160   302    0        1      162      0      0.4      2   \n",
              "2   71    0   1       160   303    0        1      163      0      0.4      2   \n",
              "3   71    0   1       160   304    0        1      164      0      0.4      2   \n",
              "4   71    0   1       160   305    0        1      165      0      0.4      2   \n",
              "\n",
              "   ca  thal  target  \n",
              "0   0     3       0  \n",
              "1   2     2       1  \n",
              "2   2     2       1  \n",
              "3   2     2       1  \n",
              "4   2     2       1  "
            ]
          },
          "metadata": {},
          "output_type": "display_data"
        },
        {
          "data": {
            "text/plain": [
              "array([[<Axes: title={'center': 'age'}>, <Axes: title={'center': 'sex'}>,\n",
              "        <Axes: title={'center': 'cp'}>,\n",
              "        <Axes: title={'center': 'trestbps'}>],\n",
              "       [<Axes: title={'center': 'chol'}>,\n",
              "        <Axes: title={'center': 'fbs'}>,\n",
              "        <Axes: title={'center': 'restecg'}>,\n",
              "        <Axes: title={'center': 'thalach'}>],\n",
              "       [<Axes: title={'center': 'exang'}>,\n",
              "        <Axes: title={'center': 'oldpeak'}>,\n",
              "        <Axes: title={'center': 'slope'}>,\n",
              "        <Axes: title={'center': 'ca'}>],\n",
              "       [<Axes: title={'center': 'thal'}>,\n",
              "        <Axes: title={'center': 'target'}>, <Axes: >, <Axes: >]],\n",
              "      dtype=object)"
            ]
          },
          "execution_count": 320,
          "metadata": {},
          "output_type": "execute_result"
        },
        {
          "data": {
            "image/png": "[encoded data removed]",
            "text/plain": [
              "<Figure size 1000x1000 with 16 Axes>"
            ]
          },
          "metadata": {},
          "output_type": "display_data"
        }
      ],
      "source": [
        "import pandas as pd\n",
        "PATH = \"heart.csv\" # Path to your file\n",
        "\n",
        "df = pd.read_csv(PATH)\n",
        "#ToDo: Show histogram of dataframe\n",
        "display(df.head())\n",
        "df.hist(figsize=(10, 10), bins=20, grid=False)"
      ]
    },
    {
      "cell_type": "code",
      "execution_count": 321,
      "metadata": {},
      "outputs": [
        {
          "name": "stdout",
          "output_type": "stream",
          "text": [
            "<class 'pandas.core.frame.DataFrame'>\n",
            "RangeIndex: 886 entries, 0 to 885\n",
            "Data columns (total 14 columns):\n",
            " #   Column    Non-Null Count  Dtype  \n",
            "---  ------    --------------  -----  \n",
            " 0   age       886 non-null    int64  \n",
            " 1   sex       886 non-null    int64  \n",
            " 2   cp        886 non-null    int64  \n",
            " 3   trestbps  886 non-null    int64  \n",
            " 4   chol      886 non-null    int64  \n",
            " 5   fbs       886 non-null    int64  \n",
            " 6   restecg   886 non-null    int64  \n",
            " 7   thalach   886 non-null    int64  \n",
            " 8   exang     886 non-null    int64  \n",
            " 9   oldpeak   886 non-null    float64\n",
            " 10  slope     886 non-null    int64  \n",
            " 11  ca        886 non-null    int64  \n",
            " 12  thal      886 non-null    int64  \n",
            " 13  target    886 non-null    int64  \n",
            "dtypes: float64(1), int64(13)\n",
            "memory usage: 97.0 KB\n"
          ]
        }
      ],
      "source": [
        "df.info()"
      ]
    },
    {
      "cell_type": "code",
      "execution_count": 322,
      "metadata": {},
      "outputs": [
        {
          "data": {
            "image/png": "[encoded data removed]",
            "text/plain": [
              "<Figure size 640x480 with 1 Axes>"
            ]
          },
          "metadata": {},
          "output_type": "display_data"
        }
      ],
      "source": [
        "import seaborn as sns\n",
        "import matplotlib.pyplot as plt\n",
        "\n",
        "sns.histplot(df, x=\"age\", kde=True)\n",
        "plt.show()"
      ]
    },
    {
      "cell_type": "code",
      "execution_count": 323,
      "metadata": {},
      "outputs": [
        {
          "data": {
            "image/png": "[encoded data removed]",
            "text/plain": [
              "<Figure size 1000x500 with 1 Axes>"
            ]
          },
          "metadata": {},
          "output_type": "display_data"
        }
      ],
      "source": [
        "plt.figure(figsize=(10, 5))\n",
        "sns.countplot(data=df, x='age', hue='sex')\n",
        "plt.show()"
      ]
    },
    {
      "cell_type": "markdown",
      "metadata": {
        "collapsed": false,
        "id": "mk4IrtwS8Kow"
      },
      "source": [
        "## Data Analysis"
      ]
    },
    {
      "cell_type": "code",
      "execution_count": 324,
      "metadata": {},
      "outputs": [
        {
          "data": {
            "text/plain": [
              "target\n",
              "1    0.564334\n",
              "0    0.435666\n",
              "Name: proportion, dtype: float64"
            ]
          },
          "execution_count": 324,
          "metadata": {},
          "output_type": "execute_result"
        }
      ],
      "source": [
        "# Check class distribution in the target variable\n",
        "df['target'].value_counts(normalize=True)"
      ]
    },
    {
      "cell_type": "code",
      "execution_count": 325,
      "metadata": {
        "id": "Z4z7vGmJ8Kox"
      },
      "outputs": [
        {
          "data": {
            "text/plain": [
              "age         0\n",
              "sex         0\n",
              "cp          0\n",
              "trestbps    0\n",
              "chol        0\n",
              "fbs         0\n",
              "restecg     0\n",
              "thalach     0\n",
              "exang       0\n",
              "oldpeak     0\n",
              "slope       0\n",
              "ca          0\n",
              "thal        0\n",
              "target      0\n",
              "dtype: int64"
            ]
          },
          "execution_count": 325,
          "metadata": {},
          "output_type": "execute_result"
        }
      ],
      "source": [
        "# Data analysis\n",
        "# Todo: analyze your data here\n",
        "df.isnull().sum() # Check for missing values"
      ]
    },
    {
      "cell_type": "code",
      "execution_count": 326,
      "metadata": {},
      "outputs": [
        {
          "data": {
            "text/plain": [
              "(886, 14)"
            ]
          },
          "execution_count": 326,
          "metadata": {},
          "output_type": "execute_result"
        }
      ],
      "source": [
        "df.shape # Check the shape of the dataframe"
      ]
    },
    {
      "cell_type": "code",
      "execution_count": 327,
      "metadata": {},
      "outputs": [
        {
          "data": {
            "text/plain": [
              "age           int64\n",
              "sex           int64\n",
              "cp            int64\n",
              "trestbps      int64\n",
              "chol          int64\n",
              "fbs           int64\n",
              "restecg       int64\n",
              "thalach       int64\n",
              "exang         int64\n",
              "oldpeak     float64\n",
              "slope         int64\n",
              "ca            int64\n",
              "thal          int64\n",
              "target        int64\n",
              "dtype: object"
            ]
          },
          "execution_count": 327,
          "metadata": {},
          "output_type": "execute_result"
        }
      ],
      "source": [
        "df.dtypes # Check data types"
      ]
    },
    {
      "cell_type": "code",
      "execution_count": 328,
      "metadata": {},
      "outputs": [
        {
          "data": {
            "application/vnd.microsoft.datawrangler.viewer.v0+json": {
              "columns": [
                {
                  "name": "index",
                  "rawType": "object",
                  "type": "string"
                },
                {
                  "name": "age",
                  "rawType": "float64",
                  "type": "float"
                },
                {
                  "name": "sex",
                  "rawType": "float64",
                  "type": "float"
                },
                {
                  "name": "cp",
                  "rawType": "float64",
                  "type": "float"
                },
                {
                  "name": "trestbps",
                  "rawType": "float64",
                  "type": "float"
                },
                {
                  "name": "chol",
                  "rawType": "float64",
                  "type": "float"
                },
                {
                  "name": "fbs",
                  "rawType": "float64",
                  "type": "float"
                },
                {
                  "name": "restecg",
                  "rawType": "float64",
                  "type": "float"
                },
                {
                  "name": "thalach",
                  "rawType": "float64",
                  "type": "float"
                },
                {
                  "name": "exang",
                  "rawType": "float64",
                  "type": "float"
                },
                {
                  "name": "oldpeak",
                  "rawType": "float64",
                  "type": "float"
                },
                {
                  "name": "slope",
                  "rawType": "float64",
                  "type": "float"
                },
                {
                  "name": "ca",
                  "rawType": "float64",
                  "type": "float"
                },
                {
                  "name": "thal",
                  "rawType": "float64",
                  "type": "float"
                },
                {
                  "name": "target",
                  "rawType": "float64",
                  "type": "float"
                }
              ],
              "conversionMethod": "pd.DataFrame",
              "ref": "de3072e0-7633-44bc-aaf2-a9be84e5b3d7",
              "rows": [
                [
                  "count",
                  "886.0",
                  "886.0",
                  "886.0",
                  "886.0",
                  "886.0",
                  "886.0",
                  "886.0",
                  "886.0",
                  "886.0",
                  "886.0",
                  "886.0",
                  "886.0",
                  "886.0",
                  "886.0"
                ],
                [
                  "mean",
                  "54.0079006772009",
                  "0.6839729119638827",
                  "1.0056433408577878",
                  "132.117381489842",
                  "247.49774266365688",
                  "0.16817155756207675",
                  "0.49548532731376976",
                  "149.4920993227991",
                  "0.31038374717832956",
                  "1.0832957110609482",
                  "1.4243792325056432",
                  "0.7144469525959368",
                  "2.278781038374718",
                  "0.5643340857787811"
                ],
                [
                  "std",
                  "9.126291856251973",
                  "0.4651862094203791",
                  "1.0245416686707336",
                  "16.80751084206934",
                  "47.20999481802433",
                  "0.37422981235552355",
                  "0.5266694643163072",
                  "23.921326907418674",
                  "0.46291201776096147",
                  "1.147934906579766",
                  "0.5568610661382722",
                  "1.0288247252384097",
                  "0.572575787322186",
                  "0.4961239105185914"
                ],
                [
                  "min",
                  "29.0",
                  "0.0",
                  "0.0",
                  "94.0",
                  "126.0",
                  "0.0",
                  "0.0",
                  "71.0",
                  "0.0",
                  "0.0",
                  "0.0",
                  "0.0",
                  "0.0",
                  "0.0"
                ],
                [
                  "25%",
                  "47.0",
                  "0.0",
                  "0.0",
                  "120.0",
                  "212.0",
                  "0.0",
                  "0.0",
                  "133.0",
                  "0.0",
                  "0.0",
                  "1.0",
                  "0.0",
                  "2.0",
                  "0.0"
                ],
                [
                  "50%",
                  "54.0",
                  "1.0",
                  "1.0",
                  "130.0",
                  "245.0",
                  "0.0",
                  "0.0",
                  "153.0",
                  "0.0",
                  "0.8",
                  "1.0",
                  "0.0",
                  "2.0",
                  "1.0"
                ],
                [
                  "75%",
                  "60.0",
                  "1.0",
                  "2.0",
                  "140.0",
                  "274.0",
                  "0.0",
                  "1.0",
                  "166.0",
                  "1.0",
                  "1.8",
                  "2.0",
                  "1.0",
                  "3.0",
                  "1.0"
                ],
                [
                  "max",
                  "77.0",
                  "1.0",
                  "3.0",
                  "200.0",
                  "564.0",
                  "1.0",
                  "2.0",
                  "206.0",
                  "1.0",
                  "6.2",
                  "2.0",
                  "4.0",
                  "3.0",
                  "1.0"
                ]
              ],
              "shape": {
                "columns": 14,
                "rows": 8
              }
            },
            "text/html": [
              "<div>\n",
              "<style scoped>\n",
              "    .dataframe tbody tr th:only-of-type {\n",
              "        vertical-align: middle;\n",
              "    }\n",
              "\n",
              "    .dataframe tbody tr th {\n",
              "        vertical-align: top;\n",
              "    }\n",
              "\n",
              "    .dataframe thead th {\n",
              "        text-align: right;\n",
              "    }\n",
              "</style>\n",
              "<table border=\"1\" class=\"dataframe\">\n",
              "  <thead>\n",
              "    <tr style=\"text-align: right;\">\n",
              "      <th></th>\n",
              "      <th>age</th>\n",
              "      <th>sex</th>\n",
              "      <th>cp</th>\n",
              "      <th>trestbps</th>\n",
              "      <th>chol</th>\n",
              "      <th>fbs</th>\n",
              "      <th>restecg</th>\n",
              "      <th>thalach</th>\n",
              "      <th>exang</th>\n",
              "      <th>oldpeak</th>\n",
              "      <th>slope</th>\n",
              "      <th>ca</th>\n",
              "      <th>thal</th>\n",
              "      <th>target</th>\n",
              "    </tr>\n",
              "  </thead>\n",
              "  <tbody>\n",
              "    <tr>\n",
              "      <th>count</th>\n",
              "      <td>886.000000</td>\n",
              "      <td>886.000000</td>\n",
              "      <td>886.000000</td>\n",
              "      <td>886.000000</td>\n",
              "      <td>886.000000</td>\n",
              "      <td>886.000000</td>\n",
              "      <td>886.000000</td>\n",
              "      <td>886.000000</td>\n",
              "      <td>886.000000</td>\n",
              "      <td>886.000000</td>\n",
              "      <td>886.000000</td>\n",
              "      <td>886.000000</td>\n",
              "      <td>886.000000</td>\n",
              "      <td>886.000000</td>\n",
              "    </tr>\n",
              "    <tr>\n",
              "      <th>mean</th>\n",
              "      <td>54.007901</td>\n",
              "      <td>0.683973</td>\n",
              "      <td>1.005643</td>\n",
              "      <td>132.117381</td>\n",
              "      <td>247.497743</td>\n",
              "      <td>0.168172</td>\n",
              "      <td>0.495485</td>\n",
              "      <td>149.492099</td>\n",
              "      <td>0.310384</td>\n",
              "      <td>1.083296</td>\n",
              "      <td>1.424379</td>\n",
              "      <td>0.714447</td>\n",
              "      <td>2.278781</td>\n",
              "      <td>0.564334</td>\n",
              "    </tr>\n",
              "    <tr>\n",
              "      <th>std</th>\n",
              "      <td>9.126292</td>\n",
              "      <td>0.465186</td>\n",
              "      <td>1.024542</td>\n",
              "      <td>16.807511</td>\n",
              "      <td>47.209995</td>\n",
              "      <td>0.374230</td>\n",
              "      <td>0.526669</td>\n",
              "      <td>23.921327</td>\n",
              "      <td>0.462912</td>\n",
              "      <td>1.147935</td>\n",
              "      <td>0.556861</td>\n",
              "      <td>1.028825</td>\n",
              "      <td>0.572576</td>\n",
              "      <td>0.496124</td>\n",
              "    </tr>\n",
              "    <tr>\n",
              "      <th>min</th>\n",
              "      <td>29.000000</td>\n",
              "      <td>0.000000</td>\n",
              "      <td>0.000000</td>\n",
              "      <td>94.000000</td>\n",
              "      <td>126.000000</td>\n",
              "      <td>0.000000</td>\n",
              "      <td>0.000000</td>\n",
              "      <td>71.000000</td>\n",
              "      <td>0.000000</td>\n",
              "      <td>0.000000</td>\n",
              "      <td>0.000000</td>\n",
              "      <td>0.000000</td>\n",
              "      <td>0.000000</td>\n",
              "      <td>0.000000</td>\n",
              "    </tr>\n",
              "    <tr>\n",
              "      <th>25%</th>\n",
              "      <td>47.000000</td>\n",
              "      <td>0.000000</td>\n",
              "      <td>0.000000</td>\n",
              "      <td>120.000000</td>\n",
              "      <td>212.000000</td>\n",
              "      <td>0.000000</td>\n",
              "      <td>0.000000</td>\n",
              "      <td>133.000000</td>\n",
              "      <td>0.000000</td>\n",
              "      <td>0.000000</td>\n",
              "      <td>1.000000</td>\n",
              "      <td>0.000000</td>\n",
              "      <td>2.000000</td>\n",
              "      <td>0.000000</td>\n",
              "    </tr>\n",
              "    <tr>\n",
              "      <th>50%</th>\n",
              "      <td>54.000000</td>\n",
              "      <td>1.000000</td>\n",
              "      <td>1.000000</td>\n",
              "      <td>130.000000</td>\n",
              "      <td>245.000000</td>\n",
              "      <td>0.000000</td>\n",
              "      <td>0.000000</td>\n",
              "      <td>153.000000</td>\n",
              "      <td>0.000000</td>\n",
              "      <td>0.800000</td>\n",
              "      <td>1.000000</td>\n",
              "      <td>0.000000</td>\n",
              "      <td>2.000000</td>\n",
              "      <td>1.000000</td>\n",
              "    </tr>\n",
              "    <tr>\n",
              "      <th>75%</th>\n",
              "      <td>60.000000</td>\n",
              "      <td>1.000000</td>\n",
              "      <td>2.000000</td>\n",
              "      <td>140.000000</td>\n",
              "      <td>274.000000</td>\n",
              "      <td>0.000000</td>\n",
              "      <td>1.000000</td>\n",
              "      <td>166.000000</td>\n",
              "      <td>1.000000</td>\n",
              "      <td>1.800000</td>\n",
              "      <td>2.000000</td>\n",
              "      <td>1.000000</td>\n",
              "      <td>3.000000</td>\n",
              "      <td>1.000000</td>\n",
              "    </tr>\n",
              "    <tr>\n",
              "      <th>max</th>\n",
              "      <td>77.000000</td>\n",
              "      <td>1.000000</td>\n",
              "      <td>3.000000</td>\n",
              "      <td>200.000000</td>\n",
              "      <td>564.000000</td>\n",
              "      <td>1.000000</td>\n",
              "      <td>2.000000</td>\n",
              "      <td>206.000000</td>\n",
              "      <td>1.000000</td>\n",
              "      <td>6.200000</td>\n",
              "      <td>2.000000</td>\n",
              "      <td>4.000000</td>\n",
              "      <td>3.000000</td>\n",
              "      <td>1.000000</td>\n",
              "    </tr>\n",
              "  </tbody>\n",
              "</table>\n",
              "</div>"
            ],
            "text/plain": [
              "              age         sex          cp    trestbps        chol         fbs  \\\n",
              "count  886.000000  886.000000  886.000000  886.000000  886.000000  886.000000   \n",
              "mean    54.007901    0.683973    1.005643  132.117381  247.497743    0.168172   \n",
              "std      9.126292    0.465186    1.024542   16.807511   47.209995    0.374230   \n",
              "min     29.000000    0.000000    0.000000   94.000000  126.000000    0.000000   \n",
              "25%     47.000000    0.000000    0.000000  120.000000  212.000000    0.000000   \n",
              "50%     54.000000    1.000000    1.000000  130.000000  245.000000    0.000000   \n",
              "75%     60.000000    1.000000    2.000000  140.000000  274.000000    0.000000   \n",
              "max     77.000000    1.000000    3.000000  200.000000  564.000000    1.000000   \n",
              "\n",
              "          restecg     thalach       exang     oldpeak       slope          ca  \\\n",
              "count  886.000000  886.000000  886.000000  886.000000  886.000000  886.000000   \n",
              "mean     0.495485  149.492099    0.310384    1.083296    1.424379    0.714447   \n",
              "std      0.526669   23.921327    0.462912    1.147935    0.556861    1.028825   \n",
              "min      0.000000   71.000000    0.000000    0.000000    0.000000    0.000000   \n",
              "25%      0.000000  133.000000    0.000000    0.000000    1.000000    0.000000   \n",
              "50%      0.000000  153.000000    0.000000    0.800000    1.000000    0.000000   \n",
              "75%      1.000000  166.000000    1.000000    1.800000    2.000000    1.000000   \n",
              "max      2.000000  206.000000    1.000000    6.200000    2.000000    4.000000   \n",
              "\n",
              "             thal      target  \n",
              "count  886.000000  886.000000  \n",
              "mean     2.278781    0.564334  \n",
              "std      0.572576    0.496124  \n",
              "min      0.000000    0.000000  \n",
              "25%      2.000000    0.000000  \n",
              "50%      2.000000    1.000000  \n",
              "75%      3.000000    1.000000  \n",
              "max      3.000000    1.000000  "
            ]
          },
          "execution_count": 328,
          "metadata": {},
          "output_type": "execute_result"
        }
      ],
      "source": [
        "df.describe() # Get summary statistics"
      ]
    },
    {
      "cell_type": "code",
      "execution_count": 329,
      "metadata": {},
      "outputs": [
        {
          "data": {
            "text/plain": [
              "np.int64(0)"
            ]
          },
          "execution_count": 329,
          "metadata": {},
          "output_type": "execute_result"
        }
      ],
      "source": [
        "df.duplicated().sum() # Check for duplicates"
      ]
    },
    {
      "cell_type": "code",
      "execution_count": 330,
      "metadata": {},
      "outputs": [
        {
          "data": {
            "image/png": "[encoded data removed]",
            "text/plain": [
              "<Figure size 600x400 with 1 Axes>"
            ]
          },
          "metadata": {},
          "output_type": "display_data"
        }
      ],
      "source": [
        "# Boxplot outliers\n",
        "import matplotlib.pyplot as plt\n",
        "import seaborn as sns\n",
        "plt.figure(figsize=(6, 4))\n",
        "sns.boxplot(data=df, orient=\"h\", palette=\"Set2\")\n",
        "plt.title(\"Boxplot of Heart Disease Dataset\")\n",
        "plt.show()"
      ]
    },
    {
      "cell_type": "code",
      "execution_count": 331,
      "metadata": {},
      "outputs": [
        {
          "data": {
            "image/png": "[encoded data removed]",
            "text/plain": [
              "<Figure size 640x480 with 2 Axes>"
            ]
          },
          "metadata": {},
          "output_type": "display_data"
        }
      ],
      "source": [
        "# Draw a heatmap to visualize correlations\n",
        "sns.heatmap(df.corr())\n",
        "plt.show()"
      ]
    },
    {
      "cell_type": "markdown",
      "metadata": {
        "collapsed": false,
        "id": "flqsM83K8Kox"
      },
      "source": [
        "## Preprocessing"
      ]
    },
    {
      "cell_type": "code",
      "execution_count": 332,
      "metadata": {
        "id": "BsLrFNP-8Kox"
      },
      "outputs": [],
      "source": [
        "def preprocessing_data(df):\n",
        "    \"\"\"\n",
        "    Preprocess your data (eg. Drop null datapoints or fill missing data)\n",
        "    :param df: pandas DataFrame\n",
        "    :return: pandas DataFrame\n",
        "    \"\"\"\n",
        "    # Todo: preprocess data\n",
        "    # Remove outliers 2 cột trestbps, chol do có nhiều outliers \n",
        "    Q1 = df.quantile(0.25)\n",
        "    Q3 = df.quantile(0.75)\n",
        "    IQR = Q3 - Q1\n",
        "    lower_bound = Q1 - 1.5 * IQR\n",
        "    upper_bound = Q3 + 1.5 * IQR\n",
        "    condition = ~((df[['trestbps', 'chol']] < lower_bound[['trestbps', 'chol']]) | \n",
        "                  (df[['trestbps', 'chol']] > upper_bound[['trestbps', 'chol']])).any(axis=1)\n",
        "    df = df[condition]\n",
        "    \n",
        "    return df"
      ]
    },
    {
      "cell_type": "code",
      "execution_count": 333,
      "metadata": {
        "id": "dei_gmKb8Koy"
      },
      "outputs": [],
      "source": [
        "df = preprocessing_data(df.copy())"
      ]
    },
    {
      "cell_type": "markdown",
      "metadata": {
        "collapsed": false,
        "id": "Zi5s_ZP48Koy"
      },
      "source": [
        "## Feature Engineering"
      ]
    },
    {
      "cell_type": "code",
      "execution_count": 334,
      "metadata": {
        "id": "6VQVAmTx8Koy"
      },
      "outputs": [
        {
          "data": {
            "text/plain": [
              "<Axes: >"
            ]
          },
          "execution_count": 334,
          "metadata": {},
          "output_type": "execute_result"
        },
        {
          "data": {
            "image/png": "[encoded data removed]",
            "text/plain": [
              "<Figure size 640x480 with 2 Axes>"
            ]
          },
          "metadata": {},
          "output_type": "display_data"
        }
      ],
      "source": [
        "# Heatmap\n",
        "import seaborn as sns\n",
        "\n",
        "def apply_feature_engineering(df):\n",
        "    \"\"\"\n",
        "    Apply all feature engineering to transform your data into number\n",
        "    :param df: pandas DataFrame\n",
        "    :return: pandas DataFrame\n",
        "    \"\"\"\n",
        "    # Todo: Normalize your data\n",
        "    df = df.copy()\n",
        "    from sklearn.preprocessing import StandardScaler\n",
        "    scaler = StandardScaler()\n",
        "    target = df['target']\n",
        "    numeric_cols = df.select_dtypes(include='number').columns.drop('target')\n",
        "    df[numeric_cols] = scaler.fit_transform(df[numeric_cols])\n",
        "    \n",
        "    # Gán lại target không bị biến đổi\n",
        "    df['target'] = target\n",
        "\n",
        "    return df\n",
        "\n",
        "df = apply_feature_engineering(df)\n",
        "sns.heatmap(df.corr()) # Show heatmap after normalized data"
      ]
    },
    {
      "cell_type": "code",
      "execution_count": 335,
      "metadata": {
        "id": "kWoZ3iLO8Koz",
        "outputId": "266d0875-4e0d-47e4-8e89-e725b6234271"
      },
      "outputs": [],
      "source": [
        "def prepare_X_y(df):\n",
        "    \"\"\"\n",
        "    Feature engineering and create X and y\n",
        "    :param df: pandas dataframe\n",
        "    :return: (X, y) output feature matrix (dataframe), target (series)\n",
        "    \"\"\"\n",
        "    # Todo: Split data into X and y (using sklearn train_test_split). Return two dataframes\n",
        "    X = df.drop(columns=['target'], inplace=False).values  # Select all columns except the target column\n",
        "    y = df['target']  # Select the target column\n",
        "    return X, y\n",
        "\n",
        "X, y = prepare_X_y(df)"
      ]
    },
    {
      "cell_type": "markdown",
      "metadata": {
        "collapsed": false,
        "id": "prlZ55S68Koz"
      },
      "source": [
        "# Apply machine learning model"
      ]
    },
    {
      "cell_type": "markdown",
      "metadata": {
        "collapsed": false,
        "id": "uwkqQnmZ8Ko0"
      },
      "source": [
        "## Train-test split"
      ]
    },
    {
      "cell_type": "code",
      "execution_count": 336,
      "metadata": {
        "id": "AgohjEzw8Ko0"
      },
      "outputs": [],
      "source": [
        "from sklearn.model_selection import train_test_split\n",
        "RANDOM_STATE = 10\n",
        "TRAIN_SIZE = 0.7\n",
        "\n",
        "trainX, testX ,trainY, testY = train_test_split(X, y, train_size=TRAIN_SIZE, random_state=RANDOM_STATE)"
      ]
    },
    {
      "cell_type": "markdown",
      "metadata": {
        "collapsed": false,
        "id": "Xy5y6NEO8Ko0"
      },
      "source": [
        "## Build SK-learn model"
      ]
    },
    {
      "cell_type": "code",
      "execution_count": null,
      "metadata": {
        "id": "lge0OhiI8Ko1"
      },
      "outputs": [],
      "source": [
        "from sklearn.metrics import classification_report\n",
        "from sklearn.pipeline import make_pipeline\n",
        "from sklearn.linear_model import LogisticRegression\n",
        "from sklearn.preprocessing import StandardScaler\n",
        "from sklearn.metrics import classification_report, accuracy_score, precision_score, recall_score, f1_score, confusion_matrix, roc_auc_score\n",
        "\n",
        "def build_model(X, y):\n",
        "    \"\"\"\n",
        "    Design your model and train it (including your best params)\n",
        "    :param X: feature matrix\n",
        "    :param y: target\n",
        "    :return: a model\n",
        "    \"\"\"\n",
        "\n",
        "    # Todo: Input your scaler and logistic model into pipeline\n",
        "    model = make_pipeline(StandardScaler(), LogisticRegression(penalty='l2', solver='liblinear', max_iter=1000))\n",
        "    # Todo: fit your model with X, y\n",
        "    model.fit(X, y)\n",
        "\n",
        "    return model\n",
        "\n",
        "def calculate_performance(y_true, y_pred):\n",
        "    \"\"\"\n",
        "    :param y_true: ground truth values\n",
        "    :param y_pred: predictions\n",
        "    :return:\n",
        "    \"\"\"\n",
        "\n",
        "    print(classification_report(y_true, y_pred))\n",
        "    # Todo: return your error value like accuracy, f1score, ...\n",
        "    print(\"precision\", precision_score(y_true, y_pred))\n",
        "    print(\"recall\", recall_score(y_true, y_pred))\n",
        "    print(\"accuracy\", accuracy_score(y_true, y_pred))\n",
        "    print(\"F1\", f1_score(y_true, y_pred))\n",
        "    print(\"ROC_AUC: \", roc_auc_score(y_true, y_pred))\n",
        "    print(\"Confusion Matrix: \", confusion_matrix(y_true, y_pred))\n",
        "\n",
        "    # Todo: Only choose one of them as your score for the question 7\n",
        "    main_score = recall_score(y_true, y_pred)\n",
        "    return main_score\n",
        "\n",
        "model = build_model(trainX, trainY)\n",
        "# Compare on training dataset\n",
        "pred = model.predict(testX)"
      ]
    },
    {
      "cell_type": "code",
      "execution_count": 338,
      "metadata": {},
      "outputs": [
        {
          "name": "stdout",
          "output_type": "stream",
          "text": [
            "              precision    recall  f1-score   support\n",
            "\n",
            "           0       0.99      0.95      0.97       112\n",
            "           1       0.96      0.99      0.98       148\n",
            "\n",
            "    accuracy                           0.97       260\n",
            "   macro avg       0.98      0.97      0.97       260\n",
            "weighted avg       0.97      0.97      0.97       260\n",
            "\n",
            "precision 0.9607843137254902\n",
            "recall 0.9932432432432432\n",
            "accuracy 0.9730769230769231\n",
            "F1 0.9767441860465116\n",
            "ROC_AUC:  0.9698359073359073\n",
            "Confusion Matrix:  [[106   6]\n",
            " [  1 147]]\n"
          ]
        },
        {
          "data": {
            "text/plain": [
              "0.9932432432432432"
            ]
          },
          "execution_count": 338,
          "metadata": {},
          "output_type": "execute_result"
        }
      ],
      "source": [
        "calculate_performance(testY, pred)"
      ]
    },
    {
      "cell_type": "code",
      "execution_count": null,
      "metadata": {
        "id": "T0UDQCc48Ko1"
      },
      "outputs": [],
      "source": [
        "def get_conclusion():\n",
        "    # Todo: Please return your answer, conclusion and opinion right here\n",
        "    return  \"7. \" \\\n",
        "            \"Other conclusion: \"\\\n",
        "            \"Mô hình Logistic Regression kết hợp với StandardScaler cho kết quả tốt với dữ liệu chuẩn hóa, \\\n",
        "            giúp phân loại nguy cơ mắc bệnh tim một cách hiệu quả. \" \\\n",
        "            \"Các chỉ số như Accuracy và F1-score đều ở mức cao, cho thấy mô hình cân bằng tốt giữa precision và recall. \" \\\n",
        "            \"Việc chọn đúng scaler và không làm biến đổi cột target là rất quan trọng để đảm bảo mô hình học chính xác. \" \\\n",
        "            \"Trong thực tế, mô hình này có thể hỗ trợ bác sĩ trong việc sàng lọc nhanh nguy cơ bệnh tim từ các chỉ số sức khỏe đầu vào. \"\\\n",
        "            \"Chọn tham số penalty = 'l2' sẽ giúp giảm được khả năng bị overfitting nhưng vẫn giữ nguyên được các feature. \"\\\n",
        "            \"Chọn tham số solver = 'lbfgs' phù hợp với dữ liệu lớn và có thể tính toán nhanh cho các tham số. \"\\"
      ]
    }
  ],
  "metadata": {
    "colab": {
      "provenance": []
    },
    "kernelspec": {
      "display_name": "Python 3",
      "language": "python",
      "name": "python3"
    },
    "language_info": {
      "codemirror_mode": {
        "name": "ipython",
        "version": 3
      },
      "file_extension": ".py",
      "mimetype": "text/x-python",
      "name": "python",
      "nbconvert_exporter": "python",
      "pygments_lexer": "ipython3",
      "version": "3.13.2"
    }
  },
  "nbformat": 4,
  "nbformat_minor": 0
}
