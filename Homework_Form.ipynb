{
  "cells": [
    {
      "cell_type": "markdown",
      "metadata": {
        "collapsed": false,
        "id": "_GIq8Io_8Koq"
      },
      "source": [
        "1. Analyze and Preprocess data - Check if the dataset has missing values or has any other problem.\n",
        "2. Feature Engineering\n",
        "3. Divide the dataset into 2 training and test sets\n",
        "4. Use Pipeline\n",
        "    4. a. Use scaler and dimensional reduction (if it is necessary).\n",
        "    4. b. Use suitable Naive Bayes for this problem.\n",
        "5. Perform model on training set and test set using gridsearch CV\n",
        "6. Measure performance of the model.\n",
        "7. Which metric is your main metric for this problem and why? What are your scaler, dimensional reduction and naive bayes model as well as their params? (<= 200 words, also input your opinion or conclusion here)\n",
        "\n",
        "\n",
        "How can I measure your point:\n",
        "1. Your function is callable and runs correctly\n",
        "2. The performance of your model (in full pipeline) is acceptable. The final error based on my train and test set is low enough.\n",
        "3. The data preprocessing is correct or make sense\n",
        "4. The Feature engineering is correct or make sense\n",
        "5. Any other additional process will be considered a small plus point."
      ]
    },
    {
      "cell_type": "markdown",
      "metadata": {
        "collapsed": false,
        "id": "SjhjJmx68Kou"
      },
      "source": [
        "A Travel Company Is Offering Travel Insurance Packages To Their Customers. The new insurance plan also covers Covid-19. The Company Claims To Know Which Customers Are Interested To Buy It Based On The Company's Database History.\n",
        "\n",
        "* Age - Age Of The Customer\n",
        "* Employment Type - The Sector In Which Customer Is Employed\n",
        "GraduateOrNot - Whether The Customer Is College Graduate Or Not\n",
        "* AnnualIncome - The Yearly Income Of The Customer In Indian Rupees\n",
        "* FamilyMembers - Number Of Members In Customer's Family\n",
        "* ChronicDisease - Whether The Customer Suffers From Any Major Disease Or Conditions Like Diabetes/High BP or Asthama,etc.\n",
        "* FrequentFlyer - Derived Data Based On Customer's History Of Booking Air Tickets On Atleast 4 Different Instances In The Last 2 Years (2017-2019).\n",
        "* EverTravelledAbroad - Has The Customer Ever Travelled To A Foreign Country\n",
        "* TravelInsurance - Did The Customer Buy Travel Insurance Package During Introductory Offering Held In The Year 2019.\n",
        "\n",
        "**Submit Link**: https://forms.gle/CwmpBrfa2SYQic7G6"
      ]
    },
    {
      "cell_type": "markdown",
      "metadata": {
        "collapsed": false,
        "id": "iDJN7fbU8Kov"
      },
      "source": [
        "## Load Dataset"
      ]
    },
    {
      "cell_type": "code",
      "execution_count": 186,
      "metadata": {
        "colab": {
          "base_uri": "https://localhost:8080/"
        },
        "id": "YfmW1_KdudmQ",
        "outputId": "d7688652-06a4-4749-885d-3517d1a2bd73"
      },
      "outputs": [],
      "source": [
        "import pandas as pd\n",
        "import numpy as np\n",
        "import matplotlib.pyplot as plt\n",
        "import seaborn as sns\n",
        "#from google.colab import drive\n",
        "\n",
        "#drive.mount(\"/content/drive\")"
      ]
    },
    {
      "cell_type": "code",
      "execution_count": 187,
      "metadata": {
        "colab": {
          "base_uri": "https://localhost:8080/",
          "height": 204
        },
        "id": "G8aJO4Rj8Kov",
        "outputId": "91bc6e50-30bd-4bb6-b06b-6583f0db557c"
      },
      "outputs": [
        {
          "data": {
            "application/vnd.microsoft.datawrangler.viewer.v0+json": {
              "columns": [
                {
                  "name": "index",
                  "rawType": "int64",
                  "type": "integer"
                },
                {
                  "name": "Unnamed: 0",
                  "rawType": "int64",
                  "type": "integer"
                },
                {
                  "name": "Age",
                  "rawType": "int64",
                  "type": "integer"
                },
                {
                  "name": "Employment Type",
                  "rawType": "object",
                  "type": "string"
                },
                {
                  "name": "GraduateOrNot",
                  "rawType": "object",
                  "type": "string"
                },
                {
                  "name": "AnnualIncome",
                  "rawType": "int64",
                  "type": "integer"
                },
                {
                  "name": "FamilyMembers",
                  "rawType": "int64",
                  "type": "integer"
                },
                {
                  "name": "ChronicDiseases",
                  "rawType": "int64",
                  "type": "integer"
                },
                {
                  "name": "FrequentFlyer",
                  "rawType": "object",
                  "type": "string"
                },
                {
                  "name": "EverTravelledAbroad",
                  "rawType": "object",
                  "type": "string"
                },
                {
                  "name": "TravelInsurance",
                  "rawType": "int64",
                  "type": "integer"
                }
              ],
              "conversionMethod": "pd.DataFrame",
              "ref": "5d1124ba-ebf2-4830-bb8b-274270a5b579",
              "rows": [
                [
                  "0",
                  "0",
                  "31",
                  "Government Sector",
                  "Yes",
                  "400000",
                  "6",
                  "1",
                  "No",
                  "No",
                  "0"
                ],
                [
                  "1",
                  "1",
                  "31",
                  "Private Sector/Self Employed",
                  "Yes",
                  "1250000",
                  "7",
                  "0",
                  "No",
                  "No",
                  "0"
                ],
                [
                  "2",
                  "2",
                  "34",
                  "Private Sector/Self Employed",
                  "Yes",
                  "500000",
                  "4",
                  "1",
                  "No",
                  "No",
                  "1"
                ],
                [
                  "3",
                  "3",
                  "28",
                  "Private Sector/Self Employed",
                  "Yes",
                  "700000",
                  "3",
                  "1",
                  "No",
                  "No",
                  "0"
                ],
                [
                  "4",
                  "4",
                  "28",
                  "Private Sector/Self Employed",
                  "Yes",
                  "700000",
                  "8",
                  "1",
                  "Yes",
                  "No",
                  "0"
                ]
              ],
              "shape": {
                "columns": 10,
                "rows": 5
              }
            },
            "text/html": [
              "<div>\n",
              "<style scoped>\n",
              "    .dataframe tbody tr th:only-of-type {\n",
              "        vertical-align: middle;\n",
              "    }\n",
              "\n",
              "    .dataframe tbody tr th {\n",
              "        vertical-align: top;\n",
              "    }\n",
              "\n",
              "    .dataframe thead th {\n",
              "        text-align: right;\n",
              "    }\n",
              "</style>\n",
              "<table border=\"1\" class=\"dataframe\">\n",
              "  <thead>\n",
              "    <tr style=\"text-align: right;\">\n",
              "      <th></th>\n",
              "      <th>Unnamed: 0</th>\n",
              "      <th>Age</th>\n",
              "      <th>Employment Type</th>\n",
              "      <th>GraduateOrNot</th>\n",
              "      <th>AnnualIncome</th>\n",
              "      <th>FamilyMembers</th>\n",
              "      <th>ChronicDiseases</th>\n",
              "      <th>FrequentFlyer</th>\n",
              "      <th>EverTravelledAbroad</th>\n",
              "      <th>TravelInsurance</th>\n",
              "    </tr>\n",
              "  </thead>\n",
              "  <tbody>\n",
              "    <tr>\n",
              "      <th>0</th>\n",
              "      <td>0</td>\n",
              "      <td>31</td>\n",
              "      <td>Government Sector</td>\n",
              "      <td>Yes</td>\n",
              "      <td>400000</td>\n",
              "      <td>6</td>\n",
              "      <td>1</td>\n",
              "      <td>No</td>\n",
              "      <td>No</td>\n",
              "      <td>0</td>\n",
              "    </tr>\n",
              "    <tr>\n",
              "      <th>1</th>\n",
              "      <td>1</td>\n",
              "      <td>31</td>\n",
              "      <td>Private Sector/Self Employed</td>\n",
              "      <td>Yes</td>\n",
              "      <td>1250000</td>\n",
              "      <td>7</td>\n",
              "      <td>0</td>\n",
              "      <td>No</td>\n",
              "      <td>No</td>\n",
              "      <td>0</td>\n",
              "    </tr>\n",
              "    <tr>\n",
              "      <th>2</th>\n",
              "      <td>2</td>\n",
              "      <td>34</td>\n",
              "      <td>Private Sector/Self Employed</td>\n",
              "      <td>Yes</td>\n",
              "      <td>500000</td>\n",
              "      <td>4</td>\n",
              "      <td>1</td>\n",
              "      <td>No</td>\n",
              "      <td>No</td>\n",
              "      <td>1</td>\n",
              "    </tr>\n",
              "    <tr>\n",
              "      <th>3</th>\n",
              "      <td>3</td>\n",
              "      <td>28</td>\n",
              "      <td>Private Sector/Self Employed</td>\n",
              "      <td>Yes</td>\n",
              "      <td>700000</td>\n",
              "      <td>3</td>\n",
              "      <td>1</td>\n",
              "      <td>No</td>\n",
              "      <td>No</td>\n",
              "      <td>0</td>\n",
              "    </tr>\n",
              "    <tr>\n",
              "      <th>4</th>\n",
              "      <td>4</td>\n",
              "      <td>28</td>\n",
              "      <td>Private Sector/Self Employed</td>\n",
              "      <td>Yes</td>\n",
              "      <td>700000</td>\n",
              "      <td>8</td>\n",
              "      <td>1</td>\n",
              "      <td>Yes</td>\n",
              "      <td>No</td>\n",
              "      <td>0</td>\n",
              "    </tr>\n",
              "  </tbody>\n",
              "</table>\n",
              "</div>"
            ],
            "text/plain": [
              "   Unnamed: 0  Age               Employment Type GraduateOrNot  AnnualIncome  \\\n",
              "0           0   31             Government Sector           Yes        400000   \n",
              "1           1   31  Private Sector/Self Employed           Yes       1250000   \n",
              "2           2   34  Private Sector/Self Employed           Yes        500000   \n",
              "3           3   28  Private Sector/Self Employed           Yes        700000   \n",
              "4           4   28  Private Sector/Self Employed           Yes        700000   \n",
              "\n",
              "   FamilyMembers  ChronicDiseases FrequentFlyer EverTravelledAbroad  \\\n",
              "0              6                1            No                  No   \n",
              "1              7                0            No                  No   \n",
              "2              4                1            No                  No   \n",
              "3              3                1            No                  No   \n",
              "4              8                1           Yes                  No   \n",
              "\n",
              "   TravelInsurance  \n",
              "0                0  \n",
              "1                0  \n",
              "2                1  \n",
              "3                0  \n",
              "4                0  "
            ]
          },
          "metadata": {},
          "output_type": "display_data"
        },
        {
          "data": {
            "text/plain": [
              "array([[<Axes: title={'center': 'Unnamed: 0'}>,\n",
              "        <Axes: title={'center': 'Age'}>],\n",
              "       [<Axes: title={'center': 'AnnualIncome'}>,\n",
              "        <Axes: title={'center': 'FamilyMembers'}>],\n",
              "       [<Axes: title={'center': 'ChronicDiseases'}>,\n",
              "        <Axes: title={'center': 'TravelInsurance'}>]], dtype=object)"
            ]
          },
          "execution_count": 187,
          "metadata": {},
          "output_type": "execute_result"
        },
        {
          "data": {
            "image/png": "[encoded data removed]",
            "text/plain": [
              "<Figure size 1000x1000 with 6 Axes>"
            ]
          },
          "metadata": {},
          "output_type": "display_data"
        }
      ],
      "source": [
        "import pandas as pd\n",
        "PATH = \"TravelInsurancePrediction.csv\" # Path to your file\n",
        "\n",
        "df = pd.read_csv(PATH)\n",
        "display(df.head())\n",
        "#ToDo: Show histogram of dataframe\n",
        "df.hist(figsize=(10, 10), bins=20, grid=False)"
      ]
    },
    {
      "cell_type": "code",
      "execution_count": 188,
      "metadata": {},
      "outputs": [
        {
          "name": "stdout",
          "output_type": "stream",
          "text": [
            "<class 'pandas.core.frame.DataFrame'>\n",
            "RangeIndex: 1987 entries, 0 to 1986\n",
            "Data columns (total 10 columns):\n",
            " #   Column               Non-Null Count  Dtype \n",
            "---  ------               --------------  ----- \n",
            " 0   Unnamed: 0           1987 non-null   int64 \n",
            " 1   Age                  1987 non-null   int64 \n",
            " 2   Employment Type      1987 non-null   object\n",
            " 3   GraduateOrNot        1987 non-null   object\n",
            " 4   AnnualIncome         1987 non-null   int64 \n",
            " 5   FamilyMembers        1987 non-null   int64 \n",
            " 6   ChronicDiseases      1987 non-null   int64 \n",
            " 7   FrequentFlyer        1987 non-null   object\n",
            " 8   EverTravelledAbroad  1987 non-null   object\n",
            " 9   TravelInsurance      1987 non-null   int64 \n",
            "dtypes: int64(6), object(4)\n",
            "memory usage: 155.4+ KB\n"
          ]
        }
      ],
      "source": [
        "df.info()"
      ]
    },
    {
      "cell_type": "code",
      "execution_count": 189,
      "metadata": {},
      "outputs": [
        {
          "data": {
            "text/plain": [
              "array(['Government Sector', 'Private Sector/Self Employed'], dtype=object)"
            ]
          },
          "execution_count": 189,
          "metadata": {},
          "output_type": "execute_result"
        }
      ],
      "source": [
        "df['Employment Type'].unique()"
      ]
    },
    {
      "cell_type": "code",
      "execution_count": 190,
      "metadata": {},
      "outputs": [
        {
          "data": {
            "text/plain": [
              "array(['Yes', 'No'], dtype=object)"
            ]
          },
          "execution_count": 190,
          "metadata": {},
          "output_type": "execute_result"
        }
      ],
      "source": [
        "df['GraduateOrNot'].unique()"
      ]
    },
    {
      "cell_type": "code",
      "execution_count": 191,
      "metadata": {},
      "outputs": [
        {
          "data": {
            "text/plain": [
              "array(['No', 'Yes'], dtype=object)"
            ]
          },
          "execution_count": 191,
          "metadata": {},
          "output_type": "execute_result"
        }
      ],
      "source": [
        "df['FrequentFlyer'].unique()"
      ]
    },
    {
      "cell_type": "code",
      "execution_count": 192,
      "metadata": {},
      "outputs": [
        {
          "data": {
            "text/plain": [
              "array(['No', 'Yes'], dtype=object)"
            ]
          },
          "execution_count": 192,
          "metadata": {},
          "output_type": "execute_result"
        }
      ],
      "source": [
        "df['EverTravelledAbroad'].unique()"
      ]
    },
    {
      "cell_type": "code",
      "execution_count": 193,
      "metadata": {},
      "outputs": [
        {
          "data": {
            "application/vnd.microsoft.datawrangler.viewer.v0+json": {
              "columns": [
                {
                  "name": "index",
                  "rawType": "object",
                  "type": "string"
                },
                {
                  "name": "Unnamed: 0",
                  "rawType": "float64",
                  "type": "float"
                },
                {
                  "name": "Age",
                  "rawType": "float64",
                  "type": "float"
                },
                {
                  "name": "AnnualIncome",
                  "rawType": "float64",
                  "type": "float"
                },
                {
                  "name": "FamilyMembers",
                  "rawType": "float64",
                  "type": "float"
                },
                {
                  "name": "ChronicDiseases",
                  "rawType": "float64",
                  "type": "float"
                },
                {
                  "name": "TravelInsurance",
                  "rawType": "float64",
                  "type": "float"
                }
              ],
              "conversionMethod": "pd.DataFrame",
              "ref": "8d0b4dc8-d16a-47c5-913e-b0fe43d13a9a",
              "rows": [
                [
                  "count",
                  "1987.0",
                  "1987.0",
                  "1987.0",
                  "1987.0",
                  "1987.0",
                  "1987.0"
                ],
                [
                  "mean",
                  "993.0",
                  "29.650226472068447",
                  "932762.9592350277",
                  "4.752893809763463",
                  "0.2778057372924006",
                  "0.3573225968797182"
                ],
                [
                  "std",
                  "573.7418118515214",
                  "2.9133083008556833",
                  "376855.6847478718",
                  "1.6096497246135788",
                  "0.44802983341368946",
                  "0.4793316071730989"
                ],
                [
                  "min",
                  "0.0",
                  "25.0",
                  "300000.0",
                  "2.0",
                  "0.0",
                  "0.0"
                ],
                [
                  "25%",
                  "496.5",
                  "28.0",
                  "600000.0",
                  "4.0",
                  "0.0",
                  "0.0"
                ],
                [
                  "50%",
                  "993.0",
                  "29.0",
                  "900000.0",
                  "5.0",
                  "0.0",
                  "0.0"
                ],
                [
                  "75%",
                  "1489.5",
                  "32.0",
                  "1250000.0",
                  "6.0",
                  "1.0",
                  "1.0"
                ],
                [
                  "max",
                  "1986.0",
                  "35.0",
                  "1800000.0",
                  "9.0",
                  "1.0",
                  "1.0"
                ]
              ],
              "shape": {
                "columns": 6,
                "rows": 8
              }
            },
            "text/html": [
              "<div>\n",
              "<style scoped>\n",
              "    .dataframe tbody tr th:only-of-type {\n",
              "        vertical-align: middle;\n",
              "    }\n",
              "\n",
              "    .dataframe tbody tr th {\n",
              "        vertical-align: top;\n",
              "    }\n",
              "\n",
              "    .dataframe thead th {\n",
              "        text-align: right;\n",
              "    }\n",
              "</style>\n",
              "<table border=\"1\" class=\"dataframe\">\n",
              "  <thead>\n",
              "    <tr style=\"text-align: right;\">\n",
              "      <th></th>\n",
              "      <th>Unnamed: 0</th>\n",
              "      <th>Age</th>\n",
              "      <th>AnnualIncome</th>\n",
              "      <th>FamilyMembers</th>\n",
              "      <th>ChronicDiseases</th>\n",
              "      <th>TravelInsurance</th>\n",
              "    </tr>\n",
              "  </thead>\n",
              "  <tbody>\n",
              "    <tr>\n",
              "      <th>count</th>\n",
              "      <td>1987.000000</td>\n",
              "      <td>1987.000000</td>\n",
              "      <td>1.987000e+03</td>\n",
              "      <td>1987.000000</td>\n",
              "      <td>1987.000000</td>\n",
              "      <td>1987.000000</td>\n",
              "    </tr>\n",
              "    <tr>\n",
              "      <th>mean</th>\n",
              "      <td>993.000000</td>\n",
              "      <td>29.650226</td>\n",
              "      <td>9.327630e+05</td>\n",
              "      <td>4.752894</td>\n",
              "      <td>0.277806</td>\n",
              "      <td>0.357323</td>\n",
              "    </tr>\n",
              "    <tr>\n",
              "      <th>std</th>\n",
              "      <td>573.741812</td>\n",
              "      <td>2.913308</td>\n",
              "      <td>3.768557e+05</td>\n",
              "      <td>1.609650</td>\n",
              "      <td>0.448030</td>\n",
              "      <td>0.479332</td>\n",
              "    </tr>\n",
              "    <tr>\n",
              "      <th>min</th>\n",
              "      <td>0.000000</td>\n",
              "      <td>25.000000</td>\n",
              "      <td>3.000000e+05</td>\n",
              "      <td>2.000000</td>\n",
              "      <td>0.000000</td>\n",
              "      <td>0.000000</td>\n",
              "    </tr>\n",
              "    <tr>\n",
              "      <th>25%</th>\n",
              "      <td>496.500000</td>\n",
              "      <td>28.000000</td>\n",
              "      <td>6.000000e+05</td>\n",
              "      <td>4.000000</td>\n",
              "      <td>0.000000</td>\n",
              "      <td>0.000000</td>\n",
              "    </tr>\n",
              "    <tr>\n",
              "      <th>50%</th>\n",
              "      <td>993.000000</td>\n",
              "      <td>29.000000</td>\n",
              "      <td>9.000000e+05</td>\n",
              "      <td>5.000000</td>\n",
              "      <td>0.000000</td>\n",
              "      <td>0.000000</td>\n",
              "    </tr>\n",
              "    <tr>\n",
              "      <th>75%</th>\n",
              "      <td>1489.500000</td>\n",
              "      <td>32.000000</td>\n",
              "      <td>1.250000e+06</td>\n",
              "      <td>6.000000</td>\n",
              "      <td>1.000000</td>\n",
              "      <td>1.000000</td>\n",
              "    </tr>\n",
              "    <tr>\n",
              "      <th>max</th>\n",
              "      <td>1986.000000</td>\n",
              "      <td>35.000000</td>\n",
              "      <td>1.800000e+06</td>\n",
              "      <td>9.000000</td>\n",
              "      <td>1.000000</td>\n",
              "      <td>1.000000</td>\n",
              "    </tr>\n",
              "  </tbody>\n",
              "</table>\n",
              "</div>"
            ],
            "text/plain": [
              "        Unnamed: 0          Age  AnnualIncome  FamilyMembers  ChronicDiseases  \\\n",
              "count  1987.000000  1987.000000  1.987000e+03    1987.000000      1987.000000   \n",
              "mean    993.000000    29.650226  9.327630e+05       4.752894         0.277806   \n",
              "std     573.741812     2.913308  3.768557e+05       1.609650         0.448030   \n",
              "min       0.000000    25.000000  3.000000e+05       2.000000         0.000000   \n",
              "25%     496.500000    28.000000  6.000000e+05       4.000000         0.000000   \n",
              "50%     993.000000    29.000000  9.000000e+05       5.000000         0.000000   \n",
              "75%    1489.500000    32.000000  1.250000e+06       6.000000         1.000000   \n",
              "max    1986.000000    35.000000  1.800000e+06       9.000000         1.000000   \n",
              "\n",
              "       TravelInsurance  \n",
              "count      1987.000000  \n",
              "mean          0.357323  \n",
              "std           0.479332  \n",
              "min           0.000000  \n",
              "25%           0.000000  \n",
              "50%           0.000000  \n",
              "75%           1.000000  \n",
              "max           1.000000  "
            ]
          },
          "execution_count": 193,
          "metadata": {},
          "output_type": "execute_result"
        }
      ],
      "source": [
        "df.describe()"
      ]
    },
    {
      "cell_type": "code",
      "execution_count": 194,
      "metadata": {},
      "outputs": [
        {
          "data": {
            "image/png": "[encoded data removed]",
            "text/plain": [
              "<Figure size 640x480 with 1 Axes>"
            ]
          },
          "metadata": {},
          "output_type": "display_data"
        }
      ],
      "source": [
        "import seaborn as sns\n",
        "import matplotlib.pyplot as plt\n",
        "\n",
        "sns.histplot(df, x=\"Age\", kde=True, hue='TravelInsurance', stat=\"density\", common_norm=False, bins=30)\n",
        "plt.show()"
      ]
    },
    {
      "cell_type": "code",
      "execution_count": 195,
      "metadata": {},
      "outputs": [
        {
          "data": {
            "image/png": "[encoded data removed]",
            "text/plain": [
              "<Figure size 640x480 with 1 Axes>"
            ]
          },
          "metadata": {},
          "output_type": "display_data"
        }
      ],
      "source": [
        "sns.histplot(df, x=\"AnnualIncome\", kde=True, hue='TravelInsurance', stat=\"density\", common_norm=False, bins=30)\n",
        "plt.show()"
      ]
    },
    {
      "cell_type": "code",
      "execution_count": 196,
      "metadata": {},
      "outputs": [
        {
          "data": {
            "image/png": "[encoded data removed]",
            "text/plain": [
              "<Figure size 640x480 with 1 Axes>"
            ]
          },
          "metadata": {},
          "output_type": "display_data"
        }
      ],
      "source": [
        "sns.histplot(df, x='TravelInsurance', hue=\"ChronicDiseases\")\n",
        "plt.show()"
      ]
    },
    {
      "cell_type": "markdown",
      "metadata": {
        "collapsed": false,
        "id": "mk4IrtwS8Kow"
      },
      "source": [
        "## Data Analysis"
      ]
    },
    {
      "cell_type": "code",
      "execution_count": 197,
      "metadata": {
        "id": "Z4z7vGmJ8Kox"
      },
      "outputs": [
        {
          "data": {
            "text/plain": [
              "Unnamed: 0             0\n",
              "Age                    0\n",
              "Employment Type        0\n",
              "GraduateOrNot          0\n",
              "AnnualIncome           0\n",
              "FamilyMembers          0\n",
              "ChronicDiseases        0\n",
              "FrequentFlyer          0\n",
              "EverTravelledAbroad    0\n",
              "TravelInsurance        0\n",
              "dtype: int64"
            ]
          },
          "execution_count": 197,
          "metadata": {},
          "output_type": "execute_result"
        }
      ],
      "source": [
        "# Data analysis\n",
        "# Todo: analyze your data here\n",
        "df.isnull().sum()"
      ]
    },
    {
      "cell_type": "code",
      "execution_count": 198,
      "metadata": {},
      "outputs": [
        {
          "data": {
            "text/plain": [
              "np.int64(0)"
            ]
          },
          "execution_count": 198,
          "metadata": {},
          "output_type": "execute_result"
        }
      ],
      "source": [
        "df.duplicated().sum()"
      ]
    },
    {
      "cell_type": "code",
      "execution_count": 199,
      "metadata": {},
      "outputs": [
        {
          "data": {
            "text/plain": [
              "(1987, 10)"
            ]
          },
          "execution_count": 199,
          "metadata": {},
          "output_type": "execute_result"
        }
      ],
      "source": [
        "df.shape"
      ]
    },
    {
      "cell_type": "code",
      "execution_count": 200,
      "metadata": {},
      "outputs": [
        {
          "data": {
            "image/png": "[encoded data removed]",
            "text/plain": [
              "<Figure size 1000x500 with 1 Axes>"
            ]
          },
          "metadata": {},
          "output_type": "display_data"
        }
      ],
      "source": [
        "# Boxplot Numerical Outliers\n",
        "plt.figure(figsize=(10, 5))\n",
        "sns.boxplot(df)\n",
        "plt.xticks(rotation=90)\n",
        "plt.show()"
      ]
    },
    {
      "cell_type": "markdown",
      "metadata": {
        "collapsed": false,
        "id": "flqsM83K8Kox"
      },
      "source": [
        "## Preprocessing"
      ]
    },
    {
      "cell_type": "code",
      "execution_count": 201,
      "metadata": {
        "id": "BsLrFNP-8Kox"
      },
      "outputs": [],
      "source": [
        "def preprocessing_data(df):\n",
        "    \"\"\"\n",
        "    Preprocess your data (eg. Drop null datapoints or fill missing data)\n",
        "    :param df: pandas DataFrame\n",
        "    :return: pandas DataFrame\n",
        "    \"\"\"\n",
        "    # Todo: preprocess data\n",
        "    if 'Unnamed: 0' in df.columns:\n",
        "        df = df.drop(columns=['Unnamed: 0'])\n",
        "        \n",
        "    return df"
      ]
    },
    {
      "cell_type": "code",
      "execution_count": 202,
      "metadata": {
        "id": "dei_gmKb8Koy"
      },
      "outputs": [
        {
          "data": {
            "application/vnd.microsoft.datawrangler.viewer.v0+json": {
              "columns": [
                {
                  "name": "index",
                  "rawType": "int64",
                  "type": "integer"
                },
                {
                  "name": "Age",
                  "rawType": "int64",
                  "type": "integer"
                },
                {
                  "name": "Employment Type",
                  "rawType": "object",
                  "type": "string"
                },
                {
                  "name": "GraduateOrNot",
                  "rawType": "object",
                  "type": "string"
                },
                {
                  "name": "AnnualIncome",
                  "rawType": "int64",
                  "type": "integer"
                },
                {
                  "name": "FamilyMembers",
                  "rawType": "int64",
                  "type": "integer"
                },
                {
                  "name": "ChronicDiseases",
                  "rawType": "int64",
                  "type": "integer"
                },
                {
                  "name": "FrequentFlyer",
                  "rawType": "object",
                  "type": "string"
                },
                {
                  "name": "EverTravelledAbroad",
                  "rawType": "object",
                  "type": "string"
                },
                {
                  "name": "TravelInsurance",
                  "rawType": "int64",
                  "type": "integer"
                }
              ],
              "conversionMethod": "pd.DataFrame",
              "ref": "daed40c9-cef0-4215-a8ee-2b45d2b59d22",
              "rows": [
                [
                  "0",
                  "31",
                  "Government Sector",
                  "Yes",
                  "400000",
                  "6",
                  "1",
                  "No",
                  "No",
                  "0"
                ],
                [
                  "1",
                  "31",
                  "Private Sector/Self Employed",
                  "Yes",
                  "1250000",
                  "7",
                  "0",
                  "No",
                  "No",
                  "0"
                ],
                [
                  "2",
                  "34",
                  "Private Sector/Self Employed",
                  "Yes",
                  "500000",
                  "4",
                  "1",
                  "No",
                  "No",
                  "1"
                ],
                [
                  "3",
                  "28",
                  "Private Sector/Self Employed",
                  "Yes",
                  "700000",
                  "3",
                  "1",
                  "No",
                  "No",
                  "0"
                ],
                [
                  "4",
                  "28",
                  "Private Sector/Self Employed",
                  "Yes",
                  "700000",
                  "8",
                  "1",
                  "Yes",
                  "No",
                  "0"
                ]
              ],
              "shape": {
                "columns": 9,
                "rows": 5
              }
            },
            "text/html": [
              "<div>\n",
              "<style scoped>\n",
              "    .dataframe tbody tr th:only-of-type {\n",
              "        vertical-align: middle;\n",
              "    }\n",
              "\n",
              "    .dataframe tbody tr th {\n",
              "        vertical-align: top;\n",
              "    }\n",
              "\n",
              "    .dataframe thead th {\n",
              "        text-align: right;\n",
              "    }\n",
              "</style>\n",
              "<table border=\"1\" class=\"dataframe\">\n",
              "  <thead>\n",
              "    <tr style=\"text-align: right;\">\n",
              "      <th></th>\n",
              "      <th>Age</th>\n",
              "      <th>Employment Type</th>\n",
              "      <th>GraduateOrNot</th>\n",
              "      <th>AnnualIncome</th>\n",
              "      <th>FamilyMembers</th>\n",
              "      <th>ChronicDiseases</th>\n",
              "      <th>FrequentFlyer</th>\n",
              "      <th>EverTravelledAbroad</th>\n",
              "      <th>TravelInsurance</th>\n",
              "    </tr>\n",
              "  </thead>\n",
              "  <tbody>\n",
              "    <tr>\n",
              "      <th>0</th>\n",
              "      <td>31</td>\n",
              "      <td>Government Sector</td>\n",
              "      <td>Yes</td>\n",
              "      <td>400000</td>\n",
              "      <td>6</td>\n",
              "      <td>1</td>\n",
              "      <td>No</td>\n",
              "      <td>No</td>\n",
              "      <td>0</td>\n",
              "    </tr>\n",
              "    <tr>\n",
              "      <th>1</th>\n",
              "      <td>31</td>\n",
              "      <td>Private Sector/Self Employed</td>\n",
              "      <td>Yes</td>\n",
              "      <td>1250000</td>\n",
              "      <td>7</td>\n",
              "      <td>0</td>\n",
              "      <td>No</td>\n",
              "      <td>No</td>\n",
              "      <td>0</td>\n",
              "    </tr>\n",
              "    <tr>\n",
              "      <th>2</th>\n",
              "      <td>34</td>\n",
              "      <td>Private Sector/Self Employed</td>\n",
              "      <td>Yes</td>\n",
              "      <td>500000</td>\n",
              "      <td>4</td>\n",
              "      <td>1</td>\n",
              "      <td>No</td>\n",
              "      <td>No</td>\n",
              "      <td>1</td>\n",
              "    </tr>\n",
              "    <tr>\n",
              "      <th>3</th>\n",
              "      <td>28</td>\n",
              "      <td>Private Sector/Self Employed</td>\n",
              "      <td>Yes</td>\n",
              "      <td>700000</td>\n",
              "      <td>3</td>\n",
              "      <td>1</td>\n",
              "      <td>No</td>\n",
              "      <td>No</td>\n",
              "      <td>0</td>\n",
              "    </tr>\n",
              "    <tr>\n",
              "      <th>4</th>\n",
              "      <td>28</td>\n",
              "      <td>Private Sector/Self Employed</td>\n",
              "      <td>Yes</td>\n",
              "      <td>700000</td>\n",
              "      <td>8</td>\n",
              "      <td>1</td>\n",
              "      <td>Yes</td>\n",
              "      <td>No</td>\n",
              "      <td>0</td>\n",
              "    </tr>\n",
              "  </tbody>\n",
              "</table>\n",
              "</div>"
            ],
            "text/plain": [
              "   Age               Employment Type GraduateOrNot  AnnualIncome  \\\n",
              "0   31             Government Sector           Yes        400000   \n",
              "1   31  Private Sector/Self Employed           Yes       1250000   \n",
              "2   34  Private Sector/Self Employed           Yes        500000   \n",
              "3   28  Private Sector/Self Employed           Yes        700000   \n",
              "4   28  Private Sector/Self Employed           Yes        700000   \n",
              "\n",
              "   FamilyMembers  ChronicDiseases FrequentFlyer EverTravelledAbroad  \\\n",
              "0              6                1            No                  No   \n",
              "1              7                0            No                  No   \n",
              "2              4                1            No                  No   \n",
              "3              3                1            No                  No   \n",
              "4              8                1           Yes                  No   \n",
              "\n",
              "   TravelInsurance  \n",
              "0                0  \n",
              "1                0  \n",
              "2                1  \n",
              "3                0  \n",
              "4                0  "
            ]
          },
          "metadata": {},
          "output_type": "display_data"
        }
      ],
      "source": [
        "df = preprocessing_data(df.copy())\n",
        "display(df.head())"
      ]
    },
    {
      "cell_type": "markdown",
      "metadata": {
        "collapsed": false,
        "id": "Zi5s_ZP48Koy"
      },
      "source": [
        "## Feature Engineering"
      ]
    },
    {
      "cell_type": "code",
      "execution_count": 203,
      "metadata": {
        "id": "6VQVAmTx8Koy"
      },
      "outputs": [
        {
          "data": {
            "text/plain": [
              "<Axes: >"
            ]
          },
          "execution_count": 203,
          "metadata": {},
          "output_type": "execute_result"
        },
        {
          "data": {
            "image/png": "[encoded data removed]",
            "text/plain": [
              "<Figure size 640x480 with 2 Axes>"
            ]
          },
          "metadata": {},
          "output_type": "display_data"
        }
      ],
      "source": [
        "# Heatmap\n",
        "import seaborn as sns\n",
        "\n",
        "def apply_feature_engineering(df):\n",
        "    \"\"\"\n",
        "    Apply all feature engineering to transform your data into number\n",
        "    :param df: pandas DataFrame\n",
        "    :return: pandas DataFrame\n",
        "    \"\"\"\n",
        "    # Todo: Normalize your data\n",
        "    categorical_data = df.select_dtypes(include=['object']).columns\n",
        "    for col in categorical_data:\n",
        "        df[col] = df[col].astype('category').cat.codes\n",
        "    return df\n",
        "\n",
        "df = apply_feature_engineering(df)\n",
        "sns.heatmap(df.corr()) # Show heatmap after normalized data"
      ]
    },
    {
      "cell_type": "code",
      "execution_count": 204,
      "metadata": {
        "id": "kWoZ3iLO8Koz"
      },
      "outputs": [],
      "source": [
        "def prepare_X_y(df):\n",
        "    \"\"\"\n",
        "    Feature engineering and create X and y\n",
        "    :param df: pandas dataframe\n",
        "    :return: (X, y) output feature matrix (dataframe), target (series)\n",
        "    \"\"\"\n",
        "    # Split data into X and y\n",
        "    feature_names = df.columns.tolist()\n",
        "    feature_names.remove(\"TravelInsurance\")\n",
        "    \n",
        "    X = df[feature_names].values  # Todo: Select features\n",
        "    y = df.TravelInsurance.values  # Todo: Select label\n",
        "    return X, y\n",
        "\n",
        "X, y = prepare_X_y(df)"
      ]
    },
    {
      "cell_type": "code",
      "execution_count": 205,
      "metadata": {},
      "outputs": [
        {
          "data": {
            "text/plain": [
              "(1987,)"
            ]
          },
          "execution_count": 205,
          "metadata": {},
          "output_type": "execute_result"
        }
      ],
      "source": [
        "y.shape"
      ]
    },
    {
      "cell_type": "code",
      "execution_count": 206,
      "metadata": {},
      "outputs": [
        {
          "data": {
            "text/plain": [
              "(1987, 1)"
            ]
          },
          "execution_count": 206,
          "metadata": {},
          "output_type": "execute_result"
        }
      ],
      "source": [
        "np.reshape(y, (1987, -1)).shape"
      ]
    },
    {
      "cell_type": "markdown",
      "metadata": {
        "collapsed": false,
        "id": "prlZ55S68Koz"
      },
      "source": [
        "# Apply machine learning model"
      ]
    },
    {
      "cell_type": "markdown",
      "metadata": {
        "collapsed": false,
        "id": "uwkqQnmZ8Ko0"
      },
      "source": [
        "## Train-test split"
      ]
    },
    {
      "cell_type": "code",
      "execution_count": 207,
      "metadata": {
        "id": "AgohjEzw8Ko0"
      },
      "outputs": [],
      "source": [
        "from sklearn.model_selection import train_test_split\n",
        "RANDOM_STATE = 42\n",
        "TRAIN_SIZE = 0.7\n",
        "\n",
        "trainX, testX ,trainY, testY = train_test_split(X, y, train_size=TRAIN_SIZE, random_state=RANDOM_STATE)"
      ]
    },
    {
      "cell_type": "code",
      "execution_count": 208,
      "metadata": {},
      "outputs": [
        {
          "name": "stdout",
          "output_type": "stream",
          "text": [
            "              precision    recall  f1-score   support\n",
            "\n",
            "           0      0.753     0.912     0.825       375\n",
            "           1      0.769     0.495     0.603       222\n",
            "\n",
            "    accuracy                          0.757       597\n",
            "   macro avg      0.761     0.704     0.714       597\n",
            "weighted avg      0.759     0.757     0.742       597\n",
            "\n"
          ]
        }
      ],
      "source": [
        "# --- Without Scaler\n",
        "from sklearn.naive_bayes import GaussianNB\n",
        "\n",
        "# Model training\n",
        "naive_model = GaussianNB()\n",
        "naive_model.fit(trainX, trainY.ravel())\n",
        "\n",
        "from sklearn.metrics import precision_score, recall_score, f1_score, classification_report\n",
        "predicted_label = naive_model.predict(testX)\n",
        "print(classification_report(testY, predicted_label, digits=3))\n"
      ]
    },
    {
      "cell_type": "code",
      "execution_count": 209,
      "metadata": {},
      "outputs": [
        {
          "name": "stdout",
          "output_type": "stream",
          "text": [
            "              precision    recall  f1-score   support\n",
            "\n",
            "           0      0.745     0.864     0.800       375\n",
            "           1      0.685     0.500     0.578       222\n",
            "\n",
            "    accuracy                          0.729       597\n",
            "   macro avg      0.715     0.682     0.689       597\n",
            "weighted avg      0.723     0.729     0.717       597\n",
            "\n"
          ]
        }
      ],
      "source": [
        "from sklearn.preprocessing import MinMaxScaler\n",
        "from sklearn.naive_bayes import GaussianNB\n",
        "\n",
        "# Scaler\n",
        "normalizer = MinMaxScaler()\n",
        "X_normal_train = normalizer.fit_transform(trainX)\n",
        "X_normal_test = normalizer.transform(testX)\n",
        "\n",
        "# Model training\n",
        "naive_model = GaussianNB()\n",
        "naive_model.fit(X_normal_train, trainY.ravel())\n",
        "\n",
        "from sklearn.metrics import precision_score, recall_score, f1_score, classification_report\n",
        "predicted_label = naive_model.predict(X_normal_test)\n",
        "print(classification_report(testY, predicted_label, digits=3))\n"
      ]
    },
    {
      "cell_type": "markdown",
      "metadata": {
        "collapsed": false,
        "id": "Xy5y6NEO8Ko0"
      },
      "source": [
        "## Build SK-learn model"
      ]
    },
    {
      "cell_type": "code",
      "execution_count": 233,
      "metadata": {
        "id": "lge0OhiI8Ko1"
      },
      "outputs": [
        {
          "name": "stdout",
          "output_type": "stream",
          "text": [
            "precision 0.6851851851851852\n",
            "recall 0.5\n",
            "accuracy 0.7286432160804021\n",
            "F1 0.578125\n",
            "classification report               precision    recall  f1-score   support\n",
            "\n",
            "           0       0.74      0.86      0.80       375\n",
            "           1       0.69      0.50      0.58       222\n",
            "\n",
            "    accuracy                           0.73       597\n",
            "   macro avg       0.72      0.68      0.69       597\n",
            "weighted avg       0.72      0.73      0.72       597\n",
            "\n"
          ]
        },
        {
          "data": {
            "text/plain": [
              "0.578125"
            ]
          },
          "execution_count": 233,
          "metadata": {},
          "output_type": "execute_result"
        }
      ],
      "source": [
        "from sklearn.metrics import classification_report, confusion_matrix, accuracy_score, f1_score, precision_score, recall_score\n",
        "from sklearn.pipeline import make_pipeline\n",
        "from sklearn.preprocessing import MinMaxScaler, StandardScaler\n",
        "from sklearn.model_selection import GridSearchCV\n",
        "\n",
        "def build_model(X, y):\n",
        "    \"\"\"\n",
        "    Design your model and train it (including your best params)\n",
        "    :param X: feature matrix\n",
        "    :param y: target\n",
        "    :return: a model\n",
        "    \"\"\"\n",
        "\n",
        "    # Todo: Input your scaler and logistic model into pipeline\n",
        "    model = make_pipeline(MinMaxScaler(), GaussianNB())\n",
        "    \n",
        "    # Parameters of pipelines can be set using '__' separated parameter names:\n",
        "    var_smoothing_values = np.logspace(-4, -9, num=100)\n",
        "    param_grid = {\n",
        "        \"minmaxscaler__feature_range\": [(-1, 1), (0, 1)],\n",
        "        'gaussiannb__var_smoothing': var_smoothing_values\n",
        "        }\n",
        "    # Todo: fit your model with X, y\n",
        "    search = GridSearchCV(model, param_grid, n_jobs=-1)\n",
        "    search.fit(trainX, trainY)\n",
        "\n",
        "    return search\n",
        "\n",
        "def calculate_performance(y_true, y_pred):\n",
        "    \"\"\"\n",
        "\n",
        "    :param y_true: ground truth values\n",
        "    :param y_pred: predictions\n",
        "    :return:\n",
        "    \"\"\"\n",
        "    # Todo: return your error value like accuracy, f1score, ...\n",
        "    print(\"precision\", precision_score(y_true, y_pred))\n",
        "    print(\"recall\", recall_score(y_true, y_pred))\n",
        "    print(\"accuracy\", accuracy_score(y_true, y_pred))\n",
        "    print(\"F1\", f1_score(y_true, y_pred))\n",
        "    print(\"classification report\", classification_report(y_true, y_pred)) \n",
        "\n",
        "    # Todo: Only choose one of them as your score for the question 7\n",
        "    main_score = f1_score(y_true, y_pred)\n",
        "    return main_score\n",
        "\n",
        "model = build_model(trainX, trainY)\n",
        "# Compare on training dataset\n",
        "pred = model.predict(testX)\n",
        "calculate_performance(testY, pred)"
      ]
    },
    {
      "cell_type": "code",
      "execution_count": 211,
      "metadata": {
        "id": "T0UDQCc48Ko1"
      },
      "outputs": [],
      "source": [
        "def get_conclusion():\n",
        "    # Todo: Please return your answer, conclusion and opinion right here\n",
        "    return \"7. \" \\\n",
        "           \"Other conclusion: \""
      ]
    }
  ],
  "metadata": {
    "colab": {
      "provenance": []
    },
    "kernelspec": {
      "display_name": "Python 3",
      "language": "python",
      "name": "python3"
    },
    "language_info": {
      "codemirror_mode": {
        "name": "ipython",
        "version": 3
      },
      "file_extension": ".py",
      "mimetype": "text/x-python",
      "name": "python",
      "nbconvert_exporter": "python",
      "pygments_lexer": "ipython3",
      "version": "3.13.2"
    }
  },
  "nbformat": 4,
  "nbformat_minor": 0
}
